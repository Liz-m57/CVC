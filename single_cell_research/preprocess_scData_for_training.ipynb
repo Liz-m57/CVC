{
 "cells": [
  {
   "cell_type": "markdown",
   "source": [
    "#### Preprocess Single Cell Data for scCVC Training and Analysis"
   ],
   "metadata": {
    "collapsed": false
   }
  },
  {
   "cell_type": "code",
   "execution_count": 3,
   "outputs": [],
   "source": [
    "%load_ext autoreload\n",
    "%autoreload 2"
   ],
   "metadata": {
    "collapsed": false
   }
  },
  {
   "cell_type": "code",
   "execution_count": 4,
   "outputs": [
    {
     "name": "stdout",
     "output_type": "stream",
     "text": [
      "/home/romi/projects/cvc\n"
     ]
    }
   ],
   "source": [
    "cd .."
   ],
   "metadata": {
    "collapsed": false
   }
  },
  {
   "cell_type": "code",
   "execution_count": 5,
   "metadata": {
    "collapsed": true
   },
   "outputs": [],
   "source": [
    "import pickle\n",
    "import numpy as np\n",
    "import pandas as pd\n",
    "import tqdm\n",
    "from single_cell_research import cvc_sequencing as cs"
   ]
  },
  {
   "cell_type": "code",
   "execution_count": 6,
   "outputs": [],
   "source": [
    "# read pickle file into a dataframe\n",
    "with open('./CDR3_data/totalSCdfCleand.pkl', 'rb') as f:\n",
    "    df = pickle.load(f)"
   ],
   "metadata": {
    "collapsed": false
   }
  },
  {
   "cell_type": "code",
   "execution_count": 7,
   "outputs": [
    {
     "data": {
      "text/plain": "              barcode_unique                                        cdr3_nt  \\\n0       -4745948352490398320     TGCCGCGTCTCGGGGCTGTGAGCCAAAAACATTCAGTACTTC   \n1        3356714683345452859     TGTGCCTGGAACCTCGGACAGGTAAACACTGAAGCTTTCTTT   \n2        3356714683345452859                 TGTGCAGCTACCGGTAACCAGTTCTATTTT   \n3        4037581621109621028     TGTGCTCTAGCCCGGAATTCAGGATACAGCACCCTCACCTTT   \n4        4037581621109621028           TGCAGTGCTAGTCAGGGAGGGAGCGAGCAGTACTTC   \n...                      ...                                            ...   \n4200330  1612487042232535466     TGTGCCAGCAGTTTATCGGGACCCCAAGAGACCCAGTACTTC   \n4200331  4755150262647356642  TGTGCAGCAACTGACTCTGGGGCTGGGAGTTACCAACTCACTTTC   \n4200332  4755150262647356642        TGCAGTGCTCCGCTTGGGACTAGCAATGAGCAGTTCTTC   \n4200333 -2066594407049752914        TGTGCCAGCAGTGAGTCGTACAGAAATGAGCAGTTCTTC   \n4200334 -2066594407049752914           TGTGCTGTGGAGGGAGGAGGAAACAAACTCACCTTT   \n\n        chain             cdr3 seriesnumber samplenumber clinicalcondition  \\\n0         TRB   CRVSGL*AKNIQYF    GSE154826          343              LUSC   \n1         TRB   CAWNLGQVNTEAFF    GSE154826          343              LUSC   \n2         TRA       CAATGNQFYF    GSE154826          343              LUSC   \n3         TRA   CALARNSGYSTLTF    GSE154826          343              LUSC   \n4         TRB     CSASQGGSEQYF    GSE154826          343              LUSC   \n...       ...              ...          ...          ...               ...   \n4200330   TRB   CASSLSGPQETQYF    GSE176201   GSM5359856           HEALTHY   \n4200331   TRA  CAATDSGAGSYQLTF    GSE176201   GSM5359856           HEALTHY   \n4200332   TRB    CSAPLGTSNEQFF    GSE176201   GSM5359856           HEALTHY   \n4200333   TRB    CASSESYRNEQFF    GSE176201   GSM5359856           HEALTHY   \n4200334   TRA     CAVEGGGNKLTF    GSE176201   GSM5359856           HEALTHY   \n\n        treatment  sex  age  tissue    patient_id_unique  cdr3_len  \n0             NaN  NaN  NaN  NORMAL -3017181870017205481        14  \n1             NaN  NaN  NaN  NORMAL -3017181870017205481        14  \n2             NaN  NaN  NaN  NORMAL -3017181870017205481        10  \n3             NaN  NaN  NaN  NORMAL -3017181870017205481        14  \n4             NaN  NaN  NaN  NORMAL -3017181870017205481        12  \n...           ...  ...  ...     ...                  ...       ...  \n4200330       NaN  NaN  NaN    PBMC -3094572326455513286        14  \n4200331       NaN  NaN  NaN    PBMC -3094572326455513286        15  \n4200332       NaN  NaN  NaN    PBMC -3094572326455513286        13  \n4200333       NaN  NaN  NaN    PBMC -3094572326455513286        13  \n4200334       NaN  NaN  NaN    PBMC -3094572326455513286        12  \n\n[4200335 rows x 13 columns]",
      "text/html": "<div>\n<style scoped>\n    .dataframe tbody tr th:only-of-type {\n        vertical-align: middle;\n    }\n\n    .dataframe tbody tr th {\n        vertical-align: top;\n    }\n\n    .dataframe thead th {\n        text-align: right;\n    }\n</style>\n<table border=\"1\" class=\"dataframe\">\n  <thead>\n    <tr style=\"text-align: right;\">\n      <th></th>\n      <th>barcode_unique</th>\n      <th>cdr3_nt</th>\n      <th>chain</th>\n      <th>cdr3</th>\n      <th>seriesnumber</th>\n      <th>samplenumber</th>\n      <th>clinicalcondition</th>\n      <th>treatment</th>\n      <th>sex</th>\n      <th>age</th>\n      <th>tissue</th>\n      <th>patient_id_unique</th>\n      <th>cdr3_len</th>\n    </tr>\n  </thead>\n  <tbody>\n    <tr>\n      <th>0</th>\n      <td>-4745948352490398320</td>\n      <td>TGCCGCGTCTCGGGGCTGTGAGCCAAAAACATTCAGTACTTC</td>\n      <td>TRB</td>\n      <td>CRVSGL*AKNIQYF</td>\n      <td>GSE154826</td>\n      <td>343</td>\n      <td>LUSC</td>\n      <td>NaN</td>\n      <td>NaN</td>\n      <td>NaN</td>\n      <td>NORMAL</td>\n      <td>-3017181870017205481</td>\n      <td>14</td>\n    </tr>\n    <tr>\n      <th>1</th>\n      <td>3356714683345452859</td>\n      <td>TGTGCCTGGAACCTCGGACAGGTAAACACTGAAGCTTTCTTT</td>\n      <td>TRB</td>\n      <td>CAWNLGQVNTEAFF</td>\n      <td>GSE154826</td>\n      <td>343</td>\n      <td>LUSC</td>\n      <td>NaN</td>\n      <td>NaN</td>\n      <td>NaN</td>\n      <td>NORMAL</td>\n      <td>-3017181870017205481</td>\n      <td>14</td>\n    </tr>\n    <tr>\n      <th>2</th>\n      <td>3356714683345452859</td>\n      <td>TGTGCAGCTACCGGTAACCAGTTCTATTTT</td>\n      <td>TRA</td>\n      <td>CAATGNQFYF</td>\n      <td>GSE154826</td>\n      <td>343</td>\n      <td>LUSC</td>\n      <td>NaN</td>\n      <td>NaN</td>\n      <td>NaN</td>\n      <td>NORMAL</td>\n      <td>-3017181870017205481</td>\n      <td>10</td>\n    </tr>\n    <tr>\n      <th>3</th>\n      <td>4037581621109621028</td>\n      <td>TGTGCTCTAGCCCGGAATTCAGGATACAGCACCCTCACCTTT</td>\n      <td>TRA</td>\n      <td>CALARNSGYSTLTF</td>\n      <td>GSE154826</td>\n      <td>343</td>\n      <td>LUSC</td>\n      <td>NaN</td>\n      <td>NaN</td>\n      <td>NaN</td>\n      <td>NORMAL</td>\n      <td>-3017181870017205481</td>\n      <td>14</td>\n    </tr>\n    <tr>\n      <th>4</th>\n      <td>4037581621109621028</td>\n      <td>TGCAGTGCTAGTCAGGGAGGGAGCGAGCAGTACTTC</td>\n      <td>TRB</td>\n      <td>CSASQGGSEQYF</td>\n      <td>GSE154826</td>\n      <td>343</td>\n      <td>LUSC</td>\n      <td>NaN</td>\n      <td>NaN</td>\n      <td>NaN</td>\n      <td>NORMAL</td>\n      <td>-3017181870017205481</td>\n      <td>12</td>\n    </tr>\n    <tr>\n      <th>...</th>\n      <td>...</td>\n      <td>...</td>\n      <td>...</td>\n      <td>...</td>\n      <td>...</td>\n      <td>...</td>\n      <td>...</td>\n      <td>...</td>\n      <td>...</td>\n      <td>...</td>\n      <td>...</td>\n      <td>...</td>\n      <td>...</td>\n    </tr>\n    <tr>\n      <th>4200330</th>\n      <td>1612487042232535466</td>\n      <td>TGTGCCAGCAGTTTATCGGGACCCCAAGAGACCCAGTACTTC</td>\n      <td>TRB</td>\n      <td>CASSLSGPQETQYF</td>\n      <td>GSE176201</td>\n      <td>GSM5359856</td>\n      <td>HEALTHY</td>\n      <td>NaN</td>\n      <td>NaN</td>\n      <td>NaN</td>\n      <td>PBMC</td>\n      <td>-3094572326455513286</td>\n      <td>14</td>\n    </tr>\n    <tr>\n      <th>4200331</th>\n      <td>4755150262647356642</td>\n      <td>TGTGCAGCAACTGACTCTGGGGCTGGGAGTTACCAACTCACTTTC</td>\n      <td>TRA</td>\n      <td>CAATDSGAGSYQLTF</td>\n      <td>GSE176201</td>\n      <td>GSM5359856</td>\n      <td>HEALTHY</td>\n      <td>NaN</td>\n      <td>NaN</td>\n      <td>NaN</td>\n      <td>PBMC</td>\n      <td>-3094572326455513286</td>\n      <td>15</td>\n    </tr>\n    <tr>\n      <th>4200332</th>\n      <td>4755150262647356642</td>\n      <td>TGCAGTGCTCCGCTTGGGACTAGCAATGAGCAGTTCTTC</td>\n      <td>TRB</td>\n      <td>CSAPLGTSNEQFF</td>\n      <td>GSE176201</td>\n      <td>GSM5359856</td>\n      <td>HEALTHY</td>\n      <td>NaN</td>\n      <td>NaN</td>\n      <td>NaN</td>\n      <td>PBMC</td>\n      <td>-3094572326455513286</td>\n      <td>13</td>\n    </tr>\n    <tr>\n      <th>4200333</th>\n      <td>-2066594407049752914</td>\n      <td>TGTGCCAGCAGTGAGTCGTACAGAAATGAGCAGTTCTTC</td>\n      <td>TRB</td>\n      <td>CASSESYRNEQFF</td>\n      <td>GSE176201</td>\n      <td>GSM5359856</td>\n      <td>HEALTHY</td>\n      <td>NaN</td>\n      <td>NaN</td>\n      <td>NaN</td>\n      <td>PBMC</td>\n      <td>-3094572326455513286</td>\n      <td>13</td>\n    </tr>\n    <tr>\n      <th>4200334</th>\n      <td>-2066594407049752914</td>\n      <td>TGTGCTGTGGAGGGAGGAGGAAACAAACTCACCTTT</td>\n      <td>TRA</td>\n      <td>CAVEGGGNKLTF</td>\n      <td>GSE176201</td>\n      <td>GSM5359856</td>\n      <td>HEALTHY</td>\n      <td>NaN</td>\n      <td>NaN</td>\n      <td>NaN</td>\n      <td>PBMC</td>\n      <td>-3094572326455513286</td>\n      <td>12</td>\n    </tr>\n  </tbody>\n</table>\n<p>4200335 rows × 13 columns</p>\n</div>"
     },
     "execution_count": 7,
     "metadata": {},
     "output_type": "execute_result"
    }
   ],
   "source": [
    "df"
   ],
   "metadata": {
    "collapsed": false
   }
  },
  {
   "cell_type": "markdown",
   "source": [
    "#### Create df with joint representation TRA|TRB"
   ],
   "metadata": {
    "collapsed": false
   }
  },
  {
   "cell_type": "code",
   "execution_count": 10,
   "outputs": [
    {
     "data": {
      "text/plain": "              barcode_unique             cdr3\n0       -4745948352490398320   CRVSGL*AKNIQYF\n1        3356714683345452859   CAWNLGQVNTEAFF\n2        3356714683345452859       CAATGNQFYF\n3        4037581621109621028   CALARNSGYSTLTF\n4        4037581621109621028     CSASQGGSEQYF\n...                      ...              ...\n4200330  1612487042232535466   CASSLSGPQETQYF\n4200331  4755150262647356642  CAATDSGAGSYQLTF\n4200332  4755150262647356642    CSAPLGTSNEQFF\n4200333 -2066594407049752914    CASSESYRNEQFF\n4200334 -2066594407049752914     CAVEGGGNKLTF\n\n[4200335 rows x 2 columns]",
      "text/html": "<div>\n<style scoped>\n    .dataframe tbody tr th:only-of-type {\n        vertical-align: middle;\n    }\n\n    .dataframe tbody tr th {\n        vertical-align: top;\n    }\n\n    .dataframe thead th {\n        text-align: right;\n    }\n</style>\n<table border=\"1\" class=\"dataframe\">\n  <thead>\n    <tr style=\"text-align: right;\">\n      <th></th>\n      <th>barcode_unique</th>\n      <th>cdr3</th>\n    </tr>\n  </thead>\n  <tbody>\n    <tr>\n      <th>0</th>\n      <td>-4745948352490398320</td>\n      <td>CRVSGL*AKNIQYF</td>\n    </tr>\n    <tr>\n      <th>1</th>\n      <td>3356714683345452859</td>\n      <td>CAWNLGQVNTEAFF</td>\n    </tr>\n    <tr>\n      <th>2</th>\n      <td>3356714683345452859</td>\n      <td>CAATGNQFYF</td>\n    </tr>\n    <tr>\n      <th>3</th>\n      <td>4037581621109621028</td>\n      <td>CALARNSGYSTLTF</td>\n    </tr>\n    <tr>\n      <th>4</th>\n      <td>4037581621109621028</td>\n      <td>CSASQGGSEQYF</td>\n    </tr>\n    <tr>\n      <th>...</th>\n      <td>...</td>\n      <td>...</td>\n    </tr>\n    <tr>\n      <th>4200330</th>\n      <td>1612487042232535466</td>\n      <td>CASSLSGPQETQYF</td>\n    </tr>\n    <tr>\n      <th>4200331</th>\n      <td>4755150262647356642</td>\n      <td>CAATDSGAGSYQLTF</td>\n    </tr>\n    <tr>\n      <th>4200332</th>\n      <td>4755150262647356642</td>\n      <td>CSAPLGTSNEQFF</td>\n    </tr>\n    <tr>\n      <th>4200333</th>\n      <td>-2066594407049752914</td>\n      <td>CASSESYRNEQFF</td>\n    </tr>\n    <tr>\n      <th>4200334</th>\n      <td>-2066594407049752914</td>\n      <td>CAVEGGGNKLTF</td>\n    </tr>\n  </tbody>\n</table>\n<p>4200335 rows × 2 columns</p>\n</div>"
     },
     "execution_count": 10,
     "metadata": {},
     "output_type": "execute_result"
    }
   ],
   "source": [
    "df_for_training = df[['barcode_unique', 'cdr3']]\n",
    "df_for_training"
   ],
   "metadata": {
    "collapsed": false
   }
  },
  {
   "cell_type": "code",
   "execution_count": 12,
   "outputs": [
    {
     "name": "stderr",
     "output_type": "stream",
     "text": [
      "100%|█████████████████████████████| 4200334/4200334 [00:05<00:00, 800999.28it/s]\n"
     ]
    }
   ],
   "source": [
    "seqs = cs.create_tcr_seqs(tcr_seqs_df=df_for_training, max_len=120, column_to_concat='cdr3'):\n",
    "df = pd.DataFrame({'tcr_seqs': seqs})\n",
    "df.to_csv(\"./CDR3_data/scDATA_ready_for_training.csv\", index=False)"
   ],
   "metadata": {
    "collapsed": false
   }
  },
  {
   "cell_type": "markdown",
   "source": [
    "#### Create different sub-datasets of the data"
   ],
   "metadata": {
    "collapsed": false
   }
  },
  {
   "cell_type": "code",
   "execution_count": 6,
   "outputs": [],
   "source": [
    "df_small = df[:100000]\n",
    "df_to_use = df_small"
   ],
   "metadata": {
    "collapsed": false
   }
  },
  {
   "cell_type": "markdown",
   "source": [
    "##### TRA Sequences Per Unique TRB"
   ],
   "metadata": {
    "collapsed": false
   }
  },
  {
   "cell_type": "code",
   "execution_count": 8,
   "outputs": [],
   "source": [
    "trb_dict = {}\n",
    "\n",
    "# First loop: Add all TRA sequences to dictionary\n",
    "for idx, row in df_to_use.iterrows():\n",
    "    seq = row['cdr3']\n",
    "    barcode = row['barcode_unique']\n",
    "    chain = row['chain']\n",
    "\n",
    "    if chain == 'TRB':\n",
    "        if seq not in trb_dict:\n",
    "            trb_dict[seq] = {'TRB': [barcode], 'TRA': []}\n",
    "        else:\n",
    "            trb_dict[seq]['TRB'].append(barcode)\n",
    "\n",
    "# Second loop: Add corresponding TRB sequences to dictionary\n",
    "for idx, row in df_to_use.iterrows():\n",
    "    seq = row['cdr3']\n",
    "    barcode = row['barcode_unique']\n",
    "    chain = row['chain']\n",
    "\n",
    "    if chain == 'TRA':\n",
    "        for trb_seq, barcode_dict in trb_dict.items():\n",
    "            if barcode in barcode_dict['TRB']:\n",
    "                barcode_dict['TRA'].append(seq)\n",
    "\n",
    "# Convert the TRA dictionary to a dataframe\n",
    "trb_df = pd.DataFrame.from_dict(trb_dict, orient='index')\n",
    "trb_df = trb_df.reset_index()\n",
    "trb_df = trb_df.rename(columns={'index': 'TRB_unique'})"
   ],
   "metadata": {
    "collapsed": false
   }
  },
  {
   "cell_type": "code",
   "execution_count": 14,
   "outputs": [
    {
     "data": {
      "text/plain": "               TRB_unique                                                TRB  \\\n0          CRVSGL*AKNIQYF  [-4745948352490398320, -3129492036928541149, 8...   \n1          CAWNLGQVNTEAFF                              [3356714683345452859]   \n2            CSASQGGSEQYF                              [4037581621109621028]   \n3          CASINRDRGYEQYF  [8994390596421136397, 617268407404388123, 1209...   \n4            CASSQEGTEQYF        [-7741998218701412576, 7185584915482215100]   \n...                   ...                                                ...   \n31324    CASRRTGTDNYNEQFF                               [149960240039357457]   \n31325    CASSWTSGGATGELFF                             [-6420659858687717802]   \n31326     CASSVAGTGGDTQYF                             [-2335391633839996783]   \n31327  CASSRLVSGTGAGTEAFF                              [7835509911367664861]   \n31328     CASSTTSGGQETQYF                             [-3756145598339723599]   \n\n                                                     TRA  \n0      [CWPMAGANSKLTF, CTSVL*APGDSGAGSYQLTF, CAVSDRNG...  \n1                                           [CAATGNQFYF]  \n2                                       [CALARNSGYSTLTF]  \n3      [CAVSAVKAAGNKLTF, CAEKDSGGYQKVTF, CAASKGNTPLVF...  \n4      [CAERPGGRRALTF, CAASDNYGQNFVF, CAERPGGRRALTF, ...  \n...                                                  ...  \n31324                                                 []  \n31325                                  [CAGRNYGGSQGNLIF]  \n31326                                [CAVSAPPASGGSYIPTF]  \n31327                           [CAVTYSGGGADGLTF, CALN*]  \n31328                                    [CLVGVYNTDKLIF]  \n\n[31329 rows x 3 columns]",
      "text/html": "<div>\n<style scoped>\n    .dataframe tbody tr th:only-of-type {\n        vertical-align: middle;\n    }\n\n    .dataframe tbody tr th {\n        vertical-align: top;\n    }\n\n    .dataframe thead th {\n        text-align: right;\n    }\n</style>\n<table border=\"1\" class=\"dataframe\">\n  <thead>\n    <tr style=\"text-align: right;\">\n      <th></th>\n      <th>TRB_unique</th>\n      <th>TRB</th>\n      <th>TRA</th>\n    </tr>\n  </thead>\n  <tbody>\n    <tr>\n      <th>0</th>\n      <td>CRVSGL*AKNIQYF</td>\n      <td>[-4745948352490398320, -3129492036928541149, 8...</td>\n      <td>[CWPMAGANSKLTF, CTSVL*APGDSGAGSYQLTF, CAVSDRNG...</td>\n    </tr>\n    <tr>\n      <th>1</th>\n      <td>CAWNLGQVNTEAFF</td>\n      <td>[3356714683345452859]</td>\n      <td>[CAATGNQFYF]</td>\n    </tr>\n    <tr>\n      <th>2</th>\n      <td>CSASQGGSEQYF</td>\n      <td>[4037581621109621028]</td>\n      <td>[CALARNSGYSTLTF]</td>\n    </tr>\n    <tr>\n      <th>3</th>\n      <td>CASINRDRGYEQYF</td>\n      <td>[8994390596421136397, 617268407404388123, 1209...</td>\n      <td>[CAVSAVKAAGNKLTF, CAEKDSGGYQKVTF, CAASKGNTPLVF...</td>\n    </tr>\n    <tr>\n      <th>4</th>\n      <td>CASSQEGTEQYF</td>\n      <td>[-7741998218701412576, 7185584915482215100]</td>\n      <td>[CAERPGGRRALTF, CAASDNYGQNFVF, CAERPGGRRALTF, ...</td>\n    </tr>\n    <tr>\n      <th>...</th>\n      <td>...</td>\n      <td>...</td>\n      <td>...</td>\n    </tr>\n    <tr>\n      <th>31324</th>\n      <td>CASRRTGTDNYNEQFF</td>\n      <td>[149960240039357457]</td>\n      <td>[]</td>\n    </tr>\n    <tr>\n      <th>31325</th>\n      <td>CASSWTSGGATGELFF</td>\n      <td>[-6420659858687717802]</td>\n      <td>[CAGRNYGGSQGNLIF]</td>\n    </tr>\n    <tr>\n      <th>31326</th>\n      <td>CASSVAGTGGDTQYF</td>\n      <td>[-2335391633839996783]</td>\n      <td>[CAVSAPPASGGSYIPTF]</td>\n    </tr>\n    <tr>\n      <th>31327</th>\n      <td>CASSRLVSGTGAGTEAFF</td>\n      <td>[7835509911367664861]</td>\n      <td>[CAVTYSGGGADGLTF, CALN*]</td>\n    </tr>\n    <tr>\n      <th>31328</th>\n      <td>CASSTTSGGQETQYF</td>\n      <td>[-3756145598339723599]</td>\n      <td>[CLVGVYNTDKLIF]</td>\n    </tr>\n  </tbody>\n</table>\n<p>31329 rows × 3 columns</p>\n</div>"
     },
     "execution_count": 14,
     "metadata": {},
     "output_type": "execute_result"
    }
   ],
   "source": [
    "trb_df"
   ],
   "metadata": {
    "collapsed": false
   }
  },
  {
   "cell_type": "code",
   "execution_count": 15,
   "outputs": [],
   "source": [
    "trb_df.to_csv(\"./CDR3_data/trb_to_tra_mapping_100k_scData.csv\", index=False)"
   ],
   "metadata": {
    "collapsed": false
   }
  },
  {
   "cell_type": "markdown",
   "source": [
    "##### TRB Sequences Per Unique TRA\n"
   ],
   "metadata": {
    "collapsed": false
   }
  },
  {
   "cell_type": "code",
   "execution_count": null,
   "outputs": [],
   "source": [
    "tra_dict = {}\n",
    "\n",
    "# First loop: Add all TRA sequences to dictionary\n",
    "for idx, row in df_to_use.iterrows():\n",
    "    seq = row['cdr3']\n",
    "    barcode = row['barcode_unique']\n",
    "    chain = row['chain']\n",
    "\n",
    "    if chain == 'TRA':\n",
    "        if seq not in tra_dict:\n",
    "            tra_dict[seq] = {'TRA': [barcode], 'TRB': []}\n",
    "        else:\n",
    "            tra_dict[seq]['TRA'].append(barcode)\n",
    "\n",
    "# Second loop: Add corresponding TRB sequences to dictionary\n",
    "for idx, row in df_to_use.iterrows():\n",
    "    seq = row['cdr3']\n",
    "    barcode = row['barcode_unique']\n",
    "    chain = row['chain']\n",
    "\n",
    "    if chain == 'TRB':\n",
    "        for tra_seq, barcode_dict in tra_dict.items():\n",
    "            if barcode in barcode_dict['TRA']:\n",
    "                barcode_dict['TRB'].append(seq)\n",
    "\n",
    "# Convert the TRA dictionary to a dataframe\n",
    "tra_df = pd.DataFrame.from_dict(tra_dict, orient='index')\n",
    "tra_df = tra_df.reset_index()\n",
    "tra_df = tra_df.rename(columns={'index': 'TRA_unique'})"
   ],
   "metadata": {
    "collapsed": false,
    "pycharm": {
     "is_executing": true
    }
   }
  },
  {
   "cell_type": "code",
   "execution_count": null,
   "outputs": [],
   "source": [
    "tra_df.to_csv(\"./CDR3_data/tra_to_trb_mapping_100k_scData.csv\", index=False)"
   ],
   "metadata": {
    "collapsed": false,
    "pycharm": {
     "is_executing": true
    }
   }
  }
 ],
 "metadata": {
  "kernelspec": {
   "display_name": "Python 3",
   "language": "python",
   "name": "python3"
  },
  "language_info": {
   "codemirror_mode": {
    "name": "ipython",
    "version": 2
   },
   "file_extension": ".py",
   "mimetype": "text/x-python",
   "name": "python",
   "nbconvert_exporter": "python",
   "pygments_lexer": "ipython2",
   "version": "2.7.6"
  }
 },
 "nbformat": 4,
 "nbformat_minor": 0
}
