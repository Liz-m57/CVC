{
 "cells": [
  {
   "cell_type": "markdown",
   "source": [
    "#### Calculate Psuedo-Perplexity Using Specified Model\n"
   ],
   "metadata": {
    "collapsed": false
   }
  },
  {
   "cell_type": "code",
   "execution_count": 3,
   "outputs": [],
   "source": [
    "%load_ext autoreload\n",
    "%autoreload 2"
   ],
   "metadata": {
    "collapsed": false
   }
  },
  {
   "cell_type": "code",
   "execution_count": 4,
   "outputs": [
    {
     "name": "stdout",
     "output_type": "stream",
     "text": [
      "/home/romi/projects/cvc\n"
     ]
    }
   ],
   "source": [
    "cd .."
   ],
   "metadata": {
    "collapsed": false
   }
  },
  {
   "cell_type": "code",
   "execution_count": 5,
   "outputs": [],
   "source": [
    "import os, sys\n",
    "import pandas as pd\n",
    "import torch\n",
    "torch.Tensor([1]).cuda()\n",
    "\n",
    "from cvc import model_utils\n",
    "from lab_notebooks.utils import DATA_DIR, TRANSFORMER, SC_TRANSFORMER, DEVICE, HOME_DIR_GCP\n",
    "from single_cell_research import cvc_sequencing\n",
    "\n",
    "SRC_DIR = \"cvc\"\n",
    "assert os.path.isdir(SRC_DIR), f\"Cannot find src dir: {SRC_DIR}\"\n",
    "sys.path.append(SRC_DIR)\n",
    "\n",
    "MODEL_DIR = os.path.join(SRC_DIR, \"models\")\n",
    "sys.path.append(MODEL_DIR)"
   ],
   "metadata": {
    "collapsed": false
   }
  },
  {
   "cell_type": "code",
   "execution_count": null,
   "outputs": [],
   "source": [
    "# set which model to use\n",
    "model_to_use = SC_TRANSFORMER"
   ],
   "metadata": {
    "collapsed": false,
    "pycharm": {
     "is_executing": true
    }
   }
  },
  {
   "cell_type": "code",
   "execution_count": 33,
   "outputs": [],
   "source": [
    "# load data db\n",
    "input_file_path=\"input_file.csv\"\n",
    "data = pd.read_csv(input_file_path, engine=\"pyarrow\")"
   ],
   "metadata": {
    "collapsed": false
   }
  },
  {
   "cell_type": "code",
   "execution_count": null,
   "outputs": [],
   "source": [
    "# get model and tokenizer\n",
    "my_model, my_tok = model_utils.get_model_tokenizer(model_dir=model_to_use , method=\"mean\", device=DEVICE, max_len=120)\n",
    "my_model"
   ],
   "metadata": {
    "collapsed": false,
    "pycharm": {
     "is_executing": true
    }
   }
  },
  {
   "cell_type": "code",
   "execution_count": null,
   "outputs": [],
   "source": [
    "# calc pseudo perplexity for each kmer\n",
    "from tqdm.auto import tqdm\n",
    "tqdm.pandas()\n",
    "data['pseudo_perplexity'] = data['concatenated_seq'].progress_apply(\n",
    "   (lambda seq: cvc_sequencing.calc_pseudo_perplexity(my_model, my_tok, seq, DEVICE)))\n",
    "data"
   ],
   "metadata": {
    "collapsed": false,
    "pycharm": {
     "is_executing": true
    }
   }
  },
  {
   "cell_type": "code",
   "execution_count": null,
   "outputs": [],
   "source": [
    "# export to csv\n",
    "data.to_csv(\"./single_cell_research/data_PPL.csv\")"
   ],
   "metadata": {
    "collapsed": false
   }
  }
 ],
 "metadata": {
  "kernelspec": {
   "display_name": "Python 3",
   "language": "python",
   "name": "python3"
  },
  "language_info": {
   "codemirror_mode": {
    "name": "ipython",
    "version": 2
   },
   "file_extension": ".py",
   "mimetype": "text/x-python",
   "name": "python",
   "nbconvert_exporter": "python",
   "pygments_lexer": "ipython2",
   "version": "2.7.6"
  }
 },
 "nbformat": 4,
 "nbformat_minor": 0
}
