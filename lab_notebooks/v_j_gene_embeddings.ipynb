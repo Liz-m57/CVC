{
 "cells": [
  {
   "cell_type": "markdown",
   "id": "300a37f5",
   "metadata": {
    "cell_id": "dfcb45a2-e13b-432d-885a-42bb3dd563a3",
    "deepnote_cell_height": 74.796875,
    "deepnote_cell_type": "markdown"
   },
   "source": [
    "#### V and J Genes in Embedding Space\n",
    "\n",
    "Analyze the distribution of V and J genes in the given dataset, and plot them in the embedding space."
   ]
  },
  {
   "cell_type": "code",
   "execution_count": 2,
   "id": "a6b24f51",
   "metadata": {
    "cell_id": "5d9c47c0-6d9e-482d-b141-b891da650664",
    "deepnote_cell_height": 190.1875,
    "deepnote_cell_type": "code",
    "deepnote_output_heights": [
     21.1875
    ],
    "deepnote_to_be_reexecuted": false,
    "execution_millis": 12,
    "execution_start": 1645287525442,
    "source_hash": "371d1002",
    "tags": []
   },
   "outputs": [
    {
     "name": "stdout",
     "output_type": "stream",
     "text": [
      "/home/ubuntu/CVC\n"
     ]
    }
   ],
   "source": [
    "cd .."
   ]
  },
  {
   "cell_type": "markdown",
   "source": [
    "#### Set Environment"
   ],
   "metadata": {
    "collapsed": false
   }
  },
  {
   "cell_type": "code",
   "execution_count": 2,
   "id": "da7a5597-a0ae-4aa7-bcb4-62d219a76df2",
   "metadata": {},
   "outputs": [],
   "source": [
    "%load_ext autoreload\n",
    "%autoreload 2"
   ]
  },
  {
   "cell_type": "code",
   "execution_count": null,
   "id": "87e1f947",
   "metadata": {
    "cell_id": "00001-55732162-ceaf-44b6-b0f9-62861608b761",
    "deepnote_cell_height": 1117.875,
    "deepnote_cell_type": "code",
    "deepnote_output_heights": [
     null,
     21.1875
    ],
    "deepnote_to_be_reexecuted": false,
    "execution_millis": 2706,
    "execution_start": 1645287607716,
    "source_hash": "cc7135c9",
    "pycharm": {
     "is_executing": true
    }
   },
   "outputs": [],
   "source": [
    "import os, sys\n",
    "import collections\n",
    "import matplotlib\n",
    "from matplotlib.colors import ListedColormap\n",
    "import pandas as pd\n",
    "from matplotlib import pyplot as plt\n",
    "import seaborn as sns\n",
    "\n",
    "SRC_DIR = \"cvc\"\n",
    "assert os.path.isdir(SRC_DIR), f\"Cannot find src dir: {SRC_DIR}\"\n",
    "sys.path.append(SRC_DIR)\n",
    "from lab_notebooks.utils import TRANSFORMER, DEVICE, DATA_DIR\n",
    "MODEL_DIR = os.path.join(SRC_DIR, \"models\")\n",
    "sys.path.append(MODEL_DIR)\n",
    "\n",
    "FILT_EDIT_DIST = True\n",
    "\n",
    "PLOT_DIR = os.path.join(os.path.dirname(SRC_DIR), \"plots/CDR3_data_plots\")\n",
    "if not os.path.isdir(PLOT_DIR):\n",
    "    os.makedirs(PLOT_DIR)\n",
    "PLOT_DIR"
   ]
  },
  {
   "cell_type": "markdown",
   "source": [
    "#### Prepare Data"
   ],
   "metadata": {
    "collapsed": false
   }
  },
  {
   "cell_type": "code",
   "execution_count": 4,
   "outputs": [],
   "source": [
    "gene_type = 'J' #'V'"
   ],
   "metadata": {
    "collapsed": false
   }
  },
  {
   "cell_type": "code",
   "execution_count": 5,
   "outputs": [],
   "source": [
    "# data with j gene\n",
    "if gene_type == 'J':\n",
    "    data_dir = DATA_DIR + \"sequences_j_gene_csv_17M.csv\"\n",
    "else:\n",
    "    data_dir = DATA_DIR + \"sequences_v_gene_csv_17M_pub_priv.csv\""
   ],
   "metadata": {
    "collapsed": false
   }
  },
  {
   "cell_type": "code",
   "execution_count": 6,
   "outputs": [
    {
     "data": {
      "text/plain": "            amino_acid      j_gene     sample\n0  0  CASSFELSGGNQPQHF  TCRBJ01-05  1064_TCRB\n1  1      CASNEEGNQQYF  TCRBJ02-07  1064_TCRB\n2  2    CASSSTGNTGELFF  TCRBJ02-02  1064_TCRB\n3  3   CASSTEQVMNTEAFF  TCRBJ01-01  1064_TCRB\n4  4  CASSFSALAGVIEQFF  TCRBJ02-01  1064_TCRB",
      "text/html": "<div>\n<style scoped>\n    .dataframe tbody tr th:only-of-type {\n        vertical-align: middle;\n    }\n\n    .dataframe tbody tr th {\n        vertical-align: top;\n    }\n\n    .dataframe thead th {\n        text-align: right;\n    }\n</style>\n<table border=\"1\" class=\"dataframe\">\n  <thead>\n    <tr style=\"text-align: right;\">\n      <th></th>\n      <th></th>\n      <th>amino_acid</th>\n      <th>j_gene</th>\n      <th>sample</th>\n    </tr>\n  </thead>\n  <tbody>\n    <tr>\n      <th>0</th>\n      <td>0</td>\n      <td>CASSFELSGGNQPQHF</td>\n      <td>TCRBJ01-05</td>\n      <td>1064_TCRB</td>\n    </tr>\n    <tr>\n      <th>1</th>\n      <td>1</td>\n      <td>CASNEEGNQQYF</td>\n      <td>TCRBJ02-07</td>\n      <td>1064_TCRB</td>\n    </tr>\n    <tr>\n      <th>2</th>\n      <td>2</td>\n      <td>CASSSTGNTGELFF</td>\n      <td>TCRBJ02-02</td>\n      <td>1064_TCRB</td>\n    </tr>\n    <tr>\n      <th>3</th>\n      <td>3</td>\n      <td>CASSTEQVMNTEAFF</td>\n      <td>TCRBJ01-01</td>\n      <td>1064_TCRB</td>\n    </tr>\n    <tr>\n      <th>4</th>\n      <td>4</td>\n      <td>CASSFSALAGVIEQFF</td>\n      <td>TCRBJ02-01</td>\n      <td>1064_TCRB</td>\n    </tr>\n  </tbody>\n</table>\n</div>"
     },
     "execution_count": 6,
     "metadata": {},
     "output_type": "execute_result"
    }
   ],
   "source": [
    "# load data\n",
    "data_to_use = pd.read_csv(data_dir,engine=\"pyarrow\")\n",
    "data_to_use"
   ],
   "metadata": {
    "collapsed": false
   }
  },
  {
   "cell_type": "code",
   "execution_count": 8,
   "outputs": [],
   "source": [
    "# edit column names\n",
    "if gene_type=='J':\n",
    "    data_to_use.rename(columns={'j_gene': 'jGeneName'}, inplace=True)\n",
    "else:\n",
    "    data_to_use.rename(columns={'v_gene': 'vGeneName'}, inplace=True)"
   ],
   "metadata": {
    "collapsed": false
   }
  },
  {
   "cell_type": "markdown",
   "source": [
    "#### Display Genes"
   ],
   "metadata": {
    "collapsed": false
   }
  },
  {
   "cell_type": "code",
   "execution_count": 9,
   "outputs": [],
   "source": [
    "if gene_type=='J':\n",
    "    gene_name = 'jGeneName'\n",
    "else:\n",
    "    gene_name = 'vGeneName'"
   ],
   "metadata": {
    "collapsed": false
   }
  },
  {
   "cell_type": "code",
   "execution_count": 10,
   "outputs": [
    {
     "data": {
      "text/plain": "15"
     },
     "execution_count": 10,
     "metadata": {},
     "output_type": "execute_result"
    }
   ],
   "source": [
    "len(collections.Counter(data_to_use[gene_name]))"
   ],
   "metadata": {
    "collapsed": false
   }
  },
  {
   "cell_type": "code",
   "execution_count": 11,
   "outputs": [
    {
     "data": {
      "text/plain": "Counter({'TCRBJ01-05': 1396112,\n         'TCRBJ02-07': 2648085,\n         'TCRBJ02-02': 1221133,\n         'TCRBJ01-01': 2230979,\n         'TCRBJ02-01': 2270238,\n         'TCRBJ02-03': 1680997,\n         'TCRBJ01-06': 822479,\n         'TCRBJ01-02': 2075902,\n         'TCRBJ02-05': 1393111,\n         'TCRBJ01-03': 681331,\n         'TCRBJ02-06': 270591,\n         'TCRBJ02-04': 235783,\n         'TCRBJ01-04': 813474,\n         'unresolved': 6168,\n         'TCRBJ02-02P': 2})"
     },
     "execution_count": 11,
     "metadata": {},
     "output_type": "execute_result"
    }
   ],
   "source": [
    "collections.Counter(data_to_use[gene_name])"
   ],
   "metadata": {
    "collapsed": false
   }
  },
  {
   "cell_type": "code",
   "execution_count": 12,
   "outputs": [
    {
     "data": {
      "text/plain": "Counter({'TCRBJ01-05': 1396112,\n         'TCRBJ02-07': 2648085,\n         'TCRBJ02-02': 1221133,\n         'TCRBJ01-01': 2230979,\n         'TCRBJ02-01': 2270238,\n         'TCRBJ02-03': 1680997,\n         'TCRBJ01-06': 822479,\n         'TCRBJ01-02': 2075902,\n         'TCRBJ02-05': 1393111,\n         'TCRBJ01-03': 681331,\n         'TCRBJ02-06': 270591,\n         'TCRBJ02-04': 235783,\n         'TCRBJ01-04': 813474})"
     },
     "execution_count": 12,
     "metadata": {},
     "output_type": "execute_result"
    }
   ],
   "source": [
    "# remove irrelevant row\n",
    "if gene_type=='J':\n",
    "    data_to_use_filtered = data_to_use[data_to_use[gene_name] != 'unresolved']\n",
    "    data_to_use_filtered = data_to_use_filtered[data_to_use_filtered[gene_name] != 'TCRBJ02-02P']\n",
    "else:\n",
    "    data_to_use_filtered = data_to_use[data_to_use[gene_name] != 'unresolved']\n",
    "    data_to_use_filtered = data_to_use_filtered[~data_to_use_filtered[gene_name].str.contains('-or', regex=False)]\n",
    "    # remove genes that their count is less than 200\n",
    "    data_to_use_filtered = data_to_use_filtered[data_to_use_filtered.groupby(gene_name)[gene_name].transform('count') > 40000]\n",
    "collections.Counter(data_to_use_filtered[gene_name])"
   ],
   "metadata": {
    "collapsed": false
   }
  },
  {
   "cell_type": "code",
   "execution_count": 14,
   "outputs": [
    {
     "data": {
      "text/plain": "17740215"
     },
     "execution_count": 14,
     "metadata": {},
     "output_type": "execute_result"
    }
   ],
   "source": [
    "len(data_to_use_filtered)"
   ],
   "metadata": {
    "collapsed": false
   }
  },
  {
   "cell_type": "code",
   "execution_count": 13,
   "outputs": [
    {
     "data": {
      "text/plain": "['TCRBJ01-05',\n 'TCRBJ02-07',\n 'TCRBJ02-02',\n 'TCRBJ01-01',\n 'TCRBJ02-01',\n 'TCRBJ02-03',\n 'TCRBJ01-06',\n 'TCRBJ01-02',\n 'TCRBJ02-05',\n 'TCRBJ01-03',\n 'TCRBJ02-06',\n 'TCRBJ02-04',\n 'TCRBJ01-04']"
     },
     "execution_count": 13,
     "metadata": {},
     "output_type": "execute_result"
    }
   ],
   "source": [
    "list(collections.Counter(data_to_use_filtered[gene_name]).keys())"
   ],
   "metadata": {
    "collapsed": false
   }
  },
  {
   "cell_type": "code",
   "execution_count": 17,
   "outputs": [
    {
     "data": {
      "text/plain": "Counter({'TCRBV19-01': 854789,\n         'TCRBV18-01': 418196,\n         'TCRBV30-01': 387717,\n         'TCRBV10-03': 288601,\n         'TCRBV24-01': 242407,\n         'TCRBV15-01': 204179,\n         'TCRBV29-01': 341504,\n         'TCRBV20-01': 140195})"
     },
     "execution_count": 17,
     "metadata": {},
     "output_type": "execute_result"
    }
   ],
   "source": [
    "# analyze specific v genes\n",
    "if gene_type=='V':\n",
    "    data_to_use_filtered = data_to_use[data_to_use[gene_name] != 'unresolved']\n",
    "    v_genes_to_use = ['TCRBV9-01','TCRBV6-05','TCRBV10-03','TCRBV15-01','TCRBV18-01' ,'TCRBV19-01','TCRBV20-01','TCRBV24-01','TCRBV29-01','TCRBV30-01']\n",
    "    data_to_use_filtered = data_to_use_filtered[data_to_use_filtered[gene_name].str.contains('|'.join(v_genes_to_use))]\n",
    "    collections.Counter(data_to_use_filtered[gene_name])"
   ],
   "metadata": {
    "collapsed": false
   }
  },
  {
   "cell_type": "code",
   "execution_count": 18,
   "outputs": [],
   "source": [
    "genes = collections.Counter(data_to_use_filtered[gene_name])"
   ],
   "metadata": {
    "collapsed": false
   }
  },
  {
   "cell_type": "code",
   "execution_count": 19,
   "outputs": [
    {
     "data": {
      "text/plain": "8"
     },
     "execution_count": 19,
     "metadata": {},
     "output_type": "execute_result"
    }
   ],
   "source": [
    "# create list of genes that are string\n",
    "genes_keys = list(genes.keys())\n",
    "genes_keys_str = []\n",
    "for key in genes_keys:\n",
    "    if isinstance(key, str):\n",
    "        genes_keys_str.append(key)\n",
    "\n",
    "# create dictionary with genes_keys_str as keys and genes as values\n",
    "genes_dict = dict(zip(genes_keys_str, genes.values()))\n",
    "\n",
    "for key in genes_dict.keys():\n",
    "    if not isinstance(key, str):\n",
    "        print(type(key))\n",
    "len(genes_dict.keys())"
   ],
   "metadata": {
    "collapsed": false
   }
  },
  {
   "cell_type": "markdown",
   "source": [
    "##### Gene Bar Plot Including Duplicates"
   ],
   "metadata": {
    "collapsed": false
   }
  },
  {
   "cell_type": "code",
   "execution_count": 20,
   "outputs": [
    {
     "data": {
      "text/plain": "<Figure size 1080x360 with 1 Axes>",
      "image/png": "[encoded data removed]"
     },
     "metadata": {},
     "output_type": "display_data"
    }
   ],
   "source": [
    "# bar plot\n",
    "plt.bar(genes_dict.keys(), genes_dict.values())\n",
    "# change y axis to log scale\n",
    "plt.yscale('log')\n",
    "# make the plot larger\n",
    "plt.gcf().set_size_inches(15, 5)\n",
    "# wider bars for better visualization\n",
    "plt.tight_layout()\n",
    "# make x axis labels horizontal and smaller\n",
    "plt.xticks(rotation=90)\n",
    "plt.xticks(fontsize=8)\n",
    "# show plot\n",
    "plt.show()"
   ],
   "metadata": {
    "collapsed": false
   }
  },
  {
   "cell_type": "code",
   "execution_count": 21,
   "outputs": [
    {
     "data": {
      "text/plain": "              Sequences  Appearances  Private_Public_label   vGeneName\n20          CASSLGETQYF          788                     1  TCRBV19-01\n26          CASSLGETQYF          788                     1  TCRBV18-01\n54        CASSLGGNTEAFF          636                     1  TCRBV30-01\n55        CASSLGGNTEAFF          636                     1  TCRBV19-01\n63        CASSLGGNTEAFF          636                     1  TCRBV18-01\n...                 ...          ...                   ...         ...\n4463872  CATRRGTSGNTIYF            2                     1  TCRBV15-01\n4464012     CSVGYQETQYF            2                     1  TCRBV29-01\n4464013     CSVGYQETQYF            2                     1  TCRBV20-01\n4464092     CSPFKGETQYF            2                     1  TCRBV20-01\n4464093     CSPFKGETQYF            2                     1  TCRBV29-01\n\n[107583 rows x 4 columns]",
      "text/html": "<div>\n<style scoped>\n    .dataframe tbody tr th:only-of-type {\n        vertical-align: middle;\n    }\n\n    .dataframe tbody tr th {\n        vertical-align: top;\n    }\n\n    .dataframe thead th {\n        text-align: right;\n    }\n</style>\n<table border=\"1\" class=\"dataframe\">\n  <thead>\n    <tr style=\"text-align: right;\">\n      <th></th>\n      <th>Sequences</th>\n      <th>Appearances</th>\n      <th>Private_Public_label</th>\n      <th>vGeneName</th>\n    </tr>\n  </thead>\n  <tbody>\n    <tr>\n      <th>20</th>\n      <td>CASSLGETQYF</td>\n      <td>788</td>\n      <td>1</td>\n      <td>TCRBV19-01</td>\n    </tr>\n    <tr>\n      <th>26</th>\n      <td>CASSLGETQYF</td>\n      <td>788</td>\n      <td>1</td>\n      <td>TCRBV18-01</td>\n    </tr>\n    <tr>\n      <th>54</th>\n      <td>CASSLGGNTEAFF</td>\n      <td>636</td>\n      <td>1</td>\n      <td>TCRBV30-01</td>\n    </tr>\n    <tr>\n      <th>55</th>\n      <td>CASSLGGNTEAFF</td>\n      <td>636</td>\n      <td>1</td>\n      <td>TCRBV19-01</td>\n    </tr>\n    <tr>\n      <th>63</th>\n      <td>CASSLGGNTEAFF</td>\n      <td>636</td>\n      <td>1</td>\n      <td>TCRBV18-01</td>\n    </tr>\n    <tr>\n      <th>...</th>\n      <td>...</td>\n      <td>...</td>\n      <td>...</td>\n      <td>...</td>\n    </tr>\n    <tr>\n      <th>4463872</th>\n      <td>CATRRGTSGNTIYF</td>\n      <td>2</td>\n      <td>1</td>\n      <td>TCRBV15-01</td>\n    </tr>\n    <tr>\n      <th>4464012</th>\n      <td>CSVGYQETQYF</td>\n      <td>2</td>\n      <td>1</td>\n      <td>TCRBV29-01</td>\n    </tr>\n    <tr>\n      <th>4464013</th>\n      <td>CSVGYQETQYF</td>\n      <td>2</td>\n      <td>1</td>\n      <td>TCRBV20-01</td>\n    </tr>\n    <tr>\n      <th>4464092</th>\n      <td>CSPFKGETQYF</td>\n      <td>2</td>\n      <td>1</td>\n      <td>TCRBV20-01</td>\n    </tr>\n    <tr>\n      <th>4464093</th>\n      <td>CSPFKGETQYF</td>\n      <td>2</td>\n      <td>1</td>\n      <td>TCRBV29-01</td>\n    </tr>\n  </tbody>\n</table>\n<p>107583 rows × 4 columns</p>\n</div>"
     },
     "execution_count": 21,
     "metadata": {},
     "output_type": "execute_result"
    }
   ],
   "source": [
    "# extract duplicate sequences\n",
    "duplicate_seq = data_to_use_filtered[data_to_use_filtered['Sequences'].duplicated(keep=False)]\n",
    "duplicate_seq = duplicate_seq[['Sequences', 'Appearances', 'Private_Public_label', gene_name]]\n",
    "duplicate_seq"
   ],
   "metadata": {
    "collapsed": false
   }
  },
  {
   "cell_type": "code",
   "execution_count": 22,
   "outputs": [
    {
     "data": {
      "text/plain": "52740"
     },
     "execution_count": 22,
     "metadata": {},
     "output_type": "execute_result"
    }
   ],
   "source": [
    "# keep the first instance of each sequence\n",
    "duplicate_seq_to_remove = duplicate_seq['Sequences'].tolist()\n",
    "df = pd.DataFrame(duplicate_seq_to_remove, columns=['Sequences'])\n",
    "seq_to_remove_no_dup = list(df.drop_duplicates(keep=\"first\")['Sequences'])\n",
    "len(seq_to_remove_no_dup)"
   ],
   "metadata": {
    "collapsed": false
   }
  },
  {
   "cell_type": "code",
   "execution_count": 23,
   "outputs": [],
   "source": [
    "# remove duplicate sequences from data (that are in seq_to_remove_no_dup)\n",
    "data_to_use_filtered_no_dup = data_to_use_filtered[~data_to_use_filtered['Sequences'].isin(seq_to_remove_no_dup)]"
   ],
   "metadata": {
    "collapsed": false
   }
  },
  {
   "cell_type": "code",
   "execution_count": 24,
   "outputs": [
    {
     "data": {
      "text/plain": "                    Sequences  Appearances  Private_Public_label   vGeneName\n3929            CASSLVGNTEAFF          287                     1  TCRBV19-01\n4532              CASSLDYEQYF          275                     1  TCRBV18-01\n4564              CASSYSYEQYF          275                     1  TCRBV18-01\n5604            CASSLAGNYGYTF          253                     1  TCRBV18-01\n6095             CASSLVGETQYF          248                     1  TCRBV19-01\n...                       ...          ...                   ...         ...\n14938520      CSAAPGPKPQNIQYF            1                     0  TCRBV29-01\n14938521     CSVEQAAGGIGNTIYF            1                     0  TCRBV29-01\n14938523    CAISESNGGASGNTIYF            1                     0  TCRBV10-03\n14938524  CASLTRDSTTIPSGNTIYF            1                     0  TCRBV19-01\n14938528        CAWTMGGNHEAFF            1                     0  TCRBV30-01\n\n[2770005 rows x 4 columns]",
      "text/html": "<div>\n<style scoped>\n    .dataframe tbody tr th:only-of-type {\n        vertical-align: middle;\n    }\n\n    .dataframe tbody tr th {\n        vertical-align: top;\n    }\n\n    .dataframe thead th {\n        text-align: right;\n    }\n</style>\n<table border=\"1\" class=\"dataframe\">\n  <thead>\n    <tr style=\"text-align: right;\">\n      <th></th>\n      <th>Sequences</th>\n      <th>Appearances</th>\n      <th>Private_Public_label</th>\n      <th>vGeneName</th>\n    </tr>\n  </thead>\n  <tbody>\n    <tr>\n      <th>3929</th>\n      <td>CASSLVGNTEAFF</td>\n      <td>287</td>\n      <td>1</td>\n      <td>TCRBV19-01</td>\n    </tr>\n    <tr>\n      <th>4532</th>\n      <td>CASSLDYEQYF</td>\n      <td>275</td>\n      <td>1</td>\n      <td>TCRBV18-01</td>\n    </tr>\n    <tr>\n      <th>4564</th>\n      <td>CASSYSYEQYF</td>\n      <td>275</td>\n      <td>1</td>\n      <td>TCRBV18-01</td>\n    </tr>\n    <tr>\n      <th>5604</th>\n      <td>CASSLAGNYGYTF</td>\n      <td>253</td>\n      <td>1</td>\n      <td>TCRBV18-01</td>\n    </tr>\n    <tr>\n      <th>6095</th>\n      <td>CASSLVGETQYF</td>\n      <td>248</td>\n      <td>1</td>\n      <td>TCRBV19-01</td>\n    </tr>\n    <tr>\n      <th>...</th>\n      <td>...</td>\n      <td>...</td>\n      <td>...</td>\n      <td>...</td>\n    </tr>\n    <tr>\n      <th>14938520</th>\n      <td>CSAAPGPKPQNIQYF</td>\n      <td>1</td>\n      <td>0</td>\n      <td>TCRBV29-01</td>\n    </tr>\n    <tr>\n      <th>14938521</th>\n      <td>CSVEQAAGGIGNTIYF</td>\n      <td>1</td>\n      <td>0</td>\n      <td>TCRBV29-01</td>\n    </tr>\n    <tr>\n      <th>14938523</th>\n      <td>CAISESNGGASGNTIYF</td>\n      <td>1</td>\n      <td>0</td>\n      <td>TCRBV10-03</td>\n    </tr>\n    <tr>\n      <th>14938524</th>\n      <td>CASLTRDSTTIPSGNTIYF</td>\n      <td>1</td>\n      <td>0</td>\n      <td>TCRBV19-01</td>\n    </tr>\n    <tr>\n      <th>14938528</th>\n      <td>CAWTMGGNHEAFF</td>\n      <td>1</td>\n      <td>0</td>\n      <td>TCRBV30-01</td>\n    </tr>\n  </tbody>\n</table>\n<p>2770005 rows × 4 columns</p>\n</div>"
     },
     "execution_count": 24,
     "metadata": {},
     "output_type": "execute_result"
    }
   ],
   "source": [
    "data_to_use_filtered_no_dup = data_to_use_filtered_no_dup[['Sequences', 'Appearances', 'Private_Public_label', gene_name]]\n",
    "data_to_use_filtered_no_dup"
   ],
   "metadata": {
    "collapsed": false
   }
  },
  {
   "cell_type": "markdown",
   "source": [],
   "metadata": {
    "collapsed": false
   }
  },
  {
   "cell_type": "markdown",
   "source": [
    "##### Gene Bar Plot Excluding Duplicates"
   ],
   "metadata": {
    "collapsed": false
   }
  },
  {
   "cell_type": "code",
   "execution_count": 25,
   "outputs": [
    {
     "data": {
      "text/plain": "<Figure size 1080x360 with 1 Axes>",
      "image/png": "[encoded data removed]"
     },
     "metadata": {},
     "output_type": "display_data"
    }
   ],
   "source": [
    "genes_no_dup = collections.Counter(data_to_use_filtered_no_dup[gene_name])\n",
    "# bar plot\n",
    "plt.bar(genes_no_dup.keys(), genes_no_dup.values())\n",
    "# change y axis to log scale\n",
    "plt.yscale('log')\n",
    "# make the plot larger\n",
    "plt.gcf().set_size_inches(15, 5)\n",
    "# wider bars for better visualization\n",
    "plt.tight_layout()\n",
    "# make x axis labels horizontal and smaller\n",
    "plt.xticks(rotation=90)\n",
    "plt.xticks(fontsize=8)\n",
    "# show plot\n",
    "plt.show()"
   ],
   "metadata": {
    "collapsed": false
   }
  },
  {
   "cell_type": "code",
   "execution_count": 26,
   "outputs": [
    {
     "data": {
      "text/plain": "Counter({'TCRBV19-01': 813614,\n         'TCRBV18-01': 381766,\n         'TCRBV30-01': 385557,\n         'TCRBV10-03': 284286,\n         'TCRBV29-01': 336560,\n         'TCRBV15-01': 198028,\n         'TCRBV20-01': 135252,\n         'TCRBV24-01': 234942})"
     },
     "execution_count": 26,
     "metadata": {},
     "output_type": "execute_result"
    }
   ],
   "source": [
    "genes_no_dup"
   ],
   "metadata": {
    "collapsed": false
   }
  },
  {
   "cell_type": "markdown",
   "source": [
    "##### Create subsample of data"
   ],
   "metadata": {
    "collapsed": false
   }
  },
  {
   "cell_type": "code",
   "execution_count": 27,
   "outputs": [],
   "source": [
    "# Resamples df_counts into df_counts_small\n",
    "# in data_to_use_filtered_nona_TCRBV_no_dup group by vGeneName and keep 3% of each group\n",
    "def filter_data(df):\n",
    "    if len(df) < 10000:\n",
    "        return df\n",
    "    else:\n",
    "        return df.sample(frac=0.5, random_state=3)"
   ],
   "metadata": {
    "collapsed": false
   }
  },
  {
   "cell_type": "code",
   "execution_count": 28,
   "outputs": [
    {
     "data": {
      "text/plain": "                   Sequences  Appearances  Private_Public_label   vGeneName\n0             CASSSDRRFYEQYF            1                     0  TCRBV19-01\n1           CASSIATASGRDTQYF            1                     0  TCRBV19-01\n2              CASSPLGGLGQYF            2                     1  TCRBV19-01\n3        CASSIVWGSIGRGGNIQYF            1                     0  TCRBV19-01\n4            CASSDGGTGSNEQFF            1                     0  TCRBV19-01\n...                      ...          ...                   ...         ...\n1384997      CATSDSDRGSYGYTF            1                     0  TCRBV24-01\n1384998    CATSDVVPGPTYNEQFF            1                     0  TCRBV24-01\n1384999     CATSGSLAGVLHEQFF            1                     0  TCRBV24-01\n1385000   CATSDYGSGPSSYNEQFF            1                     0  TCRBV24-01\n1385001     CATSDLRGASYNEQFF            3                     1  TCRBV24-01\n\n[1385002 rows x 4 columns]",
      "text/html": "<div>\n<style scoped>\n    .dataframe tbody tr th:only-of-type {\n        vertical-align: middle;\n    }\n\n    .dataframe tbody tr th {\n        vertical-align: top;\n    }\n\n    .dataframe thead th {\n        text-align: right;\n    }\n</style>\n<table border=\"1\" class=\"dataframe\">\n  <thead>\n    <tr style=\"text-align: right;\">\n      <th></th>\n      <th>Sequences</th>\n      <th>Appearances</th>\n      <th>Private_Public_label</th>\n      <th>vGeneName</th>\n    </tr>\n  </thead>\n  <tbody>\n    <tr>\n      <th>0</th>\n      <td>CASSSDRRFYEQYF</td>\n      <td>1</td>\n      <td>0</td>\n      <td>TCRBV19-01</td>\n    </tr>\n    <tr>\n      <th>1</th>\n      <td>CASSIATASGRDTQYF</td>\n      <td>1</td>\n      <td>0</td>\n      <td>TCRBV19-01</td>\n    </tr>\n    <tr>\n      <th>2</th>\n      <td>CASSPLGGLGQYF</td>\n      <td>2</td>\n      <td>1</td>\n      <td>TCRBV19-01</td>\n    </tr>\n    <tr>\n      <th>3</th>\n      <td>CASSIVWGSIGRGGNIQYF</td>\n      <td>1</td>\n      <td>0</td>\n      <td>TCRBV19-01</td>\n    </tr>\n    <tr>\n      <th>4</th>\n      <td>CASSDGGTGSNEQFF</td>\n      <td>1</td>\n      <td>0</td>\n      <td>TCRBV19-01</td>\n    </tr>\n    <tr>\n      <th>...</th>\n      <td>...</td>\n      <td>...</td>\n      <td>...</td>\n      <td>...</td>\n    </tr>\n    <tr>\n      <th>1384997</th>\n      <td>CATSDSDRGSYGYTF</td>\n      <td>1</td>\n      <td>0</td>\n      <td>TCRBV24-01</td>\n    </tr>\n    <tr>\n      <th>1384998</th>\n      <td>CATSDVVPGPTYNEQFF</td>\n      <td>1</td>\n      <td>0</td>\n      <td>TCRBV24-01</td>\n    </tr>\n    <tr>\n      <th>1384999</th>\n      <td>CATSGSLAGVLHEQFF</td>\n      <td>1</td>\n      <td>0</td>\n      <td>TCRBV24-01</td>\n    </tr>\n    <tr>\n      <th>1385000</th>\n      <td>CATSDYGSGPSSYNEQFF</td>\n      <td>1</td>\n      <td>0</td>\n      <td>TCRBV24-01</td>\n    </tr>\n    <tr>\n      <th>1385001</th>\n      <td>CATSDLRGASYNEQFF</td>\n      <td>3</td>\n      <td>1</td>\n      <td>TCRBV24-01</td>\n    </tr>\n  </tbody>\n</table>\n<p>1385002 rows × 4 columns</p>\n</div>"
     },
     "execution_count": 28,
     "metadata": {},
     "output_type": "execute_result"
    }
   ],
   "source": [
    "gene_small_set = data_to_use_filtered_no_dup.groupby(gene_name, sort=False).apply(filter_data).reset_index(drop=True)\n",
    "gene_small_set"
   ],
   "metadata": {
    "collapsed": false
   }
  },
  {
   "cell_type": "code",
   "execution_count": 29,
   "outputs": [],
   "source": [
    "if gene_type=='J':\n",
    "    gene_small_set.jGeneName.value_counts()\n",
    "else:\n",
    "    gene_small_set.vGeneName.value_counts()"
   ],
   "metadata": {
    "collapsed": false
   }
  },
  {
   "cell_type": "code",
   "execution_count": 30,
   "outputs": [],
   "source": [
    "tcrb_data_sample = gene_small_set"
   ],
   "metadata": {
    "collapsed": false
   }
  },
  {
   "cell_type": "code",
   "execution_count": 31,
   "outputs": [
    {
     "data": {
      "text/plain": "                   Sequences  Appearances  Private_Public_label   vGeneName\n0             CASSSDRRFYEQYF            1                     0  TCRBV19-01\n1           CASSIATASGRDTQYF            1                     0  TCRBV19-01\n2              CASSPLGGLGQYF            2                     1  TCRBV19-01\n3        CASSIVWGSIGRGGNIQYF            1                     0  TCRBV19-01\n4            CASSDGGTGSNEQFF            1                     0  TCRBV19-01\n...                      ...          ...                   ...         ...\n1384997      CATSDSDRGSYGYTF            1                     0  TCRBV24-01\n1384998    CATSDVVPGPTYNEQFF            1                     0  TCRBV24-01\n1384999     CATSGSLAGVLHEQFF            1                     0  TCRBV24-01\n1385000   CATSDYGSGPSSYNEQFF            1                     0  TCRBV24-01\n1385001     CATSDLRGASYNEQFF            3                     1  TCRBV24-01\n\n[1385002 rows x 4 columns]",
      "text/html": "<div>\n<style scoped>\n    .dataframe tbody tr th:only-of-type {\n        vertical-align: middle;\n    }\n\n    .dataframe tbody tr th {\n        vertical-align: top;\n    }\n\n    .dataframe thead th {\n        text-align: right;\n    }\n</style>\n<table border=\"1\" class=\"dataframe\">\n  <thead>\n    <tr style=\"text-align: right;\">\n      <th></th>\n      <th>Sequences</th>\n      <th>Appearances</th>\n      <th>Private_Public_label</th>\n      <th>vGeneName</th>\n    </tr>\n  </thead>\n  <tbody>\n    <tr>\n      <th>0</th>\n      <td>CASSSDRRFYEQYF</td>\n      <td>1</td>\n      <td>0</td>\n      <td>TCRBV19-01</td>\n    </tr>\n    <tr>\n      <th>1</th>\n      <td>CASSIATASGRDTQYF</td>\n      <td>1</td>\n      <td>0</td>\n      <td>TCRBV19-01</td>\n    </tr>\n    <tr>\n      <th>2</th>\n      <td>CASSPLGGLGQYF</td>\n      <td>2</td>\n      <td>1</td>\n      <td>TCRBV19-01</td>\n    </tr>\n    <tr>\n      <th>3</th>\n      <td>CASSIVWGSIGRGGNIQYF</td>\n      <td>1</td>\n      <td>0</td>\n      <td>TCRBV19-01</td>\n    </tr>\n    <tr>\n      <th>4</th>\n      <td>CASSDGGTGSNEQFF</td>\n      <td>1</td>\n      <td>0</td>\n      <td>TCRBV19-01</td>\n    </tr>\n    <tr>\n      <th>...</th>\n      <td>...</td>\n      <td>...</td>\n      <td>...</td>\n      <td>...</td>\n    </tr>\n    <tr>\n      <th>1384997</th>\n      <td>CATSDSDRGSYGYTF</td>\n      <td>1</td>\n      <td>0</td>\n      <td>TCRBV24-01</td>\n    </tr>\n    <tr>\n      <th>1384998</th>\n      <td>CATSDVVPGPTYNEQFF</td>\n      <td>1</td>\n      <td>0</td>\n      <td>TCRBV24-01</td>\n    </tr>\n    <tr>\n      <th>1384999</th>\n      <td>CATSGSLAGVLHEQFF</td>\n      <td>1</td>\n      <td>0</td>\n      <td>TCRBV24-01</td>\n    </tr>\n    <tr>\n      <th>1385000</th>\n      <td>CATSDYGSGPSSYNEQFF</td>\n      <td>1</td>\n      <td>0</td>\n      <td>TCRBV24-01</td>\n    </tr>\n    <tr>\n      <th>1385001</th>\n      <td>CATSDLRGASYNEQFF</td>\n      <td>3</td>\n      <td>1</td>\n      <td>TCRBV24-01</td>\n    </tr>\n  </tbody>\n</table>\n<p>1385002 rows × 4 columns</p>\n</div>"
     },
     "execution_count": 31,
     "metadata": {},
     "output_type": "execute_result"
    }
   ],
   "source": [
    "tcrb_data_sample"
   ],
   "metadata": {
    "collapsed": false
   }
  },
  {
   "cell_type": "code",
   "execution_count": 49,
   "outputs": [],
   "source": [
    "# take 10 random sequences from each j Gene\n",
    "# if gene_type=='J':\n",
    "#     j_gene_sequences = data_to_use_filtered.groupby(gene_type, sort=False).apply(lambda x: x.sample(10)).reset_index(drop=True)\n",
    "#     j_gene_sequences.to_csv('/home/romi/projects/preTCR/CDR3_data/cdr3_by_jgene_groups.csv')"
   ],
   "metadata": {
    "collapsed": false
   }
  },
  {
   "cell_type": "markdown",
   "source": [
    "#### Create and Display embeddings"
   ],
   "metadata": {
    "collapsed": false
   }
  },
  {
   "cell_type": "code",
   "execution_count": 32,
   "outputs": [],
   "source": [
    "# export subsample data to csv\n",
    "if gene_type == 'J':\n",
    "    output_df_csv = \"jgene_subsample.csv\"\n",
    "else:\n",
    "    output_df_csv = \"vgene_subsample.csv\"\n",
    "\n",
    "tcrb_data_sample.to_csv(output_df_csv)"
   ],
   "metadata": {
    "collapsed": false
   }
  },
  {
   "cell_type": "code",
   "execution_count": null,
   "outputs": [],
   "source": [
    "from cvc.embbeding_wrapper import EmbeddingWrapper\n",
    "\n",
    "# Create embeddings\n",
    "embed_wrap = EmbeddingWrapper(TRANSFORMER, DEVICE, tcrb_data_sample, batch_size=1024, method=\"mean\", layers=[-1])\n",
    "embed_wrap.embeddings.shape"
   ],
   "metadata": {
    "collapsed": false
   }
  },
  {
   "cell_type": "code",
   "execution_count": null,
   "outputs": [],
   "source": [
    "# output embeddings to csv\n",
    "if gene_type == 'J':\n",
    "    output_embeddings_path = \"/home/romi/projects/preTCR/CDR3_data/j_gene_embeddings.csv\"\n",
    "else:\n",
    "    output_embeddings_path = \"/home/romi/projects/preTCR/CDR3_data/v_gene_embeddings.csv\"\n",
    "tcrb_embeddings_df = pd.DataFrame(embed_wrap.embeddings)\n",
    "tcrb_embeddings_df.to_csv(output_embeddings_path)"
   ],
   "metadata": {
    "collapsed": false
   }
  },
  {
   "cell_type": "code",
   "execution_count": 34,
   "outputs": [
    {
     "name": "stderr",
     "output_type": "stream",
     "text": [
      "/opt/conda/envs/tcrbert/lib/python3.9/site-packages/anndata/_core/anndata.py:119: ImplicitModificationWarning: Transforming to str index.\n",
      "  warnings.warn(\"Transforming to str index.\", ImplicitModificationWarning)\n"
     ]
    },
    {
     "data": {
      "text/plain": "AnnData object with n_obs × n_vars = 1385002 × 768\n    obs: 'Sequences', 'Appearances', 'Private_Public_label', 'vGeneName'\n    uns: 'pca', 'neighbors', 'umap'\n    obsm: 'X_pca', 'X_umap'\n    varm: 'PCs'\n    obsp: 'distances', 'connectivities'"
     },
     "execution_count": 34,
     "metadata": {},
     "output_type": "execute_result"
    }
   ],
   "source": [
    "# create anndata object\n",
    "tcrb_embeddings_adata = embed_wrap.create_anndata()\n",
    "tcrb_embeddings_adata"
   ],
   "metadata": {
    "collapsed": false
   }
  },
  {
   "cell_type": "code",
   "execution_count": 35,
   "outputs": [
    {
     "data": {
      "text/plain": "<matplotlib.colors.ListedColormap at 0x7f594a864ca0>",
      "text/html": "<div style=\"vertical-align: middle;\"><strong>from_list</strong> </div><div class=\"cmap\"><img alt=\"from_list colormap\" title=\"from_list\" style=\"border: 1px solid #555;\" src=\"data:image/png;base64,iVBORw0KGgoAAAANSUhEUgAAAgAAAABACAYAAABsv8+/AAAAGHRFWHRUaXRsZQBmcm9tX2xpc3QgY29sb3JtYXBDL89FAAAAHnRFWHREZXNjcmlwdGlvbgBmcm9tX2xpc3QgY29sb3JtYXABtCnOAAAAMHRFWHRBdXRob3IATWF0cGxvdGxpYiB2My40LjIsIGh0dHBzOi8vbWF0cGxvdGxpYi5vcmes1mPdAAAAMnRFWHRTb2Z0d2FyZQBNYXRwbG90bGliIHYzLjQuMiwgaHR0cHM6Ly9tYXRwbG90bGliLm9yZ4Jw/PoAAAFmSURBVHic7dahToIBGEBRf8emgUyjUg0EuhuRx+UNGJFMNptMbgR8C79wz3mCG+9y/zw9X8K2h8d0wqj34246YdTysZ9OGPWzfptOGHX7/p1OGHX+Wk0njLpcN9MJo16nAwCA/2cAACDIAABAkAEAgCADAABBBgAAggwAAAQZAAAIMgAAEGQAACDIAABAkAEAgCADAABBBgAAggwAAAQZAAAIMgAAEGQAACDIAABAkAEAgCADAABBBgAAggwAAAQZAAAIMgAAEGQAACDIAABAkAEAgCADAABBBgAAggwAAAQZAAAIMgAAEGQAACDIAABAkAEAgCADAABBBgAAggwAAAQZAAAIMgAAEGQAACDIAABAkAEAgCADAABBBgAAggwAAAQZAAAIMgAAEGQAACDIAABAkAEAgCADAABBBgAAggwAAAQZAAAIMgAAEGQAACDIAABAkAEAgCADAABBBgAAggwAAAT9AUgPC/2JHLd+AAAAAElFTkSuQmCC\"></div><div style=\"vertical-align: middle; max-width: 514px; display: flex; justify-content: space-between;\"><div style=\"float: left;\"><div title=\"#d8434eff\" style=\"display: inline-block; width: 1em; height: 1em; margin: 0; vertical-align: middle; border: 1px solid #555; background-color: #d8434eff;\"></div> under</div><div style=\"margin: 0 auto; display: inline-block;\">bad <div title=\"#00000000\" style=\"display: inline-block; width: 1em; height: 1em; margin: 0; vertical-align: middle; border: 1px solid #555; background-color: #00000000;\"></div></div><div style=\"float: right;\">over <div title=\"#378ebbff\" style=\"display: inline-block; width: 1em; height: 1em; margin: 0; vertical-align: middle; border: 1px solid #555; background-color: #378ebbff;\"></div></div>",
      "image/png": "[encoded data removed]"
     },
     "execution_count": 35,
     "metadata": {},
     "output_type": "execute_result"
    }
   ],
   "source": [
    "# Create colormap for genes\n",
    "color_map = ListedColormap(sns.color_palette(\"Spectral\", len(genes_dict.keys())))\n",
    "color_map"
   ],
   "metadata": {
    "collapsed": false
   }
  },
  {
   "cell_type": "code",
   "execution_count": null,
   "outputs": [],
   "source": [
    "# to display by private/public label make flag equal to 1\n",
    "DISPLAY_PUB_PRIV = 0"
   ],
   "metadata": {
    "collapsed": false
   }
  },
  {
   "cell_type": "code",
   "execution_count": null,
   "outputs": [],
   "source": [
    "if DISPLAY_PUB_PRIV == 1:\n",
    "    color_label = 'Private_Public_label'\n",
    "    title = \"UMAP of Embeddings, Colored by Public/Private Label\"\n",
    "    colors = ['gold', 'darkblue']\n",
    "    legend_size=7\n",
    "    cmap_colors = matplotlib.colors.ListedColormap(colors)\n",
    "    pdf_title = \"umap_genes_pub_priv_embeddings.pdf\"\n",
    "else:\n",
    "    if gene_type == 'J':\n",
    "        color_label = 'jGeneName'\n",
    "        title = \"UMAP of Embeddings, Colored by J Genes\"\n",
    "        cmap_colors = color_map\n",
    "        legend_size = 2\n",
    "        pdf_title = \"umap_j_genes.pdf\"\n",
    "    else:\n",
    "        color_label = 'vGeneName'\n",
    "        title = \"UMAP of Embeddings, Colored by V Genes\"\n",
    "        cmap_colors = color_map\n",
    "        legend_size = 2\n",
    "        pdf_title = \"umap_v_genes.pdf\""
   ],
   "metadata": {
    "collapsed": false
   }
  }
 ],
 "metadata": {
  "deepnote": {},
  "deepnote_execution_queue": [],
  "deepnote_notebook_id": "cef408d8-9130-407c-bfc8-1126d6b70d18",
  "kernelspec": {
   "display_name": "Python 3",
   "language": "python",
   "name": "python3"
  },
  "language_info": {
   "codemirror_mode": {
    "name": "ipython",
    "version": 3
   },
   "file_extension": ".py",
   "mimetype": "text/x-python",
   "name": "python",
   "nbconvert_exporter": "python",
   "pygments_lexer": "ipython3",
   "version": "3.9.2"
  }
 },
 "nbformat": 4,
 "nbformat_minor": 5
}
