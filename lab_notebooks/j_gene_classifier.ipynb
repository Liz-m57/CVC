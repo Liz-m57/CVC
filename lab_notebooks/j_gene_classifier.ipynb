{
 "cells": [
  {
   "cell_type": "markdown",
   "source": [
    "#### Multiclass Classification of J Gene Type"
   ],
   "metadata": {
    "collapsed": false
   }
  },
  {
   "cell_type": "code",
   "execution_count": 1,
   "id": "563a8d23-e24b-4cb5-8cea-5c6f52f66473",
   "metadata": {},
   "outputs": [
    {
     "name": "stdout",
     "output_type": "stream",
     "text": [
      "/home/romi/projects/cvc\n"
     ]
    }
   ],
   "source": [
    "cd .."
   ]
  },
  {
   "cell_type": "code",
   "execution_count": 2,
   "id": "131cbe9c-6069-4645-b71f-7bb33715697f",
   "metadata": {},
   "outputs": [],
   "source": [
    "%load_ext autoreload\n",
    "%autoreload 2"
   ]
  },
  {
   "cell_type": "code",
   "execution_count": 161,
   "id": "91824dd6-d4fd-44d9-8354-f219b37f075b",
   "metadata": {
    "cell_id": "00001-55732162-ceaf-44b6-b0f9-62861608b761",
    "deepnote_cell_height": 1117.875,
    "deepnote_cell_type": "code",
    "deepnote_output_heights": [
     null,
     21.1875
    ],
    "deepnote_to_be_reexecuted": false,
    "execution_millis": 2706,
    "execution_start": 1645287607716,
    "source_hash": "cc7135c9"
   },
   "outputs": [
    {
     "data": {
      "text/plain": "'plots/CDR3_data_plots'"
     },
     "execution_count": 161,
     "metadata": {},
     "output_type": "execute_result"
    }
   ],
   "source": [
    "import os, sys\n",
    "import collections\n",
    "import lab_notebooks.utils\n",
    "import matplotlib.pyplot as plt\n",
    "import tqdm\n",
    "import pandas as pd\n",
    "from matplotlib.colors import ListedColormap\n",
    "import seaborn as sns\n",
    "import numpy as np\n",
    "import torch\n",
    "\n",
    "SRC_DIR = \"cvc\"\n",
    "assert os.path.isdir(SRC_DIR), f\"Cannot find src dir: {SRC_DIR}\"\n",
    "sys.path.append(SRC_DIR)\n",
    "from cvc import model_utils\n",
    "from cvc import plot_utils\n",
    "from lab_notebooks.utils import TRANSFORMER, DEVICE, DATA_DIR\n",
    "MODEL_DIR = os.path.join(SRC_DIR, \"models\")\n",
    "sys.path.append(MODEL_DIR)\n",
    "\n",
    "FILT_EDIT_DIST = True\n",
    "\n",
    "PLOT_DIR = os.path.join(os.path.dirname(SRC_DIR), \"plots/CDR3_data_plots\")\n",
    "if not os.path.isdir(PLOT_DIR):\n",
    "    os.makedirs(PLOT_DIR)\n",
    "PLOT_DIR"
   ]
  },
  {
   "cell_type": "markdown",
   "id": "fba0ce0b",
   "metadata": {},
   "source": [
    "#### Load Data"
   ]
  },
  {
   "cell_type": "code",
   "execution_count": 162,
   "outputs": [],
   "source": [
    "gene_type = 'J' #'V'\n",
    "load_csv = False"
   ],
   "metadata": {
    "collapsed": false
   }
  },
  {
   "cell_type": "code",
   "execution_count": 163,
   "outputs": [],
   "source": [
    "if gene_type == 'J':\n",
    "    data_dir = DATA_DIR + \"j_gene_embeddings.csv\"\n",
    "    data_dir_full = DATA_DIR + 'jgene_embed_full_data.csv'\n",
    "    gene_column = 'jGeneName'\n",
    "    output_path = './jgene_data_embeddings_with_label_and_sequence.csv'\n",
    "    input_path = './jgene_data_embeddings_with_label_and_sequence.csv'\n",
    "else:\n",
    "    data_dir = DATA_DIR + \"v_gene_embeddings.csv\"\n",
    "    data_dir_full = DATA_DIR + 'vgene_public_specific_data.csv'\n",
    "        #'vgene_data_classfy1.csv' #vgene_embed_full_data.csv'\n",
    "    gene_column = 'vGeneName'\n",
    "    output_path = './vgene_public_specific_data_embeddings_with_label_and_sequence.csv'\n",
    "    input_path = './vgene_data_embeddings_with_label_and_sequence.csv'"
   ],
   "metadata": {
    "collapsed": false
   }
  },
  {
   "cell_type": "code",
   "execution_count": 164,
   "id": "f7f68021-d2be-4beb-8bc0-a220e8bd41e0",
   "metadata": {},
   "outputs": [],
   "source": [
    "# read data\n",
    "gene_data = pd.read_csv(data_dir_full, engine=\"pyarrow\")"
   ]
  },
  {
   "cell_type": "code",
   "execution_count": 165,
   "outputs": [
    {
     "data": {
      "text/plain": "                   Sequences  Appearances  Private_Public_label   jGeneName\n0           CASNPRGFASTDTQYF            1                     0  TCRBJ02-03\n1            CASSMGQGKTDTQYF            1                     0  TCRBJ02-03\n2                CATSETDTQYF            6                     1  TCRBJ02-03\n3             CASSYLRQLDTQYF            1                     0  TCRBJ02-03\n4          CATSRDSVQSRLDTQYF            1                     0  TCRBJ02-03\n...                      ...          ...                   ...         ...\n1079531     CSVEDRRTSPKNIQYF            1                     0  TCRBJ02-04\n1079532        CASSLADKNIQYF            1                     0  TCRBJ02-04\n1079533        CATGADRDSIQYF            1                     0  TCRBJ02-04\n1079534     CASSYSMLAGGNIQYF            1                     0  TCRBJ02-04\n1079535  CASSERASGAGLAKNIQYF            1                     0  TCRBJ02-04\n\n[1079536 rows x 4 columns]",
      "text/html": "<div>\n<style scoped>\n    .dataframe tbody tr th:only-of-type {\n        vertical-align: middle;\n    }\n\n    .dataframe tbody tr th {\n        vertical-align: top;\n    }\n\n    .dataframe thead th {\n        text-align: right;\n    }\n</style>\n<table border=\"1\" class=\"dataframe\">\n  <thead>\n    <tr style=\"text-align: right;\">\n      <th></th>\n      <th>Sequences</th>\n      <th>Appearances</th>\n      <th>Private_Public_label</th>\n      <th>jGeneName</th>\n    </tr>\n  </thead>\n  <tbody>\n    <tr>\n      <th>0</th>\n      <td>CASNPRGFASTDTQYF</td>\n      <td>1</td>\n      <td>0</td>\n      <td>TCRBJ02-03</td>\n    </tr>\n    <tr>\n      <th>1</th>\n      <td>CASSMGQGKTDTQYF</td>\n      <td>1</td>\n      <td>0</td>\n      <td>TCRBJ02-03</td>\n    </tr>\n    <tr>\n      <th>2</th>\n      <td>CATSETDTQYF</td>\n      <td>6</td>\n      <td>1</td>\n      <td>TCRBJ02-03</td>\n    </tr>\n    <tr>\n      <th>3</th>\n      <td>CASSYLRQLDTQYF</td>\n      <td>1</td>\n      <td>0</td>\n      <td>TCRBJ02-03</td>\n    </tr>\n    <tr>\n      <th>4</th>\n      <td>CATSRDSVQSRLDTQYF</td>\n      <td>1</td>\n      <td>0</td>\n      <td>TCRBJ02-03</td>\n    </tr>\n    <tr>\n      <th>...</th>\n      <td>...</td>\n      <td>...</td>\n      <td>...</td>\n      <td>...</td>\n    </tr>\n    <tr>\n      <th>1079531</th>\n      <td>CSVEDRRTSPKNIQYF</td>\n      <td>1</td>\n      <td>0</td>\n      <td>TCRBJ02-04</td>\n    </tr>\n    <tr>\n      <th>1079532</th>\n      <td>CASSLADKNIQYF</td>\n      <td>1</td>\n      <td>0</td>\n      <td>TCRBJ02-04</td>\n    </tr>\n    <tr>\n      <th>1079533</th>\n      <td>CATGADRDSIQYF</td>\n      <td>1</td>\n      <td>0</td>\n      <td>TCRBJ02-04</td>\n    </tr>\n    <tr>\n      <th>1079534</th>\n      <td>CASSYSMLAGGNIQYF</td>\n      <td>1</td>\n      <td>0</td>\n      <td>TCRBJ02-04</td>\n    </tr>\n    <tr>\n      <th>1079535</th>\n      <td>CASSERASGAGLAKNIQYF</td>\n      <td>1</td>\n      <td>0</td>\n      <td>TCRBJ02-04</td>\n    </tr>\n  </tbody>\n</table>\n<p>1079536 rows × 4 columns</p>\n</div>"
     },
     "execution_count": 165,
     "metadata": {},
     "output_type": "execute_result"
    }
   ],
   "source": [
    "gene_data = gene_data[['Sequences', 'Appearances', 'Private_Public_label', gene_column]]\n",
    "gene_data"
   ],
   "metadata": {
    "collapsed": false
   }
  },
  {
   "cell_type": "code",
   "execution_count": 166,
   "id": "0a65ecf6-e209-4b5f-b4e4-5d3ea98b3b5c",
   "metadata": {},
   "outputs": [
    {
     "data": {
      "text/plain": "Counter({0: 943758, 1: 135778})"
     },
     "execution_count": 166,
     "metadata": {},
     "output_type": "execute_result"
    }
   ],
   "source": [
    "collections.Counter(gene_data['Private_Public_label'])"
   ]
  },
  {
   "cell_type": "code",
   "execution_count": 167,
   "outputs": [
    {
     "data": {
      "text/plain": "Counter({'TCRBJ02-03': 102612,\n         'TCRBJ02-07': 160321,\n         'TCRBJ01-01': 123659,\n         'TCRBJ02-05': 83612,\n         'TCRBJ02-02': 73979,\n         'TCRBJ01-05': 79326,\n         'TCRBJ01-02': 127798,\n         'TCRBJ02-01': 148422,\n         'TCRBJ01-03': 39829,\n         'TCRBJ02-06': 17070,\n         'TCRBJ01-06': 52723,\n         'TCRBJ01-04': 51858,\n         'TCRBJ02-04': 18327})"
     },
     "execution_count": 167,
     "metadata": {},
     "output_type": "execute_result"
    }
   ],
   "source": [
    "collections.Counter(gene_data[gene_column])"
   ],
   "metadata": {
    "collapsed": false
   }
  },
  {
   "cell_type": "markdown",
   "id": "fb78feaa",
   "metadata": {},
   "source": [
    "#### Create subset with equall distribution of genes"
   ]
  },
  {
   "cell_type": "code",
   "execution_count": 168,
   "outputs": [
    {
     "data": {
      "text/plain": "1049813"
     },
     "execution_count": 168,
     "metadata": {},
     "output_type": "execute_result"
    }
   ],
   "source": [
    "# extract sequences that do not have *\n",
    "gene_data_to_use = [seq for seq in gene_data['Sequences'] if '*' not in seq]\n",
    "len(gene_data_to_use)"
   ],
   "metadata": {
    "collapsed": false
   }
  },
  {
   "cell_type": "code",
   "execution_count": 169,
   "outputs": [],
   "source": [
    "gene_data_edit = gene_data"
   ],
   "metadata": {
    "collapsed": false
   }
  },
  {
   "cell_type": "code",
   "execution_count": 170,
   "outputs": [
    {
     "data": {
      "text/plain": "1049813"
     },
     "execution_count": 170,
     "metadata": {},
     "output_type": "execute_result"
    }
   ],
   "source": [
    "# leave the sequences that do not have *\n",
    "gene_data_edit = gene_data_edit.loc[gene_data_edit['Sequences'].isin(gene_data_to_use)]\n",
    "len(gene_data_edit)"
   ],
   "metadata": {
    "collapsed": false
   }
  },
  {
   "cell_type": "code",
   "execution_count": 171,
   "outputs": [
    {
     "name": "stdout",
     "output_type": "stream",
     "text": [
      "['TCRBJ02-03' 'TCRBJ02-03' 'TCRBJ02-03' ... 'TCRBJ02-04' 'TCRBJ02-04'\n",
      " 'TCRBJ02-04']\n"
     ]
    }
   ],
   "source": [
    "# convert label column to numpy array\n",
    "gene_label_array = gene_data_edit[gene_column].to_numpy()\n",
    "print(gene_label_array)"
   ],
   "metadata": {
    "collapsed": false
   }
  },
  {
   "cell_type": "code",
   "execution_count": 172,
   "outputs": [
    {
     "data": {
      "text/plain": "Counter({'TCRBJ02-03': 99472,\n         'TCRBJ02-07': 154523,\n         'TCRBJ01-01': 121269,\n         'TCRBJ02-05': 80593,\n         'TCRBJ02-02': 71939,\n         'TCRBJ01-05': 76960,\n         'TCRBJ01-02': 125596,\n         'TCRBJ02-01': 143646,\n         'TCRBJ01-03': 39018,\n         'TCRBJ02-06': 16673,\n         'TCRBJ01-06': 51687,\n         'TCRBJ01-04': 50838,\n         'TCRBJ02-04': 17599})"
     },
     "execution_count": 172,
     "metadata": {},
     "output_type": "execute_result"
    }
   ],
   "source": [
    "collections.Counter(gene_data_edit[gene_column])"
   ],
   "metadata": {
    "collapsed": false
   }
  },
  {
   "cell_type": "code",
   "execution_count": 173,
   "outputs": [
    {
     "data": {
      "text/plain": "                             Sequences  Appearances  Private_Public_label  \\\njGeneName                                                                   \nTCRBJ02-03 9695      CASSLGASGTSGFTQYF            1                     0   \n           3304      CASSPRTSGRGVDTQYF            1                     0   \n           29201       CAWGPPGDSTDTQYF            1                     0   \n           50089       CAISESVGSTDTQYF            1                     0   \n           36139    CASSFAGTSGSSTDTQYF            1                     0   \n...                                ...          ...                   ...   \nTCRBJ02-04 1065182  CAWSAPGSGAGAKNIQYF            1                     0   \n           1065808      CASSLAGRKNIQYF            2                     1   \n           1062353        CSARFPQDIQYF            1                     0   \n           1078968    CASTPNYGGFKNIQYF            1                     0   \n           1064726       CASSVSDQNIQYF            1                     0   \n\n                     jGeneName  \njGeneName                       \nTCRBJ02-03 9695     TCRBJ02-03  \n           3304     TCRBJ02-03  \n           29201    TCRBJ02-03  \n           50089    TCRBJ02-03  \n           36139    TCRBJ02-03  \n...                        ...  \nTCRBJ02-04 1065182  TCRBJ02-04  \n           1065808  TCRBJ02-04  \n           1062353  TCRBJ02-04  \n           1078968  TCRBJ02-04  \n           1064726  TCRBJ02-04  \n\n[216749 rows x 4 columns]",
      "text/html": "<div>\n<style scoped>\n    .dataframe tbody tr th:only-of-type {\n        vertical-align: middle;\n    }\n\n    .dataframe tbody tr th {\n        vertical-align: top;\n    }\n\n    .dataframe thead th {\n        text-align: right;\n    }\n</style>\n<table border=\"1\" class=\"dataframe\">\n  <thead>\n    <tr style=\"text-align: right;\">\n      <th></th>\n      <th></th>\n      <th>Sequences</th>\n      <th>Appearances</th>\n      <th>Private_Public_label</th>\n      <th>jGeneName</th>\n    </tr>\n    <tr>\n      <th>jGeneName</th>\n      <th></th>\n      <th></th>\n      <th></th>\n      <th></th>\n      <th></th>\n    </tr>\n  </thead>\n  <tbody>\n    <tr>\n      <th rowspan=\"5\" valign=\"top\">TCRBJ02-03</th>\n      <th>9695</th>\n      <td>CASSLGASGTSGFTQYF</td>\n      <td>1</td>\n      <td>0</td>\n      <td>TCRBJ02-03</td>\n    </tr>\n    <tr>\n      <th>3304</th>\n      <td>CASSPRTSGRGVDTQYF</td>\n      <td>1</td>\n      <td>0</td>\n      <td>TCRBJ02-03</td>\n    </tr>\n    <tr>\n      <th>29201</th>\n      <td>CAWGPPGDSTDTQYF</td>\n      <td>1</td>\n      <td>0</td>\n      <td>TCRBJ02-03</td>\n    </tr>\n    <tr>\n      <th>50089</th>\n      <td>CAISESVGSTDTQYF</td>\n      <td>1</td>\n      <td>0</td>\n      <td>TCRBJ02-03</td>\n    </tr>\n    <tr>\n      <th>36139</th>\n      <td>CASSFAGTSGSSTDTQYF</td>\n      <td>1</td>\n      <td>0</td>\n      <td>TCRBJ02-03</td>\n    </tr>\n    <tr>\n      <th>...</th>\n      <th>...</th>\n      <td>...</td>\n      <td>...</td>\n      <td>...</td>\n      <td>...</td>\n    </tr>\n    <tr>\n      <th rowspan=\"5\" valign=\"top\">TCRBJ02-04</th>\n      <th>1065182</th>\n      <td>CAWSAPGSGAGAKNIQYF</td>\n      <td>1</td>\n      <td>0</td>\n      <td>TCRBJ02-04</td>\n    </tr>\n    <tr>\n      <th>1065808</th>\n      <td>CASSLAGRKNIQYF</td>\n      <td>2</td>\n      <td>1</td>\n      <td>TCRBJ02-04</td>\n    </tr>\n    <tr>\n      <th>1062353</th>\n      <td>CSARFPQDIQYF</td>\n      <td>1</td>\n      <td>0</td>\n      <td>TCRBJ02-04</td>\n    </tr>\n    <tr>\n      <th>1078968</th>\n      <td>CASTPNYGGFKNIQYF</td>\n      <td>1</td>\n      <td>0</td>\n      <td>TCRBJ02-04</td>\n    </tr>\n    <tr>\n      <th>1064726</th>\n      <td>CASSVSDQNIQYF</td>\n      <td>1</td>\n      <td>0</td>\n      <td>TCRBJ02-04</td>\n    </tr>\n  </tbody>\n</table>\n<p>216749 rows × 4 columns</p>\n</div>"
     },
     "execution_count": 173,
     "metadata": {},
     "output_type": "execute_result"
    }
   ],
   "source": [
    "# get minimum count\n",
    "min_value = min(collections.Counter(gene_data_edit[gene_column]).values())\n",
    "# sample from each group according to minimum count\n",
    "sampled_data = gene_data_edit.groupby(gene_column, sort=False).apply(lambda x: x.sample(min_value))\n",
    "sampled_data"
   ],
   "metadata": {
    "collapsed": false
   }
  },
  {
   "cell_type": "code",
   "execution_count": 174,
   "outputs": [
    {
     "data": {
      "text/plain": "Counter({'TCRBJ02-03': 16673,\n         'TCRBJ02-07': 16673,\n         'TCRBJ01-01': 16673,\n         'TCRBJ02-05': 16673,\n         'TCRBJ02-02': 16673,\n         'TCRBJ01-05': 16673,\n         'TCRBJ01-02': 16673,\n         'TCRBJ02-01': 16673,\n         'TCRBJ01-03': 16673,\n         'TCRBJ02-06': 16673,\n         'TCRBJ01-06': 16673,\n         'TCRBJ01-04': 16673,\n         'TCRBJ02-04': 16673})"
     },
     "execution_count": 174,
     "metadata": {},
     "output_type": "execute_result"
    }
   ],
   "source": [
    "collections.Counter(sampled_data[gene_column])"
   ],
   "metadata": {
    "collapsed": false
   }
  },
  {
   "cell_type": "markdown",
   "source": [
    "#### Embeddings"
   ],
   "metadata": {
    "collapsed": false
   }
  },
  {
   "cell_type": "code",
   "execution_count": 175,
   "outputs": [
    {
     "data": {
      "text/plain": "HBox(children=(HTML(value=''), FloatProgress(value=0.0, max=212.0), HTML(value='')))",
      "application/vnd.jupyter.widget-view+json": {
       "version_major": 2,
       "version_minor": 0,
       "model_id": "03c6a2becbd14769afe63b273648557f"
      }
     },
     "metadata": {},
     "output_type": "display_data"
    },
    {
     "name": "stdout",
     "output_type": "stream",
     "text": [
      "\n"
     ]
    },
    {
     "data": {
      "text/plain": "(216749, 768)"
     },
     "execution_count": 175,
     "metadata": {},
     "output_type": "execute_result"
    }
   ],
   "source": [
    "from cvc.embbeding_wrapper import EmbeddingWrapper\n",
    "\n",
    "# Create embeddings\n",
    "embed_wrap = EmbeddingWrapper(TRANSFORMER, DEVICE, sampled_data, batch_size=1024, method=\"mean\", layers=[-1])\n",
    "embed_wrap.embeddings.shape"
   ],
   "metadata": {
    "collapsed": false
   }
  },
  {
   "cell_type": "code",
   "execution_count": 176,
   "outputs": [
    {
     "data": {
      "text/plain": "AnnData object with n_obs × n_vars = 216749 × 768\n    obs: 'Sequences', 'Appearances', 'Private_Public_label', 'jGeneName'\n    uns: 'pca', 'neighbors', 'umap'\n    obsm: 'X_pca', 'X_umap'\n    varm: 'PCs'\n    obsp: 'distances', 'connectivities'"
     },
     "execution_count": 176,
     "metadata": {},
     "output_type": "execute_result"
    }
   ],
   "source": [
    "# create anndata object\n",
    "tcrb_embeddings_adata = embed_wrap.create_anndata()\n",
    "tcrb_embeddings_adata"
   ],
   "metadata": {
    "collapsed": false
   }
  },
  {
   "cell_type": "code",
   "execution_count": 177,
   "outputs": [
    {
     "data": {
      "text/plain": "        0         1         2         3         4         5         6    \\\n0 -0.250865  0.142681 -0.109450 -0.846184  0.139322  0.504051 -0.308549   \n1 -0.262795  0.274033 -0.421290 -0.550225  0.356016  0.299977  0.027824   \n2 -0.300573  0.727345  0.000831 -0.283493  0.170121  0.352162  0.496296   \n3 -0.442014  0.363003 -0.563592 -0.536502  0.049448  0.093797  0.158696   \n4 -0.077024  0.574550 -0.116299 -0.731358  0.267231  0.374076  0.316432   \n\n        7         8         9    ...       758       759       760       761  \\\n0  0.354147 -0.040887 -0.557362  ... -0.313677 -0.823121  0.403834 -0.003716   \n1  0.268805  0.173191 -0.389741  ... -0.341765 -0.527311 -0.455443 -0.290670   \n2 -0.016598 -0.253156 -0.641743  ... -0.045613 -0.695677  0.095868 -0.213269   \n3  0.071407  0.034668 -0.455050  ...  0.287669 -0.513884 -0.039472  0.100920   \n4  0.214838  0.059598 -0.715420  ... -0.404071 -0.504485 -0.152201 -0.310094   \n\n        762       763       764       765       766       767  \n0  0.079544  0.556326 -0.313829  0.317674  0.857656 -0.246653  \n1 -0.036973  0.161082 -0.475615  0.657492  0.290883 -0.199632  \n2 -0.218220  0.090078 -0.014021  0.393215 -0.343314  0.247537  \n3 -0.016136  0.524027  0.097585  0.500427  0.419674 -0.231670  \n4 -0.254878  0.254160 -0.356036  0.585389  0.536438  0.355650  \n\n[5 rows x 768 columns]",
      "text/html": "<div>\n<style scoped>\n    .dataframe tbody tr th:only-of-type {\n        vertical-align: middle;\n    }\n\n    .dataframe tbody tr th {\n        vertical-align: top;\n    }\n\n    .dataframe thead th {\n        text-align: right;\n    }\n</style>\n<table border=\"1\" class=\"dataframe\">\n  <thead>\n    <tr style=\"text-align: right;\">\n      <th></th>\n      <th>0</th>\n      <th>1</th>\n      <th>2</th>\n      <th>3</th>\n      <th>4</th>\n      <th>5</th>\n      <th>6</th>\n      <th>7</th>\n      <th>8</th>\n      <th>9</th>\n      <th>...</th>\n      <th>758</th>\n      <th>759</th>\n      <th>760</th>\n      <th>761</th>\n      <th>762</th>\n      <th>763</th>\n      <th>764</th>\n      <th>765</th>\n      <th>766</th>\n      <th>767</th>\n    </tr>\n  </thead>\n  <tbody>\n    <tr>\n      <th>0</th>\n      <td>-0.250865</td>\n      <td>0.142681</td>\n      <td>-0.109450</td>\n      <td>-0.846184</td>\n      <td>0.139322</td>\n      <td>0.504051</td>\n      <td>-0.308549</td>\n      <td>0.354147</td>\n      <td>-0.040887</td>\n      <td>-0.557362</td>\n      <td>...</td>\n      <td>-0.313677</td>\n      <td>-0.823121</td>\n      <td>0.403834</td>\n      <td>-0.003716</td>\n      <td>0.079544</td>\n      <td>0.556326</td>\n      <td>-0.313829</td>\n      <td>0.317674</td>\n      <td>0.857656</td>\n      <td>-0.246653</td>\n    </tr>\n    <tr>\n      <th>1</th>\n      <td>-0.262795</td>\n      <td>0.274033</td>\n      <td>-0.421290</td>\n      <td>-0.550225</td>\n      <td>0.356016</td>\n      <td>0.299977</td>\n      <td>0.027824</td>\n      <td>0.268805</td>\n      <td>0.173191</td>\n      <td>-0.389741</td>\n      <td>...</td>\n      <td>-0.341765</td>\n      <td>-0.527311</td>\n      <td>-0.455443</td>\n      <td>-0.290670</td>\n      <td>-0.036973</td>\n      <td>0.161082</td>\n      <td>-0.475615</td>\n      <td>0.657492</td>\n      <td>0.290883</td>\n      <td>-0.199632</td>\n    </tr>\n    <tr>\n      <th>2</th>\n      <td>-0.300573</td>\n      <td>0.727345</td>\n      <td>0.000831</td>\n      <td>-0.283493</td>\n      <td>0.170121</td>\n      <td>0.352162</td>\n      <td>0.496296</td>\n      <td>-0.016598</td>\n      <td>-0.253156</td>\n      <td>-0.641743</td>\n      <td>...</td>\n      <td>-0.045613</td>\n      <td>-0.695677</td>\n      <td>0.095868</td>\n      <td>-0.213269</td>\n      <td>-0.218220</td>\n      <td>0.090078</td>\n      <td>-0.014021</td>\n      <td>0.393215</td>\n      <td>-0.343314</td>\n      <td>0.247537</td>\n    </tr>\n    <tr>\n      <th>3</th>\n      <td>-0.442014</td>\n      <td>0.363003</td>\n      <td>-0.563592</td>\n      <td>-0.536502</td>\n      <td>0.049448</td>\n      <td>0.093797</td>\n      <td>0.158696</td>\n      <td>0.071407</td>\n      <td>0.034668</td>\n      <td>-0.455050</td>\n      <td>...</td>\n      <td>0.287669</td>\n      <td>-0.513884</td>\n      <td>-0.039472</td>\n      <td>0.100920</td>\n      <td>-0.016136</td>\n      <td>0.524027</td>\n      <td>0.097585</td>\n      <td>0.500427</td>\n      <td>0.419674</td>\n      <td>-0.231670</td>\n    </tr>\n    <tr>\n      <th>4</th>\n      <td>-0.077024</td>\n      <td>0.574550</td>\n      <td>-0.116299</td>\n      <td>-0.731358</td>\n      <td>0.267231</td>\n      <td>0.374076</td>\n      <td>0.316432</td>\n      <td>0.214838</td>\n      <td>0.059598</td>\n      <td>-0.715420</td>\n      <td>...</td>\n      <td>-0.404071</td>\n      <td>-0.504485</td>\n      <td>-0.152201</td>\n      <td>-0.310094</td>\n      <td>-0.254878</td>\n      <td>0.254160</td>\n      <td>-0.356036</td>\n      <td>0.585389</td>\n      <td>0.536438</td>\n      <td>0.355650</td>\n    </tr>\n  </tbody>\n</table>\n<p>5 rows × 768 columns</p>\n</div>"
     },
     "execution_count": 177,
     "metadata": {},
     "output_type": "execute_result"
    }
   ],
   "source": [
    "df_embeddings = pd.DataFrame(embed_wrap.embeddings)\n",
    "df_embeddings.head()"
   ],
   "metadata": {
    "collapsed": false
   }
  },
  {
   "cell_type": "code",
   "execution_count": 178,
   "outputs": [],
   "source": [
    "# add gene label to dataframe\n",
    "df_embeddings_with_label = df_embeddings\n",
    "df_embeddings_with_label[gene_column]=list(tcrb_embeddings_adata.obs[gene_column])\n",
    "df_embeddings_with_label['Sequences']=list(tcrb_embeddings_adata.obs['Sequences'])"
   ],
   "metadata": {
    "collapsed": false
   }
  },
  {
   "cell_type": "code",
   "execution_count": 179,
   "outputs": [],
   "source": [
    "# export embeddings to csvֿ\n",
    "df_embeddings_with_label.to_csv(output_path)"
   ],
   "metadata": {
    "collapsed": false
   }
  },
  {
   "cell_type": "code",
   "execution_count": 180,
   "outputs": [],
   "source": [
    "# # load from csv\n",
    "if load_csv==True:\n",
    "    df_embeddings_with_label = pd.read_csv(input_path)\n",
    "tcrb_embeddings = df_embeddings_with_label.iloc[:,1:-2].to_numpy()\n",
    "j_gene_array = df_embeddings_with_label.iloc[:,-2].to_numpy()"
   ],
   "metadata": {
    "collapsed": false
   }
  },
  {
   "cell_type": "markdown",
   "source": [
    "#### Classification Utils"
   ],
   "metadata": {
    "collapsed": false
   }
  },
  {
   "cell_type": "code",
   "execution_count": 181,
   "outputs": [],
   "source": [
    "accuracy_dictionary = {}"
   ],
   "metadata": {
    "collapsed": false
   }
  },
  {
   "cell_type": "code",
   "execution_count": 182,
   "outputs": [],
   "source": [
    "TRAIN_RATIO = 0.8\n",
    "def split_train_test(embeddings, embedding_labels):\n",
    "    # The data will be divided into 80% training 20% validation\n",
    "    idx_train = int(len(embeddings) * TRAIN_RATIO)\n",
    "\n",
    "    indices = np.arange(embeddings.shape[0])\n",
    "    # Shuffle data\n",
    "    np.random.shuffle(indices)\n",
    "\n",
    "    # Separate the images and the labels\n",
    "    embeddings_shuffle = embeddings[indices] \n",
    "    embedding_labels_shuffle = embedding_labels[indices]\n",
    "\n",
    "    # Split to train and validation\n",
    "    train_embeddings = embeddings_shuffle[:idx_train]\n",
    "    train_labels = embedding_labels_shuffle[:idx_train]\n",
    "    validation_embeddings = embeddings_shuffle[idx_train:]\n",
    "    validation_labels = embedding_labels_shuffle[idx_train:]\n",
    "    \n",
    "    return train_embeddings, train_labels, validation_embeddings, validation_labels"
   ],
   "metadata": {
    "collapsed": false
   }
  },
  {
   "cell_type": "code",
   "execution_count": 183,
   "outputs": [
    {
     "name": "stdout",
     "output_type": "stream",
     "text": [
      "shape of embeddings: (216749, 767)\n",
      "shape of embedding_labels: (216749,)\n"
     ]
    }
   ],
   "source": [
    "# run if data was read from a csv\n",
    "embeddings = tcrb_embeddings\n",
    "embedding_labels = df_embeddings_with_label[gene_column]\n",
    "print(\"shape of embeddings: {}\\nshape of embedding_labels: {}\".format(embeddings.shape,embedding_labels.shape))"
   ],
   "metadata": {
    "collapsed": false
   }
  },
  {
   "cell_type": "code",
   "execution_count": 184,
   "outputs": [
    {
     "data": {
      "text/plain": "((173399, 767), (173399,), (43350, 767), (43350,))"
     },
     "execution_count": 184,
     "metadata": {},
     "output_type": "execute_result"
    }
   ],
   "source": [
    "train_embeddings, embed_train_labels, validation_embeddings, embed_validation_labels = split_train_test(embeddings, embedding_labels)\n",
    "train_embeddings.shape, embed_train_labels.shape, validation_embeddings.shape, embed_validation_labels.shape"
   ],
   "metadata": {
    "collapsed": false
   }
  },
  {
   "cell_type": "code",
   "execution_count": 185,
   "outputs": [
    {
     "data": {
      "text/plain": "(Counter({'TCRBJ02-05': 3323,\n          'TCRBJ01-02': 3345,\n          'TCRBJ02-06': 3418,\n          'TCRBJ01-06': 3321,\n          'TCRBJ02-03': 3326,\n          'TCRBJ01-04': 3280,\n          'TCRBJ01-03': 3360,\n          'TCRBJ02-07': 3302,\n          'TCRBJ02-01': 3363,\n          'TCRBJ02-02': 3361,\n          'TCRBJ02-04': 3323,\n          'TCRBJ01-05': 3292,\n          'TCRBJ01-01': 3336}),\n Counter({'TCRBJ01-05': 13381,\n          'TCRBJ02-03': 13347,\n          'TCRBJ02-07': 13371,\n          'TCRBJ01-02': 13328,\n          'TCRBJ01-04': 13393,\n          'TCRBJ01-03': 13313,\n          'TCRBJ02-06': 13255,\n          'TCRBJ01-01': 13337,\n          'TCRBJ02-04': 13350,\n          'TCRBJ02-05': 13350,\n          'TCRBJ02-01': 13310,\n          'TCRBJ02-02': 13312,\n          'TCRBJ01-06': 13352}))"
     },
     "execution_count": 185,
     "metadata": {},
     "output_type": "execute_result"
    }
   ],
   "source": [
    "# check for even distribution\n",
    "collections.Counter(embed_validation_labels), collections.Counter(embed_train_labels)"
   ],
   "metadata": {
    "collapsed": false
   }
  },
  {
   "cell_type": "code",
   "execution_count": 186,
   "outputs": [],
   "source": [
    "# convert string to integer\n",
    "def genes_to_num(labels):\n",
    "    labels_unique = np.unique(labels)\n",
    "    labels_to_num = pd.factorize(labels_unique)\n",
    "    return labels_to_num"
   ],
   "metadata": {
    "collapsed": false
   }
  },
  {
   "cell_type": "code",
   "execution_count": 187,
   "outputs": [],
   "source": [
    "genes_int_ratio = genes_to_num(embed_train_labels)\n",
    "# make dictionary of gene to integer\n",
    "gene_to_num_dictionary = dict(zip(genes_int_ratio[1], genes_int_ratio[0]))\n",
    "# convert embed_train_labels to integer using dictionary\n",
    "embed_train_labels_num = [gene_to_num_dictionary[gene] for gene in embed_train_labels]\n",
    "embed_val_labels_num = [gene_to_num_dictionary[gene] for gene in embed_validation_labels]"
   ],
   "metadata": {
    "collapsed": false
   }
  },
  {
   "cell_type": "markdown",
   "source": [
    "#### xgBoost on Embeddings\n",
    "Guide on xgBoost - https://towardsdatascience.com/beginners-guide-to-xgboost-for-classification-problems-50f75aac5390\n"
   ],
   "metadata": {
    "collapsed": false
   }
  },
  {
   "cell_type": "code",
   "execution_count": null,
   "outputs": [],
   "source": [
    "# feature scaling\n",
    "from sklearn.preprocessing import StandardScaler\n",
    "sc = StandardScaler()\n",
    "train_embeddings = sc.fit_transform(train_embeddings)\n",
    "validation_embeddings = sc.fit_transform(validation_embeddings)"
   ],
   "metadata": {
    "collapsed": false
   }
  },
  {
   "cell_type": "code",
   "execution_count": null,
   "outputs": [],
   "source": [
    "accuracy_dictionary['xgBoost'], xgb_preds, xgb_classifier = \\\n",
    "    lab_notebooks.utils.xgb_classify(train_embeddings, embed_train_labels_num, validation_embeddings, embed_val_labels_num)"
   ],
   "metadata": {
    "collapsed": false
   }
  },
  {
   "cell_type": "code",
   "execution_count": null,
   "outputs": [],
   "source": [
    "# if PLOT_J_GENE is 1 then the umap will be colored by the J genes, otherwise it will be colored by the private/public label\n",
    "PLOT_J_GENE = 1\n",
    "if gene_type=='J':\n",
    "    if PLOT_J_GENE==1:\n",
    "        color_label='jGeneName',\n",
    "        direct_label=False,\n",
    "        color_map = ListedColormap(sns.color_palette(\"Spectral\", 13))\n",
    "        cmap= color_map,\n",
    "        title=\"UMAP of Embeddings, Colored by J Genes\",\n",
    "        legend_size=4,\n",
    "        pdf_title=\"tcr_model_db_data_umap_j_genes.pdf\",\n",
    "    else:\n",
    "        color_label='Private_Public_label',\n",
    "        direct_label=False,\n",
    "        colors = ['gold', 'darkblue']\n",
    "        cmap=matplotlib.colors.ListedColormap(colors),\n",
    "        title=\"UMAP of Embeddings, Colored by Public/Private Label\",\n",
    "        legend_size=4,\n",
    "        pdf_title=\"tcr_model_db_data_umap_j_genes.pdf\",\n",
    "\n",
    "# Plot embeddings\n",
    "embed_wrap.plot_embedding(\n",
    "    anndata=tcrb_embeddings_adata,\n",
    "    color_embed=color_label,\n",
    "    color_map=cmap,\n",
    "    title=title,\n",
    "    legend_size=legend_size,\n",
    "    plot_pdf_path=os.path.join(PLOT_DIR, pdf_title),\n",
    ")"
   ],
   "metadata": {
    "collapsed": false
   }
  },
  {
   "cell_type": "markdown",
   "source": [
    "#### One-Hot Encoding"
   ],
   "metadata": {
    "collapsed": false
   }
  },
  {
   "cell_type": "code",
   "execution_count": 188,
   "outputs": [],
   "source": [
    "# Import Dependencies \n",
    "import pandas as pd\n",
    "import numpy as np\n",
    "\n",
    "# Function to encode sequences\n",
    "def encode_seq(sequence, max_cdr3_len):\n",
    "    alphabet = ['A', 'C', 'D', 'E', 'F', 'G','H', 'I', 'K', 'L', 'M', 'N', 'P', 'Q', 'R', 'S', 'T', 'V', 'W', 'Y']\n",
    "    char_to_int = dict((c, i) for i, c in enumerate(alphabet))\n",
    "    integer_encoded = [char_to_int[char] for char in sequence]\n",
    "    \n",
    "    # one hot encode\n",
    "    integer_encoded = torch.tensor(integer_encoded)\n",
    "    integer_encoded = F.one_hot(integer_encoded, num_classes=len(alphabet))\n",
    "    \n",
    "    # pad integer_encoded tensor first dim with zeros up to max_cdr3_len\n",
    "    integer_encoded = F.pad(integer_encoded, (0,0,0, max_cdr3_len - len(integer_encoded)))\n",
    "    integer_encoded = integer_encoded.numpy()\n",
    "    return integer_encoded"
   ],
   "metadata": {
    "collapsed": false
   }
  },
  {
   "cell_type": "code",
   "execution_count": 189,
   "outputs": [
    {
     "data": {
      "text/plain": "27"
     },
     "execution_count": 189,
     "metadata": {},
     "output_type": "execute_result"
    }
   ],
   "source": [
    "# extract sequences\n",
    "cdr3_sequences = df_embeddings_with_label['Sequences']#tcrb_data_sample['Sequences']\n",
    "sequences_labels = df_embeddings_with_label[gene_column]\n",
    "max_cdr3_len = cdr3_sequences.apply(len).max()\n",
    "max_cdr3_len"
   ],
   "metadata": {
    "collapsed": false
   }
  },
  {
   "cell_type": "code",
   "execution_count": 190,
   "outputs": [
    {
     "name": "stdout",
     "output_type": "stream",
     "text": [
      "shape of training set: (173399,)\n",
      "shape of validation set: (43350,)\n"
     ]
    }
   ],
   "source": [
    "# split data into train/test\n",
    "train_seqs, train_labels, validation_seqs, validation_labels = split_train_test(cdr3_sequences.to_numpy(), sequences_labels)\n",
    "print(\"shape of training set: {}\\nshape of validation set: {}\".format(train_seqs.shape, validation_seqs.shape))"
   ],
   "metadata": {
    "collapsed": false
   }
  },
  {
   "cell_type": "code",
   "execution_count": 191,
   "outputs": [],
   "source": [
    "import torch.nn.functional as F\n",
    "# encode amino acid sequences to one hot vector\n",
    "encoded_train_seqs = pd.Series(train_seqs).apply(lambda x: encode_seq(x, max_cdr3_len))\n",
    "encoded_validation_seqs = pd.Series(validation_seqs).apply(lambda x: encode_seq(x, max_cdr3_len))"
   ],
   "metadata": {
    "collapsed": false
   }
  },
  {
   "cell_type": "code",
   "execution_count": 192,
   "outputs": [
    {
     "data": {
      "text/plain": "((173399, 27, 20), (43350, 27, 20))"
     },
     "execution_count": 192,
     "metadata": {},
     "output_type": "execute_result"
    }
   ],
   "source": [
    "# Stack list(encoded_train_seqs) in dim 0\n",
    "train_seqs_stack = np.stack(encoded_train_seqs, axis=0)\n",
    "valid_seqs_stack = np.stack(encoded_validation_seqs, axis=0)\n",
    "train_seqs_stack.shape, valid_seqs_stack.shape"
   ],
   "metadata": {
    "collapsed": false
   }
  },
  {
   "cell_type": "code",
   "execution_count": 193,
   "outputs": [
    {
     "data": {
      "text/plain": "((173399, 540), (43350, 540))"
     },
     "execution_count": 193,
     "metadata": {},
     "output_type": "execute_result"
    }
   ],
   "source": [
    "# reshape train/validation tensors\n",
    "train_seqs_stack = train_seqs_stack.reshape(train_seqs_stack.shape[0], -1)\n",
    "valid_seqs_stack = valid_seqs_stack.reshape(valid_seqs_stack.shape[0], -1)\n",
    "train_seqs_stack.shape, valid_seqs_stack.shape"
   ],
   "metadata": {
    "collapsed": false
   }
  },
  {
   "cell_type": "code",
   "execution_count": 194,
   "outputs": [],
   "source": [
    "genes_int_ratio = genes_to_num(train_labels)\n",
    "# make dictionary of gene to integer\n",
    "gene_to_num_dictionary = dict(zip(genes_int_ratio[1], genes_int_ratio[0]))\n",
    "# convert embed_train_labels to integer using dictionary\n",
    "train_labels_num = [gene_to_num_dictionary[gene] for gene in train_labels]\n",
    "val_labels_num = [gene_to_num_dictionary[gene] for gene in validation_labels]"
   ],
   "metadata": {
    "collapsed": false
   }
  },
  {
   "cell_type": "markdown",
   "source": [
    "#### xgBoost on One-Hot Encoding"
   ],
   "metadata": {
    "collapsed": false
   }
  },
  {
   "cell_type": "code",
   "execution_count": 40,
   "outputs": [],
   "source": [
    "# apply xgb on onehot, extract accuracy\n",
    "accuracy_dictionary['xgBoost_OneHot'], xgb_preds_onehot, xgb_classifier_onehot =\\\n",
    "    lab_notebooks.utils.xgb_classify(train_seqs_stack, train_labels_num, valid_seqs_stack, val_labels_num)"
   ],
   "metadata": {
    "collapsed": false
   }
  },
  {
   "cell_type": "markdown",
   "source": [
    "### LDA"
   ],
   "metadata": {
    "collapsed": false
   }
  },
  {
   "cell_type": "code",
   "execution_count": 41,
   "outputs": [
    {
     "data": {
      "text/plain": "98.54440599769319"
     },
     "execution_count": 41,
     "metadata": {},
     "output_type": "execute_result"
    }
   ],
   "source": [
    "accuracy_dictionary[\"LDA\"], lda_preds, lda_classifier = lab_notebooks.utils.lda_classify(train_embeddings,embed_train_labels_num, validation_embeddings, embed_val_labels_num)\n",
    "accuracy_dictionary[\"LDA\"]"
   ],
   "metadata": {
    "collapsed": false
   }
  },
  {
   "cell_type": "markdown",
   "source": [
    "### LDA oneHot"
   ],
   "metadata": {
    "collapsed": false
   }
  },
  {
   "cell_type": "code",
   "execution_count": 42,
   "outputs": [
    {
     "ename": "NameError",
     "evalue": "name 'acc_lda' is not defined",
     "output_type": "error",
     "traceback": [
      "\u001B[0;31m---------------------------------------------------------------------------\u001B[0m",
      "\u001B[0;31mNameError\u001B[0m                                 Traceback (most recent call last)",
      "Input \u001B[0;32mIn [42]\u001B[0m, in \u001B[0;36m<cell line: 4>\u001B[0;34m()\u001B[0m\n\u001B[1;32m      1\u001B[0m \u001B[38;5;28;01mimport\u001B[39;00m \u001B[38;5;21;01mlab_notebooks\u001B[39;00m\u001B[38;5;21;01m.\u001B[39;00m\u001B[38;5;21;01mutils\u001B[39;00m\n\u001B[1;32m      2\u001B[0m accuracy_dictionary[\u001B[38;5;124m'\u001B[39m\u001B[38;5;124mLDA_OneHot\u001B[39m\u001B[38;5;124m'\u001B[39m], lda_preds_onehot, lda_classifier_onehot \u001B[38;5;241m=\u001B[39m\\\n\u001B[1;32m      3\u001B[0m     lab_notebooks\u001B[38;5;241m.\u001B[39mutils\u001B[38;5;241m.\u001B[39mlda_classify(train_seqs_stack, train_labels_num, valid_seqs_stack, val_labels_num)\n\u001B[0;32m----> 4\u001B[0m \u001B[43macc_lda\u001B[49m\n",
      "\u001B[0;31mNameError\u001B[0m: name 'acc_lda' is not defined"
     ]
    }
   ],
   "source": [
    "import lab_notebooks.utils\n",
    "accuracy_dictionary['LDA_OneHot'], lda_preds_onehot, lda_classifier_onehot =\\\n",
    "    lab_notebooks.utils.lda_classify(train_seqs_stack, train_labels_num, valid_seqs_stack, val_labels_num)"
   ],
   "metadata": {
    "collapsed": false
   }
  },
  {
   "cell_type": "markdown",
   "source": [
    "### Plot Results"
   ],
   "metadata": {
    "collapsed": false
   }
  },
  {
   "cell_type": "code",
   "execution_count": 54,
   "outputs": [],
   "source": [
    "res_dic = {'model' : ['xgBoost', 'xgBoost', 'xgBoost',\n",
    "            'xgBoost_OneHot', 'xgBoost_OneHot', 'xgBoost_OneHot',\n",
    "            'LDA','LDA','LDA', 'LDA_OneHot','LDA_OneHot','LDA_OneHot'],\n",
    "            'accuracy': [98.34, 98.39, 98.47, 98.2, 98.37, 98.26, 98.4, 98.45, 98.54, 94.9, 94.86, 94.74]}"
   ],
   "metadata": {
    "collapsed": false
   }
  },
  {
   "cell_type": "code",
   "execution_count": 71,
   "outputs": [
    {
     "data": {
      "text/plain": "<Figure size 720x432 with 1 Axes>",
      "image/png": "[encoded data removed]"
     },
     "metadata": {},
     "output_type": "display_data"
    }
   ],
   "source": [
    "# barplot of accuracy with error bars\n",
    "df = pd.DataFrame(res_dic)\n",
    "df = df.sort_values(by='accuracy', ascending=False)\n",
    "df = df.reset_index(drop=True)\n",
    "df\n",
    "# plot\n",
    "fig, ax = plt.subplots(figsize=(10,6))\n",
    "sns.barplot(x='model', y='accuracy', data=df, ax=ax, palette=\"flare\",capsize=.2)\n",
    "# ax.set_title('Accuracy of different classification models')\n",
    "ax.set_ylabel('Accuracy (%)')\n",
    "ax.set_xlabel('Model')\n",
    "ax.set_ylim(94, 100)\n",
    "plt.show()"
   ],
   "metadata": {
    "collapsed": false
   }
  },
  {
   "cell_type": "code",
   "execution_count": null,
   "outputs": [],
   "source": [
    "res_dic_1 = {'xgBoost': [98.34, 98.39, 98.47],\n",
    "             'xgBoost_OneHot': [98.2, 98.37, 98.26],\n",
    "             'LDA': [98.4, 98.45, 98.54],\n",
    "             'LDA_OneHot': [94.9, 94.86, 94.74]}"
   ],
   "metadata": {
    "collapsed": false
   }
  },
  {
   "cell_type": "code",
   "execution_count": 70,
   "outputs": [
    {
     "data": {
      "text/plain": "{'xgBoost': 98.40000000000002,\n 'xgBoost_OneHot': 98.27666666666666,\n 'LDA': 98.46333333333335,\n 'LDA_OneHot': 94.83333333333333}"
     },
     "execution_count": 70,
     "metadata": {},
     "output_type": "execute_result"
    }
   ],
   "source": [
    "# calculate mean accuracy for each model\n",
    "res_dic_avg = {key: np.mean(value) for key, value in res_dic_1.items()}\n",
    "res_dic_avg"
   ],
   "metadata": {
    "collapsed": false
   }
  },
  {
   "cell_type": "markdown",
   "source": [
    "## Deep Neural Network"
   ],
   "metadata": {
    "collapsed": false
   }
  },
  {
   "cell_type": "markdown",
   "source": [
    "#### Deep Learning Model on Embeddings"
   ],
   "metadata": {
    "collapsed": false
   }
  },
  {
   "cell_type": "code",
   "execution_count": 195,
   "outputs": [],
   "source": [
    "# set flag to run with onehot\n",
    "DNN_ONEHOT = 1"
   ],
   "metadata": {
    "collapsed": false
   }
  },
  {
   "cell_type": "code",
   "execution_count": 196,
   "outputs": [],
   "source": [
    "# defining dataset class\n",
    "from torch.utils.data import Dataset, DataLoader\n",
    "class dataset(Dataset):\n",
    "    def __init__(self,x, y):\n",
    "        # self.x = torch.tensor(x, dtype=torch.float32).to('cuda')\n",
    "        # self.y = torch.tensor(y, dtype=torch.float32).to('cuda')\n",
    "        self.x = torch.tensor(x, dtype=torch.float32)\n",
    "        self.y = torch.tensor(y, dtype=torch.float32)\n",
    "        self.length = self.x.shape[0]\n",
    "        assert self.x.shape[0] == self.y.shape[0]\n",
    "        \n",
    "    def __getitem__(self, idx):\n",
    "        return self.x[idx], self.y[idx]\n",
    "    \n",
    "    def __len__(self):\n",
    "        return self.length"
   ],
   "metadata": {
    "collapsed": false
   }
  },
  {
   "cell_type": "code",
   "execution_count": 197,
   "outputs": [],
   "source": [
    "BATCH_SIZE = 1024\n",
    "\n",
    "# create datasets\n",
    "if DNN_ONEHOT==0:\n",
    "    trainset = dataset(train_embeddings, embed_train_labels_num)\n",
    "    validset = dataset(validation_embeddings, embed_val_labels_num)\n",
    "else:\n",
    "    trainset = dataset(train_seqs_stack, train_labels_num)\n",
    "    validset = dataset(valid_seqs_stack, val_labels_num)\n",
    "\n",
    "# DataLoader with 10 workers\n",
    "trainloader = DataLoader(trainset, batch_size=BATCH_SIZE, shuffle=True, num_workers=10, pin_memory=True)\n",
    "validloader = DataLoader(validset, batch_size=BATCH_SIZE, num_workers=10, pin_memory=True)"
   ],
   "metadata": {
    "collapsed": false
   }
  },
  {
   "cell_type": "code",
   "execution_count": 198,
   "outputs": [],
   "source": [
    "#defining the network\n",
    "from torch import nn\n",
    "from torch.nn import functional as F\n",
    "\n",
    "class Net(nn.Module):\n",
    "    def __init__(self, input_shape, num_classes=len(collections.Counter(gene_data_edit[gene_column]))):\n",
    "        super(Net,self).__init__()\n",
    "        self.fc1 = nn.Linear(input_shape,64)\n",
    "        self.fc2 = nn.Linear(64,32)\n",
    "        self.fc3 = nn.Linear(32,num_classes)\n",
    "\n",
    "    def forward(self,x):\n",
    "        x = torch.relu(self.fc1(x))\n",
    "        x = torch.relu(self.fc2(x))\n",
    "        x = self.fc3(x)\n",
    "        return x"
   ],
   "metadata": {
    "collapsed": false
   }
  },
  {
   "cell_type": "code",
   "execution_count": 199,
   "outputs": [],
   "source": [
    "# hyper parameters\n",
    "learning_rate = 0.00001\n",
    "\n",
    "# set input shape\n",
    "input_shape = train_embeddings.shape[1]\n",
    "if DNN_ONEHOT:\n",
    "    input_shape = train_seqs_stack.shape[1]\n",
    "\n",
    "# Model , Optimizer, Loss\n",
    "device = 'cpu'\n",
    "model = Net(input_shape=input_shape).to(device)\n",
    "optimizer = torch.optim.Adam(model.parameters(),lr=learning_rate)"
   ],
   "metadata": {
    "collapsed": false
   }
  },
  {
   "cell_type": "code",
   "execution_count": 200,
   "outputs": [
    {
     "name": "stdout",
     "output_type": "stream",
     "text": [
      "6\n"
     ]
    }
   ],
   "source": [
    "params = list(model.parameters())\n",
    "print(len(params))"
   ],
   "metadata": {
    "collapsed": false
   }
  },
  {
   "cell_type": "code",
   "execution_count": 201,
   "outputs": [],
   "source": [
    "# calculate accuracy multi-class\n",
    "def calculate_accuracy(y_pred, y_test):\n",
    "    y_pred_tag = torch.argmax(y_pred, dim=1)\n",
    "    correct_results_sum = (y_pred_tag == y_test).sum().float()\n",
    "    acc = correct_results_sum/y_test.shape[0]\n",
    "    acc = torch.round(acc * 100)\n",
    "    return acc"
   ],
   "metadata": {
    "collapsed": false
   }
  },
  {
   "cell_type": "code",
   "execution_count": 202,
   "outputs": [],
   "source": [
    "def train_classify(model, trainloader, optimizer):\n",
    "    epoch_loss = 0\n",
    "    epoch_acc = 0\n",
    "    count = 0\n",
    "    model.train()\n",
    "    for train_embedding, train_label in tqdm.notebook.tqdm(trainloader, total=len(trainloader)):\n",
    "        # option to move train_embedding, train_label to gpu here\n",
    "        # calculate output\n",
    "        train_embedding, train_label =  train_embedding.to(device), train_label.to(device)\n",
    "        output = model(train_embedding)\n",
    "\n",
    "        # calculate loss\n",
    "        loss = F.cross_entropy(output, train_label.reshape(-1).long())\n",
    "        \n",
    "        # accuracy\n",
    "        acc = calculate_accuracy(output, train_label)\n",
    "        \n",
    "        # backprop\n",
    "        optimizer.zero_grad() \n",
    "        loss.backward()\n",
    "        optimizer.step()\n",
    "\n",
    "        epoch_loss += loss.item()\n",
    "        epoch_acc += acc.item()\n",
    "        count += len(train_label)\n",
    "    return epoch_loss / len(trainloader), epoch_acc / len(trainloader)"
   ],
   "metadata": {
    "collapsed": false
   }
  },
  {
   "cell_type": "code",
   "execution_count": 203,
   "outputs": [],
   "source": [
    "def evaluate_classify(model, validloader): \n",
    "    epoch_loss = 0\n",
    "    epoch_acc = 0\n",
    "    count = 0\n",
    "    model.eval()\n",
    "    label_list = []\n",
    "    pred_label_list = []\n",
    "    with torch.no_grad(): \n",
    "        for valid_embedding, valid_label in tqdm.notebook.tqdm(validloader, total=len(validloader)):\n",
    "            # option to move valid_embedding, valid_label to gpu here\n",
    "            valid_embedding, valid_label = valid_embedding.to(device), valid_label.to(device)\n",
    "            # calculate output\n",
    "            output = model(valid_embedding)\n",
    "\n",
    "            # calculate loss\n",
    "            loss = F.cross_entropy(output, valid_label.reshape(-1).long())\n",
    "\n",
    "            # accuracy\n",
    "            acc = calculate_accuracy(output, valid_label)\n",
    "            \n",
    "            # add to lists for confusion matrixv\n",
    "            label_list.append(valid_label.cpu())\n",
    "            pred_label_list.append(output.cpu())\n",
    "            \n",
    "            #acc = calculate_accuracy(output, valid_label)\n",
    "            epoch_loss += loss.item()\n",
    "            epoch_acc += acc.item()\n",
    "            count += len(valid_label)\n",
    "    return (epoch_loss / len(validloader), epoch_acc / len(validloader),\n",
    "            torch.cat(label_list, dim=0), \n",
    "            torch.cat(pred_label_list, dim=0))"
   ],
   "metadata": {
    "collapsed": false
   }
  },
  {
   "cell_type": "code",
   "execution_count": 204,
   "outputs": [
    {
     "data": {
      "text/plain": "<Figure size 864x864 with 4 Axes>",
      "image/png": "[encoded data removed]"
     },
     "metadata": {},
     "output_type": "display_data"
    },
    {
     "name": "stdout",
     "output_type": "stream",
     "text": [
      "train accuracy\n",
      "\ttrain accuracy   \t (min:    7.688, max:   89.735, cur:   89.735)\n",
      "train loss\n",
      "\ttrain loss       \t (min:    0.609, max:    2.569, cur:    0.609)\n",
      "validation accuracy\n",
      "\tvalidation accuracy \t (min:    7.698, max:   89.977, cur:   89.977)\n",
      "validation loss\n",
      "\tvalidation loss  \t (min:    0.603, max:    2.566, cur:    0.603)\n"
     ]
    }
   ],
   "source": [
    "from livelossplot import PlotLosses\n",
    "liveloss1_class = PlotLosses()\n",
    "logs_class = {}\n",
    "EPOCHS=80\n",
    "\n",
    "for epoch in range(EPOCHS):\n",
    "    print('starting epoch {}'.format(epoch))\n",
    "    train_loss, train_acc = train_classify(model, trainloader, optimizer)\n",
    "    print('Epoch {} of {}, Train Loss: {:.3f}'.format(\n",
    "            epoch+1, EPOCHS, train_loss))\n",
    "    \n",
    "    print('Epoch {} of {}, Train Accuracy: {:.3f}'.format(\n",
    "          epoch+1, EPOCHS, train_acc))\n",
    "    \n",
    "    logs_class['train loss'] = train_loss\n",
    "    logs_class['train accuracy'] = train_acc\n",
    "\n",
    "    valid_loss, valid_acc, label_list, pred_label_list  = evaluate_classify(model, validloader)\n",
    "    print('Epoch {} of {}, Validate Loss: {:.3f}'.format(\n",
    "        epoch+1, EPOCHS, valid_loss))\n",
    "    \n",
    "    print('Epoch {} of {}, Validate Accuracy: {:.3f}'.format(\n",
    "        epoch+1, EPOCHS, valid_acc))\n",
    "\n",
    "    logs_class['validation loss'] = valid_loss\n",
    "    logs_class['validation accuracy'] = valid_acc\n",
    "        \n",
    "    liveloss1_class.update(logs_class)\n",
    "    liveloss1_class.send()"
   ],
   "metadata": {
    "collapsed": false
   }
  },
  {
   "cell_type": "code",
   "execution_count": 210,
   "outputs": [
    {
     "data": {
      "text/plain": "<Figure size 720x432 with 1 Axes>",
      "image/png": "[encoded data removed]"
     },
     "metadata": {},
     "output_type": "display_data"
    }
   ],
   "source": [
    "# dictionary\n",
    "dnn_dic = {'model' : ['DNN', 'DNN', 'DNN',\n",
    "                      'DNN_OneHot', 'DNN_OneHot', 'DNN_OneHot'],\n",
    "           'accuracy': [98.7, 98.6, 98.412,89.7, 90.8,  90.82]}\n",
    "\n",
    "# barplot of accuracy with error bars\n",
    "df = pd.DataFrame(dnn_dic)\n",
    "df = df.sort_values(by='accuracy', ascending=False)\n",
    "df = df.reset_index(drop=True)\n",
    "df\n",
    "# plot\n",
    "fig, ax = plt.subplots(figsize=(10,6))\n",
    "sns.barplot(x='model', y='accuracy', data=df, ax=ax, palette=\"flare\",capsize=.2)\n",
    "# ax.set_title('Accuracy of different classification models')\n",
    "ax.set_ylabel('Accuracy (%)')\n",
    "ax.set_xlabel('Model')\n",
    "ax.set_ylim(85, 100)\n",
    "plt.show()"
   ],
   "metadata": {
    "collapsed": false
   }
  },
  {
   "cell_type": "code",
   "execution_count": 212,
   "outputs": [
    {
     "data": {
      "text/plain": "{'DNN': 98.57066666666667, 'DNN_OneHot': 90.44}"
     },
     "execution_count": 212,
     "metadata": {},
     "output_type": "execute_result"
    }
   ],
   "source": [
    "dnn_dic_1 = {'DNN': [98.7, 98.6, 98.412],\n",
    "             'DNN_OneHot': [89.7, 90.8,90.82]}\n",
    "\n",
    "\n",
    "# calculate mean accuracy for each model\n",
    "res_dnn_avg = {key: np.mean(value) for key, value in dnn_dic_1.items()}\n",
    "res_dnn_avg"
   ],
   "metadata": {
    "collapsed": false
   }
  },
  {
   "cell_type": "code",
   "execution_count": 92,
   "outputs": [],
   "source": [],
   "metadata": {
    "collapsed": false
   }
  }
 ],
 "metadata": {
  "kernelspec": {
   "display_name": "Python 3",
   "language": "python",
   "name": "python3"
  },
  "language_info": {
   "codemirror_mode": {
    "name": "ipython",
    "version": 3
   },
   "file_extension": ".py",
   "mimetype": "text/x-python",
   "name": "python",
   "nbconvert_exporter": "python",
   "pygments_lexer": "ipython3",
   "version": "3.9.2"
  }
 },
 "nbformat": 4,
 "nbformat_minor": 5
}
