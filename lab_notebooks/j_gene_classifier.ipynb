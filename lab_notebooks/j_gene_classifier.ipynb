{
 "cells": [
  {
   "cell_type": "markdown",
   "source": [
    "#### Multiclass Classification of J Gene Type\n",
    "Classify the J Gene of a given CDR3 sequence using different machine/deep learning models and compare the results.\n",
    "The input CDR3 sequences are either embedded using CVC (or other language model) or converted to one-hot encoding."
   ],
   "metadata": {
    "collapsed": false
   }
  },
  {
   "cell_type": "code",
   "execution_count": 7,
   "id": "563a8d23-e24b-4cb5-8cea-5c6f52f66473",
   "metadata": {},
   "outputs": [
    {
     "name": "stdout",
     "output_type": "stream",
     "text": [
      "/home/ubuntu\n"
     ]
    }
   ],
   "source": [
    "cd .."
   ]
  },
  {
   "cell_type": "markdown",
   "source": [
    "#### Set Environment"
   ],
   "metadata": {
    "collapsed": false
   }
  },
  {
   "cell_type": "code",
   "execution_count": 8,
   "outputs": [],
   "source": [
    "# change current working directory to /home/ubuntu/CVC\n",
    "os.chdir('/home/ubuntu/CVC')"
   ],
   "metadata": {
    "collapsed": false
   }
  },
  {
   "cell_type": "code",
   "execution_count": 2,
   "id": "131cbe9c-6069-4645-b71f-7bb33715697f",
   "metadata": {},
   "outputs": [],
   "source": [
    "%load_ext autoreload\n",
    "%autoreload 2"
   ]
  },
  {
   "cell_type": "code",
   "execution_count": 3,
   "id": "91824dd6-d4fd-44d9-8354-f219b37f075b",
   "metadata": {
    "cell_id": "00001-55732162-ceaf-44b6-b0f9-62861608b761",
    "deepnote_cell_height": 1117.875,
    "deepnote_cell_type": "code",
    "deepnote_output_heights": [
     null,
     21.1875
    ],
    "deepnote_to_be_reexecuted": false,
    "execution_millis": 2706,
    "execution_start": 1645287607716,
    "source_hash": "cc7135c9"
   },
   "outputs": [
    {
     "name": "stderr",
     "output_type": "stream",
     "text": [
      "2023-11-14 10:44:31.153750: I tensorflow/core/util/port.cc:110] oneDNN custom operations are on. You may see slightly different numerical results due to floating-point round-off errors from different computation orders. To turn them off, set the environment variable `TF_ENABLE_ONEDNN_OPTS=0`.\n",
      "2023-11-14 10:44:31.155518: I tensorflow/tsl/cuda/cudart_stub.cc:28] Could not find cuda drivers on your machine, GPU will not be used.\n",
      "2023-11-14 10:44:31.193277: I tensorflow/core/platform/cpu_feature_guard.cc:182] This TensorFlow binary is optimized to use available CPU instructions in performance-critical operations.\n",
      "To enable the following instructions: AVX2 AVX512F AVX512_VNNI FMA, in other operations, rebuild TensorFlow with the appropriate compiler flags.\n",
      "2023-11-14 10:44:31.914651: W tensorflow/compiler/tf2tensorrt/utils/py_utils.cc:38] TF-TRT Warning: Could not find TensorRT\n"
     ]
    },
    {
     "data": {
      "text/plain": "'plots/CDR3_data_plots'"
     },
     "execution_count": 3,
     "metadata": {},
     "output_type": "execute_result"
    }
   ],
   "source": [
    "import os, sys\n",
    "import collections\n",
    "import lab_notebooks.utils\n",
    "import matplotlib.pyplot as plt\n",
    "import tqdm\n",
    "import pandas as pd\n",
    "import matplotlib\n",
    "from matplotlib.colors import ListedColormap\n",
    "import seaborn as sns\n",
    "import numpy as np\n",
    "import torch\n",
    "\n",
    "from cvc.embbeding_wrapper import EmbeddingWrapper\n",
    "\n",
    "SRC_DIR = \"cvc\"\n",
    "assert os.path.isdir(SRC_DIR), f\"Cannot find src dir: {SRC_DIR}\"\n",
    "sys.path.append(SRC_DIR)\n",
    "from cvc import model_utils\n",
    "from cvc import plot_utils\n",
    "from lab_notebooks.utils import TRANSFORMER, DEVICE, DATA_DIR\n",
    "MODEL_DIR = os.path.join(SRC_DIR, \"models\")\n",
    "sys.path.append(MODEL_DIR)\n",
    "\n",
    "FILT_EDIT_DIST = True\n",
    "\n",
    "PLOT_DIR = os.path.join(os.path.dirname(SRC_DIR), \"plots/CDR3_data_plots\")\n",
    "if not os.path.isdir(PLOT_DIR):\n",
    "    os.makedirs(PLOT_DIR)\n",
    "PLOT_DIR"
   ]
  },
  {
   "cell_type": "markdown",
   "id": "fba0ce0b",
   "metadata": {},
   "source": [
    "#### Load Data"
   ]
  },
  {
   "cell_type": "code",
   "execution_count": 55,
   "outputs": [],
   "source": [
    "gene_type = 'J' #'V'\n",
    "gene_column = 'jGeneName' #'vGeneName'\n",
    "load_csv = True\n",
    "EMBEDDING_TO_PLOT = 'CVC' #'CVC' #'TCR-BERT' #'ESM'"
   ],
   "metadata": {
    "collapsed": false
   }
  },
  {
   "cell_type": "code",
   "execution_count": 79,
   "outputs": [],
   "source": [
    "if gene_type == 'J':\n",
    "    data_dir = DATA_DIR + \"j_gene_embeddings.csv\"\n",
    "    data_dir_full = DATA_DIR + 'jgene_embed_full_data.csv'\n",
    "    gene_column = 'jGeneName'\n",
    "    output_path = './jgene_data_embeddings_with_label_and_sequence.csv'\n",
    "    input_path = './jgene_data_embeddings_with_label_and_sequence.csv'\n",
    "else:\n",
    "    data_dir = DATA_DIR + \"v_gene_embeddings.csv\"\n",
    "    data_dir_full = DATA_DIR + 'vgene_public_specific_data.csv'\n",
    "        #'vgene_data_classfy1.csv' #vgene_embed_full_data.csv'\n",
    "    gene_column = 'vGeneName'\n",
    "    output_path = './vgene_public_specific_data_embeddings_with_label_and_sequence.csv'\n",
    "    input_path = './vgene_data_embeddings_with_label_and_sequence.csv'"
   ],
   "metadata": {
    "collapsed": false
   }
  },
  {
   "cell_type": "code",
   "execution_count": null,
   "id": "f7f68021-d2be-4beb-8bc0-a220e8bd41e0",
   "metadata": {
    "pycharm": {
     "is_executing": true
    }
   },
   "outputs": [],
   "source": [
    "# read data\n",
    "gene_data = pd.read_csv(data_dir_full, engine=\"pyarrow\")\n",
    "gene_data = gene_data[['Sequences', 'Appearances', 'Private_Public_label', gene_column]]"
   ]
  },
  {
   "cell_type": "code",
   "execution_count": 9,
   "outputs": [
    {
     "data": {
      "text/plain": "Counter({'TCRBJ02-03': 102612,\n         'TCRBJ02-07': 160321,\n         'TCRBJ01-01': 123659,\n         'TCRBJ02-05': 83612,\n         'TCRBJ02-02': 73979,\n         'TCRBJ01-05': 79326,\n         'TCRBJ01-02': 127798,\n         'TCRBJ02-01': 148422,\n         'TCRBJ01-03': 39829,\n         'TCRBJ02-06': 17070,\n         'TCRBJ01-06': 52723,\n         'TCRBJ01-04': 51858,\n         'TCRBJ02-04': 18327})"
     },
     "execution_count": 9,
     "metadata": {},
     "output_type": "execute_result"
    }
   ],
   "source": [
    "collections.Counter(gene_data[gene_column])"
   ],
   "metadata": {
    "collapsed": false
   }
  },
  {
   "cell_type": "markdown",
   "id": "fb78feaa",
   "metadata": {},
   "source": [
    "#### Create subset with equall distribution of genes"
   ]
  },
  {
   "cell_type": "code",
   "execution_count": null,
   "outputs": [],
   "source": [
    "# extract sequences that do not have *\n",
    "gene_data_to_use = [seq for seq in gene_data['Sequences'] if '*' not in seq]\n",
    "len(gene_data_to_use)"
   ],
   "metadata": {
    "collapsed": false,
    "pycharm": {
     "is_executing": true
    }
   }
  },
  {
   "cell_type": "code",
   "execution_count": 60,
   "outputs": [],
   "source": [
    "gene_data_edit = gene_data"
   ],
   "metadata": {
    "collapsed": false
   }
  },
  {
   "cell_type": "code",
   "execution_count": null,
   "outputs": [],
   "source": [
    "# leave the sequences that do not have *\n",
    "gene_data_edit = gene_data_edit.loc[gene_data_edit['Sequences'].isin(gene_data_to_use)]\n",
    "len(gene_data_edit)"
   ],
   "metadata": {
    "collapsed": false,
    "pycharm": {
     "is_executing": true
    }
   }
  },
  {
   "cell_type": "code",
   "execution_count": null,
   "outputs": [],
   "source": [
    "# convert label column to numpy array\n",
    "gene_label_array = gene_data_edit[gene_column].to_numpy()\n",
    "print(gene_label_array)"
   ],
   "metadata": {
    "collapsed": false,
    "pycharm": {
     "is_executing": true
    }
   }
  },
  {
   "cell_type": "code",
   "execution_count": 65,
   "outputs": [
    {
     "data": {
      "text/plain": "                              Sequences   jGeneName  Private_Public_label\njGeneName                                                                \nTCRBJ02-07 140301         CASSYDTPYEQYF  TCRBJ02-07                     1\n           13427         CASRSTASSYEQYF  TCRBJ02-07                     1\n           366344      CASSLGDSRLIYEQYF  TCRBJ02-07                     0\n           355881         CSVGLTGTSEQYF  TCRBJ02-07                     0\n           6611              CASTLCEQYF  TCRBJ02-07                     1\n...                                 ...         ...                   ...\nTCRBJ02-06 321357      CASSFHVNYGANVLTF  TCRBJ02-06                     0\n           48841         CATNGGPGANVLTF  TCRBJ02-06                     1\n           336981  CASSAQGGGSRGSGANVLTF  TCRBJ02-06                     0\n           103347       CSARDGVAGANVLTF  TCRBJ02-06                     1\n           46678        CASTLPGVGANVLTF  TCRBJ02-06                     1\n\n[92573 rows x 3 columns]",
      "text/html": "<div>\n<style scoped>\n    .dataframe tbody tr th:only-of-type {\n        vertical-align: middle;\n    }\n\n    .dataframe tbody tr th {\n        vertical-align: top;\n    }\n\n    .dataframe thead th {\n        text-align: right;\n    }\n</style>\n<table border=\"1\" class=\"dataframe\">\n  <thead>\n    <tr style=\"text-align: right;\">\n      <th></th>\n      <th></th>\n      <th>Sequences</th>\n      <th>jGeneName</th>\n      <th>Private_Public_label</th>\n    </tr>\n    <tr>\n      <th>jGeneName</th>\n      <th></th>\n      <th></th>\n      <th></th>\n      <th></th>\n    </tr>\n  </thead>\n  <tbody>\n    <tr>\n      <th rowspan=\"5\" valign=\"top\">TCRBJ02-07</th>\n      <th>140301</th>\n      <td>CASSYDTPYEQYF</td>\n      <td>TCRBJ02-07</td>\n      <td>1</td>\n    </tr>\n    <tr>\n      <th>13427</th>\n      <td>CASRSTASSYEQYF</td>\n      <td>TCRBJ02-07</td>\n      <td>1</td>\n    </tr>\n    <tr>\n      <th>366344</th>\n      <td>CASSLGDSRLIYEQYF</td>\n      <td>TCRBJ02-07</td>\n      <td>0</td>\n    </tr>\n    <tr>\n      <th>355881</th>\n      <td>CSVGLTGTSEQYF</td>\n      <td>TCRBJ02-07</td>\n      <td>0</td>\n    </tr>\n    <tr>\n      <th>6611</th>\n      <td>CASTLCEQYF</td>\n      <td>TCRBJ02-07</td>\n      <td>1</td>\n    </tr>\n    <tr>\n      <th>...</th>\n      <th>...</th>\n      <td>...</td>\n      <td>...</td>\n      <td>...</td>\n    </tr>\n    <tr>\n      <th rowspan=\"5\" valign=\"top\">TCRBJ02-06</th>\n      <th>321357</th>\n      <td>CASSFHVNYGANVLTF</td>\n      <td>TCRBJ02-06</td>\n      <td>0</td>\n    </tr>\n    <tr>\n      <th>48841</th>\n      <td>CATNGGPGANVLTF</td>\n      <td>TCRBJ02-06</td>\n      <td>1</td>\n    </tr>\n    <tr>\n      <th>336981</th>\n      <td>CASSAQGGGSRGSGANVLTF</td>\n      <td>TCRBJ02-06</td>\n      <td>0</td>\n    </tr>\n    <tr>\n      <th>103347</th>\n      <td>CSARDGVAGANVLTF</td>\n      <td>TCRBJ02-06</td>\n      <td>1</td>\n    </tr>\n    <tr>\n      <th>46678</th>\n      <td>CASTLPGVGANVLTF</td>\n      <td>TCRBJ02-06</td>\n      <td>1</td>\n    </tr>\n  </tbody>\n</table>\n<p>92573 rows × 3 columns</p>\n</div>"
     },
     "execution_count": 65,
     "metadata": {},
     "output_type": "execute_result"
    }
   ],
   "source": [
    "# get minimum count\n",
    "min_value = min(collections.Counter(gene_data_edit[gene_column]).values())\n",
    "# sample from each group according to minimum count\n",
    "sampled_data = gene_data_edit.groupby(gene_column, sort=False).apply(lambda x: x.sample(min_value))\n",
    "sampled_data"
   ],
   "metadata": {
    "collapsed": false
   }
  },
  {
   "cell_type": "code",
   "execution_count": 66,
   "outputs": [
    {
     "data": {
      "text/plain": "Counter({'TCRBJ02-07': 7121,\n         'TCRBJ02-02': 7121,\n         'TCRBJ02-01': 7121,\n         'TCRBJ02-05': 7121,\n         'TCRBJ01-02': 7121,\n         'TCRBJ01-01': 7121,\n         'TCRBJ02-03': 7121,\n         'TCRBJ01-06': 7121,\n         'TCRBJ02-04': 7121,\n         'TCRBJ01-05': 7121,\n         'TCRBJ01-04': 7121,\n         'TCRBJ01-03': 7121,\n         'TCRBJ02-06': 7121})"
     },
     "execution_count": 66,
     "metadata": {},
     "output_type": "execute_result"
    }
   ],
   "source": [
    "collections.Counter(sampled_data[gene_column])"
   ],
   "metadata": {
    "collapsed": false
   }
  },
  {
   "cell_type": "markdown",
   "source": [
    "#### Create Embeddings"
   ],
   "metadata": {
    "collapsed": false
   }
  },
  {
   "cell_type": "code",
   "execution_count": null,
   "outputs": [],
   "source": [
    "# Create embeddings\n",
    "embed_wrap = EmbeddingWrapper(TRANSFORMER, DEVICE, sampled_data, batch_size=1024, method=\"mean\", layers=[-1])\n",
    "embed_wrap.embeddings.shape"
   ],
   "metadata": {
    "collapsed": false,
    "pycharm": {
     "is_executing": true
    }
   }
  },
  {
   "cell_type": "code",
   "execution_count": null,
   "outputs": [],
   "source": [
    "# create anndata object\n",
    "tcrb_embeddings_adata = embed_wrap.create_anndata()\n",
    "df_embeddings = pd.DataFrame(embed_wrap.embeddings)"
   ],
   "metadata": {
    "collapsed": false
   }
  },
  {
   "cell_type": "code",
   "execution_count": null,
   "outputs": [],
   "source": [
    "# add gene label to dataframe\n",
    "df_embeddings_with_label = df_embeddings\n",
    "df_embeddings_with_label[gene_column]=list(tcrb_embeddings_adata.obs[gene_column])\n",
    "df_embeddings_with_label['Sequences']=list(tcrb_embeddings_adata.obs['Sequences'])"
   ],
   "metadata": {
    "collapsed": false
   }
  },
  {
   "cell_type": "code",
   "execution_count": 21,
   "outputs": [],
   "source": [
    "# export embeddings to csvֿ\n",
    "df_embeddings_with_label.to_csv(output_path)"
   ],
   "metadata": {
    "collapsed": false
   }
  },
  {
   "cell_type": "code",
   "execution_count": 100,
   "outputs": [],
   "source": [
    "# load from csv\n",
    "if load_csv==True:\n",
    "    if EMBEDDING_TO_PLOT == 'CVC':\n",
    "        # df_embeddings_with_label = pd.read_csv('./db_data_embeddings_with_label.csv') #CVC\n",
    "        df_embeddings_with_label = pd.read_csv('data/400K_jGene_df.csv', engine='pyarrow') #CVC\n",
    "    elif EMBEDDING_TO_PLOT == 'TCR-BERT':\n",
    "        # df_embeddings_with_label = pd.read_csv('data/tcrbert_embeddings_labeled_PP_J.csv', engine='pyarrow') #TCR-BERT\n",
    "        df_embeddings_with_label = pd.read_csv('data/tcrbert_embeddings_mlm_labeled_PP_J.csv', engine='pyarrow') #TCR-BERT\n",
    "    elif EMBEDDING_TO_PLOT == 'ESM':\n",
    "        df_embeddings_with_label = pd.read_csv('data/esm_embeddings_labeled_PP_J.csv', engine='pyarrow') #ESM-2\n",
    "    else:\n",
    "        df_embeddings_with_label = pd.read_csv(input_path)\n",
    "\n",
    "min_value = min(collections.Counter(df_embeddings_with_label['jGeneName']).values())\n",
    "df_embeddings_with_label = df_embeddings_with_label.groupby('jGeneName', sort=False).apply(lambda x: x.sample(min_value))\n",
    "\n",
    "if EMBEDDING_TO_PLOT == 'ESM':\n",
    "    seq_embeddings = df_embeddings_with_label.loc[:, \"0\":\"639\"].values\n",
    "else:\n",
    "    seq_embeddings = df_embeddings_with_label.loc[:, \"0\":\"767\"].values\n",
    "j_gene_labels = df_embeddings_with_label[\"jGeneName\"].values\n",
    "embed_df = pd.DataFrame(seq_embeddings)\n",
    "embed_df[\"jGeneName\"] = j_gene_labels\n",
    "df_embeddings_with_label = embed_df\n",
    "\n",
    "tcrb_embeddings = df_embeddings_with_label.iloc[:,:-1].to_numpy()\n",
    "j_gene_array = df_embeddings_with_label.iloc[:,-1].to_numpy()\n",
    "# tcrb_embeddings = df_embeddings_with_label.iloc[:,1:-2].to_numpy()\n",
    "# j_gene_array = df_embeddings_with_label.iloc[:,-2].to_numpy()"
   ],
   "metadata": {
    "collapsed": false
   }
  },
  {
   "cell_type": "markdown",
   "source": [
    "##### Plot Embeddings"
   ],
   "metadata": {
    "collapsed": false
   }
  },
  {
   "cell_type": "code",
   "execution_count": null,
   "outputs": [],
   "source": [
    "# if PLOT_J_GENE is 1 then the umap will be colored by the J genes, otherwise it will be colored by the private/public label\n",
    "PLOT_J_GENE = 0\n",
    "if gene_type=='J':\n",
    "    if PLOT_J_GENE==1:\n",
    "        color_label='jGeneName',\n",
    "        direct_label=False,\n",
    "        color_map = ListedColormap(sns.color_palette(\"Spectral\", 13))\n",
    "        cmap= color_map,\n",
    "        title=\"UMAP of Embeddings, Colored by J Genes\",\n",
    "        legend_size=4,\n",
    "        pdf_title=\"tcr_model_db_data_umap_j_genes.pdf\"\n",
    "    else:\n",
    "        color_label='Private_Public_label',\n",
    "        direct_label=False,\n",
    "        colors = ['gold', 'darkblue']\n",
    "        cmap=matplotlib.colors.ListedColormap(colors),\n",
    "        title=\"UMAP of Embeddings, Colored by Public/Private Label\",\n",
    "        legend_size=4,\n",
    "        pdf_title=\"tcr_model_db_data_umap_j_genes.pdf\"\n",
    "\n",
    "    # Plot embeddings\n",
    "    embed_wrap.plot_embedding(\n",
    "        anndata=tcrb_embeddings_adata,\n",
    "        color_embed=color_label,\n",
    "        color_map=cmap,\n",
    "        title=title,\n",
    "        legend_size=legend_size,\n",
    "        plot_pdf_path=os.path.join(PLOT_DIR, pdf_title)\n",
    "    )"
   ],
   "metadata": {
    "collapsed": false,
    "pycharm": {
     "is_executing": true
    }
   }
  },
  {
   "cell_type": "markdown",
   "source": [
    "#### Classification Utils"
   ],
   "metadata": {
    "collapsed": false
   }
  },
  {
   "cell_type": "code",
   "execution_count": 115,
   "outputs": [],
   "source": [
    "accuracy_dictionary = {}"
   ],
   "metadata": {
    "collapsed": false
   }
  },
  {
   "cell_type": "code",
   "execution_count": 17,
   "outputs": [],
   "source": [
    "TRAIN_RATIO = 0.8\n",
    "def split_train_test(embeddings, embedding_labels):\n",
    "    # The data will be divided into 80% training 20% validation\n",
    "    idx_train = int(len(embeddings) * TRAIN_RATIO)\n",
    "\n",
    "    indices = np.arange(embeddings.shape[0])\n",
    "    # Shuffle data\n",
    "    np.random.shuffle(indices)\n",
    "\n",
    "    # Separate the images and the labels\n",
    "    embeddings_shuffle = embeddings[indices]\n",
    "    embedding_labels_shuffle = embedding_labels[indices]\n",
    "\n",
    "    # Split to train and validation\n",
    "    train_embeddings = embeddings_shuffle[:idx_train]\n",
    "    train_labels = embedding_labels_shuffle[:idx_train]\n",
    "    validation_embeddings = embeddings_shuffle[idx_train:]\n",
    "    validation_labels = embedding_labels_shuffle[idx_train:]\n",
    "\n",
    "    return train_embeddings, train_labels, validation_embeddings, validation_labels"
   ],
   "metadata": {
    "collapsed": false
   }
  },
  {
   "cell_type": "code",
   "execution_count": null,
   "outputs": [],
   "source": [
    "# run if data was read from a csv\n",
    "embeddings = tcrb_embeddings\n",
    "embedding_labels = df_embeddings_with_label[gene_column]\n",
    "print(\"shape of embeddings: {}\\nshape of embedding_labels: {}\".format(embeddings.shape,embedding_labels.shape))"
   ],
   "metadata": {
    "collapsed": false,
    "pycharm": {
     "is_executing": true
    }
   }
  },
  {
   "cell_type": "code",
   "execution_count": null,
   "outputs": [],
   "source": [
    "train_embeddings, embed_train_labels, validation_embeddings, embed_validation_labels = split_train_test(embeddings, embedding_labels)\n",
    "train_embeddings.shape, embed_train_labels.shape, validation_embeddings.shape, embed_validation_labels.shape"
   ],
   "metadata": {
    "collapsed": false,
    "pycharm": {
     "is_executing": true
    }
   }
  },
  {
   "cell_type": "code",
   "execution_count": null,
   "outputs": [],
   "source": [
    "# check for even distribution\n",
    "collections.Counter(embed_validation_labels), collections.Counter(embed_train_labels)"
   ],
   "metadata": {
    "collapsed": false,
    "pycharm": {
     "is_executing": true
    }
   }
  },
  {
   "cell_type": "code",
   "execution_count": 21,
   "outputs": [],
   "source": [
    "# convert string to integer\n",
    "def genes_to_num(labels):\n",
    "    labels_unique = np.unique(labels)\n",
    "    labels_to_num = pd.factorize(labels_unique)\n",
    "    return labels_to_num"
   ],
   "metadata": {
    "collapsed": false
   }
  },
  {
   "cell_type": "code",
   "execution_count": 22,
   "outputs": [],
   "source": [
    "genes_int_ratio = genes_to_num(embed_train_labels)\n",
    "# make dictionary of gene to integer\n",
    "gene_to_num_dictionary = dict(zip(genes_int_ratio[1], genes_int_ratio[0]))\n",
    "# convert embed_train_labels to integer using dictionary\n",
    "embed_train_labels_num = [gene_to_num_dictionary[gene] for gene in embed_train_labels]\n",
    "embed_val_labels_num = [gene_to_num_dictionary[gene] for gene in embed_validation_labels]"
   ],
   "metadata": {
    "collapsed": false
   }
  },
  {
   "cell_type": "markdown",
   "source": [
    "#### One-Hot Encoding"
   ],
   "metadata": {
    "collapsed": false
   }
  },
  {
   "cell_type": "code",
   "execution_count": 68,
   "outputs": [],
   "source": [
    "# Import Dependencies \n",
    "import pandas as pd\n",
    "import numpy as np\n",
    "\n",
    "# Function to encode sequences\n",
    "def encode_seq(sequence, max_cdr3_len):\n",
    "    alphabet = ['A', 'C', 'D', 'E', 'F', 'G','H', 'I', 'K', 'L', 'M', 'N', 'P', 'Q', 'R', 'S', 'T', 'V', 'W', 'Y']\n",
    "    char_to_int = dict((c, i) for i, c in enumerate(alphabet))\n",
    "    integer_encoded = [char_to_int[char] for char in sequence]\n",
    "    \n",
    "    # one hot encode\n",
    "    integer_encoded = torch.tensor(integer_encoded)\n",
    "    integer_encoded = F.one_hot(integer_encoded, num_classes=len(alphabet))\n",
    "    \n",
    "    # pad integer_encoded tensor first dim with zeros up to max_cdr3_len\n",
    "    integer_encoded = F.pad(integer_encoded, (0,0,0, max_cdr3_len - len(integer_encoded)))\n",
    "    integer_encoded = integer_encoded.numpy()\n",
    "    return integer_encoded"
   ],
   "metadata": {
    "collapsed": false
   }
  },
  {
   "cell_type": "code",
   "execution_count": 73,
   "outputs": [
    {
     "data": {
      "text/plain": "26"
     },
     "execution_count": 73,
     "metadata": {},
     "output_type": "execute_result"
    }
   ],
   "source": [
    "# extract sequences\n",
    "cdr3_sequences = df_embeddings_with_label['Sequences']#tcrb_data_sample['Sequences']\n",
    "sequences_labels = df_embeddings_with_label[gene_column]\n",
    "max_cdr3_len = cdr3_sequences.apply(len).max()\n",
    "max_cdr3_len"
   ],
   "metadata": {
    "collapsed": false
   }
  },
  {
   "cell_type": "code",
   "execution_count": 74,
   "outputs": [
    {
     "name": "stdout",
     "output_type": "stream",
     "text": [
      "shape of training set: (74058,)\n",
      "shape of validation set: (18515,)\n"
     ]
    }
   ],
   "source": [
    "# split data into train/test\n",
    "train_seqs, train_labels, validation_seqs, validation_labels = split_train_test(cdr3_sequences.to_numpy(), sequences_labels)\n",
    "print(\"shape of training set: {}\\nshape of validation set: {}\".format(train_seqs.shape, validation_seqs.shape))"
   ],
   "metadata": {
    "collapsed": false
   }
  },
  {
   "cell_type": "code",
   "execution_count": 75,
   "outputs": [],
   "source": [
    "import torch.nn.functional as F\n",
    "# encode amino acid sequences to one hot vector\n",
    "encoded_train_seqs = pd.Series(train_seqs).apply(lambda x: encode_seq(x, max_cdr3_len))\n",
    "encoded_validation_seqs = pd.Series(validation_seqs).apply(lambda x: encode_seq(x, max_cdr3_len))"
   ],
   "metadata": {
    "collapsed": false
   }
  },
  {
   "cell_type": "code",
   "execution_count": 76,
   "outputs": [
    {
     "data": {
      "text/plain": "((74058, 26, 20), (18515, 26, 20))"
     },
     "execution_count": 76,
     "metadata": {},
     "output_type": "execute_result"
    }
   ],
   "source": [
    "# Stack list(encoded_train_seqs) in dim 0\n",
    "train_seqs_stack = np.stack(encoded_train_seqs, axis=0)\n",
    "valid_seqs_stack = np.stack(encoded_validation_seqs, axis=0)\n",
    "train_seqs_stack.shape, valid_seqs_stack.shape"
   ],
   "metadata": {
    "collapsed": false
   }
  },
  {
   "cell_type": "code",
   "execution_count": 77,
   "outputs": [
    {
     "data": {
      "text/plain": "((74058, 520), (18515, 520))"
     },
     "execution_count": 77,
     "metadata": {},
     "output_type": "execute_result"
    }
   ],
   "source": [
    "# reshape train/validation tensors\n",
    "train_seqs_stack = train_seqs_stack.reshape(train_seqs_stack.shape[0], -1)\n",
    "valid_seqs_stack = valid_seqs_stack.reshape(valid_seqs_stack.shape[0], -1)\n",
    "train_seqs_stack.shape, valid_seqs_stack.shape"
   ],
   "metadata": {
    "collapsed": false
   }
  },
  {
   "cell_type": "code",
   "execution_count": 78,
   "outputs": [],
   "source": [
    "genes_int_ratio = genes_to_num(train_labels)\n",
    "# make dictionary of gene to integer\n",
    "gene_to_num_dictionary = dict(zip(genes_int_ratio[1], genes_int_ratio[0]))\n",
    "# convert embed_train_labels to integer using dictionary\n",
    "train_labels_num = [gene_to_num_dictionary[gene] for gene in train_labels]\n",
    "val_labels_num = [gene_to_num_dictionary[gene] for gene in validation_labels]"
   ],
   "metadata": {
    "collapsed": false
   }
  },
  {
   "cell_type": "markdown",
   "source": [
    "#### xgBoost on Embeddings\n",
    "Guide on xgBoost - https://towardsdatascience.com/beginners-guide-to-xgboost-for-classification-problems-50f75aac5390\n"
   ],
   "metadata": {
    "collapsed": false
   }
  },
  {
   "cell_type": "code",
   "execution_count": null,
   "outputs": [],
   "source": [
    "# feature scaling\n",
    "from sklearn.preprocessing import StandardScaler\n",
    "sc = StandardScaler()\n",
    "train_embeddings = sc.fit_transform(train_embeddings)\n",
    "validation_embeddings = sc.fit_transform(validation_embeddings)"
   ],
   "metadata": {
    "collapsed": false
   }
  },
  {
   "cell_type": "code",
   "execution_count": null,
   "outputs": [],
   "source": [
    "accuracy_dictionary['xgBoost'], xgb_preds, xgb_classifier = \\\n",
    "    lab_notebooks.utils.xgb_classify(train_embeddings, embed_train_labels_num, validation_embeddings, embed_val_labels_num)"
   ],
   "metadata": {
    "collapsed": false
   }
  },
  {
   "cell_type": "markdown",
   "source": [
    "#### xgBoost - OneHot"
   ],
   "metadata": {
    "collapsed": false
   }
  },
  {
   "cell_type": "code",
   "execution_count": 40,
   "outputs": [],
   "source": [
    "# apply xgb on onehot, extract accuracy\n",
    "accuracy_dictionary['xgBoost_OneHot'], xgb_preds_onehot, xgb_classifier_onehot =\\\n",
    "    lab_notebooks.utils.xgb_classify(train_seqs_stack, train_labels_num, valid_seqs_stack, val_labels_num)"
   ],
   "metadata": {
    "collapsed": false
   }
  },
  {
   "cell_type": "markdown",
   "source": [
    "#### LDA"
   ],
   "metadata": {
    "collapsed": false
   }
  },
  {
   "cell_type": "code",
   "execution_count": 41,
   "outputs": [
    {
     "data": {
      "text/plain": "98.54440599769319"
     },
     "execution_count": 41,
     "metadata": {},
     "output_type": "execute_result"
    }
   ],
   "source": [
    "accuracy_dictionary[\"LDA\"], lda_preds, lda_classifier = lab_notebooks.utils.lda_classify(train_embeddings,embed_train_labels_num, validation_embeddings, embed_val_labels_num)\n",
    "accuracy_dictionary[\"LDA\"]"
   ],
   "metadata": {
    "collapsed": false
   }
  },
  {
   "cell_type": "markdown",
   "source": [
    "#### LDA - OneHot"
   ],
   "metadata": {
    "collapsed": false
   }
  },
  {
   "cell_type": "code",
   "execution_count": null,
   "outputs": [],
   "source": [
    "import lab_notebooks.utils\n",
    "accuracy_dictionary['LDA_OneHot'], lda_preds_onehot, lda_classifier_onehot =\\\n",
    "    lab_notebooks.utils.lda_classify(train_seqs_stack, train_labels_num, valid_seqs_stack, val_labels_num)"
   ],
   "metadata": {
    "collapsed": false,
    "pycharm": {
     "is_executing": true
    }
   }
  },
  {
   "cell_type": "markdown",
   "source": [
    "#### Plot Results"
   ],
   "metadata": {
    "collapsed": false
   }
  },
  {
   "cell_type": "code",
   "execution_count": 54,
   "outputs": [],
   "source": [
    "res_dic = {'model' : ['xgBoost', 'xgBoost', 'xgBoost',\n",
    "            'xgBoost_OneHot', 'xgBoost_OneHot', 'xgBoost_OneHot',\n",
    "            'LDA','LDA','LDA', 'LDA_OneHot','LDA_OneHot','LDA_OneHot'],\n",
    "            'accuracy': [98.34, 98.39, 98.47, 98.2, 98.37, 98.26, 98.4, 98.45, 98.54, 94.9, 94.86, 94.74]}"
   ],
   "metadata": {
    "collapsed": false
   }
  },
  {
   "cell_type": "code",
   "execution_count": 71,
   "outputs": [
    {
     "data": {
      "text/plain": "<Figure size 720x432 with 1 Axes>",
      "image/png": "[encoded data removed]"
     },
     "metadata": {},
     "output_type": "display_data"
    }
   ],
   "source": [
    "# barplot of accuracy with error bars\n",
    "df = pd.DataFrame(res_dic)\n",
    "df = df.sort_values(by='accuracy', ascending=False)\n",
    "df = df.reset_index(drop=True)\n",
    "df\n",
    "# plot\n",
    "fig, ax = plt.subplots(figsize=(10,6))\n",
    "sns.barplot(x='model', y='accuracy', data=df, ax=ax, palette=\"flare\",capsize=.2)\n",
    "# ax.set_title('Accuracy of different classification models')\n",
    "ax.set_ylabel('Accuracy (%)')\n",
    "ax.set_xlabel('Model')\n",
    "ax.set_ylim(94, 100)\n",
    "plt.show()"
   ],
   "metadata": {
    "collapsed": false
   }
  },
  {
   "cell_type": "code",
   "execution_count": null,
   "outputs": [],
   "source": [
    "res_dic_1 = {'xgBoost': [98.34, 98.39, 98.47],\n",
    "             'xgBoost_OneHot': [98.2, 98.37, 98.26],\n",
    "             'LDA': [98.4, 98.45, 98.54],\n",
    "             'LDA_OneHot': [94.9, 94.86, 94.74]}"
   ],
   "metadata": {
    "collapsed": false
   }
  },
  {
   "cell_type": "code",
   "execution_count": 70,
   "outputs": [
    {
     "data": {
      "text/plain": "{'xgBoost': 98.40000000000002,\n 'xgBoost_OneHot': 98.27666666666666,\n 'LDA': 98.46333333333335,\n 'LDA_OneHot': 94.83333333333333}"
     },
     "execution_count": 70,
     "metadata": {},
     "output_type": "execute_result"
    }
   ],
   "source": [
    "# calculate mean accuracy for each model\n",
    "res_dic_avg = {key: np.mean(value) for key, value in res_dic_1.items()}\n",
    "res_dic_avg"
   ],
   "metadata": {
    "collapsed": false
   }
  },
  {
   "cell_type": "markdown",
   "source": [
    "### Deep Neural Network"
   ],
   "metadata": {
    "collapsed": false
   }
  },
  {
   "cell_type": "markdown",
   "source": [
    "#### Deep Learning Model on Embeddings"
   ],
   "metadata": {
    "collapsed": false
   }
  },
  {
   "cell_type": "code",
   "execution_count": 141,
   "outputs": [],
   "source": [
    "# set flag to run with onehot\n",
    "DNN_ONEHOT = 0"
   ],
   "metadata": {
    "collapsed": false
   }
  },
  {
   "cell_type": "code",
   "execution_count": 142,
   "outputs": [],
   "source": [
    "# defining dataset class\n",
    "from torch.utils.data import Dataset, DataLoader\n",
    "class dataset(Dataset):\n",
    "    def __init__(self,x, y):\n",
    "        # self.x = torch.tensor(x, dtype=torch.float32).to('cuda')\n",
    "        # self.y = torch.tensor(y, dtype=torch.float32).to('cuda')\n",
    "        self.x = torch.tensor(x, dtype=torch.float32)\n",
    "        self.y = torch.tensor(y, dtype=torch.float32)\n",
    "        self.length = self.x.shape[0]\n",
    "        assert self.x.shape[0] == self.y.shape[0]\n",
    "        \n",
    "    def __getitem__(self, idx):\n",
    "        return self.x[idx], self.y[idx]\n",
    "    \n",
    "    def __len__(self):\n",
    "        return self.length"
   ],
   "metadata": {
    "collapsed": false
   }
  },
  {
   "cell_type": "code",
   "execution_count": 143,
   "outputs": [],
   "source": [
    "BATCH_SIZE = 1024\n",
    "\n",
    "# create datasets\n",
    "if DNN_ONEHOT==0:\n",
    "    trainset = dataset(train_embeddings, embed_train_labels_num)\n",
    "    validset = dataset(validation_embeddings, embed_val_labels_num)\n",
    "else:\n",
    "    trainset = dataset(train_seqs_stack, train_labels_num)\n",
    "    validset = dataset(valid_seqs_stack, val_labels_num)\n",
    "\n",
    "# DataLoader with 10 workers\n",
    "trainloader = DataLoader(trainset, batch_size=BATCH_SIZE, shuffle=True, num_workers=10, pin_memory=True)\n",
    "validloader = DataLoader(validset, batch_size=BATCH_SIZE, num_workers=10, pin_memory=True)"
   ],
   "metadata": {
    "collapsed": false
   }
  },
  {
   "cell_type": "code",
   "execution_count": 144,
   "outputs": [],
   "source": [
    "#defining the network\n",
    "from torch import nn\n",
    "from torch.nn import functional as F\n",
    "\n",
    "class Net(nn.Module):\n",
    "    def __init__(self, input_shape, num_classes=len(collections.Counter(gene_data_edit[gene_column]))):\n",
    "        super(Net,self).__init__()\n",
    "        self.fc1 = nn.Linear(input_shape,64)\n",
    "        self.fc2 = nn.Linear(64,32)\n",
    "        self.fc3 = nn.Linear(32,num_classes)\n",
    "\n",
    "    def forward(self,x):\n",
    "        x = torch.relu(self.fc1(x))\n",
    "        x = torch.relu(self.fc2(x))\n",
    "        x = self.fc3(x)\n",
    "        return x"
   ],
   "metadata": {
    "collapsed": false
   }
  },
  {
   "cell_type": "code",
   "execution_count": 145,
   "outputs": [],
   "source": [
    "# hyper parameters\n",
    "learning_rate = 0.00001\n",
    "\n",
    "# set input shape\n",
    "input_shape = train_embeddings.shape[1]\n",
    "if DNN_ONEHOT:\n",
    "    input_shape = train_seqs_stack.shape[1]\n",
    "\n",
    "# Model , Optimizer, Loss\n",
    "device = 'cpu'\n",
    "model = Net(input_shape=input_shape).to(device)\n",
    "optimizer = torch.optim.Adam(model.parameters(),lr=learning_rate)"
   ],
   "metadata": {
    "collapsed": false
   }
  },
  {
   "cell_type": "code",
   "execution_count": 146,
   "outputs": [
    {
     "name": "stdout",
     "output_type": "stream",
     "text": [
      "6\n"
     ]
    }
   ],
   "source": [
    "params = list(model.parameters())\n",
    "print(len(params))"
   ],
   "metadata": {
    "collapsed": false
   }
  },
  {
   "cell_type": "code",
   "execution_count": 147,
   "outputs": [],
   "source": [
    "# calculate accuracy multi-class\n",
    "def calculate_accuracy(y_pred, y_test):\n",
    "    y_pred_tag = torch.argmax(y_pred, dim=1)\n",
    "    correct_results_sum = (y_pred_tag == y_test).sum().float()\n",
    "    acc = correct_results_sum/y_test.shape[0]\n",
    "    acc = torch.round(acc * 100)\n",
    "    return acc"
   ],
   "metadata": {
    "collapsed": false
   }
  },
  {
   "cell_type": "code",
   "execution_count": 148,
   "outputs": [],
   "source": [
    "def train_classify(model, trainloader, optimizer):\n",
    "    epoch_loss = 0\n",
    "    epoch_acc = 0\n",
    "    count = 0\n",
    "    model.train()\n",
    "    for train_embedding, train_label in tqdm.notebook.tqdm(trainloader, total=len(trainloader)):\n",
    "        # option to move train_embedding, train_label to gpu here\n",
    "        # calculate output\n",
    "        train_embedding, train_label =  train_embedding.to(device), train_label.to(device)\n",
    "        output = model(train_embedding)\n",
    "\n",
    "        # calculate loss\n",
    "        loss = F.cross_entropy(output, train_label.reshape(-1).long())\n",
    "        \n",
    "        # accuracy\n",
    "        acc = calculate_accuracy(output, train_label)\n",
    "        \n",
    "        # backprop\n",
    "        optimizer.zero_grad() \n",
    "        loss.backward()\n",
    "        optimizer.step()\n",
    "\n",
    "        epoch_loss += loss.item()\n",
    "        epoch_acc += acc.item()\n",
    "        count += len(train_label)\n",
    "    return epoch_loss / len(trainloader), epoch_acc / len(trainloader)"
   ],
   "metadata": {
    "collapsed": false
   }
  },
  {
   "cell_type": "code",
   "execution_count": 149,
   "outputs": [],
   "source": [
    "def evaluate_classify(model, validloader): \n",
    "    epoch_loss = 0\n",
    "    epoch_acc = 0\n",
    "    count = 0\n",
    "    model.eval()\n",
    "    label_list = []\n",
    "    pred_label_list = []\n",
    "    with torch.no_grad(): \n",
    "        for valid_embedding, valid_label in tqdm.notebook.tqdm(validloader, total=len(validloader)):\n",
    "            # option to move valid_embedding, valid_label to gpu here\n",
    "            valid_embedding, valid_label = valid_embedding.to(device), valid_label.to(device)\n",
    "            # calculate output\n",
    "            output = model(valid_embedding)\n",
    "\n",
    "            # calculate loss\n",
    "            loss = F.cross_entropy(output, valid_label.reshape(-1).long())\n",
    "\n",
    "            # accuracy\n",
    "            acc = calculate_accuracy(output, valid_label)\n",
    "            \n",
    "            # add to lists for confusion matrixv\n",
    "            label_list.append(valid_label.cpu())\n",
    "            pred_label_list.append(output.cpu())\n",
    "            \n",
    "            #acc = calculate_accuracy(output, valid_label)\n",
    "            epoch_loss += loss.item()\n",
    "            epoch_acc += acc.item()\n",
    "            count += len(valid_label)\n",
    "    return (epoch_loss / len(validloader), epoch_acc / len(validloader),\n",
    "            torch.cat(label_list, dim=0), \n",
    "            torch.cat(pred_label_list, dim=0))"
   ],
   "metadata": {
    "collapsed": false
   }
  },
  {
   "cell_type": "code",
   "execution_count": 150,
   "outputs": [
    {
     "data": {
      "text/plain": "<Figure size 1200x1200 with 4 Axes>",
      "image/png": "[encoded data removed]"
     },
     "metadata": {},
     "output_type": "display_data"
    },
    {
     "name": "stdout",
     "output_type": "stream",
     "text": [
      "train accuracy\n",
      "\ttrain accuracy   \t (min:    7.603, max:   71.644, cur:   71.644)\n",
      "train loss\n",
      "\ttrain loss       \t (min:    1.721, max:    2.567, cur:    1.721)\n",
      "validation accuracy\n",
      "\tvalidation accuracy \t (min:    8.000, max:   71.684, cur:   71.684)\n",
      "validation loss\n",
      "\tvalidation loss  \t (min:    1.721, max:    2.566, cur:    1.721)\n"
     ]
    }
   ],
   "source": [
    "from livelossplot import PlotLosses\n",
    "liveloss1_class = PlotLosses()\n",
    "logs_class = {}\n",
    "EPOCHS=80\n",
    "\n",
    "for epoch in range(EPOCHS):\n",
    "    print('starting epoch {}'.format(epoch))\n",
    "    train_loss, train_acc = train_classify(model, trainloader, optimizer)\n",
    "    print('Epoch {} of {}, Train Loss: {:.3f}'.format(\n",
    "            epoch+1, EPOCHS, train_loss))\n",
    "\n",
    "    print('Epoch {} of {}, Train Accuracy: {:.3f}'.format(\n",
    "          epoch+1, EPOCHS, train_acc))\n",
    "\n",
    "    logs_class['train loss'] = train_loss\n",
    "    logs_class['train accuracy'] = train_acc\n",
    "\n",
    "    valid_loss, valid_acc, label_list, pred_label_list  = evaluate_classify(model, validloader)\n",
    "    print('Epoch {} of {}, Validate Loss: {:.3f}'.format(\n",
    "        epoch+1, EPOCHS, valid_loss))\n",
    "\n",
    "    print('Epoch {} of {}, Validate Accuracy: {:.3f}'.format(\n",
    "        epoch+1, EPOCHS, valid_acc))\n",
    "\n",
    "    logs_class['validation loss'] = valid_loss\n",
    "    logs_class['validation accuracy'] = valid_acc\n",
    "\n",
    "    liveloss1_class.update(logs_class)\n",
    "    liveloss1_class.send()"
   ],
   "metadata": {
    "collapsed": false
   }
  },
  {
   "cell_type": "code",
   "execution_count": 54,
   "outputs": [],
   "source": [
    "# Save model\n",
    "PATH = \"./classifiers/j_gene_classifier.pth\"\n",
    "torch.save({\n",
    "    'model_state_dict': model.state_dict(),\n",
    "    'optimizer_state_dict': optimizer.state_dict(),\n",
    "}, PATH)"
   ],
   "metadata": {
    "collapsed": false
   }
  },
  {
   "cell_type": "markdown",
   "source": [
    "#### Plot Results"
   ],
   "metadata": {
    "collapsed": false
   }
  },
  {
   "cell_type": "code",
   "execution_count": 54,
   "outputs": [
    {
     "data": {
      "text/plain": "{'CVC': 97.7, 'TCR-BERT': 95.39999999999999, 'ESM-2': 30.796666666666667}"
     },
     "execution_count": 54,
     "metadata": {},
     "output_type": "execute_result"
    }
   ],
   "source": [
    "# dnn_dic_1 = {'DNN': [98.7, 98.6, 98.412],\n",
    "#              'DNN_OneHot': [89.7, 90.8,90.82]}\n",
    "\n",
    "llm_dic_1 = {'CVC': [97.6, 97.7, 97.8],\n",
    "             'TCR-BERT': [95.6, 95, 95.6],\n",
    "             'ESM-2': [29.6, 33.3, 29.49]}\n",
    "dnn_dic_1 = llm_dic_1\n",
    "# calculate mean accuracy for each model\n",
    "res_dnn_avg = {key: np.mean(value) for key, value in dnn_dic_1.items()}\n",
    "res_dnn_avg"
   ],
   "metadata": {
    "collapsed": false
   }
  },
  {
   "cell_type": "code",
   "execution_count": 98,
   "outputs": [
    {
     "data": {
      "text/plain": "<Figure size 1000x600 with 1 Axes>",
      "image/png": "[encoded data removed]"
     },
     "metadata": {},
     "output_type": "display_data"
    }
   ],
   "source": [
    "# dictionary\n",
    "# dnn_dic = {'model' : ['DNN', 'DNN', 'DNN',\n",
    "#                       'DNN_OneHot', 'DNN_OneHot', 'DNN_OneHot'],\n",
    "#            'accuracy': [98.7, 98.6, 98.412, 89.7, 90.8,  90.82]}\n",
    "\n",
    "llm_dic = {'model' : ['CVC', 'CVC', 'CVC',\n",
    "                      'TCR-BERT', 'TCR-BERT', 'TCR-BERT',\n",
    "                      'ESM-2', 'ESM-2', 'ESM-2'],\n",
    "           'accuracy': [97.6, 97.7, 97.8, 95.6, 95, 95.6, 29.6, 33.3, 29.49]}\n",
    "\n",
    "dnn_dic = llm_dic\n",
    "# barplot of accuracy with error bars\n",
    "df = pd.DataFrame(dnn_dic)\n",
    "df = df.sort_values(by='accuracy', ascending=False)\n",
    "df = df.reset_index(drop=True)\n",
    "\n",
    "# plot\n",
    "fig, ax = plt.subplots(figsize=(10,6))\n",
    "sns.barplot(x='model', y='accuracy', data=df, ax=ax, palette=\"flare\",capsize=.2)\n",
    "ax.set_title('J Gene Classification Accuracy using LMMs')\n",
    "ax.set_ylabel('Accuracy (%)')\n",
    "ax.set_xlabel('Model')\n",
    "ax.set_ylim(25, 100)\n",
    "\n",
    "fig_path = os.path.join('plots/benchmarking', 'llm_onehot_j_gene_acc.svg')\n",
    "plt.savefig(fig_path, bbox_inches='tight', dpi=1200)\n",
    "\n",
    "plt.show()"
   ],
   "metadata": {
    "collapsed": false
   }
  }
 ],
 "metadata": {
  "kernelspec": {
   "display_name": "Python 3",
   "language": "python",
   "name": "python3"
  },
  "language_info": {
   "codemirror_mode": {
    "name": "ipython",
    "version": 3
   },
   "file_extension": ".py",
   "mimetype": "text/x-python",
   "name": "python",
   "nbconvert_exporter": "python",
   "pygments_lexer": "ipython3",
   "version": "3.9.2"
  }
 },
 "nbformat": 4,
 "nbformat_minor": 5
}
