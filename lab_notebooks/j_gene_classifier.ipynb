{
 "cells": [
  {
   "cell_type": "markdown",
   "source": [
    "#### Multiclass Classification of J Gene Type"
   ],
   "metadata": {
    "collapsed": false,
    "pycharm": {
     "name": "#%% md\n"
    }
   }
  },
  {
   "cell_type": "code",
   "execution_count": 1,
   "id": "563a8d23-e24b-4cb5-8cea-5c6f52f66473",
   "metadata": {
    "pycharm": {
     "name": "#%%\n"
    }
   },
   "outputs": [
    {
     "name": "stdout",
     "output_type": "stream",
     "text": [
      "/home/romi/projects/preTCR\n"
     ]
    }
   ],
   "source": [
    "cd .."
   ]
  },
  {
   "cell_type": "code",
   "execution_count": 4,
   "id": "131cbe9c-6069-4645-b71f-7bb33715697f",
   "metadata": {
    "pycharm": {
     "name": "#%%\n"
    }
   },
   "outputs": [],
   "source": [
    "%load_ext autoreload\n",
    "%autoreload 2"
   ]
  },
  {
   "cell_type": "code",
   "execution_count": null,
   "id": "91824dd6-d4fd-44d9-8354-f219b37f075b",
   "metadata": {
    "cell_id": "00001-55732162-ceaf-44b6-b0f9-62861608b761",
    "deepnote_cell_height": 1117.875,
    "deepnote_cell_type": "code",
    "deepnote_output_heights": [
     null,
     21.1875
    ],
    "deepnote_to_be_reexecuted": false,
    "execution_millis": 2706,
    "execution_start": 1645287607716,
    "source_hash": "cc7135c9",
    "pycharm": {
     "name": "#%%\n",
     "is_executing": true
    }
   },
   "outputs": [],
   "source": [
    "import os, sys\n",
    "import collections\n",
    "import lab_notebooks.utils\n",
    "import matplotlib.pyplot as plt\n",
    "import tqdm\n",
    "import pandas as pd\n",
    "from matplotlib.colors import ListedColormap\n",
    "import seaborn as sns\n",
    "import torch\n",
    "\n",
    "SRC_DIR = \"cvc\"\n",
    "assert os.path.isdir(SRC_DIR), f\"Cannot find src dir: {SRC_DIR}\"\n",
    "sys.path.append(SRC_DIR)\n",
    "from cvc import model_utils\n",
    "from cvc import plot_utils\n",
    "from lab_notebooks.utils import TRANSFORMER, DEVICE, DATA_DIR\n",
    "MODEL_DIR = os.path.join(SRC_DIR, \"models\")\n",
    "sys.path.append(MODEL_DIR)\n",
    "\n",
    "FILT_EDIT_DIST = True\n",
    "\n",
    "PLOT_DIR = os.path.join(os.path.dirname(SRC_DIR), \"plots/CDR3_data_plots\")\n",
    "if not os.path.isdir(PLOT_DIR):\n",
    "    os.makedirs(PLOT_DIR)\n",
    "PLOT_DIR"
   ]
  },
  {
   "cell_type": "markdown",
   "id": "fba0ce0b",
   "metadata": {
    "pycharm": {
     "name": "#%% md\n"
    }
   },
   "source": [
    "#### Load Data"
   ]
  },
  {
   "cell_type": "code",
   "execution_count": 6,
   "outputs": [],
   "source": [
    "gene_type = 'V' #'J'\n",
    "load_csv = False"
   ],
   "metadata": {
    "collapsed": false,
    "pycharm": {
     "name": "#%%\n"
    }
   }
  },
  {
   "cell_type": "code",
   "execution_count": 78,
   "outputs": [],
   "source": [
    "if gene_type == 'J':\n",
    "    data_dir = DATA_DIR + \"j_gene_embeddings.csv\"\n",
    "    data_dir_full = DATA_DIR + 'jgene_embed_full_data.csv'\n",
    "    gene_column = 'jGeneName'\n",
    "    output_path = './jgene_data_embeddings_with_label_and_sequence.csv'\n",
    "    input_path = './jgene_data_embeddings_with_label_and_sequence.csv'\n",
    "else:\n",
    "    data_dir = DATA_DIR + \"v_gene_embeddings.csv\"\n",
    "    data_dir_full = DATA_DIR + 'vgene_public_specific_data.csv'\n",
    "        #'vgene_data_classfy1.csv' #vgene_embed_full_data.csv'\n",
    "    gene_column = 'vGeneName'\n",
    "    output_path = './vgene_public_specific_data_embeddings_with_label_and_sequence.csv'\n",
    "    input_path = './vgene_data_embeddings_with_label_and_sequence.csv'"
   ],
   "metadata": {
    "collapsed": false,
    "pycharm": {
     "name": "#%%\n"
    }
   }
  },
  {
   "cell_type": "code",
   "execution_count": 79,
   "id": "f7f68021-d2be-4beb-8bc0-a220e8bd41e0",
   "metadata": {
    "pycharm": {
     "name": "#%%\n"
    }
   },
   "outputs": [],
   "source": [
    "# read data\n",
    "gene_data = pd.read_csv(data_dir_full, engine=\"pyarrow\")"
   ]
  },
  {
   "cell_type": "code",
   "execution_count": 80,
   "outputs": [
    {
     "data": {
      "text/plain": "                   Sequences  Appearances  Private_Public_label   vGeneName\n0             CASSSDRRFYEQYF            1                     0  TCRBV19-01\n1           CASSIATASGRDTQYF            1                     0  TCRBV19-01\n2              CASSPLGGLGQYF            2                     1  TCRBV19-01\n3        CASSIVWGSIGRGGNIQYF            1                     0  TCRBV19-01\n4            CASSDGGTGSNEQFF            1                     0  TCRBV19-01\n...                      ...          ...                   ...         ...\n1384997      CATSDSDRGSYGYTF            1                     0  TCRBV24-01\n1384998    CATSDVVPGPTYNEQFF            1                     0  TCRBV24-01\n1384999     CATSGSLAGVLHEQFF            1                     0  TCRBV24-01\n1385000   CATSDYGSGPSSYNEQFF            1                     0  TCRBV24-01\n1385001     CATSDLRGASYNEQFF            3                     1  TCRBV24-01\n\n[1385002 rows x 4 columns]",
      "text/html": "<div>\n<style scoped>\n    .dataframe tbody tr th:only-of-type {\n        vertical-align: middle;\n    }\n\n    .dataframe tbody tr th {\n        vertical-align: top;\n    }\n\n    .dataframe thead th {\n        text-align: right;\n    }\n</style>\n<table border=\"1\" class=\"dataframe\">\n  <thead>\n    <tr style=\"text-align: right;\">\n      <th></th>\n      <th>Sequences</th>\n      <th>Appearances</th>\n      <th>Private_Public_label</th>\n      <th>vGeneName</th>\n    </tr>\n  </thead>\n  <tbody>\n    <tr>\n      <th>0</th>\n      <td>CASSSDRRFYEQYF</td>\n      <td>1</td>\n      <td>0</td>\n      <td>TCRBV19-01</td>\n    </tr>\n    <tr>\n      <th>1</th>\n      <td>CASSIATASGRDTQYF</td>\n      <td>1</td>\n      <td>0</td>\n      <td>TCRBV19-01</td>\n    </tr>\n    <tr>\n      <th>2</th>\n      <td>CASSPLGGLGQYF</td>\n      <td>2</td>\n      <td>1</td>\n      <td>TCRBV19-01</td>\n    </tr>\n    <tr>\n      <th>3</th>\n      <td>CASSIVWGSIGRGGNIQYF</td>\n      <td>1</td>\n      <td>0</td>\n      <td>TCRBV19-01</td>\n    </tr>\n    <tr>\n      <th>4</th>\n      <td>CASSDGGTGSNEQFF</td>\n      <td>1</td>\n      <td>0</td>\n      <td>TCRBV19-01</td>\n    </tr>\n    <tr>\n      <th>...</th>\n      <td>...</td>\n      <td>...</td>\n      <td>...</td>\n      <td>...</td>\n    </tr>\n    <tr>\n      <th>1384997</th>\n      <td>CATSDSDRGSYGYTF</td>\n      <td>1</td>\n      <td>0</td>\n      <td>TCRBV24-01</td>\n    </tr>\n    <tr>\n      <th>1384998</th>\n      <td>CATSDVVPGPTYNEQFF</td>\n      <td>1</td>\n      <td>0</td>\n      <td>TCRBV24-01</td>\n    </tr>\n    <tr>\n      <th>1384999</th>\n      <td>CATSGSLAGVLHEQFF</td>\n      <td>1</td>\n      <td>0</td>\n      <td>TCRBV24-01</td>\n    </tr>\n    <tr>\n      <th>1385000</th>\n      <td>CATSDYGSGPSSYNEQFF</td>\n      <td>1</td>\n      <td>0</td>\n      <td>TCRBV24-01</td>\n    </tr>\n    <tr>\n      <th>1385001</th>\n      <td>CATSDLRGASYNEQFF</td>\n      <td>3</td>\n      <td>1</td>\n      <td>TCRBV24-01</td>\n    </tr>\n  </tbody>\n</table>\n<p>1385002 rows × 4 columns</p>\n</div>"
     },
     "execution_count": 80,
     "metadata": {},
     "output_type": "execute_result"
    }
   ],
   "source": [
    "gene_data = gene_data[['Sequences', 'Appearances', 'Private_Public_label', gene_column]]\n",
    "gene_data"
   ],
   "metadata": {
    "collapsed": false,
    "pycharm": {
     "name": "#%%\n"
    }
   }
  },
  {
   "cell_type": "code",
   "execution_count": 81,
   "id": "0a65ecf6-e209-4b5f-b4e4-5d3ea98b3b5c",
   "metadata": {
    "pycharm": {
     "name": "#%%\n"
    }
   },
   "outputs": [
    {
     "data": {
      "text/plain": "Counter({0: 1161620, 1: 223382})"
     },
     "execution_count": 81,
     "metadata": {},
     "output_type": "execute_result"
    }
   ],
   "source": [
    "collections.Counter(gene_data['Private_Public_label'])"
   ]
  },
  {
   "cell_type": "code",
   "execution_count": 82,
   "outputs": [
    {
     "data": {
      "text/plain": "Counter({'TCRBV19-01': 406807,\n         'TCRBV18-01': 190883,\n         'TCRBV30-01': 192778,\n         'TCRBV10-03': 142143,\n         'TCRBV29-01': 168280,\n         'TCRBV15-01': 99014,\n         'TCRBV20-01': 67626,\n         'TCRBV24-01': 117471})"
     },
     "execution_count": 82,
     "metadata": {},
     "output_type": "execute_result"
    }
   ],
   "source": [
    "collections.Counter(gene_data[gene_column])"
   ],
   "metadata": {
    "collapsed": false,
    "pycharm": {
     "name": "#%%\n"
    }
   }
  },
  {
   "cell_type": "markdown",
   "id": "fb78feaa",
   "metadata": {
    "pycharm": {
     "name": "#%% md\n"
    }
   },
   "source": [
    "#### Create subset with equall distribution of genes"
   ]
  },
  {
   "cell_type": "code",
   "execution_count": 83,
   "outputs": [
    {
     "data": {
      "text/plain": "1360388"
     },
     "execution_count": 83,
     "metadata": {},
     "output_type": "execute_result"
    }
   ],
   "source": [
    "# extract sequences that do not have *\n",
    "gene_data_to_use = [seq for seq in gene_data['Sequences'] if '*' not in seq]\n",
    "len(gene_data_to_use)"
   ],
   "metadata": {
    "collapsed": false,
    "pycharm": {
     "name": "#%%\n"
    }
   }
  },
  {
   "cell_type": "code",
   "execution_count": 84,
   "outputs": [],
   "source": [
    "gene_data_edit = gene_data"
   ],
   "metadata": {
    "collapsed": false,
    "pycharm": {
     "name": "#%%\n"
    }
   }
  },
  {
   "cell_type": "code",
   "execution_count": 85,
   "outputs": [
    {
     "data": {
      "text/plain": "1360388"
     },
     "execution_count": 85,
     "metadata": {},
     "output_type": "execute_result"
    }
   ],
   "source": [
    "# leave the sequences that do not have *\n",
    "gene_data_edit = gene_data_edit.loc[gene_data_edit['Sequences'].isin(gene_data_to_use)]\n",
    "len(gene_data_edit)"
   ],
   "metadata": {
    "collapsed": false,
    "pycharm": {
     "name": "#%%\n"
    }
   }
  },
  {
   "cell_type": "code",
   "execution_count": 87,
   "outputs": [
    {
     "name": "stdout",
     "output_type": "stream",
     "text": [
      "['TCRBV19-01' 'TCRBV19-01' 'TCRBV19-01' ... 'TCRBV24-01' 'TCRBV24-01'\n",
      " 'TCRBV24-01']\n"
     ]
    }
   ],
   "source": [
    "# convert label column to numpy array\n",
    "gene_label_array = gene_data_edit[gene_column].to_numpy()\n",
    "print(gene_label_array)"
   ],
   "metadata": {
    "collapsed": false,
    "pycharm": {
     "name": "#%%\n"
    }
   }
  },
  {
   "cell_type": "code",
   "execution_count": 88,
   "outputs": [
    {
     "data": {
      "text/plain": "Counter({'TCRBV19-01': 400981,\n         'TCRBV18-01': 188530,\n         'TCRBV30-01': 189746,\n         'TCRBV10-03': 139682,\n         'TCRBV29-01': 165929,\n         'TCRBV15-01': 97256,\n         'TCRBV20-01': 66628,\n         'TCRBV24-01': 111636})"
     },
     "execution_count": 88,
     "metadata": {},
     "output_type": "execute_result"
    }
   ],
   "source": [
    "collections.Counter(gene_data_edit[gene_column])"
   ],
   "metadata": {
    "collapsed": false,
    "pycharm": {
     "name": "#%%\n"
    }
   }
  },
  {
   "cell_type": "code",
   "execution_count": null,
   "outputs": [],
   "source": [
    "# get minimum count\n",
    "min_value = min(collections.Counter(gene_data_edit[gene_column]).values())\n",
    "# sample from each group according to minimum count\n",
    "sampled_data = gene_data_edit.groupby(gene_column, sort=False).apply(lambda x: x.sample(min_value))\n",
    "sampled_data"
   ],
   "metadata": {
    "collapsed": false,
    "pycharm": {
     "name": "#%%\n",
     "is_executing": true
    }
   }
  },
  {
   "cell_type": "code",
   "execution_count": 91,
   "outputs": [
    {
     "data": {
      "text/plain": "Counter({'TCRBV19-01': 66628,\n         'TCRBV18-01': 66628,\n         'TCRBV30-01': 66628,\n         'TCRBV10-03': 66628,\n         'TCRBV29-01': 66628,\n         'TCRBV15-01': 66628,\n         'TCRBV20-01': 66628,\n         'TCRBV24-01': 66628})"
     },
     "execution_count": 91,
     "metadata": {},
     "output_type": "execute_result"
    }
   ],
   "source": [
    "collections.Counter(sampled_data[gene_column])"
   ],
   "metadata": {
    "collapsed": false,
    "pycharm": {
     "name": "#%%\n"
    }
   }
  },
  {
   "cell_type": "markdown",
   "source": [
    "#### Embeddings"
   ],
   "metadata": {
    "collapsed": false,
    "pycharm": {
     "name": "#%% md\n"
    }
   }
  },
  {
   "cell_type": "code",
   "execution_count": null,
   "outputs": [],
   "source": [
    "from cvc.embbeding_wrapper import EmbeddingWrapper\n",
    "\n",
    "# Create embeddings\n",
    "embed_wrap = EmbeddingWrapper(TRANSFORMER, DEVICE, sampled_data, batch_size=1024, method=\"mean\", layers=[-1])\n",
    "embed_wrap.embeddings.shape"
   ],
   "metadata": {
    "collapsed": false,
    "pycharm": {
     "name": "#%%\n",
     "is_executing": true
    }
   }
  },
  {
   "cell_type": "code",
   "execution_count": 94,
   "outputs": [
    {
     "data": {
      "text/plain": "AnnData object with n_obs × n_vars = 533024 × 768\n    obs: 'Sequences', 'Appearances', 'Private_Public_label', 'vGeneName'"
     },
     "execution_count": 94,
     "metadata": {},
     "output_type": "execute_result"
    }
   ],
   "source": [
    "# create anndata object\n",
    "tcrb_embeddings_adata = embed_wrap.create_anndata()\n",
    "tcrb_embeddings_adata"
   ],
   "metadata": {
    "collapsed": false,
    "pycharm": {
     "name": "#%%\n"
    }
   }
  },
  {
   "cell_type": "code",
   "execution_count": 95,
   "outputs": [
    {
     "data": {
      "text/plain": "        0         1         2         3         4         5         6    \\\n0  0.267327  0.378248  0.212134 -0.538438  0.355222 -0.049650 -0.138501   \n1 -0.180929  0.031371 -0.977410 -0.293124  0.171839  0.245886 -0.270421   \n2 -0.099687  0.121359 -1.004811 -0.101787  0.072440 -0.164602  0.270649   \n3 -0.087060  0.318789 -0.888871 -0.249198  0.018457  0.082617 -0.217170   \n4 -0.250581  0.336046  0.039553 -0.635242  0.352109  0.034677  0.361312   \n\n        7         8         9    ...       758       759       760       761  \\\n0  0.578286  0.074364 -0.053236  ... -0.833294 -0.918703  0.681873 -0.609621   \n1  0.034842  0.068647 -0.125348  ... -0.133794  0.125169 -0.062554  0.520991   \n2  0.090114  0.317392 -0.349951  ...  0.310287  0.066215 -0.188149  0.338994   \n3  0.245869  0.072656 -0.452326  ... -0.002164 -0.327957 -0.010220  0.226084   \n4 -0.087486  0.084265 -0.604619  ... -0.060031 -0.488144  0.238013 -0.191540   \n\n        762       763       764       765       766       767  \n0 -0.623982 -0.272287 -0.084609  0.488079 -0.270363 -0.395688  \n1  0.069077  0.673374 -0.541676  0.782637  0.367026  0.672535  \n2 -0.002995  0.622127 -0.436129  0.443981  0.401201  0.402440  \n3 -0.321754  0.696947 -0.525875  0.377622  0.650951 -0.095232  \n4 -0.214597  0.201849 -0.138888  0.780076  0.451069  0.325339  \n\n[5 rows x 768 columns]",
      "text/html": "<div>\n<style scoped>\n    .dataframe tbody tr th:only-of-type {\n        vertical-align: middle;\n    }\n\n    .dataframe tbody tr th {\n        vertical-align: top;\n    }\n\n    .dataframe thead th {\n        text-align: right;\n    }\n</style>\n<table border=\"1\" class=\"dataframe\">\n  <thead>\n    <tr style=\"text-align: right;\">\n      <th></th>\n      <th>0</th>\n      <th>1</th>\n      <th>2</th>\n      <th>3</th>\n      <th>4</th>\n      <th>5</th>\n      <th>6</th>\n      <th>7</th>\n      <th>8</th>\n      <th>9</th>\n      <th>...</th>\n      <th>758</th>\n      <th>759</th>\n      <th>760</th>\n      <th>761</th>\n      <th>762</th>\n      <th>763</th>\n      <th>764</th>\n      <th>765</th>\n      <th>766</th>\n      <th>767</th>\n    </tr>\n  </thead>\n  <tbody>\n    <tr>\n      <th>0</th>\n      <td>0.267327</td>\n      <td>0.378248</td>\n      <td>0.212134</td>\n      <td>-0.538438</td>\n      <td>0.355222</td>\n      <td>-0.049650</td>\n      <td>-0.138501</td>\n      <td>0.578286</td>\n      <td>0.074364</td>\n      <td>-0.053236</td>\n      <td>...</td>\n      <td>-0.833294</td>\n      <td>-0.918703</td>\n      <td>0.681873</td>\n      <td>-0.609621</td>\n      <td>-0.623982</td>\n      <td>-0.272287</td>\n      <td>-0.084609</td>\n      <td>0.488079</td>\n      <td>-0.270363</td>\n      <td>-0.395688</td>\n    </tr>\n    <tr>\n      <th>1</th>\n      <td>-0.180929</td>\n      <td>0.031371</td>\n      <td>-0.977410</td>\n      <td>-0.293124</td>\n      <td>0.171839</td>\n      <td>0.245886</td>\n      <td>-0.270421</td>\n      <td>0.034842</td>\n      <td>0.068647</td>\n      <td>-0.125348</td>\n      <td>...</td>\n      <td>-0.133794</td>\n      <td>0.125169</td>\n      <td>-0.062554</td>\n      <td>0.520991</td>\n      <td>0.069077</td>\n      <td>0.673374</td>\n      <td>-0.541676</td>\n      <td>0.782637</td>\n      <td>0.367026</td>\n      <td>0.672535</td>\n    </tr>\n    <tr>\n      <th>2</th>\n      <td>-0.099687</td>\n      <td>0.121359</td>\n      <td>-1.004811</td>\n      <td>-0.101787</td>\n      <td>0.072440</td>\n      <td>-0.164602</td>\n      <td>0.270649</td>\n      <td>0.090114</td>\n      <td>0.317392</td>\n      <td>-0.349951</td>\n      <td>...</td>\n      <td>0.310287</td>\n      <td>0.066215</td>\n      <td>-0.188149</td>\n      <td>0.338994</td>\n      <td>-0.002995</td>\n      <td>0.622127</td>\n      <td>-0.436129</td>\n      <td>0.443981</td>\n      <td>0.401201</td>\n      <td>0.402440</td>\n    </tr>\n    <tr>\n      <th>3</th>\n      <td>-0.087060</td>\n      <td>0.318789</td>\n      <td>-0.888871</td>\n      <td>-0.249198</td>\n      <td>0.018457</td>\n      <td>0.082617</td>\n      <td>-0.217170</td>\n      <td>0.245869</td>\n      <td>0.072656</td>\n      <td>-0.452326</td>\n      <td>...</td>\n      <td>-0.002164</td>\n      <td>-0.327957</td>\n      <td>-0.010220</td>\n      <td>0.226084</td>\n      <td>-0.321754</td>\n      <td>0.696947</td>\n      <td>-0.525875</td>\n      <td>0.377622</td>\n      <td>0.650951</td>\n      <td>-0.095232</td>\n    </tr>\n    <tr>\n      <th>4</th>\n      <td>-0.250581</td>\n      <td>0.336046</td>\n      <td>0.039553</td>\n      <td>-0.635242</td>\n      <td>0.352109</td>\n      <td>0.034677</td>\n      <td>0.361312</td>\n      <td>-0.087486</td>\n      <td>0.084265</td>\n      <td>-0.604619</td>\n      <td>...</td>\n      <td>-0.060031</td>\n      <td>-0.488144</td>\n      <td>0.238013</td>\n      <td>-0.191540</td>\n      <td>-0.214597</td>\n      <td>0.201849</td>\n      <td>-0.138888</td>\n      <td>0.780076</td>\n      <td>0.451069</td>\n      <td>0.325339</td>\n    </tr>\n  </tbody>\n</table>\n<p>5 rows × 768 columns</p>\n</div>"
     },
     "execution_count": 95,
     "metadata": {},
     "output_type": "execute_result"
    }
   ],
   "source": [
    "df_embeddings = pd.DataFrame(embed_wrap.embeddings)\n",
    "df_embeddings.head()"
   ],
   "metadata": {
    "collapsed": false,
    "pycharm": {
     "name": "#%%\n"
    }
   }
  },
  {
   "cell_type": "code",
   "execution_count": 96,
   "outputs": [],
   "source": [
    "# add gene label to dataframe\n",
    "df_embeddings_with_label = df_embeddings\n",
    "df_embeddings_with_label[gene_column]=list(tcrb_embeddings_adata.obs[gene_column])\n",
    "df_embeddings_with_label['Sequences']=list(tcrb_embeddings_adata.obs['Sequences'])"
   ],
   "metadata": {
    "collapsed": false,
    "pycharm": {
     "name": "#%%\n"
    }
   }
  },
  {
   "cell_type": "code",
   "execution_count": 97,
   "outputs": [],
   "source": [
    "# export embeddings to csvֿ\n",
    "df_embeddings_with_label.to_csv(output_path)"
   ],
   "metadata": {
    "collapsed": false,
    "pycharm": {
     "name": "#%%\n"
    }
   }
  },
  {
   "cell_type": "code",
   "execution_count": 31,
   "outputs": [],
   "source": [
    "# # load from csv\n",
    "if load_csv==True:\n",
    "    df_embeddings_with_label = pd.read_csv(input_path)\n",
    "    tcrb_embeddings = df_embeddings_with_label.iloc[:,1:-2].to_numpy()\n",
    "    j_gene_array = df_embeddings_with_label.iloc[:,-2].to_numpy()"
   ],
   "metadata": {
    "collapsed": false,
    "pycharm": {
     "name": "#%%\n"
    }
   }
  },
  {
   "cell_type": "markdown",
   "source": [
    "#### Classification Utils"
   ],
   "metadata": {
    "collapsed": false,
    "pycharm": {
     "name": "#%% md\n"
    }
   }
  },
  {
   "cell_type": "code",
   "execution_count": 98,
   "outputs": [],
   "source": [
    "accuracy_dictionary = {}"
   ],
   "metadata": {
    "collapsed": false,
    "pycharm": {
     "name": "#%%\n"
    }
   }
  },
  {
   "cell_type": "code",
   "execution_count": 99,
   "outputs": [],
   "source": [
    "TRAIN_RATIO = 0.8\n",
    "def split_train_test(embeddings, embedding_labels):\n",
    "    # The data will be divided into 80% training 20% validation\n",
    "    idx_train = int(len(embeddings) * TRAIN_RATIO)\n",
    "\n",
    "    indices = np.arange(embeddings.shape[0])\n",
    "    # Shuffle data\n",
    "    np.random.shuffle(indices)\n",
    "\n",
    "    # Separate the images and the labels\n",
    "    embeddings_shuffle = embeddings[indices] \n",
    "    embedding_labels_shuffle = embedding_labels[indices]\n",
    "\n",
    "    # Split to train and validation\n",
    "    train_embeddings = embeddings_shuffle[:idx_train]\n",
    "    train_labels = embedding_labels_shuffle[:idx_train]\n",
    "    validation_embeddings = embeddings_shuffle[idx_train:]\n",
    "    validation_labels = embedding_labels_shuffle[idx_train:]\n",
    "    \n",
    "    return train_embeddings, train_labels, validation_embeddings, validation_labels"
   ],
   "metadata": {
    "collapsed": false,
    "pycharm": {
     "name": "#%%\n"
    }
   }
  },
  {
   "cell_type": "code",
   "execution_count": 100,
   "outputs": [
    {
     "name": "stdout",
     "output_type": "stream",
     "text": [
      "shape of embeddings: (533024, 768)\n",
      "shape of embedding_labels: (533024,)\n"
     ]
    }
   ],
   "source": [
    "# run if data was read from a csv\n",
    "if load_csv==True:\n",
    "    embeddings = tcrb_embeddings\n",
    "    embedding_labels = df_embeddings_with_label[gene_column]\n",
    "    print(\"shape of embeddings: {}\\nshape of embedding_labels: {}\".format(embeddings.shape,embedding_labels.shape))"
   ],
   "metadata": {
    "collapsed": false,
    "pycharm": {
     "name": "#%%\n"
    }
   }
  },
  {
   "cell_type": "code",
   "execution_count": 102,
   "outputs": [
    {
     "data": {
      "text/plain": "((426419, 768), (426419,), (106605, 768), (106605,))"
     },
     "execution_count": 102,
     "metadata": {},
     "output_type": "execute_result"
    }
   ],
   "source": [
    "train_embeddings, embed_train_labels, validation_embeddings, embed_validation_labels = split_train_test(embeddings, embedding_labels)\n",
    "train_embeddings.shape, embed_train_labels.shape, validation_embeddings.shape, embed_validation_labels.shape"
   ],
   "metadata": {
    "collapsed": false,
    "pycharm": {
     "name": "#%%\n"
    }
   }
  },
  {
   "cell_type": "code",
   "execution_count": 103,
   "outputs": [
    {
     "data": {
      "text/plain": "(Counter({'TCRBV20-01': 13485,\n          'TCRBV15-01': 13485,\n          'TCRBV19-01': 13377,\n          'TCRBV24-01': 13141,\n          'TCRBV30-01': 13192,\n          'TCRBV10-03': 13354,\n          'TCRBV18-01': 13244,\n          'TCRBV29-01': 13327}),\n Counter({'TCRBV10-03': 53274,\n          'TCRBV18-01': 53384,\n          'TCRBV20-01': 53143,\n          'TCRBV30-01': 53436,\n          'TCRBV15-01': 53143,\n          'TCRBV19-01': 53251,\n          'TCRBV24-01': 53487,\n          'TCRBV29-01': 53301}))"
     },
     "execution_count": 103,
     "metadata": {},
     "output_type": "execute_result"
    }
   ],
   "source": [
    "# check for even distribution\n",
    "collections.Counter(embed_validation_labels), collections.Counter(embed_train_labels)"
   ],
   "metadata": {
    "collapsed": false,
    "pycharm": {
     "name": "#%%\n"
    }
   }
  },
  {
   "cell_type": "code",
   "execution_count": 104,
   "outputs": [],
   "source": [
    "# convert string to integer\n",
    "def genes_to_num(labels):\n",
    "    labels_unique = np.unique(labels)\n",
    "    labels_to_num = pd.factorize(labels_unique)\n",
    "    return labels_to_num"
   ],
   "metadata": {
    "collapsed": false,
    "pycharm": {
     "name": "#%%\n"
    }
   }
  },
  {
   "cell_type": "code",
   "execution_count": 105,
   "outputs": [],
   "source": [
    "genes_int_ratio = genes_to_num(embed_train_labels)\n",
    "# make dictionary of gene to integer\n",
    "gene_to_num_dictionary = dict(zip(genes_int_ratio[1], genes_int_ratio[0]))\n",
    "# convert embed_train_labels to integer using dictionary\n",
    "embed_train_labels_num = [gene_to_num_dictionary[gene] for gene in embed_train_labels]\n",
    "embed_val_labels_num = [gene_to_num_dictionary[gene] for gene in embed_validation_labels]"
   ],
   "metadata": {
    "collapsed": false,
    "pycharm": {
     "name": "#%%\n"
    }
   }
  },
  {
   "cell_type": "markdown",
   "source": [
    "#### xgBoost on Embeddings\n",
    "Guide on xgBoost - https://towardsdatascience.com/beginners-guide-to-xgboost-for-classification-problems-50f75aac5390\n"
   ],
   "metadata": {
    "collapsed": false,
    "pycharm": {
     "name": "#%% md\n"
    }
   }
  },
  {
   "cell_type": "code",
   "execution_count": 40,
   "outputs": [],
   "source": [
    "# feature scaling\n",
    "from sklearn.preprocessing import StandardScaler\n",
    "sc = StandardScaler()\n",
    "train_embeddings = sc.fit_transform(train_embeddings)\n",
    "validation_embeddings = sc.fit_transform(validation_embeddings)"
   ],
   "metadata": {
    "collapsed": false,
    "pycharm": {
     "name": "#%%\n"
    }
   }
  },
  {
   "cell_type": "code",
   "execution_count": null,
   "outputs": [],
   "source": [
    "# extract accuracy\n",
    "accuracy_dictionary['xgBoost'], xgb_preds, xgb_classifier = \\\n",
    "    lab_notebooks.utils.xgb_classify(train_embeddings, embed_train_labels_num, validation_embeddings, embed_val_labels_num)"
   ],
   "metadata": {
    "collapsed": false,
    "pycharm": {
     "name": "#%%\n"
    }
   }
  },
  {
   "cell_type": "code",
   "execution_count": null,
   "outputs": [],
   "source": [
    "# if PLOT_J_GENE is 1 then the umap will be colored by the J genes, otherwise it will be colored by the private/public label\n",
    "PLOT_J_GENE = 1\n",
    "if gene_type=='J':\n",
    "    if PLOT_J_GENE==1:\n",
    "        color_label='jGeneName',\n",
    "        direct_label=False,\n",
    "        color_map = ListedColormap(sns.color_palette(\"Spectral\", 13))\n",
    "        cmap= color_map,\n",
    "        title=\"UMAP of Embeddings, Colored by J Genes\",\n",
    "        legend_size=4,\n",
    "        pdf_title=\"tcr_model_db_data_umap_j_genes.pdf\",\n",
    "    else:\n",
    "        color_label='Private_Public_label',\n",
    "        direct_label=False,\n",
    "        colors = ['gold', 'darkblue']\n",
    "        cmap=matplotlib.colors.ListedColormap(colors),\n",
    "        title=\"UMAP of Embeddings, Colored by Public/Private Label\",\n",
    "        legend_size=4,\n",
    "        pdf_title=\"tcr_model_db_data_umap_j_genes.pdf\",\n",
    "\n",
    "# Plot embeddings\n",
    "embed_wrap.plot_embedding(\n",
    "    anndata=tcrb_embeddings_adata,\n",
    "    color_embed=color_label,\n",
    "    color_map=cmap,\n",
    "    title=title,\n",
    "    legend_size=legend_size,\n",
    "    plot_pdf_path=os.path.join(PLOT_DIR, pdf_title),\n",
    ")"
   ],
   "metadata": {
    "collapsed": false,
    "pycharm": {
     "name": "#%%\n"
    }
   }
  },
  {
   "cell_type": "markdown",
   "source": [
    "#### One-Hot Encoding"
   ],
   "metadata": {
    "collapsed": false,
    "pycharm": {
     "name": "#%% md\n"
    }
   }
  },
  {
   "cell_type": "code",
   "execution_count": 115,
   "outputs": [],
   "source": [
    "# Import Dependencies \n",
    "import pandas as pd\n",
    "import numpy as np\n",
    "\n",
    "# Function to encode sequences\n",
    "def encode_seq(sequence, max_cdr3_len):\n",
    "    alphabet = ['A', 'C', 'D', 'E', 'F', 'G','H', 'I', 'K', 'L', 'M', 'N', 'P', 'Q', 'R', 'S', 'T', 'V', 'W', 'Y']\n",
    "    char_to_int = dict((c, i) for i, c in enumerate(alphabet))\n",
    "    integer_encoded = [char_to_int[char] for char in sequence]\n",
    "    \n",
    "    # one hot encode\n",
    "    integer_encoded = torch.tensor(integer_encoded)\n",
    "    integer_encoded = F.one_hot(integer_encoded, num_classes=len(alphabet))\n",
    "    \n",
    "    # pad integer_encoded tensor first dim with zeros up to max_cdr3_len\n",
    "    integer_encoded = F.pad(integer_encoded, (0,0,0, max_cdr3_len - len(integer_encoded)))\n",
    "    integer_encoded = integer_encoded.numpy()\n",
    "    return integer_encoded"
   ],
   "metadata": {
    "collapsed": false,
    "pycharm": {
     "name": "#%%\n"
    }
   }
  },
  {
   "cell_type": "code",
   "execution_count": 116,
   "outputs": [
    {
     "data": {
      "text/plain": "27"
     },
     "execution_count": 116,
     "metadata": {},
     "output_type": "execute_result"
    }
   ],
   "source": [
    "# extract sequences\n",
    "cdr3_sequences = df_embeddings_with_label['Sequences']#tcrb_data_sample['Sequences']\n",
    "sequences_labels = df_embeddings_with_label[gene_column]\n",
    "max_cdr3_len = cdr3_sequences.apply(len).max()\n",
    "max_cdr3_len"
   ],
   "metadata": {
    "collapsed": false,
    "pycharm": {
     "name": "#%%\n"
    }
   }
  },
  {
   "cell_type": "code",
   "execution_count": 117,
   "outputs": [
    {
     "name": "stdout",
     "output_type": "stream",
     "text": [
      "shape of training set: (426419,)\n",
      "shape of validation set: (106605,)\n"
     ]
    }
   ],
   "source": [
    "# split data into train/test\n",
    "train_seqs, train_labels, validation_seqs, validation_labels = split_train_test(cdr3_sequences.to_numpy(), sequences_labels)\n",
    "print(\"shape of training set: {}\\nshape of validation set: {}\".format(train_seqs.shape, validation_seqs.shape))"
   ],
   "metadata": {
    "collapsed": false,
    "pycharm": {
     "name": "#%%\n"
    }
   }
  },
  {
   "cell_type": "code",
   "execution_count": 118,
   "outputs": [],
   "source": [
    "# encode amino acid sequences to one hot vector\n",
    "encoded_train_seqs = pd.Series(train_seqs).apply(lambda x: encode_seq(x, max_cdr3_len))\n",
    "encoded_validation_seqs = pd.Series(validation_seqs).apply(lambda x: encode_seq(x, max_cdr3_len))"
   ],
   "metadata": {
    "collapsed": false,
    "pycharm": {
     "name": "#%%\n"
    }
   }
  },
  {
   "cell_type": "code",
   "execution_count": 120,
   "outputs": [
    {
     "data": {
      "text/plain": "((426419, 27, 20), (106605, 27, 20))"
     },
     "execution_count": 120,
     "metadata": {},
     "output_type": "execute_result"
    }
   ],
   "source": [
    "# Stack list(encoded_train_seqs) in dim 0\n",
    "train_seqs_stack = np.stack(encoded_train_seqs, axis=0)\n",
    "valid_seqs_stack = np.stack(encoded_validation_seqs, axis=0)\n",
    "train_seqs_stack.shape, valid_seqs_stack.shape"
   ],
   "metadata": {
    "collapsed": false,
    "pycharm": {
     "name": "#%%\n"
    }
   }
  },
  {
   "cell_type": "code",
   "execution_count": 121,
   "outputs": [
    {
     "data": {
      "text/plain": "((426419, 540), (106605, 540))"
     },
     "execution_count": 121,
     "metadata": {},
     "output_type": "execute_result"
    }
   ],
   "source": [
    "# reshape train/validation tensors\n",
    "train_seqs_stack = train_seqs_stack.reshape(train_seqs_stack.shape[0], -1)\n",
    "valid_seqs_stack = valid_seqs_stack.reshape(valid_seqs_stack.shape[0], -1)\n",
    "train_seqs_stack.shape, valid_seqs_stack.shape"
   ],
   "metadata": {
    "collapsed": false,
    "pycharm": {
     "name": "#%%\n"
    }
   }
  },
  {
   "cell_type": "code",
   "execution_count": 122,
   "outputs": [],
   "source": [
    "genes_int_ratio = genes_to_num(train_labels)\n",
    "# make dictionary of gene to integer\n",
    "gene_to_num_dictionary = dict(zip(genes_int_ratio[1], genes_int_ratio[0]))\n",
    "# convert embed_train_labels to integer using dictionary\n",
    "train_labels_num = [gene_to_num_dictionary[gene] for gene in train_labels]\n",
    "val_labels_num = [gene_to_num_dictionary[gene] for gene in validation_labels]"
   ],
   "metadata": {
    "collapsed": false,
    "pycharm": {
     "name": "#%%\n"
    }
   }
  },
  {
   "cell_type": "markdown",
   "source": [
    "#### xgBoost on One-Hot Encoding"
   ],
   "metadata": {
    "collapsed": false,
    "pycharm": {
     "name": "#%% md\n"
    }
   }
  },
  {
   "cell_type": "code",
   "execution_count": null,
   "outputs": [],
   "source": [
    "# apply xgb on onehot, extract accuracy\n",
    "accuracy_dictionary['xgBoost_OneHot'], xgb_preds_onehot, xgb_classifier_onehot =\\\n",
    "    lab_notebooks.utils.xgb_classify(train_seqs_stack, train_labels_num, valid_seqs_stack, val_labels_num)"
   ],
   "metadata": {
    "collapsed": false,
    "pycharm": {
     "name": "#%%\n"
    }
   }
  },
  {
   "cell_type": "markdown",
   "source": [
    "### LDA"
   ],
   "metadata": {
    "collapsed": false,
    "pycharm": {
     "name": "#%% md\n"
    }
   }
  },
  {
   "cell_type": "code",
   "execution_count": null,
   "outputs": [],
   "source": [
    "accuracy_dictionary[\"LDA\"], lda_preds, lda_classifier = lab_notebooks.utils.lda_classify(train_embeddings,embed_train_labels_num, validation_embeddings, embed_val_labels_num)"
   ],
   "metadata": {
    "collapsed": false,
    "pycharm": {
     "name": "#%%\n"
    }
   }
  },
  {
   "cell_type": "markdown",
   "source": [
    "### LDA oneHot"
   ],
   "metadata": {
    "collapsed": false,
    "pycharm": {
     "name": "#%% md\n"
    }
   }
  },
  {
   "cell_type": "code",
   "execution_count": null,
   "outputs": [],
   "source": [
    "accuracy_dictionary[\"LDA_OneHot\"], lda_preds_onehot, lda_classifier_onehot =\\\n",
    "    lab_notebooks.utils.xgb_classify(train_seqs_stack, train_labels_num, valid_seqs_stack, val_labels_num)"
   ],
   "metadata": {
    "collapsed": false,
    "pycharm": {
     "name": "#%%\n"
    }
   }
  },
  {
   "cell_type": "markdown",
   "source": [
    "## Deep Neural Network"
   ],
   "metadata": {
    "collapsed": false,
    "pycharm": {
     "name": "#%% md\n"
    }
   }
  },
  {
   "cell_type": "markdown",
   "source": [
    "#### Deep Learning Model on Embeddings"
   ],
   "metadata": {
    "collapsed": false,
    "pycharm": {
     "name": "#%% md\n"
    }
   }
  },
  {
   "cell_type": "code",
   "execution_count": 136,
   "outputs": [],
   "source": [
    "# set flag to run with onehot\n",
    "DNN_ONEHOT = 1"
   ],
   "metadata": {
    "collapsed": false,
    "pycharm": {
     "name": "#%%\n"
    }
   }
  },
  {
   "cell_type": "code",
   "execution_count": 137,
   "outputs": [],
   "source": [
    "# defining dataset class\n",
    "from torch.utils.data import Dataset, DataLoader\n",
    "class dataset(Dataset):\n",
    "    def __init__(self,x, y):\n",
    "        # self.x = torch.tensor(x, dtype=torch.float32).to('cuda')\n",
    "        # self.y = torch.tensor(y, dtype=torch.float32).to('cuda')\n",
    "        self.x = torch.tensor(x, dtype=torch.float32)\n",
    "        self.y = torch.tensor(y, dtype=torch.float32)\n",
    "        self.length = self.x.shape[0]\n",
    "        assert self.x.shape[0] == self.y.shape[0]\n",
    "        \n",
    "    def __getitem__(self, idx):\n",
    "        return self.x[idx], self.y[idx]\n",
    "    \n",
    "    def __len__(self):\n",
    "        return self.length"
   ],
   "metadata": {
    "collapsed": false,
    "pycharm": {
     "name": "#%%\n"
    }
   }
  },
  {
   "cell_type": "code",
   "execution_count": 138,
   "outputs": [],
   "source": [
    "BATCH_SIZE = 1024\n",
    "\n",
    "# create datasets\n",
    "if DNN_ONEHOT==0:\n",
    "    trainset = dataset(train_embeddings, embed_train_labels_num)\n",
    "    validset = dataset(validation_embeddings, embed_val_labels_num)\n",
    "else:\n",
    "    trainset = dataset(train_seqs_stack, train_labels_num)\n",
    "    validset = dataset(valid_seqs_stack, val_labels_num)\n",
    "\n",
    "# DataLoader with 10 workers\n",
    "trainloader = DataLoader(trainset, batch_size=BATCH_SIZE, shuffle=True, num_workers=10, pin_memory=True)\n",
    "validloader = DataLoader(validset, batch_size=BATCH_SIZE, num_workers=10, pin_memory=True)"
   ],
   "metadata": {
    "collapsed": false,
    "pycharm": {
     "name": "#%%\n"
    }
   }
  },
  {
   "cell_type": "code",
   "execution_count": 139,
   "outputs": [],
   "source": [
    "#defining the network\n",
    "from torch import nn\n",
    "from torch.nn import functional as F\n",
    "\n",
    "class Net(nn.Module):\n",
    "    def __init__(self, input_shape, num_classes=len(collections.Counter(gene_data_edit[gene_column]))):\n",
    "        super(Net,self).__init__()\n",
    "        self.fc1 = nn.Linear(input_shape,64)\n",
    "        self.fc2 = nn.Linear(64,32)\n",
    "        self.fc3 = nn.Linear(32,num_classes)\n",
    "\n",
    "    def forward(self,x):\n",
    "        x = torch.relu(self.fc1(x))\n",
    "        x = torch.relu(self.fc2(x))\n",
    "        x = self.fc3(x)\n",
    "        return x"
   ],
   "metadata": {
    "collapsed": false,
    "pycharm": {
     "name": "#%%\n"
    }
   }
  },
  {
   "cell_type": "code",
   "execution_count": 140,
   "outputs": [],
   "source": [
    "# hyper parameters\n",
    "learning_rate = 0.00001\n",
    "\n",
    "# set input shape\n",
    "input_shape = train_embeddings.shape[1]\n",
    "if DNN_ONEHOT:\n",
    "    input_shape = train_seqs_stack.shape[1]\n",
    "\n",
    "# Model , Optimizer, Loss\n",
    "device = 'cpu'\n",
    "model = Net(input_shape=input_shape).to(device)\n",
    "optimizer = torch.optim.Adam(model.parameters(),lr=learning_rate)"
   ],
   "metadata": {
    "collapsed": false,
    "pycharm": {
     "name": "#%%\n"
    }
   }
  },
  {
   "cell_type": "code",
   "execution_count": 141,
   "outputs": [],
   "source": [
    "# calculate accuracy multi-class\n",
    "def calculate_accuracy(y_pred, y_test):\n",
    "    y_pred_tag = torch.argmax(y_pred, dim=1)\n",
    "    correct_results_sum = (y_pred_tag == y_test).sum().float()\n",
    "    acc = correct_results_sum/y_test.shape[0]\n",
    "    acc = torch.round(acc * 100)\n",
    "    return acc"
   ],
   "metadata": {
    "collapsed": false,
    "pycharm": {
     "name": "#%%\n"
    }
   }
  },
  {
   "cell_type": "code",
   "execution_count": 142,
   "outputs": [],
   "source": [
    "def train_classify(model, trainloader, optimizer):\n",
    "    epoch_loss = 0\n",
    "    epoch_acc = 0\n",
    "    count = 0\n",
    "    model.train()\n",
    "    for train_embedding, train_label in tqdm.notebook.tqdm(trainloader, total=len(trainloader)):\n",
    "        # option to move train_embedding, train_label to gpu here\n",
    "        # calculate output\n",
    "        train_embedding, train_label =  train_embedding.to(device), train_label.to(device)\n",
    "        output = model(train_embedding)\n",
    "\n",
    "        # calculate loss\n",
    "        loss = F.cross_entropy(output, train_label.reshape(-1).long())\n",
    "        \n",
    "        # accuracy\n",
    "        acc = calculate_accuracy(output, train_label)\n",
    "        \n",
    "        # backprop\n",
    "        optimizer.zero_grad() \n",
    "        loss.backward()\n",
    "        optimizer.step()\n",
    "\n",
    "        epoch_loss += loss.item()\n",
    "        epoch_acc += acc.item()\n",
    "        count += len(train_label)\n",
    "    return epoch_loss / len(trainloader), epoch_acc / len(trainloader)"
   ],
   "metadata": {
    "collapsed": false,
    "pycharm": {
     "name": "#%%\n"
    }
   }
  },
  {
   "cell_type": "code",
   "execution_count": 143,
   "outputs": [],
   "source": [
    "def evaluate_classify(model, validloader): \n",
    "    epoch_loss = 0\n",
    "    epoch_acc = 0\n",
    "    count = 0\n",
    "    model.eval()\n",
    "    label_list = []\n",
    "    pred_label_list = []\n",
    "    with torch.no_grad(): \n",
    "        for valid_embedding, valid_label in tqdm.notebook.tqdm(validloader, total=len(validloader)):\n",
    "            # option to move valid_embedding, valid_label to gpu here\n",
    "            valid_embedding, valid_label = valid_embedding.to(device), valid_label.to(device)\n",
    "            # calculate output\n",
    "            output = model(valid_embedding)\n",
    "\n",
    "            # calculate loss\n",
    "            loss = F.cross_entropy(output, valid_label.reshape(-1).long())\n",
    "\n",
    "            # accuracy\n",
    "            acc = calculate_accuracy(output, valid_label)\n",
    "            \n",
    "            # add to lists for confusion matrixv\n",
    "            label_list.append(valid_label.cpu())\n",
    "            pred_label_list.append(output.cpu())\n",
    "            \n",
    "            #acc = calculate_accuracy(output, valid_label)\n",
    "            epoch_loss += loss.item()\n",
    "            epoch_acc += acc.item()\n",
    "            count += len(valid_label)\n",
    "    return (epoch_loss / len(validloader), epoch_acc / len(validloader),\n",
    "            torch.cat(label_list, dim=0), \n",
    "            torch.cat(pred_label_list, dim=0))"
   ],
   "metadata": {
    "collapsed": false,
    "pycharm": {
     "name": "#%%\n"
    }
   }
  },
  {
   "cell_type": "code",
   "execution_count": 144,
   "outputs": [
    {
     "data": {
      "text/plain": "<Figure size 864x864 with 4 Axes>",
      "image/png": "[encoded data removed]"
     },
     "metadata": {},
     "output_type": "display_data"
    },
    {
     "name": "stdout",
     "output_type": "stream",
     "text": [
      "train accuracy\n",
      "\ttrain accuracy   \t (min:   13.451, max:   90.096, cur:   90.086)\n",
      "train loss\n",
      "\ttrain loss       \t (min:    0.276, max:    2.080, cur:    0.276)\n",
      "validation accuracy\n",
      "\tvalidation accuracy \t (min:   14.733, max:   89.933, cur:   89.924)\n",
      "validation loss\n",
      "\tvalidation loss  \t (min:    0.278, max:    2.072, cur:    0.278)\n"
     ]
    }
   ],
   "source": [
    "from livelossplot import PlotLosses\n",
    "liveloss1_class = PlotLosses()\n",
    "logs_class = {}\n",
    "EPOCHS=80\n",
    "\n",
    "for epoch in range(EPOCHS):\n",
    "    print('starting epoch {}'.format(epoch))\n",
    "    train_loss, train_acc = train_classify(model, trainloader, optimizer)\n",
    "    print('Epoch {} of {}, Train Loss: {:.3f}'.format(\n",
    "            epoch+1, EPOCHS, train_loss))\n",
    "    \n",
    "    print('Epoch {} of {}, Train Accuracy: {:.3f}'.format(\n",
    "          epoch+1, EPOCHS, train_acc))\n",
    "    \n",
    "    logs_class['train loss'] = train_loss\n",
    "    logs_class['train accuracy'] = train_acc\n",
    "\n",
    "    valid_loss, valid_acc, label_list, pred_label_list  = evaluate_classify(model, validloader)\n",
    "    print('Epoch {} of {}, Validate Loss: {:.3f}'.format(\n",
    "        epoch+1, EPOCHS, valid_loss))\n",
    "    \n",
    "    print('Epoch {} of {}, Validate Accuracy: {:.3f}'.format(\n",
    "        epoch+1, EPOCHS, valid_acc))\n",
    "\n",
    "    logs_class['validation loss'] = valid_loss\n",
    "    logs_class['validation accuracy'] = valid_acc\n",
    "        \n",
    "    liveloss1_class.update(logs_class)\n",
    "    liveloss1_class.send()"
   ],
   "metadata": {
    "collapsed": false,
    "pycharm": {
     "name": "#%%\n"
    }
   }
  },
  {
   "cell_type": "code",
   "execution_count": 65,
   "outputs": [
    {
     "data": {
      "text/plain": "<Figure size 576x576 with 1 Axes>",
      "image/png": "[encoded data removed]"
     },
     "metadata": {
      "needs_background": "light"
     },
     "output_type": "display_data"
    }
   ],
   "source": [
    "# plot accuracies\n",
    "accuracy_dict = {'model': ['xgb', 'xgb one-hot', 'LDA', 'LDA one-hot', 'DNN', 'DNN one-hot'], 'accuracy': [accuracy_dictionary['xgBoost'], accuracy_dictionary['xgBoost_OneHot'], accuracy_dictionary[\"LDA\"], accuracy_dictionary[\"LDA_OneHot\"], 98.7, 96.1]}\n",
    "accuracy_df = pd.DataFrame(accuracy_dict)\n",
    "fig, ax = plt.subplots(figsize=(8,8))\n",
    "sns.barplot(x='model', y='accuracy', data=accuracy_df)\n",
    "ax.set_ylim(94, 100)\n",
    "plt.show()"
   ],
   "metadata": {
    "collapsed": false,
    "pycharm": {
     "name": "#%%\n"
    }
   }
  }
 ],
 "metadata": {
  "kernelspec": {
   "display_name": "Python 3",
   "language": "python",
   "name": "python3"
  },
  "language_info": {
   "codemirror_mode": {
    "name": "ipython",
    "version": 3
   },
   "file_extension": ".py",
   "mimetype": "text/x-python",
   "name": "python",
   "nbconvert_exporter": "python",
   "pygments_lexer": "ipython3",
   "version": "3.9.2"
  }
 },
 "nbformat": 4,
 "nbformat_minor": 5
}