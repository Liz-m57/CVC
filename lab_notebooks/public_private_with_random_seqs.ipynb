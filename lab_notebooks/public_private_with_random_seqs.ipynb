{
 "cells": [
  {
   "cell_type": "markdown",
   "id": "300a37f5",
   "metadata": {
    "cell_id": "dfcb45a2-e13b-432d-885a-42bb3dd563a3",
    "deepnote_cell_height": 74.796875,
    "deepnote_cell_type": "markdown",
    "pycharm": {
     "name": "#%% md\n"
    }
   },
   "source": [
    "#### Visualization of Random Sequences in Embedding Space"
   ]
  },
  {
   "cell_type": "code",
   "execution_count": 1,
   "id": "a6b24f51",
   "metadata": {
    "cell_id": "5d9c47c0-6d9e-482d-b141-b891da650664",
    "deepnote_cell_height": 190.1875,
    "deepnote_cell_type": "code",
    "deepnote_output_heights": [
     21.1875
    ],
    "deepnote_to_be_reexecuted": false,
    "execution_millis": 12,
    "execution_start": 1645287525442,
    "source_hash": "371d1002",
    "tags": [],
    "pycharm": {
     "name": "#%%\n"
    }
   },
   "outputs": [
    {
     "name": "stdout",
     "output_type": "stream",
     "text": [
      "/home/romi/projects/preTCR\n"
     ]
    }
   ],
   "source": [
    "cd .."
   ]
  },
  {
   "cell_type": "code",
   "execution_count": 2,
   "id": "da7a5597-a0ae-4aa7-bcb4-62d219a76df2",
   "metadata": {
    "pycharm": {
     "name": "#%%\n"
    }
   },
   "outputs": [],
   "source": [
    "%load_ext autoreload\n",
    "%autoreload 2"
   ]
  },
  {
   "cell_type": "code",
   "execution_count": 4,
   "id": "87e1f947",
   "metadata": {
    "cell_id": "00001-55732162-ceaf-44b6-b0f9-62861608b761",
    "deepnote_cell_height": 1117.875,
    "deepnote_cell_type": "code",
    "deepnote_output_heights": [
     null,
     21.1875
    ],
    "deepnote_to_be_reexecuted": false,
    "execution_millis": 2706,
    "execution_start": 1645287607716,
    "source_hash": "cc7135c9",
    "pycharm": {
     "name": "#%%\n"
    }
   },
   "outputs": [
    {
     "name": "stderr",
     "output_type": "stream",
     "text": [
      "WARNING:root:Defaulting to CPU\n",
      "WARNING:root:Defaulting to CPU\n"
     ]
    },
    {
     "data": {
      "text/plain": "'plots/CDR3_data_plots'"
     },
     "execution_count": 4,
     "metadata": {},
     "output_type": "execute_result"
    }
   ],
   "source": [
    "import os, sys\n",
    "import collections\n",
    "import pandas as pd\n",
    "import matplotlib\n",
    "\n",
    "SRC_DIR = \"cvc\"\n",
    "assert os.path.isdir(SRC_DIR), f\"Cannot find src dir: {SRC_DIR}\"\n",
    "sys.path.append(SRC_DIR)\n",
    "from cvc import model_utils\n",
    "from lab_notebooks.utils import TRANSFORMER, DEVICE, DATA_DIR\n",
    "MODEL_DIR = os.path.join(SRC_DIR, \"models\")\n",
    "sys.path.append(MODEL_DIR)\n",
    "\n",
    "FILT_EDIT_DIST = True\n",
    "\n",
    "PLOT_DIR = os.path.join(os.path.dirname(SRC_DIR), \"plots/CDR3_data_plots\")\n",
    "if not os.path.isdir(PLOT_DIR):\n",
    "    os.makedirs(PLOT_DIR)\n",
    "PLOT_DIR"
   ]
  },
  {
   "cell_type": "markdown",
   "source": [
    "#### Prepare Data"
   ],
   "metadata": {
    "collapsed": false,
    "pycharm": {
     "name": "#%% md\n"
    }
   }
  },
  {
   "cell_type": "code",
   "execution_count": 8,
   "outputs": [],
   "source": [
    "data_dir = DATA_DIR + \"db_data_appearances.csv\""
   ],
   "metadata": {
    "collapsed": false,
    "pycharm": {
     "name": "#%%\n"
    }
   }
  },
  {
   "cell_type": "code",
   "execution_count": null,
   "outputs": [],
   "source": [
    "tcrb_data = pd.read_csv(data_dir, engine=\"pyarrow\")\n",
    "\n",
    "# drop duplicates\n",
    "tcrb_data_sample_from = tcrb_data.drop_duplicates()\n",
    "tcrb_data_sample_from.head()"
   ],
   "metadata": {
    "collapsed": false,
    "pycharm": {
     "name": "#%%\n",
     "is_executing": true
    }
   }
  },
  {
   "cell_type": "code",
   "execution_count": 10,
   "outputs": [
    {
     "data": {
      "text/plain": "91758697"
     },
     "execution_count": 10,
     "metadata": {},
     "output_type": "execute_result"
    }
   ],
   "source": [
    "len(tcrb_data_sample_from)"
   ],
   "metadata": {
    "collapsed": false,
    "pycharm": {
     "name": "#%%\n"
    }
   }
  },
  {
   "cell_type": "markdown",
   "source": [
    "#### Analyze Appearances/Abundance"
   ],
   "metadata": {
    "collapsed": false,
    "pycharm": {
     "name": "#%% md\n"
    }
   }
  },
  {
   "cell_type": "code",
   "execution_count": 13,
   "outputs": [],
   "source": [
    "# add column of sequence lengths\n",
    "tcrb_data_sample_from['Length'] = tcrb_data_sample_from['Sequences'].apply(len)"
   ],
   "metadata": {
    "collapsed": false,
    "pycharm": {
     "name": "#%%\n"
    }
   }
  },
  {
   "cell_type": "code",
   "execution_count": 14,
   "outputs": [
    {
     "data": {
      "text/plain": "Counter({1: 17562246, 0: 74196451})"
     },
     "execution_count": 14,
     "metadata": {},
     "output_type": "execute_result"
    }
   ],
   "source": [
    "collections.Counter(tcrb_data_sample_from['Private_Public_label'])"
   ],
   "metadata": {
    "collapsed": false,
    "pycharm": {
     "name": "#%%\n"
    }
   }
  },
  {
   "cell_type": "code",
   "execution_count": 16,
   "outputs": [],
   "source": [
    "# for publicness\n",
    "tcrb_data_sample_from['publicness_bin'] = pd.cut(tcrb_data_sample_from.Appearances, bins=[0,1,10,25, 50, 100, 150, 200, 250, 300, 350, 400,450, 500,550, 600,650, 700,750, 800,850, 900,950,1000, 2000], labels=['0-1','1-10','10-25', '25-50', '50-100','100-150','150-200', '200-250', '250-300', '300-350','350-400', '400-450', '450-500','500-550','550-600','600-650', '650-700','700-750', '750-800', '800-850','850-900','900-950','950-1000','1000+'])\n",
    "tcrb_data_sample_from.publicness_bin.value_counts()"
   ],
   "metadata": {
    "collapsed": false,
    "pycharm": {
     "name": "#%%\n"
    }
   }
  },
  {
   "cell_type": "code",
   "execution_count": null,
   "outputs": [],
   "source": [
    "stats = collections.Counter(tcrb_data_sample_from['Appearances']) # to draw appearance histogram (no bins)\n",
    "stats"
   ],
   "metadata": {
    "collapsed": false,
    "pycharm": {
     "name": "#%%\n",
     "is_executing": true
    }
   }
  },
  {
   "cell_type": "code",
   "execution_count": 39,
   "outputs": [],
   "source": [
    "# reverse order of stats dictionary\n",
    "from collections import OrderedDict\n",
    "reversed_stats = OrderedDict(reversed(list(stats.items())))"
   ],
   "metadata": {
    "collapsed": false,
    "pycharm": {
     "name": "#%%\n"
    }
   }
  },
  {
   "cell_type": "markdown",
   "source": [
    "#### Subsample Data"
   ],
   "metadata": {
    "collapsed": false,
    "pycharm": {
     "name": "#%% md\n"
    }
   }
  },
  {
   "cell_type": "code",
   "execution_count": null,
   "outputs": [],
   "source": [
    "# sample 500,000 rows\n",
    "#tcrb_data_sample = tcrb_data_sample_from.sample(n=500000)\n",
    "\n",
    "# for db data (for equal distributions between plots)\n",
    "# We will sample 15% public and 85% private sequences to have a roughly equal distribution to previous samplings.\n",
    "TOTAL_COUNT = 1000000\n",
    "PUBLIC_COUNT = int(.15 * TOTAL_COUNT)\n",
    "PRIVATE_COUNT = int(.85 * TOTAL_COUNT)\n",
    "public_sample = tcrb_data_sample_from.query('Private_Public_label == 1').sample(PUBLIC_COUNT, random_state=10)\n",
    "private_sample = tcrb_data_sample_from.query('Private_Public_label == 0').sample(PRIVATE_COUNT, random_state=10)\n",
    "# join public and private samples\n",
    "tcrb_data_sample = pd.concat([public_sample, private_sample])"
   ],
   "metadata": {
    "collapsed": false,
    "pycharm": {
     "name": "#%%\n"
    }
   }
  },
  {
   "cell_type": "markdown",
   "source": [
    "#### Genarate 1000 random sequences"
   ],
   "metadata": {
    "collapsed": false,
    "pycharm": {
     "name": "#%% md\n"
    }
   }
  },
  {
   "cell_type": "code",
   "execution_count": null,
   "outputs": [],
   "source": [
    "# Generate 10000 random sequences size 11 - 20 with even distribution of amino acids\n",
    "amino_acids = ['R','H','K','D','E','S','T','N','Q','C','U','G','P','A','V','I','L','M','F','Y','W']\n",
    "RANDOM_SEQ_NUM = 10000\n",
    "seq = \"\"\n",
    "seq_list = list()\n",
    "from random import randint\n",
    "for i in range(RANDOM_SEQ_NUM):\n",
    "    seq = \"\"\n",
    "    length = randint(10,20)\n",
    "    m = 0\n",
    "    while m<=length:\n",
    "        seq += amino_acids[randint(0,len(amino_acids)-1)]\n",
    "        m+=1\n",
    "    seq_list.append(seq)\n",
    "seq_list\n",
    "\n",
    "# create dataframe from sequence list\n",
    "data_for_df = {'Sequences': seq_list, 'Private_Public_label': 2, 'Appearances':0}\n",
    "random_seq_df = pd.DataFrame(data_for_df)"
   ],
   "metadata": {
    "collapsed": false,
    "pycharm": {
     "name": "#%%\n"
    }
   }
  },
  {
   "cell_type": "code",
   "execution_count": null,
   "outputs": [],
   "source": [
    "# concat to tcrb_data_sample\n",
    "# join public and private samples\n",
    "tcrb_data_sample_concatinated = pd.concat([tcrb_data_sample, random_seq_df])\n",
    "tcrb_data_sample = tcrb_data_sample_concatinated\n",
    "tcrb_data_sample"
   ],
   "metadata": {
    "collapsed": false,
    "pycharm": {
     "name": "#%%\n"
    }
   }
  },
  {
   "cell_type": "markdown",
   "source": [
    "#### Create and Display embeddings"
   ],
   "metadata": {
    "collapsed": false,
    "pycharm": {
     "name": "#%% md\n"
    }
   }
  },
  {
   "cell_type": "code",
   "execution_count": null,
   "outputs": [],
   "source": [
    "from cvc.embbeding_wrapper import EmbeddingWrapper\n",
    "# Create embeddings\n",
    "embed_wrap = EmbeddingWrapper(TRANSFORMER, DEVICE, tcrb_data_sample, batch_size=1024, method=\"mean\", layers=[-1])\n",
    "embed_wrap.embeddings.shape"
   ],
   "metadata": {
    "collapsed": false,
    "pycharm": {
     "name": "#%%\n"
    }
   }
  },
  {
   "cell_type": "code",
   "execution_count": null,
   "outputs": [],
   "source": [
    "# create anndata object\n",
    "tcrb_embeddings_adata = embed_wrap.create_anndata()"
   ],
   "metadata": {
    "collapsed": false,
    "pycharm": {
     "name": "#%%\n"
    }
   }
  },
  {
   "cell_type": "code",
   "execution_count": null,
   "outputs": [],
   "source": [
    "# Plot embeddings\n",
    "embed_wrap.plot_embedding(\n",
    "    anndata=tcrb_embeddings_adata,\n",
    "    color_embed='Private_Public_label',\n",
    "    colors=['gold', 'darkblue', 'maroon'],\n",
    "    color_map=matplotlib.colors.ListedColormap(colors),\n",
    "    title=\"UMAP of Embeddings with 10,000 Randomly Generated Sequences\",\n",
    "    legend_size=3,\n",
    "    plot_pdf_path=os.path.join(PLOT_DIR, \"cr_model_db_data_umap_10k_rand.pdf\")\n",
    ")"
   ],
   "metadata": {
    "collapsed": false,
    "pycharm": {
     "name": "#%%\n"
    }
   }
  }
 ],
 "metadata": {
  "deepnote": {},
  "deepnote_execution_queue": [],
  "deepnote_notebook_id": "cef408d8-9130-407c-bfc8-1126d6b70d18",
  "kernelspec": {
   "display_name": "Python 3",
   "language": "python",
   "name": "python3"
  },
  "language_info": {
   "codemirror_mode": {
    "name": "ipython",
    "version": 3
   },
   "file_extension": ".py",
   "mimetype": "text/x-python",
   "name": "python",
   "nbconvert_exporter": "python",
   "pygments_lexer": "ipython3",
   "version": "3.9.2"
  }
 },
 "nbformat": 4,
 "nbformat_minor": 5
}