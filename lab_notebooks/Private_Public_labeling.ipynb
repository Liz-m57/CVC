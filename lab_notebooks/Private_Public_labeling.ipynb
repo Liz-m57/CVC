{
 "cells": [
  {
   "cell_type": "markdown",
   "source": [
    "#### Create Public/Private label in dataset\n",
    "This notebook creates the Private/Public label in the dataset.\n",
    "The label is created by counting the number of times each sequence appears in the dataset.\n",
    "If the sequence appears more than once, it is labeled as Public, otherwise it is labeled as Private.\n",
    "The threshold for public can be changed by changing the value of the variable \"threshold\" in the function \"label_public_private\".\n",
    "The output file is saved in the same directory as the input file.\n",
    "\n"
   ],
   "metadata": {
    "collapsed": false
   }
  },
  {
   "cell_type": "code",
   "execution_count": 1,
   "outputs": [
    {
     "name": "stdout",
     "output_type": "stream",
     "text": [
      "/home/ubuntu/CVC\n"
     ]
    }
   ],
   "source": [
    "cd .."
   ],
   "metadata": {
    "collapsed": false
   }
  },
  {
   "cell_type": "markdown",
   "source": [
    "#### Set Environment"
   ],
   "metadata": {
    "collapsed": false
   }
  },
  {
   "cell_type": "code",
   "execution_count": 7,
   "outputs": [],
   "source": [
    "%load_ext autoreload\n",
    "%autoreload 2"
   ],
   "metadata": {
    "collapsed": false
   }
  },
  {
   "cell_type": "code",
   "execution_count": 10,
   "id": "d0bdb1c1-c3b8-45bd-83c4-b153835665b6",
   "metadata": {},
   "outputs": [],
   "source": [
    "import pandas as pd\n",
    "import collections\n",
    "from lab_notebooks.utils import TRANSFORMER, DEVICE, DATA_DIR"
   ]
  },
  {
   "cell_type": "markdown",
   "source": [
    "#### Load and Prepare Data"
   ],
   "metadata": {
    "collapsed": false
   }
  },
  {
   "cell_type": "code",
   "execution_count": 3,
   "outputs": [],
   "source": [
    "# edit according to the desired file\n",
    "data_file_name = \"data_file_name.csv\""
   ],
   "metadata": {
    "collapsed": false
   }
  },
  {
   "cell_type": "code",
   "execution_count": null,
   "outputs": [],
   "source": [
    "# load data\n",
    "data_dir = DATA_DIR + data_file_name\n",
    "tcrb_data = pd.read_csv(data_dir,engine=\"pyarrow\", index_col=0)\n",
    "tcrb_data"
   ],
   "metadata": {
    "collapsed": false,
    "pycharm": {
     "is_executing": true
    }
   }
  },
  {
   "cell_type": "code",
   "execution_count": 89,
   "outputs": [],
   "source": [
    "# edit column names\n",
    "tcrb_data.rename(columns={'amino_acid': 'aaSeqCDR3'}, inplace=True)\n",
    "tcrb_data.rename(columns={'sample': 'SampleName'}, inplace=True)\n",
    "\n",
    "# drop duplicate rows\n",
    "tcrb_data_no_duplicates = tcrb_data.drop_duplicates()"
   ],
   "metadata": {
    "collapsed": false
   }
  },
  {
   "cell_type": "code",
   "execution_count": 93,
   "outputs": [
    {
     "data": {
      "text/plain": "              count\naaSeqCDR3          \nCASSLGETQYF     100\nCASSLGDTQYF     100\nCASSPSTDTQYF     97\nCASSLGYEQYF      97\nCASSLGGYEQYF     96",
      "text/html": "<div>\n<style scoped>\n    .dataframe tbody tr th:only-of-type {\n        vertical-align: middle;\n    }\n\n    .dataframe tbody tr th {\n        vertical-align: top;\n    }\n\n    .dataframe thead th {\n        text-align: right;\n    }\n</style>\n<table border=\"1\" class=\"dataframe\">\n  <thead>\n    <tr style=\"text-align: right;\">\n      <th></th>\n      <th>count</th>\n    </tr>\n    <tr>\n      <th>aaSeqCDR3</th>\n      <th></th>\n    </tr>\n  </thead>\n  <tbody>\n    <tr>\n      <th>CASSLGETQYF</th>\n      <td>100</td>\n    </tr>\n    <tr>\n      <th>CASSLGDTQYF</th>\n      <td>100</td>\n    </tr>\n    <tr>\n      <th>CASSPSTDTQYF</th>\n      <td>97</td>\n    </tr>\n    <tr>\n      <th>CASSLGYEQYF</th>\n      <td>97</td>\n    </tr>\n    <tr>\n      <th>CASSLGGYEQYF</th>\n      <td>96</td>\n    </tr>\n  </tbody>\n</table>\n</div>"
     },
     "execution_count": 93,
     "metadata": {},
     "output_type": "execute_result"
    }
   ],
   "source": [
    "# count number of times aaSeqCDR3 appear - each sequence appears once in each sample so the duplicate occurances\n",
    "# will be in different samples\n",
    "num_of_occurances_df = tcrb_data_no_duplicates['aaSeqCDR3'].value_counts().to_frame()\n",
    "len(num_of_occurances_df.index)\n",
    "num_of_occurances_df.head()"
   ],
   "metadata": {
    "collapsed": false
   }
  },
  {
   "cell_type": "code",
   "execution_count": null,
   "outputs": [],
   "source": [
    "num_of_occurances_df.index.name = 'Sequences'\n",
    "num_of_occurances_df.reset_index(inplace=True)\n",
    "num_of_occurances_df = num_of_occurances_df.rename(columns={'count': 'Appearances'})\n",
    "num_of_occurances_df"
   ],
   "metadata": {
    "collapsed": false,
    "pycharm": {
     "is_executing": true
    }
   }
  },
  {
   "cell_type": "markdown",
   "source": [
    "#### Label as Public/Private"
   ],
   "metadata": {
    "collapsed": false
   }
  },
  {
   "cell_type": "code",
   "execution_count": 103,
   "outputs": [],
   "source": [
    "# if occurrence value is larger than 1, the sequence is public(1), otherwise it's private(0)\n",
    "# change here for different threshold 10,50,100 if desired\n",
    "def label_public_private (row):\n",
    "    if row['Appearances'] > 1 : return 1\n",
    "    return 0"
   ],
   "metadata": {
    "collapsed": false
   }
  },
  {
   "cell_type": "code",
   "execution_count": null,
   "outputs": [],
   "source": [
    "num_of_occurances_df['Private_Public_label'] = \\\n",
    "    num_of_occurances_df.apply(lambda row: label_public_private(row), axis=1)\n",
    "num_of_occurances_df"
   ],
   "metadata": {
    "collapsed": false,
    "pycharm": {
     "is_executing": true
    }
   }
  },
  {
   "cell_type": "code",
   "execution_count": 105,
   "outputs": [
    {
     "data": {
      "text/plain": "Counter({1: 1518211, 0: 10494911})"
     },
     "execution_count": 105,
     "metadata": {},
     "output_type": "execute_result"
    }
   ],
   "source": [
    "collections.Counter(num_of_occurances_df['Private_Public_label'])"
   ],
   "metadata": {
    "collapsed": false
   }
  },
  {
   "cell_type": "markdown",
   "source": [
    "##### Merge Dataframes"
   ],
   "metadata": {
    "collapsed": false
   }
  },
  {
   "cell_type": "code",
   "execution_count": 108,
   "outputs": [
    {
     "data": {
      "text/plain": "12026806"
     },
     "execution_count": 108,
     "metadata": {},
     "output_type": "execute_result"
    }
   ],
   "source": [
    "tcrb_data_no_duplicates = tcrb_data_no_duplicates.rename(columns={'aaSeqCDR3': 'Sequences'})\n",
    "# merge the two dataframes num_of_occurances_df and tcrb_data_no_duplicates on Sequences\n",
    "merged_df = pd.merge(num_of_occurances_df, tcrb_data_no_duplicates, on='Sequences')\n",
    "# remove SampleName column from merged_df and drop duplicates\n",
    "merged_df_no_duplicates = merged_df.drop(['SampleName'], axis=1)\n",
    "merged_df_no_duplicates = merged_df_no_duplicates.drop_duplicates()\n",
    "len(merged_df_no_duplicates.index)"
   ],
   "metadata": {
    "collapsed": false
   }
  },
  {
   "cell_type": "markdown",
   "source": [
    "#### Export to csv"
   ],
   "metadata": {
    "collapsed": false
   }
  },
  {
   "cell_type": "code",
   "execution_count": 125,
   "outputs": [],
   "source": [
    "# output to csv\n",
    "output_path = \"data/12M_j_gene_pub_priv_label.csv\"\n",
    "merged_df_no_duplicates.to_csv(output_path)"
   ],
   "metadata": {
    "collapsed": false
   }
  }
 ],
 "metadata": {
  "kernelspec": {
   "display_name": "Python 3",
   "language": "python",
   "name": "python3"
  },
  "language_info": {
   "codemirror_mode": {
    "name": "ipython",
    "version": 3
   },
   "file_extension": ".py",
   "mimetype": "text/x-python",
   "name": "python",
   "nbconvert_exporter": "python",
   "pygments_lexer": "ipython3",
   "version": "3.9.2"
  }
 },
 "nbformat": 4,
 "nbformat_minor": 5
}
