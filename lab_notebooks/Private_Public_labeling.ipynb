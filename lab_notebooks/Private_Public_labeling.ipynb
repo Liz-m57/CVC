{
 "cells": [
  {
   "cell_type": "markdown",
   "source": [
    "#### Create Public/Private label in dataset\n",
    "This notebook creates the Private/Public label in the dataset.\n",
    "The label is created by counting the number of times each sequence appears in the dataset.\n",
    "If the sequence appears more than once, it is labeled as Public, otherwise it is labeled as Private.\n",
    "The threshold for public can be changed by changing the value of the variable \"threshold\" in the function \"label_public_private\".\n",
    "The output file is saved in the same directory as the input file.\n",
    "\n"
   ],
   "metadata": {
    "collapsed": false
   }
  },
  {
   "cell_type": "code",
   "execution_count": 52,
   "outputs": [
    {
     "name": "stdout",
     "output_type": "stream",
     "text": [
      "/home/romi/projects\n"
     ]
    }
   ],
   "source": [
    "cd .."
   ],
   "metadata": {
    "collapsed": false
   }
  },
  {
   "cell_type": "code",
   "execution_count": 53,
   "id": "d0bdb1c1-c3b8-45bd-83c4-b153835665b6",
   "metadata": {},
   "outputs": [],
   "source": [
    "import pandas as pd\n",
    "import os\n",
    "import collections\n",
    "import matplotlib.pyplot as plt\n",
    "from lab_notebooks.utils import TRANSFORMER, DEVICE, DATA_DIR"
   ]
  },
  {
   "cell_type": "markdown",
   "source": [
    "#### Load and Prepare Data"
   ],
   "metadata": {
    "collapsed": false
   }
  },
  {
   "cell_type": "code",
   "execution_count": null,
   "outputs": [],
   "source": [
    "# edit according to the desired file\n",
    "data_file_name = \"data_file_name.csv\""
   ],
   "metadata": {
    "collapsed": false
   }
  },
  {
   "cell_type": "code",
   "execution_count": null,
   "outputs": [],
   "source": [
    "# load data\n",
    "data_dir = DATA_DIR + data_file_name\n",
    "tcrb_data = pd.read_csv(data_dir,engine=\"pyarrow\")\n",
    "tcrb_data"
   ],
   "metadata": {
    "collapsed": false,
    "pycharm": {
     "is_executing": true
    }
   }
  },
  {
   "cell_type": "code",
   "execution_count": 71,
   "outputs": [],
   "source": [
    "# edit column names\n",
    "tcrb_data.rename(columns={'amino_acid': 'aaSeqCDR3'}, inplace=True)\n",
    "tcrb_data.rename(columns={'sample': 'SampleName'}, inplace=True)"
   ],
   "metadata": {
    "collapsed": false
   }
  },
  {
   "cell_type": "code",
   "execution_count": null,
   "outputs": [],
   "source": [
    "tcrb_data = tcrb_data[[\"aaSeqCDR3\", \"v_gene\", \"SampleName\"]]\n",
    "tcrb_data"
   ],
   "metadata": {
    "collapsed": false,
    "pycharm": {
     "is_executing": true
    }
   }
  },
  {
   "cell_type": "code",
   "execution_count": null,
   "outputs": [],
   "source": [
    "len(collections.Counter(tcrb_data[\"SampleName\"])), len(tcrb_data.index)"
   ],
   "metadata": {
    "collapsed": false,
    "pycharm": {
     "is_executing": true
    }
   }
  },
  {
   "cell_type": "code",
   "execution_count": null,
   "outputs": [],
   "source": [
    "# drop duplicate rows\n",
    "tcrb_data_no_duplicates = tcrb_data.drop_duplicates()\n",
    "len(tcrb_data_no_duplicates.index)"
   ],
   "metadata": {
    "collapsed": false,
    "pycharm": {
     "is_executing": true
    }
   }
  },
  {
   "cell_type": "code",
   "execution_count": null,
   "outputs": [],
   "source": [
    "collections.Counter(tcrb_data_no_duplicates['SampleName'])"
   ],
   "metadata": {
    "collapsed": false,
    "pycharm": {
     "is_executing": true
    }
   }
  },
  {
   "cell_type": "code",
   "execution_count": null,
   "outputs": [],
   "source": [
    "# count number of times aaSeqCDR3 appear - each sequence appears once in each sample so the duplicate occurances\n",
    "# will be in different samples\n",
    "num_of_occurances_df = tcrb_data_no_duplicates['aaSeqCDR3'].value_counts().to_frame()\n",
    "len(num_of_occurances_df.index)\n",
    "num_of_occurances_df.head()"
   ],
   "metadata": {
    "collapsed": false,
    "pycharm": {
     "is_executing": true
    }
   }
  },
  {
   "cell_type": "code",
   "execution_count": null,
   "outputs": [],
   "source": [
    "num_of_occurances_df.index.name = 'Sequences'\n",
    "num_of_occurances_df.reset_index(inplace=True)\n",
    "num_of_occurances_df = num_of_occurances_df.rename(columns={'aaSeqCDR3': 'Appearances'})\n",
    "num_of_occurances_df.head()"
   ],
   "metadata": {
    "collapsed": false,
    "pycharm": {
     "is_executing": true
    }
   }
  },
  {
   "cell_type": "code",
   "execution_count": 83,
   "outputs": [],
   "source": [
    "stats = collections.Counter(num_of_occurances_df['Appearances'])"
   ],
   "metadata": {
    "collapsed": false
   }
  },
  {
   "cell_type": "markdown",
   "source": [
    "#### Label as Public/Private"
   ],
   "metadata": {
    "collapsed": false
   }
  },
  {
   "cell_type": "code",
   "execution_count": 84,
   "outputs": [],
   "source": [
    "# if occurrence value is larger than 1, the sequence is public(1), otherwise it's private(0)\n",
    "# change here for different threshold 10,50,100 if desired\n",
    "def label_public_private (row):\n",
    "    if row['Appearances'] > 1 : return 1\n",
    "    return 0"
   ],
   "metadata": {
    "collapsed": false
   }
  },
  {
   "cell_type": "code",
   "execution_count": null,
   "outputs": [],
   "source": [
    "num_of_occurances_df['Private_Public_label'] = \\\n",
    "    num_of_occurances_df.apply(lambda row: label_public_private(row), axis=1)\n",
    "num_of_occurances_df.head()"
   ],
   "metadata": {
    "collapsed": false,
    "pycharm": {
     "is_executing": true
    }
   }
  },
  {
   "cell_type": "code",
   "execution_count": 86,
   "outputs": [],
   "source": [
    "tcrb_data_no_duplicates = tcrb_data_no_duplicates.rename(columns={'aaSeqCDR3': 'Sequences'})\n",
    "# merge the two dataframes num_of_occurances_df and tcrb_data_no_duplicates on Sequences\n",
    "merged_df = pd.merge(num_of_occurances_df, tcrb_data_no_duplicates, on='Sequences')\n",
    "# remove SampleName column from merged_df and drop duplicates\n",
    "merged_df_no_duplicates = merged_df.drop(['SampleName'], axis=1)\n",
    "merged_df_no_duplicates = merged_df_no_duplicates.drop_duplicates()\n",
    "len(merged_df_no_duplicates.index)"
   ],
   "metadata": {
    "collapsed": false
   }
  },
  {
   "cell_type": "markdown",
   "source": [
    "#### Export to csv"
   ],
   "metadata": {
    "collapsed": false
   }
  },
  {
   "cell_type": "code",
   "execution_count": 90,
   "outputs": [],
   "source": [
    "# output to csv\n",
    "output_path = \"full_output_path/output_file_name.csv\"\n",
    "merged_df_no_duplicates.to_csv(output_path)"
   ],
   "metadata": {
    "collapsed": false
   }
  }
 ],
 "metadata": {
  "kernelspec": {
   "display_name": "Python 3",
   "language": "python",
   "name": "python3"
  },
  "language_info": {
   "codemirror_mode": {
    "name": "ipython",
    "version": 3
   },
   "file_extension": ".py",
   "mimetype": "text/x-python",
   "name": "python",
   "nbconvert_exporter": "python",
   "pygments_lexer": "ipython3",
   "version": "3.9.2"
  }
 },
 "nbformat": 4,
 "nbformat_minor": 5
}
