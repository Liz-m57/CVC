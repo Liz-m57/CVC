{
 "cells": [
  {
   "cell_type": "markdown",
   "source": [
    "#### Get Attention from Model"
   ],
   "metadata": {
    "collapsed": false,
    "pycharm": {
     "name": "#%% md\n"
    }
   }
  },
  {
   "cell_type": "code",
   "execution_count": null,
   "outputs": [],
   "source": [
    "import pandas as pd\n",
    "import numpy as np\n",
    "import torch\n",
    "from matplotlib import pyplot as plt\n",
    "import seaborn as sns\n",
    "from tcr import model_utils\n",
    "from lab_notebooks.utils import TRANSFORMER, DEVICE, DATA_DIR"
   ],
   "metadata": {
    "collapsed": false,
    "pycharm": {
     "name": "#%%\n"
    }
   }
  },
  {
   "cell_type": "code",
   "execution_count": null,
   "outputs": [],
   "source": [
    "data_path = 'input_path'\n",
    "sampled_data = pd.read_csv(data_path, engine=\"pyarrow\")"
   ],
   "metadata": {
    "collapsed": false,
    "pycharm": {
     "name": "#%%\n"
    }
   }
  },
  {
   "cell_type": "code",
   "execution_count": null,
   "metadata": {
    "collapsed": true,
    "pycharm": {
     "name": "#%%\n"
    }
   },
   "outputs": [],
   "source": [
    "attentions = model_utils.get_transformer_attentions(\n",
    "    TRANSFORMER, list(sampled_data['Sequences'])[:10],\n",
    "    device=torch.device('cpu'),\n",
    "    batch_size=1024,\n",
    "    layer=-1\n",
    ")"
   ]
  },
  {
   "cell_type": "code",
   "execution_count": null,
   "outputs": [],
   "source": [
    "inputs_lengths = sampled_data['Sequences'].iloc[:3].str.len().tolist()\n",
    "\n",
    "all_attns = []\n",
    "for i in range(len(attentions)):\n",
    "    attns = attentions[i]\n",
    "    attns = np.mean(attns, axis=0)\n",
    "    # fig, ax = plt.subplots(figsize=(8,8))\n",
    "    # sns.heatmap(attns)\n",
    "    # ax.grid(False)\n",
    "    # plt.show()\n",
    "    all_attns.append(attns)\n",
    "\n",
    "# pad the attention matrices\n",
    "max_len = max([len(x) for x in all_attns])\n",
    "for i in range(len(all_attns)):\n",
    "    all_attns[i] = np.pad(all_attns[i], ((0, max_len - len(all_attns[i])), (0, max_len - len(all_attns[i]))), 'constant', constant_values=0)\n",
    "\n",
    "# get mean\n",
    "all_attns = np.mean(all_attns, axis=0)\n",
    "fig, ax = plt.subplots(figsize=(8,8))\n",
    "sns.heatmap(all_attns)\n",
    "ax.grid(False)\n",
    "plt.show()"
   ],
   "metadata": {
    "collapsed": false,
    "pycharm": {
     "name": "#%%\n"
    }
   }
  }
 ],
 "metadata": {
  "kernelspec": {
   "display_name": "Python 3",
   "language": "python",
   "name": "python3"
  },
  "language_info": {
   "codemirror_mode": {
    "name": "ipython",
    "version": 2
   },
   "file_extension": ".py",
   "mimetype": "text/x-python",
   "name": "python",
   "nbconvert_exporter": "python",
   "pygments_lexer": "ipython2",
   "version": "2.7.6"
  }
 },
 "nbformat": 4,
 "nbformat_minor": 0
}