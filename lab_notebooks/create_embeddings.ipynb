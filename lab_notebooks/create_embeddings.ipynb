{
 "cells": [
  {
   "cell_type": "markdown",
   "source": [
    "#### Create Embeddings for CDR3 Sequences (with specified model)\n",
    "##### Edit input and outputs paths. Input path should direct to the csv that has the sequences to create the embeddings for, and the output path should direct to the csv that will hold the embeddings."
   ],
   "metadata": {
    "collapsed": false
   }
  },
  {
   "cell_type": "code",
   "execution_count": 1,
   "outputs": [],
   "source": [
    "%load_ext autoreload\n",
    "%autoreload 2"
   ],
   "metadata": {
    "collapsed": false
   }
  },
  {
   "cell_type": "code",
   "execution_count": 2,
   "outputs": [
    {
     "name": "stdout",
     "output_type": "stream",
     "text": [
      "/home/ubuntu/CVC\n"
     ]
    }
   ],
   "source": [
    "cd .."
   ],
   "metadata": {
    "collapsed": false
   }
  },
  {
   "cell_type": "markdown",
   "source": [
    "#### Set Environment"
   ],
   "metadata": {
    "collapsed": false
   }
  },
  {
   "cell_type": "code",
   "execution_count": 3,
   "outputs": [
    {
     "name": "stderr",
     "output_type": "stream",
     "text": [
      "2023-09-03 11:48:01.490444: I tensorflow/core/util/port.cc:110] oneDNN custom operations are on. You may see slightly different numerical results due to floating-point round-off errors from different computation orders. To turn them off, set the environment variable `TF_ENABLE_ONEDNN_OPTS=0`.\n",
      "2023-09-03 11:48:01.492158: I tensorflow/tsl/cuda/cudart_stub.cc:28] Could not find cuda drivers on your machine, GPU will not be used.\n",
      "2023-09-03 11:48:01.529620: I tensorflow/tsl/cuda/cudart_stub.cc:28] Could not find cuda drivers on your machine, GPU will not be used.\n",
      "2023-09-03 11:48:01.530551: I tensorflow/core/platform/cpu_feature_guard.cc:182] This TensorFlow binary is optimized to use available CPU instructions in performance-critical operations.\n",
      "To enable the following instructions: AVX2 AVX512F AVX512_VNNI FMA, in other operations, rebuild TensorFlow with the appropriate compiler flags.\n",
      "2023-09-03 11:48:02.106657: W tensorflow/compiler/tf2tensorrt/utils/py_utils.cc:38] TF-TRT Warning: Could not find TensorRT\n"
     ]
    }
   ],
   "source": [
    "import os, sys\n",
    "import pandas as pd\n",
    "SRC_DIR = \"cvc\"\n",
    "assert os.path.isdir(SRC_DIR), f\"Cannot find src dir: {SRC_DIR}\"\n",
    "sys.path.append(SRC_DIR)\n",
    "\n",
    "from cvc import model_utils\n",
    "\n",
    "from lab_notebooks.utils import SC_TRANSFORMER, TRANSFORMER, DEVICE\n",
    "MODEL_DIR = os.path.join(SRC_DIR, \"models\")\n",
    "sys.path.append(MODEL_DIR)\n",
    "\n",
    "FILT_EDIT_DIST = True"
   ],
   "metadata": {
    "collapsed": false
   }
  },
  {
   "cell_type": "markdown",
   "source": [
    "#### Specify Parameters"
   ],
   "metadata": {
    "collapsed": false
   }
  },
  {
   "cell_type": "code",
   "execution_count": 15,
   "outputs": [],
   "source": [
    "# the sequences in the csv file need to be in a column called Sequences\n",
    "input_path = \"/home/ubuntu/RandomData/data/dfA_CDR3s.csv\"\n",
    "output_path = \"/home/ubuntu/RandomData/data/dfA_CDR3s_romi_embeddings.csv\"\n",
    "label_column = \"\""
   ],
   "metadata": {
    "collapsed": false
   }
  },
  {
   "cell_type": "code",
   "execution_count": 23,
   "outputs": [
    {
     "data": {
      "text/plain": "'/home/ubuntu/CVC'"
     },
     "execution_count": 23,
     "metadata": {},
     "output_type": "execute_result"
    }
   ],
   "source": [
    "from lab_notebooks.utils import HOME_DIR_GCP\n",
    "HOME_DIR_GCP"
   ],
   "metadata": {
    "collapsed": false
   }
  },
  {
   "cell_type": "code",
   "execution_count": 16,
   "outputs": [],
   "source": [
    "# specify which model to use\n",
    "# CVC - TRANSFORMER\n",
    "# scCVC - SC_TRANSFORMER\n",
    "TRANSFORMER_TO_USE = SC_TRANSFORMER"
   ],
   "metadata": {
    "collapsed": false
   }
  },
  {
   "cell_type": "markdown",
   "source": [
    "#### Load Data"
   ],
   "metadata": {
    "collapsed": false
   }
  },
  {
   "cell_type": "code",
   "execution_count": 17,
   "outputs": [],
   "source": [
    "# load data\n",
    "tcrb_data = pd.read_csv(input_path, index_col=0)\n",
    "# drop duplicates\n",
    "tcrb_data = tcrb_data.drop_duplicates()\n",
    "# drop rows with NaN\n",
    "tcrb_data = tcrb_data.dropna()"
   ],
   "metadata": {
    "collapsed": false
   }
  },
  {
   "cell_type": "code",
   "execution_count": 18,
   "outputs": [],
   "source": [
    "# make tcrb_data a dataframe with Sequences column\n",
    "tcrb_data = pd.DataFrame(tcrb_data)"
   ],
   "metadata": {
    "collapsed": false
   }
  },
  {
   "cell_type": "code",
   "execution_count": 19,
   "outputs": [
    {
     "data": {
      "text/plain": "                 CDR3_A  pool1_S1_TRA_mig_cdr3_clones_all  \\\n0          CAVNTGGFKTIF                               1.0   \n1          CAVNTGFQKLVF                               1.0   \n2        CAENSGGSNYKLTF                               1.0   \n3         CAVNSGGYQKVTF                               1.0   \n4          CAVNQAGTALIF                               1.0   \n...                 ...                               ...   \n2015382         YYTPLVF                              -1.0   \n2015383   YYTTNYGNNRLAF                              -1.0   \n2015384        YYYDKVIF                              -1.0   \n2015385     YYYDTGNQFYF                              -1.0   \n2015386      YYYGNNRLAF                              -1.0   \n\n         pool1_S10_TRA_mig_cdr3_clones_all  pool1_S11_TRA_mig_cdr3_clones_all  \\\n0                                      1.0                                1.0   \n1                                      1.0                                1.0   \n2                                      1.0                                1.0   \n3                                      1.0                                1.0   \n4                                      1.0                                1.0   \n...                                    ...                                ...   \n2015382                               -1.0                               -1.0   \n2015383                               -1.0                               -1.0   \n2015384                               -1.0                               -1.0   \n2015385                               -1.0                               -1.0   \n2015386                               -1.0                               -1.0   \n\n         pool1_S12_TRA_mig_cdr3_clones_all  pool1_S13_TRA_mig_cdr3_clones_all  \\\n0                                      1.0                                1.0   \n1                                      1.0                                1.0   \n2                                      1.0                                1.0   \n3                                      1.0                                1.0   \n4                                      1.0                                1.0   \n...                                    ...                                ...   \n2015382                               -1.0                               -1.0   \n2015383                               -1.0                               -1.0   \n2015384                               -1.0                               -1.0   \n2015385                               -1.0                               -1.0   \n2015386                               -1.0                               -1.0   \n\n         pool1_S14_TRA_mig_cdr3_clones_all  pool1_S15_TRA_mig_cdr3_clones_all  \\\n0                                      1.0                                1.0   \n1                                      1.0                                1.0   \n2                                      1.0                                1.0   \n3                                      1.0                                1.0   \n4                                      1.0                                1.0   \n...                                    ...                                ...   \n2015382                               -1.0                               -1.0   \n2015383                               -1.0                               -1.0   \n2015384                               -1.0                               -1.0   \n2015385                               -1.0                               -1.0   \n2015386                               -1.0                               -1.0   \n\n         pool1_S16_TRA_mig_cdr3_clones_all  pool1_S17_TRA_mig_cdr3_clones_all  \\\n0                                      1.0                                1.0   \n1                                      1.0                                1.0   \n2                                      1.0                                1.0   \n3                                      1.0                                1.0   \n4                                      1.0                                1.0   \n...                                    ...                                ...   \n2015382                               -1.0                               -1.0   \n2015383                               -1.0                               -1.0   \n2015384                               -1.0                               -1.0   \n2015385                               -1.0                               -1.0   \n2015386                               -1.0                               -1.0   \n\n         ...  pool9_S22_TRA_mig_cdr3_clones_all  \\\n0        ...                                1.0   \n1        ...                                1.0   \n2        ...                                1.0   \n3        ...                                1.0   \n4        ...                                1.0   \n...      ...                                ...   \n2015382  ...                               -1.0   \n2015383  ...                               -1.0   \n2015384  ...                               -1.0   \n2015385  ...                               -1.0   \n2015386  ...                               -1.0   \n\n         pool9_S23_TRA_mig_cdr3_clones_all  pool9_S24_TRA_mig_cdr3_clones_all  \\\n0                                      1.0                                1.0   \n1                                      1.0                                1.0   \n2                                      1.0                                1.0   \n3                                      1.0                                1.0   \n4                                      1.0                                1.0   \n...                                    ...                                ...   \n2015382                               -1.0                               -1.0   \n2015383                               -1.0                               -1.0   \n2015384                               -1.0                               -1.0   \n2015385                               -1.0                               -1.0   \n2015386                               -1.0                               -1.0   \n\n         pool9_S3_TRA_mig_cdr3_clones_all  pool9_S4_TRA_mig_cdr3_clones_all  \\\n0                                     1.0                               1.0   \n1                                     1.0                               1.0   \n2                                     1.0                               1.0   \n3                                     1.0                               1.0   \n4                                     1.0                               1.0   \n...                                   ...                               ...   \n2015382                              -1.0                              -1.0   \n2015383                              -1.0                              -1.0   \n2015384                              -1.0                              -1.0   \n2015385                              -1.0                              -1.0   \n2015386                              -1.0                              -1.0   \n\n         pool9_S5_TRA_mig_cdr3_clones_all  pool9_S6_TRA_mig_cdr3_clones_all  \\\n0                                     1.0                               1.0   \n1                                     1.0                               1.0   \n2                                     1.0                               1.0   \n3                                     1.0                               1.0   \n4                                     1.0                               1.0   \n...                                   ...                               ...   \n2015382                              -1.0                              -1.0   \n2015383                              -1.0                              -1.0   \n2015384                              -1.0                              -1.0   \n2015385                              -1.0                              -1.0   \n2015386                              -1.0                              -1.0   \n\n         pool9_S7_TRA_mig_cdr3_clones_all  pool9_S8_TRA_mig_cdr3_clones_all  \\\n0                                     1.0                               1.0   \n1                                     1.0                               1.0   \n2                                    -1.0                               1.0   \n3                                     1.0                               1.0   \n4                                     1.0                               1.0   \n...                                   ...                               ...   \n2015382                              -1.0                              -1.0   \n2015383                              -1.0                              -1.0   \n2015384                              -1.0                              -1.0   \n2015385                              -1.0                              -1.0   \n2015386                              -1.0                              -1.0   \n\n         pool9_S9_TRA_mig_cdr3_clones_all  \n0                                     1.0  \n1                                     1.0  \n2                                     1.0  \n3                                     1.0  \n4                                     1.0  \n...                                   ...  \n2015382                              -1.0  \n2015383                              -1.0  \n2015384                              -1.0  \n2015385                              -1.0  \n2015386                              -1.0  \n\n[2015387 rows x 217 columns]",
      "text/html": "<div>\n<style scoped>\n    .dataframe tbody tr th:only-of-type {\n        vertical-align: middle;\n    }\n\n    .dataframe tbody tr th {\n        vertical-align: top;\n    }\n\n    .dataframe thead th {\n        text-align: right;\n    }\n</style>\n<table border=\"1\" class=\"dataframe\">\n  <thead>\n    <tr style=\"text-align: right;\">\n      <th></th>\n      <th>CDR3_A</th>\n      <th>pool1_S1_TRA_mig_cdr3_clones_all</th>\n      <th>pool1_S10_TRA_mig_cdr3_clones_all</th>\n      <th>pool1_S11_TRA_mig_cdr3_clones_all</th>\n      <th>pool1_S12_TRA_mig_cdr3_clones_all</th>\n      <th>pool1_S13_TRA_mig_cdr3_clones_all</th>\n      <th>pool1_S14_TRA_mig_cdr3_clones_all</th>\n      <th>pool1_S15_TRA_mig_cdr3_clones_all</th>\n      <th>pool1_S16_TRA_mig_cdr3_clones_all</th>\n      <th>pool1_S17_TRA_mig_cdr3_clones_all</th>\n      <th>...</th>\n      <th>pool9_S22_TRA_mig_cdr3_clones_all</th>\n      <th>pool9_S23_TRA_mig_cdr3_clones_all</th>\n      <th>pool9_S24_TRA_mig_cdr3_clones_all</th>\n      <th>pool9_S3_TRA_mig_cdr3_clones_all</th>\n      <th>pool9_S4_TRA_mig_cdr3_clones_all</th>\n      <th>pool9_S5_TRA_mig_cdr3_clones_all</th>\n      <th>pool9_S6_TRA_mig_cdr3_clones_all</th>\n      <th>pool9_S7_TRA_mig_cdr3_clones_all</th>\n      <th>pool9_S8_TRA_mig_cdr3_clones_all</th>\n      <th>pool9_S9_TRA_mig_cdr3_clones_all</th>\n    </tr>\n  </thead>\n  <tbody>\n    <tr>\n      <th>0</th>\n      <td>CAVNTGGFKTIF</td>\n      <td>1.0</td>\n      <td>1.0</td>\n      <td>1.0</td>\n      <td>1.0</td>\n      <td>1.0</td>\n      <td>1.0</td>\n      <td>1.0</td>\n      <td>1.0</td>\n      <td>1.0</td>\n      <td>...</td>\n      <td>1.0</td>\n      <td>1.0</td>\n      <td>1.0</td>\n      <td>1.0</td>\n      <td>1.0</td>\n      <td>1.0</td>\n      <td>1.0</td>\n      <td>1.0</td>\n      <td>1.0</td>\n      <td>1.0</td>\n    </tr>\n    <tr>\n      <th>1</th>\n      <td>CAVNTGFQKLVF</td>\n      <td>1.0</td>\n      <td>1.0</td>\n      <td>1.0</td>\n      <td>1.0</td>\n      <td>1.0</td>\n      <td>1.0</td>\n      <td>1.0</td>\n      <td>1.0</td>\n      <td>1.0</td>\n      <td>...</td>\n      <td>1.0</td>\n      <td>1.0</td>\n      <td>1.0</td>\n      <td>1.0</td>\n      <td>1.0</td>\n      <td>1.0</td>\n      <td>1.0</td>\n      <td>1.0</td>\n      <td>1.0</td>\n      <td>1.0</td>\n    </tr>\n    <tr>\n      <th>2</th>\n      <td>CAENSGGSNYKLTF</td>\n      <td>1.0</td>\n      <td>1.0</td>\n      <td>1.0</td>\n      <td>1.0</td>\n      <td>1.0</td>\n      <td>1.0</td>\n      <td>1.0</td>\n      <td>1.0</td>\n      <td>1.0</td>\n      <td>...</td>\n      <td>1.0</td>\n      <td>1.0</td>\n      <td>1.0</td>\n      <td>1.0</td>\n      <td>1.0</td>\n      <td>1.0</td>\n      <td>1.0</td>\n      <td>-1.0</td>\n      <td>1.0</td>\n      <td>1.0</td>\n    </tr>\n    <tr>\n      <th>3</th>\n      <td>CAVNSGGYQKVTF</td>\n      <td>1.0</td>\n      <td>1.0</td>\n      <td>1.0</td>\n      <td>1.0</td>\n      <td>1.0</td>\n      <td>1.0</td>\n      <td>1.0</td>\n      <td>1.0</td>\n      <td>1.0</td>\n      <td>...</td>\n      <td>1.0</td>\n      <td>1.0</td>\n      <td>1.0</td>\n      <td>1.0</td>\n      <td>1.0</td>\n      <td>1.0</td>\n      <td>1.0</td>\n      <td>1.0</td>\n      <td>1.0</td>\n      <td>1.0</td>\n    </tr>\n    <tr>\n      <th>4</th>\n      <td>CAVNQAGTALIF</td>\n      <td>1.0</td>\n      <td>1.0</td>\n      <td>1.0</td>\n      <td>1.0</td>\n      <td>1.0</td>\n      <td>1.0</td>\n      <td>1.0</td>\n      <td>1.0</td>\n      <td>1.0</td>\n      <td>...</td>\n      <td>1.0</td>\n      <td>1.0</td>\n      <td>1.0</td>\n      <td>1.0</td>\n      <td>1.0</td>\n      <td>1.0</td>\n      <td>1.0</td>\n      <td>1.0</td>\n      <td>1.0</td>\n      <td>1.0</td>\n    </tr>\n    <tr>\n      <th>...</th>\n      <td>...</td>\n      <td>...</td>\n      <td>...</td>\n      <td>...</td>\n      <td>...</td>\n      <td>...</td>\n      <td>...</td>\n      <td>...</td>\n      <td>...</td>\n      <td>...</td>\n      <td>...</td>\n      <td>...</td>\n      <td>...</td>\n      <td>...</td>\n      <td>...</td>\n      <td>...</td>\n      <td>...</td>\n      <td>...</td>\n      <td>...</td>\n      <td>...</td>\n      <td>...</td>\n    </tr>\n    <tr>\n      <th>2015382</th>\n      <td>YYTPLVF</td>\n      <td>-1.0</td>\n      <td>-1.0</td>\n      <td>-1.0</td>\n      <td>-1.0</td>\n      <td>-1.0</td>\n      <td>-1.0</td>\n      <td>-1.0</td>\n      <td>-1.0</td>\n      <td>-1.0</td>\n      <td>...</td>\n      <td>-1.0</td>\n      <td>-1.0</td>\n      <td>-1.0</td>\n      <td>-1.0</td>\n      <td>-1.0</td>\n      <td>-1.0</td>\n      <td>-1.0</td>\n      <td>-1.0</td>\n      <td>-1.0</td>\n      <td>-1.0</td>\n    </tr>\n    <tr>\n      <th>2015383</th>\n      <td>YYTTNYGNNRLAF</td>\n      <td>-1.0</td>\n      <td>-1.0</td>\n      <td>-1.0</td>\n      <td>-1.0</td>\n      <td>-1.0</td>\n      <td>-1.0</td>\n      <td>-1.0</td>\n      <td>-1.0</td>\n      <td>-1.0</td>\n      <td>...</td>\n      <td>-1.0</td>\n      <td>-1.0</td>\n      <td>-1.0</td>\n      <td>-1.0</td>\n      <td>-1.0</td>\n      <td>-1.0</td>\n      <td>-1.0</td>\n      <td>-1.0</td>\n      <td>-1.0</td>\n      <td>-1.0</td>\n    </tr>\n    <tr>\n      <th>2015384</th>\n      <td>YYYDKVIF</td>\n      <td>-1.0</td>\n      <td>-1.0</td>\n      <td>-1.0</td>\n      <td>-1.0</td>\n      <td>-1.0</td>\n      <td>-1.0</td>\n      <td>-1.0</td>\n      <td>-1.0</td>\n      <td>-1.0</td>\n      <td>...</td>\n      <td>-1.0</td>\n      <td>-1.0</td>\n      <td>-1.0</td>\n      <td>-1.0</td>\n      <td>-1.0</td>\n      <td>-1.0</td>\n      <td>-1.0</td>\n      <td>-1.0</td>\n      <td>-1.0</td>\n      <td>-1.0</td>\n    </tr>\n    <tr>\n      <th>2015385</th>\n      <td>YYYDTGNQFYF</td>\n      <td>-1.0</td>\n      <td>-1.0</td>\n      <td>-1.0</td>\n      <td>-1.0</td>\n      <td>-1.0</td>\n      <td>-1.0</td>\n      <td>-1.0</td>\n      <td>-1.0</td>\n      <td>-1.0</td>\n      <td>...</td>\n      <td>-1.0</td>\n      <td>-1.0</td>\n      <td>-1.0</td>\n      <td>-1.0</td>\n      <td>-1.0</td>\n      <td>-1.0</td>\n      <td>-1.0</td>\n      <td>-1.0</td>\n      <td>-1.0</td>\n      <td>-1.0</td>\n    </tr>\n    <tr>\n      <th>2015386</th>\n      <td>YYYGNNRLAF</td>\n      <td>-1.0</td>\n      <td>-1.0</td>\n      <td>-1.0</td>\n      <td>-1.0</td>\n      <td>-1.0</td>\n      <td>-1.0</td>\n      <td>-1.0</td>\n      <td>-1.0</td>\n      <td>-1.0</td>\n      <td>...</td>\n      <td>-1.0</td>\n      <td>-1.0</td>\n      <td>-1.0</td>\n      <td>-1.0</td>\n      <td>-1.0</td>\n      <td>-1.0</td>\n      <td>-1.0</td>\n      <td>-1.0</td>\n      <td>-1.0</td>\n      <td>-1.0</td>\n    </tr>\n  </tbody>\n</table>\n<p>2015387 rows × 217 columns</p>\n</div>"
     },
     "execution_count": 19,
     "metadata": {},
     "output_type": "execute_result"
    }
   ],
   "source": [
    "tcrb_data"
   ],
   "metadata": {
    "collapsed": false
   }
  },
  {
   "cell_type": "code",
   "execution_count": 9,
   "outputs": [],
   "source": [
    "tcrb_data"
   ],
   "metadata": {
    "collapsed": false
   }
  },
  {
   "cell_type": "code",
   "execution_count": 20,
   "outputs": [],
   "source": [
    "# rename sequences column if not named \"Sequences\"\n",
    "tcrb_data.rename(columns={'CDR3_A': 'Sequences'}, inplace=True)"
   ],
   "metadata": {
    "collapsed": false
   }
  },
  {
   "cell_type": "code",
   "execution_count": 25,
   "outputs": [
    {
     "data": {
      "text/plain": "              Sequences  pool1_S1_TRA_mig_cdr3_clones_all  \\\n0          CAVNTGGFKTIF                               1.0   \n1          CAVNTGFQKLVF                               1.0   \n2        CAENSGGSNYKLTF                               1.0   \n3         CAVNSGGYQKVTF                               1.0   \n4          CAVNQAGTALIF                               1.0   \n...                 ...                               ...   \n2015382         YYTPLVF                              -1.0   \n2015383   YYTTNYGNNRLAF                              -1.0   \n2015384        YYYDKVIF                              -1.0   \n2015385     YYYDTGNQFYF                              -1.0   \n2015386      YYYGNNRLAF                              -1.0   \n\n         pool1_S10_TRA_mig_cdr3_clones_all  pool1_S11_TRA_mig_cdr3_clones_all  \\\n0                                      1.0                                1.0   \n1                                      1.0                                1.0   \n2                                      1.0                                1.0   \n3                                      1.0                                1.0   \n4                                      1.0                                1.0   \n...                                    ...                                ...   \n2015382                               -1.0                               -1.0   \n2015383                               -1.0                               -1.0   \n2015384                               -1.0                               -1.0   \n2015385                               -1.0                               -1.0   \n2015386                               -1.0                               -1.0   \n\n         pool1_S12_TRA_mig_cdr3_clones_all  pool1_S13_TRA_mig_cdr3_clones_all  \\\n0                                      1.0                                1.0   \n1                                      1.0                                1.0   \n2                                      1.0                                1.0   \n3                                      1.0                                1.0   \n4                                      1.0                                1.0   \n...                                    ...                                ...   \n2015382                               -1.0                               -1.0   \n2015383                               -1.0                               -1.0   \n2015384                               -1.0                               -1.0   \n2015385                               -1.0                               -1.0   \n2015386                               -1.0                               -1.0   \n\n         pool1_S14_TRA_mig_cdr3_clones_all  pool1_S15_TRA_mig_cdr3_clones_all  \\\n0                                      1.0                                1.0   \n1                                      1.0                                1.0   \n2                                      1.0                                1.0   \n3                                      1.0                                1.0   \n4                                      1.0                                1.0   \n...                                    ...                                ...   \n2015382                               -1.0                               -1.0   \n2015383                               -1.0                               -1.0   \n2015384                               -1.0                               -1.0   \n2015385                               -1.0                               -1.0   \n2015386                               -1.0                               -1.0   \n\n         pool1_S16_TRA_mig_cdr3_clones_all  pool1_S17_TRA_mig_cdr3_clones_all  \\\n0                                      1.0                                1.0   \n1                                      1.0                                1.0   \n2                                      1.0                                1.0   \n3                                      1.0                                1.0   \n4                                      1.0                                1.0   \n...                                    ...                                ...   \n2015382                               -1.0                               -1.0   \n2015383                               -1.0                               -1.0   \n2015384                               -1.0                               -1.0   \n2015385                               -1.0                               -1.0   \n2015386                               -1.0                               -1.0   \n\n         ...  pool9_S22_TRA_mig_cdr3_clones_all  \\\n0        ...                                1.0   \n1        ...                                1.0   \n2        ...                                1.0   \n3        ...                                1.0   \n4        ...                                1.0   \n...      ...                                ...   \n2015382  ...                               -1.0   \n2015383  ...                               -1.0   \n2015384  ...                               -1.0   \n2015385  ...                               -1.0   \n2015386  ...                               -1.0   \n\n         pool9_S23_TRA_mig_cdr3_clones_all  pool9_S24_TRA_mig_cdr3_clones_all  \\\n0                                      1.0                                1.0   \n1                                      1.0                                1.0   \n2                                      1.0                                1.0   \n3                                      1.0                                1.0   \n4                                      1.0                                1.0   \n...                                    ...                                ...   \n2015382                               -1.0                               -1.0   \n2015383                               -1.0                               -1.0   \n2015384                               -1.0                               -1.0   \n2015385                               -1.0                               -1.0   \n2015386                               -1.0                               -1.0   \n\n         pool9_S3_TRA_mig_cdr3_clones_all  pool9_S4_TRA_mig_cdr3_clones_all  \\\n0                                     1.0                               1.0   \n1                                     1.0                               1.0   \n2                                     1.0                               1.0   \n3                                     1.0                               1.0   \n4                                     1.0                               1.0   \n...                                   ...                               ...   \n2015382                              -1.0                              -1.0   \n2015383                              -1.0                              -1.0   \n2015384                              -1.0                              -1.0   \n2015385                              -1.0                              -1.0   \n2015386                              -1.0                              -1.0   \n\n         pool9_S5_TRA_mig_cdr3_clones_all  pool9_S6_TRA_mig_cdr3_clones_all  \\\n0                                     1.0                               1.0   \n1                                     1.0                               1.0   \n2                                     1.0                               1.0   \n3                                     1.0                               1.0   \n4                                     1.0                               1.0   \n...                                   ...                               ...   \n2015382                              -1.0                              -1.0   \n2015383                              -1.0                              -1.0   \n2015384                              -1.0                              -1.0   \n2015385                              -1.0                              -1.0   \n2015386                              -1.0                              -1.0   \n\n         pool9_S7_TRA_mig_cdr3_clones_all  pool9_S8_TRA_mig_cdr3_clones_all  \\\n0                                     1.0                               1.0   \n1                                     1.0                               1.0   \n2                                    -1.0                               1.0   \n3                                     1.0                               1.0   \n4                                     1.0                               1.0   \n...                                   ...                               ...   \n2015382                              -1.0                              -1.0   \n2015383                              -1.0                              -1.0   \n2015384                              -1.0                              -1.0   \n2015385                              -1.0                              -1.0   \n2015386                              -1.0                              -1.0   \n\n         pool9_S9_TRA_mig_cdr3_clones_all  \n0                                     1.0  \n1                                     1.0  \n2                                     1.0  \n3                                     1.0  \n4                                     1.0  \n...                                   ...  \n2015382                              -1.0  \n2015383                              -1.0  \n2015384                              -1.0  \n2015385                              -1.0  \n2015386                              -1.0  \n\n[2015387 rows x 217 columns]",
      "text/html": "<div>\n<style scoped>\n    .dataframe tbody tr th:only-of-type {\n        vertical-align: middle;\n    }\n\n    .dataframe tbody tr th {\n        vertical-align: top;\n    }\n\n    .dataframe thead th {\n        text-align: right;\n    }\n</style>\n<table border=\"1\" class=\"dataframe\">\n  <thead>\n    <tr style=\"text-align: right;\">\n      <th></th>\n      <th>Sequences</th>\n      <th>pool1_S1_TRA_mig_cdr3_clones_all</th>\n      <th>pool1_S10_TRA_mig_cdr3_clones_all</th>\n      <th>pool1_S11_TRA_mig_cdr3_clones_all</th>\n      <th>pool1_S12_TRA_mig_cdr3_clones_all</th>\n      <th>pool1_S13_TRA_mig_cdr3_clones_all</th>\n      <th>pool1_S14_TRA_mig_cdr3_clones_all</th>\n      <th>pool1_S15_TRA_mig_cdr3_clones_all</th>\n      <th>pool1_S16_TRA_mig_cdr3_clones_all</th>\n      <th>pool1_S17_TRA_mig_cdr3_clones_all</th>\n      <th>...</th>\n      <th>pool9_S22_TRA_mig_cdr3_clones_all</th>\n      <th>pool9_S23_TRA_mig_cdr3_clones_all</th>\n      <th>pool9_S24_TRA_mig_cdr3_clones_all</th>\n      <th>pool9_S3_TRA_mig_cdr3_clones_all</th>\n      <th>pool9_S4_TRA_mig_cdr3_clones_all</th>\n      <th>pool9_S5_TRA_mig_cdr3_clones_all</th>\n      <th>pool9_S6_TRA_mig_cdr3_clones_all</th>\n      <th>pool9_S7_TRA_mig_cdr3_clones_all</th>\n      <th>pool9_S8_TRA_mig_cdr3_clones_all</th>\n      <th>pool9_S9_TRA_mig_cdr3_clones_all</th>\n    </tr>\n  </thead>\n  <tbody>\n    <tr>\n      <th>0</th>\n      <td>CAVNTGGFKTIF</td>\n      <td>1.0</td>\n      <td>1.0</td>\n      <td>1.0</td>\n      <td>1.0</td>\n      <td>1.0</td>\n      <td>1.0</td>\n      <td>1.0</td>\n      <td>1.0</td>\n      <td>1.0</td>\n      <td>...</td>\n      <td>1.0</td>\n      <td>1.0</td>\n      <td>1.0</td>\n      <td>1.0</td>\n      <td>1.0</td>\n      <td>1.0</td>\n      <td>1.0</td>\n      <td>1.0</td>\n      <td>1.0</td>\n      <td>1.0</td>\n    </tr>\n    <tr>\n      <th>1</th>\n      <td>CAVNTGFQKLVF</td>\n      <td>1.0</td>\n      <td>1.0</td>\n      <td>1.0</td>\n      <td>1.0</td>\n      <td>1.0</td>\n      <td>1.0</td>\n      <td>1.0</td>\n      <td>1.0</td>\n      <td>1.0</td>\n      <td>...</td>\n      <td>1.0</td>\n      <td>1.0</td>\n      <td>1.0</td>\n      <td>1.0</td>\n      <td>1.0</td>\n      <td>1.0</td>\n      <td>1.0</td>\n      <td>1.0</td>\n      <td>1.0</td>\n      <td>1.0</td>\n    </tr>\n    <tr>\n      <th>2</th>\n      <td>CAENSGGSNYKLTF</td>\n      <td>1.0</td>\n      <td>1.0</td>\n      <td>1.0</td>\n      <td>1.0</td>\n      <td>1.0</td>\n      <td>1.0</td>\n      <td>1.0</td>\n      <td>1.0</td>\n      <td>1.0</td>\n      <td>...</td>\n      <td>1.0</td>\n      <td>1.0</td>\n      <td>1.0</td>\n      <td>1.0</td>\n      <td>1.0</td>\n      <td>1.0</td>\n      <td>1.0</td>\n      <td>-1.0</td>\n      <td>1.0</td>\n      <td>1.0</td>\n    </tr>\n    <tr>\n      <th>3</th>\n      <td>CAVNSGGYQKVTF</td>\n      <td>1.0</td>\n      <td>1.0</td>\n      <td>1.0</td>\n      <td>1.0</td>\n      <td>1.0</td>\n      <td>1.0</td>\n      <td>1.0</td>\n      <td>1.0</td>\n      <td>1.0</td>\n      <td>...</td>\n      <td>1.0</td>\n      <td>1.0</td>\n      <td>1.0</td>\n      <td>1.0</td>\n      <td>1.0</td>\n      <td>1.0</td>\n      <td>1.0</td>\n      <td>1.0</td>\n      <td>1.0</td>\n      <td>1.0</td>\n    </tr>\n    <tr>\n      <th>4</th>\n      <td>CAVNQAGTALIF</td>\n      <td>1.0</td>\n      <td>1.0</td>\n      <td>1.0</td>\n      <td>1.0</td>\n      <td>1.0</td>\n      <td>1.0</td>\n      <td>1.0</td>\n      <td>1.0</td>\n      <td>1.0</td>\n      <td>...</td>\n      <td>1.0</td>\n      <td>1.0</td>\n      <td>1.0</td>\n      <td>1.0</td>\n      <td>1.0</td>\n      <td>1.0</td>\n      <td>1.0</td>\n      <td>1.0</td>\n      <td>1.0</td>\n      <td>1.0</td>\n    </tr>\n    <tr>\n      <th>...</th>\n      <td>...</td>\n      <td>...</td>\n      <td>...</td>\n      <td>...</td>\n      <td>...</td>\n      <td>...</td>\n      <td>...</td>\n      <td>...</td>\n      <td>...</td>\n      <td>...</td>\n      <td>...</td>\n      <td>...</td>\n      <td>...</td>\n      <td>...</td>\n      <td>...</td>\n      <td>...</td>\n      <td>...</td>\n      <td>...</td>\n      <td>...</td>\n      <td>...</td>\n      <td>...</td>\n    </tr>\n    <tr>\n      <th>2015382</th>\n      <td>YYTPLVF</td>\n      <td>-1.0</td>\n      <td>-1.0</td>\n      <td>-1.0</td>\n      <td>-1.0</td>\n      <td>-1.0</td>\n      <td>-1.0</td>\n      <td>-1.0</td>\n      <td>-1.0</td>\n      <td>-1.0</td>\n      <td>...</td>\n      <td>-1.0</td>\n      <td>-1.0</td>\n      <td>-1.0</td>\n      <td>-1.0</td>\n      <td>-1.0</td>\n      <td>-1.0</td>\n      <td>-1.0</td>\n      <td>-1.0</td>\n      <td>-1.0</td>\n      <td>-1.0</td>\n    </tr>\n    <tr>\n      <th>2015383</th>\n      <td>YYTTNYGNNRLAF</td>\n      <td>-1.0</td>\n      <td>-1.0</td>\n      <td>-1.0</td>\n      <td>-1.0</td>\n      <td>-1.0</td>\n      <td>-1.0</td>\n      <td>-1.0</td>\n      <td>-1.0</td>\n      <td>-1.0</td>\n      <td>...</td>\n      <td>-1.0</td>\n      <td>-1.0</td>\n      <td>-1.0</td>\n      <td>-1.0</td>\n      <td>-1.0</td>\n      <td>-1.0</td>\n      <td>-1.0</td>\n      <td>-1.0</td>\n      <td>-1.0</td>\n      <td>-1.0</td>\n    </tr>\n    <tr>\n      <th>2015384</th>\n      <td>YYYDKVIF</td>\n      <td>-1.0</td>\n      <td>-1.0</td>\n      <td>-1.0</td>\n      <td>-1.0</td>\n      <td>-1.0</td>\n      <td>-1.0</td>\n      <td>-1.0</td>\n      <td>-1.0</td>\n      <td>-1.0</td>\n      <td>...</td>\n      <td>-1.0</td>\n      <td>-1.0</td>\n      <td>-1.0</td>\n      <td>-1.0</td>\n      <td>-1.0</td>\n      <td>-1.0</td>\n      <td>-1.0</td>\n      <td>-1.0</td>\n      <td>-1.0</td>\n      <td>-1.0</td>\n    </tr>\n    <tr>\n      <th>2015385</th>\n      <td>YYYDTGNQFYF</td>\n      <td>-1.0</td>\n      <td>-1.0</td>\n      <td>-1.0</td>\n      <td>-1.0</td>\n      <td>-1.0</td>\n      <td>-1.0</td>\n      <td>-1.0</td>\n      <td>-1.0</td>\n      <td>-1.0</td>\n      <td>...</td>\n      <td>-1.0</td>\n      <td>-1.0</td>\n      <td>-1.0</td>\n      <td>-1.0</td>\n      <td>-1.0</td>\n      <td>-1.0</td>\n      <td>-1.0</td>\n      <td>-1.0</td>\n      <td>-1.0</td>\n      <td>-1.0</td>\n    </tr>\n    <tr>\n      <th>2015386</th>\n      <td>YYYGNNRLAF</td>\n      <td>-1.0</td>\n      <td>-1.0</td>\n      <td>-1.0</td>\n      <td>-1.0</td>\n      <td>-1.0</td>\n      <td>-1.0</td>\n      <td>-1.0</td>\n      <td>-1.0</td>\n      <td>-1.0</td>\n      <td>...</td>\n      <td>-1.0</td>\n      <td>-1.0</td>\n      <td>-1.0</td>\n      <td>-1.0</td>\n      <td>-1.0</td>\n      <td>-1.0</td>\n      <td>-1.0</td>\n      <td>-1.0</td>\n      <td>-1.0</td>\n      <td>-1.0</td>\n    </tr>\n  </tbody>\n</table>\n<p>2015387 rows × 217 columns</p>\n</div>"
     },
     "execution_count": 25,
     "metadata": {},
     "output_type": "execute_result"
    }
   ],
   "source": [
    "tcrb_data"
   ],
   "metadata": {
    "collapsed": false
   }
  },
  {
   "cell_type": "markdown",
   "source": [
    "#### Create embeddings"
   ],
   "metadata": {
    "collapsed": false
   }
  },
  {
   "cell_type": "code",
   "execution_count": 26,
   "outputs": [
    {
     "name": "stderr",
     "output_type": "stream",
     "text": [
      "Some weights of the model checkpoint at /home/ubuntu/CVC/output_dir_singlecell_v2 were not used when initializing BertModel: ['cls.predictions.transform.LayerNorm.bias', 'cls.predictions.transform.LayerNorm.weight', 'cls.predictions.decoder.weight', 'cls.predictions.bias', 'cls.predictions.transform.dense.bias', 'cls.predictions.transform.dense.weight', 'cls.predictions.decoder.bias']\n",
      "- This IS expected if you are initializing BertModel from the checkpoint of a model trained on another task or with another architecture (e.g. initializing a BertForSequenceClassification model from a BertForPreTraining model).\n",
      "- This IS NOT expected if you are initializing BertModel from the checkpoint of a model that you expect to be exactly identical (initializing a BertForSequenceClassification model from a BertForSequenceClassification model).\n"
     ]
    },
    {
     "data": {
      "text/plain": "  0%|          | 0/7873 [00:00<?, ?it/s]",
      "application/vnd.jupyter.widget-view+json": {
       "version_major": 2,
       "version_minor": 0,
       "model_id": "99b1f17fe8134ac1836242cf9c9772a9"
      }
     },
     "metadata": {},
     "output_type": "display_data"
    },
    {
     "data": {
      "text/plain": "(2015387, 768)"
     },
     "execution_count": 26,
     "metadata": {},
     "output_type": "execute_result"
    }
   ],
   "source": [
    "from cvc.embbeding_wrapper import EmbeddingWrapper\n",
    "\n",
    "# Create embeddings\n",
    "embed_wrap = EmbeddingWrapper(TRANSFORMER_TO_USE, DEVICE, tcrb_data, batch_size=256, method=\"mean\", layers=[-1], pbar=True, max_len=120)\n",
    "embed_wrap.embeddings.shape"
   ],
   "metadata": {
    "collapsed": false
   }
  },
  {
   "cell_type": "code",
   "execution_count": 27,
   "outputs": [
    {
     "data": {
      "text/plain": "              0         1         2         3         4         5         6    \\\n0        0.163495  0.080760  0.476696 -0.579615  0.884860 -0.195561  0.275461   \n1       -0.022704 -0.812257  0.003812 -0.729871  0.204372 -0.404436  0.677289   \n2        0.798835  0.413719  0.911860 -0.133170  0.403559 -0.780708 -0.368413   \n3        0.229236  0.292643  0.960917 -0.008623  0.367363  0.295858  0.188792   \n4        0.415509  0.290809  0.747348 -0.488818  0.169982 -0.781476  0.221385   \n...           ...       ...       ...       ...       ...       ...       ...   \n2015382  0.569057  0.162600  0.089978  0.012106  0.419535 -0.437577  1.252888   \n2015383  0.494744  0.378554  0.620226  0.349289  0.515694 -0.605529  0.424776   \n2015384  0.857174  0.218169 -0.012172 -0.279211  0.405902 -0.330954  0.568388   \n2015385  0.150761  0.100043  0.952118  0.091272  0.221874 -0.652297 -0.132203   \n2015386  0.642898  0.945786  0.372795  0.346539  0.375492 -0.572885  0.480855   \n\n              7         8         9    ...       758       759       760  \\\n0       -0.403593  0.178176 -0.486899  ... -0.055365  0.034403 -0.081032   \n1       -0.233194  0.275772 -0.729323  ... -0.362977 -0.591385 -0.487568   \n2       -0.211868  0.210744 -0.901089  ...  0.105163 -0.705243  0.084560   \n3        0.084871  0.550106 -0.515812  ... -0.147336 -0.502519 -0.160751   \n4       -0.375270 -0.283548 -0.465843  ...  0.399415 -0.662445 -1.347678   \n...           ...       ...       ...  ...       ...       ...       ...   \n2015382  0.310122 -0.400553  0.147231  ... -0.468567 -0.721760  0.135769   \n2015383 -0.101742 -0.168120  0.029810  ...  0.070515 -1.278155 -0.629228   \n2015384 -0.368292  0.436815  0.229530  ...  0.840342 -0.411674  0.391742   \n2015385  0.724841 -0.980853 -0.600392  ... -0.349036  0.098570 -0.304584   \n2015386 -0.243987 -0.272257  0.139974  ...  0.430562 -1.464940 -0.647011   \n\n              761       762       763       764       765       766       767  \n0        0.213817 -0.141227  0.420788  0.368493 -0.272782 -0.849871  0.086445  \n1       -0.242484 -0.240120  1.246368  0.101414  0.029819 -0.484888  1.041232  \n2        0.062431 -1.204412 -0.361698  0.049612 -0.489227 -1.033516  0.400039  \n3        0.339673 -0.486529  0.251945 -0.145595  0.371871 -0.457824 -0.136663  \n4        0.296099  0.111350  0.795811 -0.220372  0.261410  0.487527  0.904114  \n...           ...       ...       ...       ...       ...       ...       ...  \n2015382  0.089239  0.188486  0.462668 -0.484096 -0.257011 -0.352276  0.669514  \n2015383 -0.091008 -0.828578  0.243136 -0.368765 -0.671473 -0.222074  0.492664  \n2015384  0.576176  0.207879  0.138552  0.521715 -0.284631 -0.996801 -0.010976  \n2015385 -0.772568 -0.436647  0.262792  0.007044  0.313282 -0.322594  0.079108  \n2015386 -0.097448 -0.393031  0.374687 -0.636151 -0.539384  0.080729  1.086206  \n\n[2015387 rows x 768 columns]",
      "text/html": "<div>\n<style scoped>\n    .dataframe tbody tr th:only-of-type {\n        vertical-align: middle;\n    }\n\n    .dataframe tbody tr th {\n        vertical-align: top;\n    }\n\n    .dataframe thead th {\n        text-align: right;\n    }\n</style>\n<table border=\"1\" class=\"dataframe\">\n  <thead>\n    <tr style=\"text-align: right;\">\n      <th></th>\n      <th>0</th>\n      <th>1</th>\n      <th>2</th>\n      <th>3</th>\n      <th>4</th>\n      <th>5</th>\n      <th>6</th>\n      <th>7</th>\n      <th>8</th>\n      <th>9</th>\n      <th>...</th>\n      <th>758</th>\n      <th>759</th>\n      <th>760</th>\n      <th>761</th>\n      <th>762</th>\n      <th>763</th>\n      <th>764</th>\n      <th>765</th>\n      <th>766</th>\n      <th>767</th>\n    </tr>\n  </thead>\n  <tbody>\n    <tr>\n      <th>0</th>\n      <td>0.163495</td>\n      <td>0.080760</td>\n      <td>0.476696</td>\n      <td>-0.579615</td>\n      <td>0.884860</td>\n      <td>-0.195561</td>\n      <td>0.275461</td>\n      <td>-0.403593</td>\n      <td>0.178176</td>\n      <td>-0.486899</td>\n      <td>...</td>\n      <td>-0.055365</td>\n      <td>0.034403</td>\n      <td>-0.081032</td>\n      <td>0.213817</td>\n      <td>-0.141227</td>\n      <td>0.420788</td>\n      <td>0.368493</td>\n      <td>-0.272782</td>\n      <td>-0.849871</td>\n      <td>0.086445</td>\n    </tr>\n    <tr>\n      <th>1</th>\n      <td>-0.022704</td>\n      <td>-0.812257</td>\n      <td>0.003812</td>\n      <td>-0.729871</td>\n      <td>0.204372</td>\n      <td>-0.404436</td>\n      <td>0.677289</td>\n      <td>-0.233194</td>\n      <td>0.275772</td>\n      <td>-0.729323</td>\n      <td>...</td>\n      <td>-0.362977</td>\n      <td>-0.591385</td>\n      <td>-0.487568</td>\n      <td>-0.242484</td>\n      <td>-0.240120</td>\n      <td>1.246368</td>\n      <td>0.101414</td>\n      <td>0.029819</td>\n      <td>-0.484888</td>\n      <td>1.041232</td>\n    </tr>\n    <tr>\n      <th>2</th>\n      <td>0.798835</td>\n      <td>0.413719</td>\n      <td>0.911860</td>\n      <td>-0.133170</td>\n      <td>0.403559</td>\n      <td>-0.780708</td>\n      <td>-0.368413</td>\n      <td>-0.211868</td>\n      <td>0.210744</td>\n      <td>-0.901089</td>\n      <td>...</td>\n      <td>0.105163</td>\n      <td>-0.705243</td>\n      <td>0.084560</td>\n      <td>0.062431</td>\n      <td>-1.204412</td>\n      <td>-0.361698</td>\n      <td>0.049612</td>\n      <td>-0.489227</td>\n      <td>-1.033516</td>\n      <td>0.400039</td>\n    </tr>\n    <tr>\n      <th>3</th>\n      <td>0.229236</td>\n      <td>0.292643</td>\n      <td>0.960917</td>\n      <td>-0.008623</td>\n      <td>0.367363</td>\n      <td>0.295858</td>\n      <td>0.188792</td>\n      <td>0.084871</td>\n      <td>0.550106</td>\n      <td>-0.515812</td>\n      <td>...</td>\n      <td>-0.147336</td>\n      <td>-0.502519</td>\n      <td>-0.160751</td>\n      <td>0.339673</td>\n      <td>-0.486529</td>\n      <td>0.251945</td>\n      <td>-0.145595</td>\n      <td>0.371871</td>\n      <td>-0.457824</td>\n      <td>-0.136663</td>\n    </tr>\n    <tr>\n      <th>4</th>\n      <td>0.415509</td>\n      <td>0.290809</td>\n      <td>0.747348</td>\n      <td>-0.488818</td>\n      <td>0.169982</td>\n      <td>-0.781476</td>\n      <td>0.221385</td>\n      <td>-0.375270</td>\n      <td>-0.283548</td>\n      <td>-0.465843</td>\n      <td>...</td>\n      <td>0.399415</td>\n      <td>-0.662445</td>\n      <td>-1.347678</td>\n      <td>0.296099</td>\n      <td>0.111350</td>\n      <td>0.795811</td>\n      <td>-0.220372</td>\n      <td>0.261410</td>\n      <td>0.487527</td>\n      <td>0.904114</td>\n    </tr>\n    <tr>\n      <th>...</th>\n      <td>...</td>\n      <td>...</td>\n      <td>...</td>\n      <td>...</td>\n      <td>...</td>\n      <td>...</td>\n      <td>...</td>\n      <td>...</td>\n      <td>...</td>\n      <td>...</td>\n      <td>...</td>\n      <td>...</td>\n      <td>...</td>\n      <td>...</td>\n      <td>...</td>\n      <td>...</td>\n      <td>...</td>\n      <td>...</td>\n      <td>...</td>\n      <td>...</td>\n      <td>...</td>\n    </tr>\n    <tr>\n      <th>2015382</th>\n      <td>0.569057</td>\n      <td>0.162600</td>\n      <td>0.089978</td>\n      <td>0.012106</td>\n      <td>0.419535</td>\n      <td>-0.437577</td>\n      <td>1.252888</td>\n      <td>0.310122</td>\n      <td>-0.400553</td>\n      <td>0.147231</td>\n      <td>...</td>\n      <td>-0.468567</td>\n      <td>-0.721760</td>\n      <td>0.135769</td>\n      <td>0.089239</td>\n      <td>0.188486</td>\n      <td>0.462668</td>\n      <td>-0.484096</td>\n      <td>-0.257011</td>\n      <td>-0.352276</td>\n      <td>0.669514</td>\n    </tr>\n    <tr>\n      <th>2015383</th>\n      <td>0.494744</td>\n      <td>0.378554</td>\n      <td>0.620226</td>\n      <td>0.349289</td>\n      <td>0.515694</td>\n      <td>-0.605529</td>\n      <td>0.424776</td>\n      <td>-0.101742</td>\n      <td>-0.168120</td>\n      <td>0.029810</td>\n      <td>...</td>\n      <td>0.070515</td>\n      <td>-1.278155</td>\n      <td>-0.629228</td>\n      <td>-0.091008</td>\n      <td>-0.828578</td>\n      <td>0.243136</td>\n      <td>-0.368765</td>\n      <td>-0.671473</td>\n      <td>-0.222074</td>\n      <td>0.492664</td>\n    </tr>\n    <tr>\n      <th>2015384</th>\n      <td>0.857174</td>\n      <td>0.218169</td>\n      <td>-0.012172</td>\n      <td>-0.279211</td>\n      <td>0.405902</td>\n      <td>-0.330954</td>\n      <td>0.568388</td>\n      <td>-0.368292</td>\n      <td>0.436815</td>\n      <td>0.229530</td>\n      <td>...</td>\n      <td>0.840342</td>\n      <td>-0.411674</td>\n      <td>0.391742</td>\n      <td>0.576176</td>\n      <td>0.207879</td>\n      <td>0.138552</td>\n      <td>0.521715</td>\n      <td>-0.284631</td>\n      <td>-0.996801</td>\n      <td>-0.010976</td>\n    </tr>\n    <tr>\n      <th>2015385</th>\n      <td>0.150761</td>\n      <td>0.100043</td>\n      <td>0.952118</td>\n      <td>0.091272</td>\n      <td>0.221874</td>\n      <td>-0.652297</td>\n      <td>-0.132203</td>\n      <td>0.724841</td>\n      <td>-0.980853</td>\n      <td>-0.600392</td>\n      <td>...</td>\n      <td>-0.349036</td>\n      <td>0.098570</td>\n      <td>-0.304584</td>\n      <td>-0.772568</td>\n      <td>-0.436647</td>\n      <td>0.262792</td>\n      <td>0.007044</td>\n      <td>0.313282</td>\n      <td>-0.322594</td>\n      <td>0.079108</td>\n    </tr>\n    <tr>\n      <th>2015386</th>\n      <td>0.642898</td>\n      <td>0.945786</td>\n      <td>0.372795</td>\n      <td>0.346539</td>\n      <td>0.375492</td>\n      <td>-0.572885</td>\n      <td>0.480855</td>\n      <td>-0.243987</td>\n      <td>-0.272257</td>\n      <td>0.139974</td>\n      <td>...</td>\n      <td>0.430562</td>\n      <td>-1.464940</td>\n      <td>-0.647011</td>\n      <td>-0.097448</td>\n      <td>-0.393031</td>\n      <td>0.374687</td>\n      <td>-0.636151</td>\n      <td>-0.539384</td>\n      <td>0.080729</td>\n      <td>1.086206</td>\n    </tr>\n  </tbody>\n</table>\n<p>2015387 rows × 768 columns</p>\n</div>"
     },
     "execution_count": 27,
     "metadata": {},
     "output_type": "execute_result"
    }
   ],
   "source": [
    "tcrb_embeddings_df = pd.DataFrame(embed_wrap.embeddings)\n",
    "tcrb_embeddings_df"
   ],
   "metadata": {
    "collapsed": false
   }
  },
  {
   "cell_type": "code",
   "execution_count": null,
   "outputs": [],
   "source": [
    "# create anndata object\n",
    "tcrb_embeddings_adata = embed_wrap.create_anndata()\n",
    "\n",
    "# add public/private label to dataframe\n",
    "df_embeddings_with_label = tcrb_embeddings_df\n",
    "df_embeddings_with_label['Sequences']=list(tcrb_embeddings_adata.obs['Sequences'])\n",
    "df_embeddings_with_label[label_column]=list(tcrb_embeddings_adata.obs[label_column])\n",
    "df_embeddings_with_label"
   ],
   "metadata": {
    "collapsed": false,
    "pycharm": {
     "is_executing": true
    }
   }
  },
  {
   "cell_type": "code",
   "execution_count": 28,
   "outputs": [],
   "source": [
    "OUTPUT_FORMAT = \"pickle\" # csv or pickle"
   ],
   "metadata": {
    "collapsed": false
   }
  },
  {
   "cell_type": "code",
   "execution_count": 29,
   "outputs": [],
   "source": [
    "# output embeddings to csv\n",
    "if OUTPUT_FORMAT == \"csv\":\n",
    "    tcrb_embeddings_df.to_csv(output_path, index=False)\n",
    "elif OUTPUT_FORMAT == \"pickle\":\n",
    "    import pickle\n",
    "    with open(output_path, 'wb') as handle:\n",
    "        pickle.dump(tcrb_embeddings_df, handle, protocol=pickle.HIGHEST_PROTOCOL)\n",
    "# save anndata object\n",
    "tcrb_embeddings_adata.write_h5ad(output_path.replace(\".csv\", \".h5ad\"))"
   ],
   "metadata": {
    "collapsed": false
   }
  },
  {
   "cell_type": "code",
   "execution_count": 32,
   "outputs": [],
   "source": [
    "with open(\"/home/ubuntu/RandomData/data/dfB_CDR3s_romi_embeddings.csv\", 'rb') as handle:\n",
    "     dfB = pickle.load(handle)"
   ],
   "metadata": {
    "collapsed": false
   }
  }
 ],
 "metadata": {
  "deepnote": {},
  "deepnote_execution_queue": [],
  "deepnote_notebook_id": "cef408d8-9130-407c-bfc8-1126d6b70d18",
  "kernelspec": {
   "display_name": "Python 3",
   "language": "python",
   "name": "python3"
  },
  "language_info": {
   "codemirror_mode": {
    "name": "ipython",
    "version": 3
   },
   "file_extension": ".py",
   "mimetype": "text/x-python",
   "name": "python",
   "nbconvert_exporter": "python",
   "pygments_lexer": "ipython3",
   "version": "3.9.2"
  }
 },
 "nbformat": 4,
 "nbformat_minor": 5
}
