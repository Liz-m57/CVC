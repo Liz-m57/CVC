{
 "cells": [
  {
   "cell_type": "code",
   "execution_count": 52,
   "outputs": [
    {
     "name": "stdout",
     "output_type": "stream",
     "text": [
      "/home/romi/projects\n"
     ]
    }
   ],
   "source": [
    "cd .."
   ],
   "metadata": {
    "collapsed": false,
    "pycharm": {
     "name": "#%%\n"
    }
   }
  },
  {
   "cell_type": "code",
   "execution_count": 53,
   "id": "d0bdb1c1-c3b8-45bd-83c4-b153835665b6",
   "metadata": {
    "pycharm": {
     "name": "#%%\n"
    }
   },
   "outputs": [],
   "source": [
    "import pandas as pd\n",
    "import os\n",
    "import collections\n",
    "from lab_notebooks.utils import TRANSFORMER, DEVICE, DATA_DIR"
   ]
  },
  {
   "cell_type": "code",
   "execution_count": 54,
   "outputs": [],
   "source": [
    "# data with j gene\n",
    "# data_dir = DATA_DIR + \"sequences_j_gene_csv_17M.csv\"\n",
    "\n",
    "# data with v gene\n",
    "data_dir = DATA_DIR + \"sequences_v_gene_csv_17M.csv\"\n",
    "\n",
    "# CDR3 from database (all human, trcb) to classify thresholds\n",
    "# tcrb_data = pd.read_csv(\"/home/dsi/rgoldner/CDR3_data/db_nuc_vj_new.csv\", usecols = [\"aaSeqCDR3\",\"SampleName\"])\n",
    "\n",
    "# CDR3 from database\n",
    "#tcrb_data = pd.read_csv(\"/home/dsi/rgoldner/r_files/selected_sampleName_data.csv\")"
   ],
   "metadata": {
    "collapsed": false,
    "pycharm": {
     "name": "#%%\n"
    }
   }
  },
  {
   "cell_type": "code",
   "execution_count": 70,
   "outputs": [
    {
     "data": {
      "text/plain": "                         amino_acid      v_gene             sample\n0              0   CASSFELSGGNQPQHF  unresolved          1064_TCRB\n1              1       CASNEEGNQQYF  TCRBV05-01          1064_TCRB\n2              2     CASSSTGNTGELFF  TCRBV07-03          1064_TCRB\n3              3    CASSTEQVMNTEAFF  unresolved          1064_TCRB\n4              4   CASSFSALAGVIEQFF  TCRBV19-01          1064_TCRB\n...          ...                ...         ...                ...\n17746380  257316    CASSWGGETNTEAFF  TCRBV05-06  ADIRP0000351_TCRB\n17746381  257317      CAWADSKNTEAFF  TCRBV30-01  ADIRP0000351_TCRB\n17746382  257318  CASSTFAGYNTNTEAFF  TCRBV19-01  ADIRP0000351_TCRB\n17746383  257320      CAWTMGGNHEAFF  TCRBV30-01  ADIRP0000351_TCRB\n17746384  257321      CASSLKGSLEAFF  TCRBV05-06  ADIRP0000351_TCRB\n\n[17746385 rows x 4 columns]",
      "text/html": "<div>\n<style scoped>\n    .dataframe tbody tr th:only-of-type {\n        vertical-align: middle;\n    }\n\n    .dataframe tbody tr th {\n        vertical-align: top;\n    }\n\n    .dataframe thead th {\n        text-align: right;\n    }\n</style>\n<table border=\"1\" class=\"dataframe\">\n  <thead>\n    <tr style=\"text-align: right;\">\n      <th></th>\n      <th></th>\n      <th>amino_acid</th>\n      <th>v_gene</th>\n      <th>sample</th>\n    </tr>\n  </thead>\n  <tbody>\n    <tr>\n      <th>0</th>\n      <td>0</td>\n      <td>CASSFELSGGNQPQHF</td>\n      <td>unresolved</td>\n      <td>1064_TCRB</td>\n    </tr>\n    <tr>\n      <th>1</th>\n      <td>1</td>\n      <td>CASNEEGNQQYF</td>\n      <td>TCRBV05-01</td>\n      <td>1064_TCRB</td>\n    </tr>\n    <tr>\n      <th>2</th>\n      <td>2</td>\n      <td>CASSSTGNTGELFF</td>\n      <td>TCRBV07-03</td>\n      <td>1064_TCRB</td>\n    </tr>\n    <tr>\n      <th>3</th>\n      <td>3</td>\n      <td>CASSTEQVMNTEAFF</td>\n      <td>unresolved</td>\n      <td>1064_TCRB</td>\n    </tr>\n    <tr>\n      <th>4</th>\n      <td>4</td>\n      <td>CASSFSALAGVIEQFF</td>\n      <td>TCRBV19-01</td>\n      <td>1064_TCRB</td>\n    </tr>\n    <tr>\n      <th>...</th>\n      <td>...</td>\n      <td>...</td>\n      <td>...</td>\n      <td>...</td>\n    </tr>\n    <tr>\n      <th>17746380</th>\n      <td>257316</td>\n      <td>CASSWGGETNTEAFF</td>\n      <td>TCRBV05-06</td>\n      <td>ADIRP0000351_TCRB</td>\n    </tr>\n    <tr>\n      <th>17746381</th>\n      <td>257317</td>\n      <td>CAWADSKNTEAFF</td>\n      <td>TCRBV30-01</td>\n      <td>ADIRP0000351_TCRB</td>\n    </tr>\n    <tr>\n      <th>17746382</th>\n      <td>257318</td>\n      <td>CASSTFAGYNTNTEAFF</td>\n      <td>TCRBV19-01</td>\n      <td>ADIRP0000351_TCRB</td>\n    </tr>\n    <tr>\n      <th>17746383</th>\n      <td>257320</td>\n      <td>CAWTMGGNHEAFF</td>\n      <td>TCRBV30-01</td>\n      <td>ADIRP0000351_TCRB</td>\n    </tr>\n    <tr>\n      <th>17746384</th>\n      <td>257321</td>\n      <td>CASSLKGSLEAFF</td>\n      <td>TCRBV05-06</td>\n      <td>ADIRP0000351_TCRB</td>\n    </tr>\n  </tbody>\n</table>\n<p>17746385 rows × 4 columns</p>\n</div>"
     },
     "execution_count": 70,
     "metadata": {},
     "output_type": "execute_result"
    }
   ],
   "source": [
    "# load data\n",
    "tcrb_data = pd.read_csv(data_dir,engine=\"pyarrow\")\n",
    "\n",
    "# Nofar dataset \n",
    "#tcrb_data = pd.read_csv(\"/home/dsi/rgoldner/CDR3_data/nofar_BCRA_CDR3.csv\")\n",
    "tcrb_data"
   ],
   "metadata": {
    "collapsed": false,
    "pycharm": {
     "name": "#%%\n"
    }
   }
  },
  {
   "cell_type": "code",
   "execution_count": 71,
   "outputs": [],
   "source": [
    "# edit column names\n",
    "tcrb_data.rename(columns={'amino_acid': 'aaSeqCDR3'}, inplace=True)\n",
    "tcrb_data.rename(columns={'sample': 'SampleName'}, inplace=True)"
   ],
   "metadata": {
    "collapsed": false,
    "pycharm": {
     "name": "#%%\n"
    }
   }
  },
  {
   "cell_type": "code",
   "execution_count": 72,
   "outputs": [
    {
     "data": {
      "text/plain": "                  aaSeqCDR3      v_gene         SampleName\n0          CASSFELSGGNQPQHF  unresolved          1064_TCRB\n1              CASNEEGNQQYF  TCRBV05-01          1064_TCRB\n2            CASSSTGNTGELFF  TCRBV07-03          1064_TCRB\n3           CASSTEQVMNTEAFF  unresolved          1064_TCRB\n4          CASSFSALAGVIEQFF  TCRBV19-01          1064_TCRB\n...                     ...         ...                ...\n17746380    CASSWGGETNTEAFF  TCRBV05-06  ADIRP0000351_TCRB\n17746381      CAWADSKNTEAFF  TCRBV30-01  ADIRP0000351_TCRB\n17746382  CASSTFAGYNTNTEAFF  TCRBV19-01  ADIRP0000351_TCRB\n17746383      CAWTMGGNHEAFF  TCRBV30-01  ADIRP0000351_TCRB\n17746384      CASSLKGSLEAFF  TCRBV05-06  ADIRP0000351_TCRB\n\n[17746385 rows x 3 columns]",
      "text/html": "<div>\n<style scoped>\n    .dataframe tbody tr th:only-of-type {\n        vertical-align: middle;\n    }\n\n    .dataframe tbody tr th {\n        vertical-align: top;\n    }\n\n    .dataframe thead th {\n        text-align: right;\n    }\n</style>\n<table border=\"1\" class=\"dataframe\">\n  <thead>\n    <tr style=\"text-align: right;\">\n      <th></th>\n      <th>aaSeqCDR3</th>\n      <th>v_gene</th>\n      <th>SampleName</th>\n    </tr>\n  </thead>\n  <tbody>\n    <tr>\n      <th>0</th>\n      <td>CASSFELSGGNQPQHF</td>\n      <td>unresolved</td>\n      <td>1064_TCRB</td>\n    </tr>\n    <tr>\n      <th>1</th>\n      <td>CASNEEGNQQYF</td>\n      <td>TCRBV05-01</td>\n      <td>1064_TCRB</td>\n    </tr>\n    <tr>\n      <th>2</th>\n      <td>CASSSTGNTGELFF</td>\n      <td>TCRBV07-03</td>\n      <td>1064_TCRB</td>\n    </tr>\n    <tr>\n      <th>3</th>\n      <td>CASSTEQVMNTEAFF</td>\n      <td>unresolved</td>\n      <td>1064_TCRB</td>\n    </tr>\n    <tr>\n      <th>4</th>\n      <td>CASSFSALAGVIEQFF</td>\n      <td>TCRBV19-01</td>\n      <td>1064_TCRB</td>\n    </tr>\n    <tr>\n      <th>...</th>\n      <td>...</td>\n      <td>...</td>\n      <td>...</td>\n    </tr>\n    <tr>\n      <th>17746380</th>\n      <td>CASSWGGETNTEAFF</td>\n      <td>TCRBV05-06</td>\n      <td>ADIRP0000351_TCRB</td>\n    </tr>\n    <tr>\n      <th>17746381</th>\n      <td>CAWADSKNTEAFF</td>\n      <td>TCRBV30-01</td>\n      <td>ADIRP0000351_TCRB</td>\n    </tr>\n    <tr>\n      <th>17746382</th>\n      <td>CASSTFAGYNTNTEAFF</td>\n      <td>TCRBV19-01</td>\n      <td>ADIRP0000351_TCRB</td>\n    </tr>\n    <tr>\n      <th>17746383</th>\n      <td>CAWTMGGNHEAFF</td>\n      <td>TCRBV30-01</td>\n      <td>ADIRP0000351_TCRB</td>\n    </tr>\n    <tr>\n      <th>17746384</th>\n      <td>CASSLKGSLEAFF</td>\n      <td>TCRBV05-06</td>\n      <td>ADIRP0000351_TCRB</td>\n    </tr>\n  </tbody>\n</table>\n<p>17746385 rows × 3 columns</p>\n</div>"
     },
     "execution_count": 72,
     "metadata": {},
     "output_type": "execute_result"
    }
   ],
   "source": [
    "tcrb_data = tcrb_data[[\"aaSeqCDR3\", \"v_gene\", \"SampleName\"]]\n",
    "tcrb_data"
   ],
   "metadata": {
    "collapsed": false,
    "pycharm": {
     "name": "#%%\n"
    }
   }
  },
  {
   "cell_type": "code",
   "execution_count": 73,
   "outputs": [
    {
     "data": {
      "text/plain": "99"
     },
     "execution_count": 73,
     "metadata": {},
     "output_type": "execute_result"
    }
   ],
   "source": [
    "len(collections.Counter(tcrb_data[\"SampleName\"]))"
   ],
   "metadata": {
    "collapsed": false,
    "pycharm": {
     "name": "#%%\n"
    }
   }
  },
  {
   "cell_type": "code",
   "execution_count": 74,
   "outputs": [
    {
     "data": {
      "text/plain": "17746385"
     },
     "execution_count": 74,
     "metadata": {},
     "output_type": "execute_result"
    }
   ],
   "source": [
    "# length of dataframe\n",
    "len(tcrb_data.index)"
   ],
   "metadata": {
    "collapsed": false,
    "pycharm": {
     "name": "#%%\n"
    }
   }
  },
  {
   "cell_type": "code",
   "execution_count": 75,
   "outputs": [],
   "source": [
    "# # select organism to be human\n",
    "# tcrb_data = tcrb_data.loc[tcrb_data['Organism'] == \"human\"]\n",
    "# # select Locus to be TCRB\n",
    "# tcrb_data = tcrb_data.loc[tcrb_data['Locus'] == \"TCRB\"]\n",
    "# len(tcrb_data.index)"
   ],
   "metadata": {
    "collapsed": false,
    "pycharm": {
     "name": "#%%\n"
    }
   }
  },
  {
   "cell_type": "code",
   "execution_count": 76,
   "outputs": [
    {
     "data": {
      "text/plain": "17400296"
     },
     "execution_count": 76,
     "metadata": {},
     "output_type": "execute_result"
    }
   ],
   "source": [
    "# drop duplicate rows\n",
    "tcrb_data_no_duplicates = tcrb_data.drop_duplicates()\n",
    "len(tcrb_data_no_duplicates.index)"
   ],
   "metadata": {
    "collapsed": false,
    "pycharm": {
     "name": "#%%\n"
    }
   }
  },
  {
   "cell_type": "code",
   "execution_count": 77,
   "outputs": [
    {
     "data": {
      "text/plain": "          aaSeqCDR3      v_gene SampleName\n0  CASSFELSGGNQPQHF  unresolved  1064_TCRB\n1      CASNEEGNQQYF  TCRBV05-01  1064_TCRB\n2    CASSSTGNTGELFF  TCRBV07-03  1064_TCRB\n3   CASSTEQVMNTEAFF  unresolved  1064_TCRB\n4  CASSFSALAGVIEQFF  TCRBV19-01  1064_TCRB",
      "text/html": "<div>\n<style scoped>\n    .dataframe tbody tr th:only-of-type {\n        vertical-align: middle;\n    }\n\n    .dataframe tbody tr th {\n        vertical-align: top;\n    }\n\n    .dataframe thead th {\n        text-align: right;\n    }\n</style>\n<table border=\"1\" class=\"dataframe\">\n  <thead>\n    <tr style=\"text-align: right;\">\n      <th></th>\n      <th>aaSeqCDR3</th>\n      <th>v_gene</th>\n      <th>SampleName</th>\n    </tr>\n  </thead>\n  <tbody>\n    <tr>\n      <th>0</th>\n      <td>CASSFELSGGNQPQHF</td>\n      <td>unresolved</td>\n      <td>1064_TCRB</td>\n    </tr>\n    <tr>\n      <th>1</th>\n      <td>CASNEEGNQQYF</td>\n      <td>TCRBV05-01</td>\n      <td>1064_TCRB</td>\n    </tr>\n    <tr>\n      <th>2</th>\n      <td>CASSSTGNTGELFF</td>\n      <td>TCRBV07-03</td>\n      <td>1064_TCRB</td>\n    </tr>\n    <tr>\n      <th>3</th>\n      <td>CASSTEQVMNTEAFF</td>\n      <td>unresolved</td>\n      <td>1064_TCRB</td>\n    </tr>\n    <tr>\n      <th>4</th>\n      <td>CASSFSALAGVIEQFF</td>\n      <td>TCRBV19-01</td>\n      <td>1064_TCRB</td>\n    </tr>\n  </tbody>\n</table>\n</div>"
     },
     "execution_count": 77,
     "metadata": {},
     "output_type": "execute_result"
    }
   ],
   "source": [
    "tcrb_data_no_duplicates.head()"
   ],
   "metadata": {
    "collapsed": false,
    "pycharm": {
     "name": "#%%\n"
    }
   }
  },
  {
   "cell_type": "code",
   "execution_count": 78,
   "outputs": [],
   "source": [
    "# remove organism and locus - all are human and TCRB\n",
    "# tcrb_data_no_duplicates = tcrb_data_no_duplicates.drop(['Organism', 'Locus'], axis=1)"
   ],
   "metadata": {
    "collapsed": false,
    "pycharm": {
     "name": "#%%\n"
    }
   }
  },
  {
   "cell_type": "code",
   "execution_count": 79,
   "outputs": [
    {
     "data": {
      "text/plain": "Counter({'1064_TCRB': 112910,\n         'KH20-09661_TCRB': 71174,\n         'KH20-09962_TCRB': 121304,\n         'KH20-09964_TCRB': 117184,\n         '1059_TCRB': 135069,\n         'BS-EQ-36-T0-replacement_TCRB': 89568,\n         'KH20-09700_TCRB': 20405,\n         'KHBR20-00168_TCRB': 98104,\n         '860011264_TCRB': 332114,\n         '1056_TCRB': 60490,\n         'ADIRP0001296_TCRB': 98577,\n         'ADIRP0001221_TCRB': 517353,\n         'BS-HS-0147_TCRB': 131905,\n         'ADIRP0002427_TCRB': 74549,\n         'KH20-09967_TCRB': 170942,\n         'KHBR20-00076_TCRB': 122649,\n         '860011241_TCRB': 153781,\n         'BS-GIGI_92-replacement_TCRB': 89359,\n         'BS-EQ-43-T1_BS-GIGI-137-replacement_TCRB': 63548,\n         'KH20-09694_TCRB': 132666,\n         '860011230_TCRB': 149877,\n         'BS-EQ-11-T3-replacement_TCRB': 44909,\n         'ADIRP0002581_TCRB': 302681,\n         'ADIRP0000739_TCRB': 513111,\n         'KH20-09977_TCRB': 204340,\n         '860011219_TCRB': 261981,\n         '1129-LVM-668_TCRB': 137064,\n         'KHBR20-00094_TCRB': 112698,\n         '550042609_TCRB': 133367,\n         'KH20-09987_TCRB': 63088,\n         'BS-EQ-0011-T1-replacement_TCRB': 36331,\n         'ADIRP0002417_TCRB': 180718,\n         '860011262_TCRB': 312447,\n         '1032_TCRB': 114524,\n         'KH20-11639_TCRB': 108167,\n         'ADIRP0000036_TCRB': 483546,\n         'BS-EQ-10-T1-replacement_TCRB': 20857,\n         '860011342_TCRB': 129227,\n         'ADIRP0001289_TCRB': 361568,\n         '860011498_TCRB': 77045,\n         '550042451_TCRB': 663760,\n         '860011115_TCRB': 212416,\n         'ADIRP0002464_TCRB': 94459,\n         'KH20-09997_TCRB': 75786,\n         'INCOV035-AC-3_TCRB': 141245,\n         'ADIRP0001328_TCRB': 249756,\n         '860011277_TCRB': 21396,\n         'BS-GIGI_11-replacement_TCRB': 2940,\n         'KH20-09984_TCRB': 169694,\n         'KHBR20-00100_TCRB': 212451,\n         'KH20-09986_TCRB': 208980,\n         'KHBR20-00079_TCRB': 225855,\n         'ADIRP0001903_TCRB': 299724,\n         '5115BW_TCRB': 218846,\n         '1038_TCRB': 187718,\n         '550041293_TCRB': 59656,\n         'INCOV017-AC-5_TCRB': 121562,\n         'BS-HS-182_TCRB': 63473,\n         'BS-HS-35_TCRB': 35525,\n         '860011242_TCRB': 226796,\n         'BS-HS-118_TCRB': 124522,\n         'INCOV071-BL-3_TCRB': 76640,\n         '860011354_TCRB': 277014,\n         'KHBR20-00118_TCRB': 51281,\n         '860011463_TCRB': 137604,\n         'INCOV042-AC-3_TCRB': 252034,\n         'INCOV035-BL-3_TCRB': 187728,\n         'ADIRP0000129_TCRB': 412774,\n         '550043986_TCRB': 78112,\n         '550042259_TCRB': 108178,\n         '1328-CM-933_TCRB': 111300,\n         '550042542_TCRB': 318690,\n         'KH20-09670_TCRB': 46437,\n         'KH20-09744_TCRB': 564302,\n         '860011112_TCRB': 92303,\n         'BS-EQ-18-T2-replacement_TCRB': 102110,\n         '550043906_TCRB': 43923,\n         'BS-GIGI_06-replacement_TCRB': 31566,\n         'ADIRP0002343_TCRB': 212634,\n         'BS-GIGI_87-replacement_TCRB': 47361,\n         '550042547_TCRB': 197513,\n         'KHBR20-00123_TCRB': 98601,\n         '476909BW_TCRB': 297051,\n         'ADIRP0002034_TCRB': 259924,\n         'BS-EQ-12-T2-replacement_TCRB': 37265,\n         'BS-HS-03_TCRB': 15652,\n         'KH20-09723_TCRB': 227127,\n         '1568094BW_TCRB': 291750,\n         '550044029_TCRB': 331940,\n         'BS-HS-70_TCRB': 17301,\n         '860011226_TCRB': 270895,\n         'INCOV045-BL-3_TCRB': 467778,\n         '1566829BW_TCRB': 385935,\n         'ADIRP0001764_TCRB': 289871,\n         'INCOV032-BL-3_TCRB': 90147,\n         'INCOV073-BL-3_TCRB': 150898,\n         'INCOV006-CV-3_TCRB': 220003,\n         'ADIRP0001786_TCRB': 312504,\n         'ADIRP0000351_TCRB': 208393})"
     },
     "execution_count": 79,
     "metadata": {},
     "output_type": "execute_result"
    }
   ],
   "source": [
    "collections.Counter(tcrb_data_no_duplicates['SampleName'])"
   ],
   "metadata": {
    "collapsed": false,
    "pycharm": {
     "name": "#%%\n"
    }
   }
  },
  {
   "cell_type": "code",
   "execution_count": 80,
   "outputs": [
    {
     "data": {
      "text/plain": "               aaSeqCDR3\nCASSLGETQYF          788\nCASSLGGNTEAFF        636\nCASSLGYEQYF          627\nCASSSSYEQYF          611\nCASSLQETQYF          594",
      "text/html": "<div>\n<style scoped>\n    .dataframe tbody tr th:only-of-type {\n        vertical-align: middle;\n    }\n\n    .dataframe tbody tr th {\n        vertical-align: top;\n    }\n\n    .dataframe thead th {\n        text-align: right;\n    }\n</style>\n<table border=\"1\" class=\"dataframe\">\n  <thead>\n    <tr style=\"text-align: right;\">\n      <th></th>\n      <th>aaSeqCDR3</th>\n    </tr>\n  </thead>\n  <tbody>\n    <tr>\n      <th>CASSLGETQYF</th>\n      <td>788</td>\n    </tr>\n    <tr>\n      <th>CASSLGGNTEAFF</th>\n      <td>636</td>\n    </tr>\n    <tr>\n      <th>CASSLGYEQYF</th>\n      <td>627</td>\n    </tr>\n    <tr>\n      <th>CASSSSYEQYF</th>\n      <td>611</td>\n    </tr>\n    <tr>\n      <th>CASSLQETQYF</th>\n      <td>594</td>\n    </tr>\n  </tbody>\n</table>\n</div>"
     },
     "execution_count": 80,
     "metadata": {},
     "output_type": "execute_result"
    }
   ],
   "source": [
    "# count number of times aaSeqCDR3 appear - each sequence appears once in each sample so the duplicate occurances\n",
    "# will be in different samples\n",
    "num_of_occurances_df = tcrb_data_no_duplicates['aaSeqCDR3'].value_counts().to_frame()\n",
    "len(num_of_occurances_df.index)\n",
    "num_of_occurances_df.head()"
   ],
   "metadata": {
    "collapsed": false,
    "pycharm": {
     "name": "#%%\n"
    }
   }
  },
  {
   "cell_type": "code",
   "execution_count": 81,
   "outputs": [
    {
     "data": {
      "text/plain": "       Sequences  Appearances\n0    CASSLGETQYF          788\n1  CASSLGGNTEAFF          636\n2    CASSLGYEQYF          627\n3    CASSSSYEQYF          611\n4    CASSLQETQYF          594",
      "text/html": "<div>\n<style scoped>\n    .dataframe tbody tr th:only-of-type {\n        vertical-align: middle;\n    }\n\n    .dataframe tbody tr th {\n        vertical-align: top;\n    }\n\n    .dataframe thead th {\n        text-align: right;\n    }\n</style>\n<table border=\"1\" class=\"dataframe\">\n  <thead>\n    <tr style=\"text-align: right;\">\n      <th></th>\n      <th>Sequences</th>\n      <th>Appearances</th>\n    </tr>\n  </thead>\n  <tbody>\n    <tr>\n      <th>0</th>\n      <td>CASSLGETQYF</td>\n      <td>788</td>\n    </tr>\n    <tr>\n      <th>1</th>\n      <td>CASSLGGNTEAFF</td>\n      <td>636</td>\n    </tr>\n    <tr>\n      <th>2</th>\n      <td>CASSLGYEQYF</td>\n      <td>627</td>\n    </tr>\n    <tr>\n      <th>3</th>\n      <td>CASSSSYEQYF</td>\n      <td>611</td>\n    </tr>\n    <tr>\n      <th>4</th>\n      <td>CASSLQETQYF</td>\n      <td>594</td>\n    </tr>\n  </tbody>\n</table>\n</div>"
     },
     "execution_count": 81,
     "metadata": {},
     "output_type": "execute_result"
    }
   ],
   "source": [
    "num_of_occurances_df.index.name = 'Sequences'\n",
    "num_of_occurances_df.reset_index(inplace=True)\n",
    "num_of_occurances_df = num_of_occurances_df.rename(columns={'aaSeqCDR3': 'Appearances'})\n",
    "num_of_occurances_df.head()"
   ],
   "metadata": {
    "collapsed": false,
    "pycharm": {
     "name": "#%%\n"
    }
   }
  },
  {
   "cell_type": "code",
   "execution_count": 82,
   "outputs": [],
   "source": [
    "import matplotlib.pyplot as plt"
   ],
   "metadata": {
    "collapsed": false,
    "pycharm": {
     "name": "#%%\n"
    }
   }
  },
  {
   "cell_type": "code",
   "execution_count": 83,
   "outputs": [],
   "source": [
    "stats = collections.Counter(num_of_occurances_df['Appearances'])"
   ],
   "metadata": {
    "collapsed": false,
    "pycharm": {
     "name": "#%%\n"
    }
   }
  },
  {
   "cell_type": "code",
   "execution_count": 17,
   "outputs": [
    {
     "data": {
      "text/plain": "<Figure size 1440x360 with 1 Axes>",
      "image/png": "[encoded data removed]"
     },
     "metadata": {},
     "output_type": "display_data"
    }
   ],
   "source": [
    "# bar plot for stats\n",
    "plt.bar(stats.keys(), stats.values())\n",
    "# change y axis to log scale\n",
    "plt.yscale('log')\n",
    "# plt.xscale('log')\n",
    "# make the plot larger\n",
    "plt.gcf().set_size_inches(20, 5)\n",
    "# wider bars for better visualization\n",
    "plt.tight_layout()\n",
    "# set the x-axis label\n",
    "plt.xlabel('Public Score')\n",
    "# set the y-axis label\n",
    "plt.ylabel('Number of Sequences')\n",
    "# show plot\n",
    "plt.show()"
   ],
   "metadata": {
    "collapsed": false,
    "pycharm": {
     "name": "#%%\n"
    }
   }
  },
  {
   "cell_type": "code",
   "execution_count": 84,
   "outputs": [],
   "source": [
    "# if occurance value is larger than 1, the sequence is public(1), otherwise it's private(0)\n",
    "# change here for different threshold 10,50,100\n",
    "def label_public_private (row):\n",
    "    if row['Appearances'] > 1 : return 1\n",
    "    return 0"
   ],
   "metadata": {
    "collapsed": false,
    "pycharm": {
     "name": "#%%\n"
    }
   }
  },
  {
   "cell_type": "code",
   "execution_count": 44,
   "outputs": [],
   "source": [
    "# int or bool instead of str\n",
    "# try on 1000 elements as below\n",
    "# overcommit (send message to assaf how i get sudo permissions to install ncdu, do overcommit)\n",
    "# Last resort: divide data into 4 parts and do separately\n",
    "# Search replacement for pandas that can handle large data - e.g. parquet\n",
    "\n",
    "#df = num_of_occurances_df[:1000]\n",
    "#df['Private_Public_label'] = df.apply(lambda row: label_public_private(row), axis=1)"
   ],
   "metadata": {
    "collapsed": false,
    "pycharm": {
     "name": "#%%\n"
    }
   }
  },
  {
   "cell_type": "code",
   "execution_count": 85,
   "outputs": [
    {
     "data": {
      "text/plain": "       Sequences  Appearances  Private_Public_label\n0    CASSLGETQYF          788                     1\n1  CASSLGGNTEAFF          636                     1\n2    CASSLGYEQYF          627                     1\n3    CASSSSYEQYF          611                     1\n4    CASSLQETQYF          594                     1",
      "text/html": "<div>\n<style scoped>\n    .dataframe tbody tr th:only-of-type {\n        vertical-align: middle;\n    }\n\n    .dataframe tbody tr th {\n        vertical-align: top;\n    }\n\n    .dataframe thead th {\n        text-align: right;\n    }\n</style>\n<table border=\"1\" class=\"dataframe\">\n  <thead>\n    <tr style=\"text-align: right;\">\n      <th></th>\n      <th>Sequences</th>\n      <th>Appearances</th>\n      <th>Private_Public_label</th>\n    </tr>\n  </thead>\n  <tbody>\n    <tr>\n      <th>0</th>\n      <td>CASSLGETQYF</td>\n      <td>788</td>\n      <td>1</td>\n    </tr>\n    <tr>\n      <th>1</th>\n      <td>CASSLGGNTEAFF</td>\n      <td>636</td>\n      <td>1</td>\n    </tr>\n    <tr>\n      <th>2</th>\n      <td>CASSLGYEQYF</td>\n      <td>627</td>\n      <td>1</td>\n    </tr>\n    <tr>\n      <th>3</th>\n      <td>CASSSSYEQYF</td>\n      <td>611</td>\n      <td>1</td>\n    </tr>\n    <tr>\n      <th>4</th>\n      <td>CASSLQETQYF</td>\n      <td>594</td>\n      <td>1</td>\n    </tr>\n  </tbody>\n</table>\n</div>"
     },
     "execution_count": 85,
     "metadata": {},
     "output_type": "execute_result"
    }
   ],
   "source": [
    "num_of_occurances_df['Private_Public_label'] = \\\n",
    "    num_of_occurances_df.apply(lambda row: label_public_private(row), axis=1)\n",
    "\n",
    "num_of_occurances_df.head()"
   ],
   "metadata": {
    "collapsed": false,
    "pycharm": {
     "name": "#%%\n"
    }
   }
  },
  {
   "cell_type": "code",
   "execution_count": 86,
   "outputs": [],
   "source": [
    "tcrb_data_no_duplicates = tcrb_data_no_duplicates.rename(columns={'aaSeqCDR3': 'Sequences'})"
   ],
   "metadata": {
    "collapsed": false,
    "pycharm": {
     "name": "#%%\n"
    }
   }
  },
  {
   "cell_type": "code",
   "execution_count": 87,
   "outputs": [],
   "source": [
    "# merge the two dataframes num_of_occurances_df and tcrb_data_no_duplicates on Sequences\n",
    "merged_df = pd.merge(num_of_occurances_df, tcrb_data_no_duplicates, on='Sequences')"
   ],
   "metadata": {
    "collapsed": false,
    "pycharm": {
     "name": "#%%\n"
    }
   }
  },
  {
   "cell_type": "code",
   "execution_count": 88,
   "outputs": [
    {
     "data": {
      "text/plain": "     Sequences  Appearances  Private_Public_label            v_gene SampleName\n0  CASSLGETQYF          788                     1  TCRBV12-03/12-04  1064_TCRB\n1  CASSLGETQYF          788                     1        TCRBV27-01  1064_TCRB\n2  CASSLGETQYF          788                     1        TCRBV07-09  1064_TCRB\n3  CASSLGETQYF          788                     1        TCRBV05-06  1064_TCRB\n4  CASSLGETQYF          788                     1        TCRBV11-02  1064_TCRB",
      "text/html": "<div>\n<style scoped>\n    .dataframe tbody tr th:only-of-type {\n        vertical-align: middle;\n    }\n\n    .dataframe tbody tr th {\n        vertical-align: top;\n    }\n\n    .dataframe thead th {\n        text-align: right;\n    }\n</style>\n<table border=\"1\" class=\"dataframe\">\n  <thead>\n    <tr style=\"text-align: right;\">\n      <th></th>\n      <th>Sequences</th>\n      <th>Appearances</th>\n      <th>Private_Public_label</th>\n      <th>v_gene</th>\n      <th>SampleName</th>\n    </tr>\n  </thead>\n  <tbody>\n    <tr>\n      <th>0</th>\n      <td>CASSLGETQYF</td>\n      <td>788</td>\n      <td>1</td>\n      <td>TCRBV12-03/12-04</td>\n      <td>1064_TCRB</td>\n    </tr>\n    <tr>\n      <th>1</th>\n      <td>CASSLGETQYF</td>\n      <td>788</td>\n      <td>1</td>\n      <td>TCRBV27-01</td>\n      <td>1064_TCRB</td>\n    </tr>\n    <tr>\n      <th>2</th>\n      <td>CASSLGETQYF</td>\n      <td>788</td>\n      <td>1</td>\n      <td>TCRBV07-09</td>\n      <td>1064_TCRB</td>\n    </tr>\n    <tr>\n      <th>3</th>\n      <td>CASSLGETQYF</td>\n      <td>788</td>\n      <td>1</td>\n      <td>TCRBV05-06</td>\n      <td>1064_TCRB</td>\n    </tr>\n    <tr>\n      <th>4</th>\n      <td>CASSLGETQYF</td>\n      <td>788</td>\n      <td>1</td>\n      <td>TCRBV11-02</td>\n      <td>1064_TCRB</td>\n    </tr>\n  </tbody>\n</table>\n</div>"
     },
     "execution_count": 88,
     "metadata": {},
     "output_type": "execute_result"
    }
   ],
   "source": [
    "merged_df.head()"
   ],
   "metadata": {
    "collapsed": false,
    "pycharm": {
     "name": "#%%\n"
    }
   }
  },
  {
   "cell_type": "code",
   "execution_count": 89,
   "outputs": [
    {
     "data": {
      "text/plain": "14938529"
     },
     "execution_count": 89,
     "metadata": {},
     "output_type": "execute_result"
    }
   ],
   "source": [
    "# remove SampleName column from merged_df and drop duplicates\n",
    "merged_df_no_duplicates = merged_df.drop(['SampleName'], axis=1)\n",
    "merged_df_no_duplicates = merged_df_no_duplicates.drop_duplicates()\n",
    "len(merged_df_no_duplicates.index)"
   ],
   "metadata": {
    "collapsed": false,
    "pycharm": {
     "name": "#%%\n"
    }
   }
  },
  {
   "cell_type": "code",
   "execution_count": 90,
   "outputs": [],
   "source": [
    "# output j gene embeddings to csv\n",
    "output_path = \"/home/romi/projects/preTCR/CDR3_data/sequences_j_gene_csv_17M_pub_priv.csv\"\n",
    "\n",
    "# output v gene embeddings to csv\n",
    "output_path = \"/home/romi/projects/preTCR/CDR3_data/sequences_v_gene_csv_17M_pub_priv.csv\"\n",
    "\n",
    "# create csv of occurances_with_sample_df\n",
    "# output_path = '/home/dsi/rgoldner/CDR3_data/db_data_nuc_vj_genes_pub_priv.csv'\n",
    "\n",
    "# create csv of occurances threshold 50\n",
    "# output_path = '/home/dsi/rgoldner/CDR3_data/db_data_thresh_50_pub_priv.csv'\n",
    "\n",
    "# create csv of appearances threshold 1\n",
    "# output_path = '/home/dsi/rgoldner/CDR3_data/db_data_appearances.csv'"
   ],
   "metadata": {
    "collapsed": false,
    "pycharm": {
     "name": "#%%\n"
    }
   }
  },
  {
   "cell_type": "code",
   "execution_count": 91,
   "outputs": [],
   "source": [
    "merged_df_no_duplicates.to_csv(output_path)"
   ],
   "metadata": {
    "collapsed": false,
    "pycharm": {
     "name": "#%%\n"
    }
   }
  },
  {
   "cell_type": "code",
   "execution_count": null,
   "outputs": [],
   "source": [],
   "metadata": {
    "collapsed": false,
    "pycharm": {
     "name": "#%%\n"
    }
   }
  }
 ],
 "metadata": {
  "kernelspec": {
   "display_name": "Python 3",
   "language": "python",
   "name": "python3"
  },
  "language_info": {
   "codemirror_mode": {
    "name": "ipython",
    "version": 3
   },
   "file_extension": ".py",
   "mimetype": "text/x-python",
   "name": "python",
   "nbconvert_exporter": "python",
   "pygments_lexer": "ipython3",
   "version": "3.9.2"
  }
 },
 "nbformat": 4,
 "nbformat_minor": 5
}