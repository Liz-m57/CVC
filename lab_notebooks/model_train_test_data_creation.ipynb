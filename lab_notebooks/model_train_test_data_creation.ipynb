{
 "cells": [
  {
   "cell_type": "markdown",
   "source": [
    "#### Creation of train and test files from a given dataset (binary classification)\n",
    "Divide a given dataset into a train and test set. The division is done by sampling an equal number of samples from each class in the dataset. Both the train and test set are saved as separate csv files."
   ],
   "metadata": {
    "collapsed": false
   }
  },
  {
   "cell_type": "code",
   "execution_count": null,
   "outputs": [],
   "source": [
    "cd .."
   ],
   "metadata": {
    "collapsed": false,
    "pycharm": {
     "is_executing": true
    }
   }
  },
  {
   "cell_type": "code",
   "execution_count": 14,
   "outputs": [],
   "source": [
    "import pandas as pd\n",
    "import collections\n",
    "from lab_notebooks.utils import DATA_DIR, HOME_DIR_GCP"
   ],
   "metadata": {
    "collapsed": false
   }
  },
  {
   "cell_type": "code",
   "execution_count": 5,
   "outputs": [],
   "source": [
    "data_dir = DATA_DIR + \"name_of_file.csv\""
   ],
   "metadata": {
    "collapsed": false
   }
  },
  {
   "cell_type": "code",
   "execution_count": null,
   "outputs": [],
   "source": [
    "# Read csv for the original data\n",
    "orig_train_data = pd.read_csv(data_dir, usecols=[\"col1\", \"col2\", \"label\"], engine=\"pyarrow\")\n",
    "# drop duplicates\n",
    "orig_train_data = orig_train_data.drop_duplicates()\n",
    "len(orig_train_data.index)"
   ],
   "metadata": {
    "collapsed": false,
    "pycharm": {
     "is_executing": true
    }
   }
  },
  {
   "cell_type": "code",
   "execution_count": 9,
   "outputs": [],
   "source": [
    "label_1_count = collections.Counter(orig_train_data['label'])[1]\n",
    "# number of sequences to sample\n",
    "NUM_TO_SAMPLE = label_1_count"
   ],
   "metadata": {
    "collapsed": false
   }
  },
  {
   "cell_type": "code",
   "execution_count": 10,
   "outputs": [],
   "source": [
    "# Creation of train data\n",
    "label_1_sample = orig_train_data.query('label == 1').sample(NUM_TO_SAMPLE, random_state=10)\n",
    "label_2_sample = orig_train_data.query('label == 0').sample(NUM_TO_SAMPLE, random_state=10)\n",
    "sample_training_data = pd.concat([label_1_sample, label_2_sample])"
   ],
   "metadata": {
    "collapsed": false
   }
  },
  {
   "cell_type": "code",
   "execution_count": 17,
   "outputs": [],
   "source": [
    "# Give train data file the desired name\n",
    "name_output_file = \"training_data.csv\"\n",
    "output_file = HOME_DIR_GCP + \"/CDR3_data/\" + name_output_file\n",
    "# Save to csv\n",
    "sample_training_data.to_csv(output_file)"
   ],
   "metadata": {
    "collapsed": false
   }
  },
  {
   "cell_type": "code",
   "execution_count": null,
   "outputs": [],
   "source": [
    "# Remove all seqs of sample_training_data from orig_train_data\n",
    "train_seqs = sample_training_data['Sequences'].tolist()\n",
    "test_data = orig_train_data[~orig_train_data['Sequences'].isin(train_seqs)]"
   ],
   "metadata": {
    "collapsed": false
   }
  },
  {
   "cell_type": "code",
   "execution_count": null,
   "outputs": [],
   "source": [
    "# Give test data file the desired name\n",
    "name_output_file = \"test_data_file\"\n",
    "output_file = HOME_DIR_GCP + name_output_file\n",
    "# Save to csv\n",
    "test_data.to_csv(output_file)"
   ],
   "metadata": {
    "collapsed": false
   }
  }
 ],
 "metadata": {
  "kernelspec": {
   "display_name": "Python 3",
   "language": "python",
   "name": "python3"
  },
  "language_info": {
   "codemirror_mode": {
    "name": "ipython",
    "version": 2
   },
   "file_extension": ".py",
   "mimetype": "text/x-python",
   "name": "python",
   "nbconvert_exporter": "python",
   "pygments_lexer": "ipython2",
   "version": "2.7.6"
  }
 },
 "nbformat": 4,
 "nbformat_minor": 0
}
