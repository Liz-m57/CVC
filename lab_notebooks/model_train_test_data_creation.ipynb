{
 "cells": [
  {
   "cell_type": "markdown",
   "source": [
    "#### Creation of train and test files from a given dataset"
   ],
   "metadata": {
    "collapsed": false,
    "pycharm": {
     "name": "#%% md\n"
    }
   }
  },
  {
   "cell_type": "code",
   "execution_count": 3,
   "outputs": [
    {
     "name": "stdout",
     "output_type": "stream",
     "text": [
      "/home/romi/projects/preTCR\n"
     ]
    }
   ],
   "source": [
    "cd .."
   ],
   "metadata": {
    "collapsed": false,
    "pycharm": {
     "name": "#%%\n"
    }
   }
  },
  {
   "cell_type": "code",
   "execution_count": 14,
   "outputs": [],
   "source": [
    "import pandas as pd\n",
    "import collections\n",
    "from lab_notebooks.utils import DATA_DIR, HOME_DIR_GCP"
   ],
   "metadata": {
    "collapsed": false,
    "pycharm": {
     "name": "#%%\n"
    }
   }
  },
  {
   "cell_type": "code",
   "execution_count": 5,
   "outputs": [],
   "source": [
    "data_dir = DATA_DIR + \"db_data_nuc_vj_genes_pub_priv.csv\""
   ],
   "metadata": {
    "collapsed": false,
    "pycharm": {
     "name": "#%%\n"
    }
   }
  },
  {
   "cell_type": "code",
   "execution_count": 7,
   "outputs": [
    {
     "data": {
      "text/plain": "91758697"
     },
     "execution_count": 7,
     "metadata": {},
     "output_type": "execute_result"
    }
   ],
   "source": [
    "# Read csv for the original data\n",
    "tcrb_orig_train_data = pd.read_csv(data_dir, usecols=[\"Sequences\", \"Private_Public_label\"], engine=\"pyarrow\")\n",
    "# drop duplicates\n",
    "tcrb_orig_train_data = tcrb_orig_train_data.drop_duplicates()\n",
    "len(tcrb_orig_train_data.index)"
   ],
   "metadata": {
    "collapsed": false,
    "pycharm": {
     "name": "#%%\n"
    }
   }
  },
  {
   "cell_type": "code",
   "execution_count": 9,
   "outputs": [],
   "source": [
    "num_public = collections.Counter(tcrb_orig_train_data['Private_Public_label'])[1]\n",
    "# number of sequences to sample\n",
    "NUM_TO_SAMPLE = num_public"
   ],
   "metadata": {
    "collapsed": false,
    "pycharm": {
     "name": "#%%\n"
    }
   }
  },
  {
   "cell_type": "code",
   "execution_count": 10,
   "outputs": [],
   "source": [
    "# Creation of train data\n",
    "public_sample = tcrb_orig_train_data.query('Private_Public_label == 1').sample(NUM_TO_SAMPLE, random_state=10)\n",
    "private_sample = tcrb_orig_train_data.query('Private_Public_label == 0').sample(NUM_TO_SAMPLE, random_state=10)\n",
    "tcrb_data_sample_training_data = pd.concat([public_sample, private_sample])"
   ],
   "metadata": {
    "collapsed": false,
    "pycharm": {
     "name": "#%%\n"
    }
   }
  },
  {
   "cell_type": "code",
   "execution_count": 17,
   "outputs": [],
   "source": [
    "# Give train data file the desired name\n",
    "# example \"db_5mil_training_data_2.5Mpub_2.5Mpriv.csv\"\n",
    "name_output_file = \"17Mpub_17Mpriv_cvc_training_data.csv\"\n",
    "output_file = HOME_DIR_GCP + \"/CDR3_data/\" + name_output_file\n",
    "# Save to csv\n",
    "tcrb_data_sample_training_data.to_csv(output_file)"
   ],
   "metadata": {
    "collapsed": false,
    "pycharm": {
     "name": "#%%\n"
    }
   }
  },
  {
   "cell_type": "code",
   "execution_count": null,
   "outputs": [],
   "source": [
    "# Remove all seqs of tcrb_data_sample_training_data from tcrb_orig_train_data\n",
    "train_seqs = tcrb_data_sample_training_data['Sequences'].tolist()\n",
    "tcrb_test_data = tcrb_orig_train_data[~tcrb_orig_train_data['Sequences'].isin(train_seqs)]"
   ],
   "metadata": {
    "collapsed": false,
    "pycharm": {
     "name": "#%%\n"
    }
   }
  },
  {
   "cell_type": "code",
   "execution_count": null,
   "outputs": [],
   "source": [
    "# Give test data file the desired name\n",
    "# example \"db_test_86mil.csv\"\n",
    "name_output_file = \"test_data_file\"\n",
    "output_file = HOME_DIR_GCP + name_output_file\n",
    "# Save to csv\n",
    "tcrb_data_sample_training_data.to_csv(output_file)"
   ],
   "metadata": {
    "collapsed": false,
    "pycharm": {
     "name": "#%%\n"
    }
   }
  }
 ],
 "metadata": {
  "kernelspec": {
   "display_name": "Python 3",
   "language": "python",
   "name": "python3"
  },
  "language_info": {
   "codemirror_mode": {
    "name": "ipython",
    "version": 2
   },
   "file_extension": ".py",
   "mimetype": "text/x-python",
   "name": "python",
   "nbconvert_exporter": "python",
   "pygments_lexer": "ipython2",
   "version": "2.7.6"
  }
 },
 "nbformat": 4,
 "nbformat_minor": 0
}