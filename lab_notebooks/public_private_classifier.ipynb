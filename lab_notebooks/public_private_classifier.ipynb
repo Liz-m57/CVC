{
 "cells": [
  {
   "cell_type": "markdown",
   "source": [
    "#### Binary Classification of Private/Public Label\n",
    "Classify whether a given CDR3 sequence is Public or Private using different machine/deep learning models and compare the results.\n",
    "The input CDR3 sequences are either embedded using CVC or converted to one-hot encoding."
   ],
   "metadata": {
    "collapsed": false
   }
  },
  {
   "cell_type": "code",
   "execution_count": 5,
   "id": "563a8d23-e24b-4cb5-8cea-5c6f52f66473",
   "metadata": {},
   "outputs": [
    {
     "name": "stdout",
     "output_type": "stream",
     "text": [
      "/home/ubuntu/CVC\n"
     ]
    }
   ],
   "source": [
    "cd .."
   ]
  },
  {
   "cell_type": "markdown",
   "source": [
    "#### Set Environment"
   ],
   "metadata": {
    "collapsed": false
   }
  },
  {
   "cell_type": "code",
   "execution_count": 6,
   "id": "131cbe9c-6069-4645-b71f-7bb33715697f",
   "metadata": {},
   "outputs": [],
   "source": [
    "%load_ext autoreload\n",
    "%autoreload 2"
   ]
  },
  {
   "cell_type": "code",
   "execution_count": 7,
   "id": "91824dd6-d4fd-44d9-8354-f219b37f075b",
   "metadata": {
    "cell_id": "00001-55732162-ceaf-44b6-b0f9-62861608b761",
    "deepnote_cell_height": 1117.875,
    "deepnote_cell_type": "code",
    "deepnote_output_heights": [
     null,
     21.1875
    ],
    "deepnote_to_be_reexecuted": false,
    "execution_millis": 2706,
    "execution_start": 1645287607716,
    "source_hash": "cc7135c9"
   },
   "outputs": [
    {
     "name": "stderr",
     "output_type": "stream",
     "text": [
      "2023-11-16 12:26:22.871215: I tensorflow/core/util/port.cc:110] oneDNN custom operations are on. You may see slightly different numerical results due to floating-point round-off errors from different computation orders. To turn them off, set the environment variable `TF_ENABLE_ONEDNN_OPTS=0`.\n",
      "2023-11-16 12:26:22.872894: I tensorflow/tsl/cuda/cudart_stub.cc:28] Could not find cuda drivers on your machine, GPU will not be used.\n",
      "2023-11-16 12:26:22.909377: I tensorflow/core/platform/cpu_feature_guard.cc:182] This TensorFlow binary is optimized to use available CPU instructions in performance-critical operations.\n",
      "To enable the following instructions: AVX2 AVX512F AVX512_VNNI FMA, in other operations, rebuild TensorFlow with the appropriate compiler flags.\n",
      "2023-11-16 12:26:23.602521: W tensorflow/compiler/tf2tensorrt/utils/py_utils.cc:38] TF-TRT Warning: Could not find TensorRT\n"
     ]
    },
    {
     "data": {
      "text/plain": "'plots/CDR3_data_plots'"
     },
     "execution_count": 7,
     "metadata": {},
     "output_type": "execute_result"
    }
   ],
   "source": [
    "import os, sys\n",
    "import collections\n",
    "from tqdm import tqdm\n",
    "import pandas as pd\n",
    "import numpy as np\n",
    "import seaborn as sns\n",
    "import lab_notebooks.utils\n",
    "import torch\n",
    "\n",
    "from sklearn.metrics import roc_curve, auc\n",
    "from sklearn.metrics import confusion_matrix\n",
    "import matplotlib.pyplot as plt\n",
    "\n",
    "from cvc.embbeding_wrapper import EmbeddingWrapper\n",
    "\n",
    "SRC_DIR = \"cvc\"\n",
    "assert os.path.isdir(SRC_DIR), f\"Cannot find src dir: {SRC_DIR}\"\n",
    "sys.path.append(SRC_DIR)\n",
    "from cvc import model_utils\n",
    "from lab_notebooks.utils import SC_TRANSFORMER, TRANSFORMER, DEVICE, DATA_DIR\n",
    "MODEL_DIR = os.path.join(SRC_DIR, \"models\")\n",
    "sys.path.append(MODEL_DIR)\n",
    "\n",
    "FILT_EDIT_DIST = True\n",
    "\n",
    "PLOT_DIR = os.path.join(os.path.dirname(SRC_DIR), \"plots/CDR3_data_plots\")\n",
    "if not os.path.isdir(PLOT_DIR):\n",
    "    os.makedirs(PLOT_DIR)\n",
    "PLOT_DIR"
   ]
  },
  {
   "cell_type": "code",
   "execution_count": 4,
   "outputs": [
    {
     "data": {
      "text/plain": "device(type='cuda', index=0)"
     },
     "execution_count": 4,
     "metadata": {},
     "output_type": "execute_result"
    }
   ],
   "source": [
    "DEVICE"
   ],
   "metadata": {
    "collapsed": false
   }
  },
  {
   "cell_type": "markdown",
   "id": "fba0ce0b",
   "metadata": {},
   "source": [
    "\n",
    "#### Load Data"
   ]
  },
  {
   "cell_type": "code",
   "execution_count": null,
   "outputs": [],
   "source": [
    "# to load the embeddings from csv\n",
    "load_csv = True"
   ],
   "metadata": {
    "collapsed": false
   }
  },
  {
   "cell_type": "code",
   "execution_count": 107,
   "outputs": [],
   "source": [
    "if load_csv:\n",
    "    EMBEDDING_TO_PLOT = \"CVC\" #TCR-BERT #ESM\n",
    "else:\n",
    "    data_dir = DATA_DIR + \"db_data_nuc_vj_genes_pub_priv.csv\"\n",
    "    # read data\n",
    "    tcrb_data = pd.read_csv(data_dir, usecols=[\"Sequences\", \"Private_Public_label\"], engine=\"pyarrow\")\n",
    "    # drop duplicates\n",
    "    tcrb_data_filtered = tcrb_data.drop_duplicates()\n",
    "    collections.Counter(tcrb_data_filtered['Private_Public_label'])"
   ],
   "metadata": {
    "collapsed": false
   }
  },
  {
   "cell_type": "markdown",
   "id": "fb78feaa",
   "metadata": {},
   "source": [
    "#### Split Public/Private into equal groups"
   ]
  },
  {
   "cell_type": "code",
   "execution_count": null,
   "outputs": [],
   "source": [
    "NUM_TO_SAMPLE = 100000"
   ],
   "metadata": {
    "collapsed": false
   }
  },
  {
   "cell_type": "code",
   "execution_count": 138,
   "outputs": [],
   "source": [
    "if load_csv == False:\n",
    "    # sample equal number of private and public\n",
    "    public_sample = tcrb_data_filtered.query('Private_Public_label == 1').sample(NUM_TO_SAMPLE)\n",
    "    private_sample = tcrb_data_filtered.query('Private_Public_label == 0').sample(NUM_TO_SAMPLE)\n",
    "    # join public and private samples\n",
    "    tcrb_data_sample = pd.concat([public_sample, private_sample])\n",
    "    # convert label column to numpy array\n",
    "    private_public_label_array = tcrb_data_sample['Private_Public_label'].to_numpy()"
   ],
   "metadata": {
    "collapsed": false
   }
  },
  {
   "cell_type": "code",
   "execution_count": null,
   "outputs": [],
   "source": [
    "if load_csv == False:\n",
    "    # Create embeddings\n",
    "    embed_wrap = EmbeddingWrapper(TRANSFORMER, DEVICE, sequences_df=tcrb_data_sample, batch_size=256, method=\"mean\", layers=[-1], pbar=True, max_len=64)\n",
    "    # create anndata object\n",
    "    tcrb_embeddings_adata = embed_wrap.create_anndata()\n",
    "    # embeddings df\n",
    "    df_embeddings = pd.DataFrame(embed_wrap.embeddings)\n",
    "    # add public/private label to dataframe\n",
    "    df_embeddings_with_label = df_embeddings\n",
    "    df_embeddings_with_label['Private_Public_label']=list(tcrb_embeddings_adata.obs['Private_Public_label'])\n",
    "    df_embeddings_with_label['Sequences']=list(tcrb_embeddings_adata.obs['Sequences'])\n",
    "    # export embeddings to csvֿ\n",
    "    df_embeddings_with_label.to_csv('./db_data_embeddings_with_label.csv')"
   ],
   "metadata": {
    "collapsed": false,
    "pycharm": {
     "is_executing": true
    }
   }
  },
  {
   "cell_type": "code",
   "execution_count": 108,
   "outputs": [],
   "source": [
    "# load from csv\n",
    "if load_csv==True:\n",
    "    if EMBEDDING_TO_PLOT == 'CVC':\n",
    "        # df_embeddings_with_label = pd.read_csv('./db_data_embeddings_with_label.csv') #CVC\n",
    "        df_embeddings_with_label = pd.read_csv('data/400K_jGene_df.csv', engine='pyarrow') #CVC\n",
    "        cvc_embeddings = df_embeddings_with_label.loc[:, \"0\":\"767\"].values\n",
    "        cvc_labels = df_embeddings_with_label[\"Private_Public_label\"].values\n",
    "        cvc_df = pd.DataFrame(cvc_embeddings)\n",
    "        cvc_df[\"Private_Public_label\"] = cvc_labels\n",
    "        df_embeddings_with_label = cvc_df\n",
    "    elif EMBEDDING_TO_PLOT == 'TCR-BERT':\n",
    "        # df_embeddings_with_label = pd.read_csv('data/tcrbert_embeddings_labeled_PP.csv', engine='pyarrow') #TCR-BERT\n",
    "        df_embeddings_with_label = pd.read_csv('data/tcrbert_embeddings_mlm_labeled_PP_J.csv') #TCR-BERT\n",
    "    elif EMBEDDING_TO_PLOT == 'ESM':\n",
    "        df_embeddings_with_label = pd.read_csv('data/esm_embeddings_labeled_PP.csv') #ESM-2\n",
    "    else:\n",
    "        print('Please choose an embedding to plot')\n",
    "    if len(df_embeddings_with_label) > NUM_TO_SAMPLE*2:\n",
    "        public_sample = df_embeddings_with_label.query('Private_Public_label == 1').sample(NUM_TO_SAMPLE)\n",
    "        private_sample = df_embeddings_with_label.query('Private_Public_label == 0').sample(NUM_TO_SAMPLE)\n",
    "        df_embeddings_with_label = pd.concat([public_sample, private_sample])"
   ],
   "metadata": {
    "collapsed": false
   }
  },
  {
   "cell_type": "code",
   "execution_count": null,
   "outputs": [],
   "source": [
    "tcrb_embeddings = df_embeddings_with_label.iloc[:,:-1].to_numpy()\n",
    "private_public_label_array = df_embeddings_with_label.iloc[:,-1].to_numpy()"
   ],
   "metadata": {
    "collapsed": false
   }
  },
  {
   "cell_type": "markdown",
   "source": [
    "#### Binary Classification Utils"
   ],
   "metadata": {
    "collapsed": false
   }
  },
  {
   "cell_type": "code",
   "execution_count": 111,
   "outputs": [],
   "source": [
    "TRAIN_RATIO = 0.8\n",
    "\n",
    "def split_train_test(embeddings, embedding_labels):\n",
    "    #import pdb; pdb.set_trace()\n",
    "    # The data will be divided into 80% training 20% validation\n",
    "    idx_train = int(len(embeddings) * TRAIN_RATIO)\n",
    "\n",
    "    indices = np.arange(embeddings.shape[0])\n",
    "\n",
    "    # Shuffle data\n",
    "    np.random.shuffle(indices)\n",
    "\n",
    "    # Separate the images and the labels\n",
    "    embeddings_shuffle = embeddings[indices] \n",
    "    embedding_labels_shuffle = embedding_labels[indices]\n",
    "\n",
    "    # Split to train and validation\n",
    "    train_embeddings = embeddings_shuffle[:idx_train]\n",
    "    train_labels = embedding_labels_shuffle[:idx_train]\n",
    "    validation_embeddings = embeddings_shuffle[idx_train:]\n",
    "    validation_labels = embedding_labels_shuffle[idx_train:]\n",
    "    \n",
    "    return train_embeddings, train_labels, validation_embeddings, validation_labels"
   ],
   "metadata": {
    "collapsed": false
   }
  },
  {
   "cell_type": "code",
   "execution_count": 112,
   "outputs": [
    {
     "name": "stdout",
     "output_type": "stream",
     "text": [
      "shape of embeddings: (200000, 768)\n",
      "shape of embedding_labels: (200000,)\n"
     ]
    }
   ],
   "source": [
    "# run if data was read from a csv\n",
    "embeddings = tcrb_embeddings\n",
    "embedding_labels = private_public_label_array\n",
    "print(\"shape of embeddings: {}\\nshape of embedding_labels: {}\".format(embeddings.shape,embedding_labels.shape))"
   ],
   "metadata": {
    "collapsed": false
   }
  },
  {
   "cell_type": "code",
   "execution_count": 113,
   "outputs": [
    {
     "data": {
      "text/plain": "((160000, 768), (160000,), (40000, 768), (40000,))"
     },
     "execution_count": 113,
     "metadata": {},
     "output_type": "execute_result"
    }
   ],
   "source": [
    "train_embeddings, embed_train_labels, validation_embeddings, embed_validation_labels = split_train_test(embeddings, embedding_labels)\n",
    "train_embeddings.shape, embed_train_labels.shape, validation_embeddings.shape, embed_validation_labels.shape"
   ],
   "metadata": {
    "collapsed": false
   }
  },
  {
   "cell_type": "code",
   "execution_count": 114,
   "outputs": [
    {
     "data": {
      "text/plain": "(Counter({0: 20070, 1: 19930}), Counter({0: 79930, 1: 80070}))"
     },
     "execution_count": 114,
     "metadata": {},
     "output_type": "execute_result"
    }
   ],
   "source": [
    "# check that the data is even\n",
    "collections.Counter(embed_validation_labels), collections.Counter(embed_train_labels)"
   ],
   "metadata": {
    "collapsed": false
   }
  },
  {
   "cell_type": "markdown",
   "source": [
    "#### One-Hot Encoding"
   ],
   "metadata": {
    "collapsed": false
   }
  },
  {
   "cell_type": "code",
   "execution_count": 88,
   "outputs": [],
   "source": [
    "# Import Dependencies \n",
    "import pandas as pd\n",
    "import numpy as np\n",
    "import torch.nn.functional as F\n",
    "\n",
    "# Function to encode sequences\n",
    "def encode_seq(sequence, max_cdr3_len):\n",
    "    alphabet = ['A', 'C', 'D', 'E', 'F', 'G','H', 'I', 'K', 'L', 'M', 'N', 'P', 'Q', 'R', 'S', 'T', 'V', 'W', 'Y']\n",
    "    char_to_int = dict((c, i) for i, c in enumerate(alphabet))\n",
    "    integer_encoded = [char_to_int[char] for char in sequence]\n",
    "    \n",
    "    # one hot encode\n",
    "    integer_encoded = torch.tensor(integer_encoded)\n",
    "    integer_encoded = F.one_hot(integer_encoded, num_classes=len(alphabet))\n",
    "    \n",
    "    # pad integer_encoded tensor first dim with zeros up to max_cdr3_len\n",
    "    integer_encoded = F.pad(integer_encoded, (0,0,0, max_cdr3_len - len(integer_encoded)))\n",
    "    \n",
    "    integer_encoded = integer_encoded.numpy()\n",
    "\n",
    "    return integer_encoded"
   ],
   "metadata": {
    "collapsed": false
   }
  },
  {
   "cell_type": "code",
   "execution_count": 30,
   "outputs": [
    {
     "data": {
      "text/plain": "31"
     },
     "execution_count": 30,
     "metadata": {},
     "output_type": "execute_result"
    }
   ],
   "source": [
    "# extract sequences\n",
    "cdr3_sequences = df_embeddings_with_label['Sequences']#tcrb_data_sample['Sequences']\n",
    "sequences_labels = private_public_label_array\n",
    "max_cdr3_len = cdr3_sequences.apply(len).max()\n",
    "max_cdr3_len"
   ],
   "metadata": {
    "collapsed": false
   }
  },
  {
   "cell_type": "code",
   "execution_count": 31,
   "outputs": [
    {
     "name": "stdout",
     "output_type": "stream",
     "text": [
      "shape of training set: (160000,)\n",
      "shape of validation set: (40000,)\n"
     ]
    }
   ],
   "source": [
    "# split data into train/test\n",
    "train_seqs, train_labels, validation_seqs, validation_labels = split_train_test(cdr3_sequences.to_numpy(), sequences_labels)\n",
    "print(\"shape of training set: {}\\nshape of validation set: {}\".format(train_seqs.shape, validation_seqs.shape))"
   ],
   "metadata": {
    "collapsed": false
   }
  },
  {
   "cell_type": "code",
   "execution_count": 32,
   "outputs": [],
   "source": [
    "# encode amino acid sequences to one hot vector\n",
    "encoded_train_seqs = pd.Series(train_seqs).apply(lambda x: encode_seq(x, max_cdr3_len))\n",
    "encoded_validation_seqs = pd.Series(validation_seqs).apply(lambda x: encode_seq(x, max_cdr3_len))"
   ],
   "metadata": {
    "collapsed": false
   }
  },
  {
   "cell_type": "code",
   "execution_count": 33,
   "outputs": [
    {
     "data": {
      "text/plain": "Counter({0: 20081, 1: 19919})"
     },
     "execution_count": 33,
     "metadata": {},
     "output_type": "execute_result"
    }
   ],
   "source": [
    "# check to see even distribution between public and private\n",
    "collections.Counter(validation_labels)"
   ],
   "metadata": {
    "collapsed": false
   }
  },
  {
   "cell_type": "code",
   "execution_count": 34,
   "outputs": [
    {
     "data": {
      "text/plain": "((160000, 31, 20), (40000, 31, 20))"
     },
     "execution_count": 34,
     "metadata": {},
     "output_type": "execute_result"
    }
   ],
   "source": [
    "# Stack list(encoded_train_seqs) in dim 0\n",
    "train_seqs_stack = np.stack(encoded_train_seqs, axis=0)\n",
    "valid_seqs_stack = np.stack(encoded_validation_seqs, axis=0)\n",
    "train_seqs_stack.shape, valid_seqs_stack.shape"
   ],
   "metadata": {
    "collapsed": false
   }
  },
  {
   "cell_type": "code",
   "execution_count": 35,
   "outputs": [
    {
     "data": {
      "text/plain": "((160000, 620), (40000, 620))"
     },
     "execution_count": 35,
     "metadata": {},
     "output_type": "execute_result"
    }
   ],
   "source": [
    "# reshape train/validation tensors\n",
    "train_seqs_stack = train_seqs_stack.reshape(train_seqs_stack.shape[0], -1)\n",
    "valid_seqs_stack = valid_seqs_stack.reshape(valid_seqs_stack.shape[0], -1)\n",
    "train_seqs_stack.shape, valid_seqs_stack.shape"
   ],
   "metadata": {
    "collapsed": false
   }
  },
  {
   "cell_type": "markdown",
   "source": [
    "#### xgBoost on Embeddings\n",
    "Guide on xgBoost - https://towardsdatascience.com/beginners-guide-to-xgboost-for-classification-problems-50f75aac5390"
   ],
   "metadata": {
    "collapsed": false
   }
  },
  {
   "cell_type": "code",
   "execution_count": null,
   "outputs": [],
   "source": [
    "# feature scaling\n",
    "from sklearn.preprocessing import StandardScaler\n",
    "sc = StandardScaler()\n",
    "train_embeddings = sc.fit_transform(train_embeddings)\n",
    "validation_embeddings = sc.fit_transform(validation_embeddings)"
   ],
   "metadata": {
    "collapsed": false
   }
  },
  {
   "cell_type": "code",
   "execution_count": 27,
   "outputs": [
    {
     "data": {
      "text/plain": "0.81185"
     },
     "execution_count": 27,
     "metadata": {},
     "output_type": "execute_result"
    }
   ],
   "source": [
    "# extract accuracy\n",
    "accuracy_xgb, xgb_preds, xgb_classifier = \\\n",
    "    lab_notebooks.utils.xgb_classify(train_embeddings, embed_train_labels, validation_embeddings, embed_validation_labels)\n",
    "accuracy_xgb"
   ],
   "metadata": {
    "collapsed": false
   }
  },
  {
   "cell_type": "code",
   "execution_count": null,
   "outputs": [],
   "source": [
    "# plot the roc curve for the model\n",
    "# get probabilities\n",
    "probs = xgb_classifier.predict_proba(validation_embeddings)\n",
    "fpr_xgb, tpr_xgb, thresholds_xgb = roc_curve(embed_validation_labels, probs[:, 1])\n",
    "roc_auc_xgb = auc(fpr_xgb, tpr_xgb)"
   ],
   "metadata": {
    "collapsed": false
   }
  },
  {
   "cell_type": "markdown",
   "source": [
    "#### xgBoost - One-Hot"
   ],
   "metadata": {
    "collapsed": false
   }
  },
  {
   "cell_type": "code",
   "execution_count": 36,
   "outputs": [
    {
     "data": {
      "text/plain": "0.73875"
     },
     "execution_count": 36,
     "metadata": {},
     "output_type": "execute_result"
    }
   ],
   "source": [
    "# apply xgb on onehot, extract accuracy\n",
    "accuracy_xgb_onehot, xgb_preds_onehot, xgb_classifier_onehot =\\\n",
    "    lab_notebooks.utils.xgb_classify(train_seqs_stack, train_labels, valid_seqs_stack, validation_labels)\n",
    "\n",
    "# get probabilities and roc\n",
    "probs = xgb_classifier_onehot.predict_proba(valid_seqs_stack)\n",
    "fpr_onehot_xgb, tpr_onehot_xgb, thresholds_onehot_xgb = roc_curve(validation_labels, probs[:, 1])\n",
    "roc_auc_onehot_xgb = auc(fpr_onehot_xgb, tpr_onehot_xgb)\n",
    "\n",
    "accuracy_xgb_onehot"
   ],
   "metadata": {
    "collapsed": false
   }
  },
  {
   "cell_type": "markdown",
   "source": [
    "### LDA"
   ],
   "metadata": {
    "collapsed": false
   }
  },
  {
   "cell_type": "code",
   "execution_count": 37,
   "outputs": [],
   "source": [
    "# apply LDA\n",
    "accuracy_lda, lda_preds, lda_classifier = lab_notebooks.utils.lda_classify(train_embeddings,embed_train_labels, validation_embeddings, embed_validation_labels)"
   ],
   "metadata": {
    "collapsed": false
   }
  },
  {
   "cell_type": "code",
   "execution_count": 38,
   "outputs": [
    {
     "data": {
      "text/plain": "0.82035"
     },
     "execution_count": 38,
     "metadata": {},
     "output_type": "execute_result"
    }
   ],
   "source": [
    "# plot the roc curve for the model\n",
    "# get probabilities\n",
    "probs = lda_classifier.predict_proba(validation_embeddings)\n",
    "fpr_lda, tpr_lda, thresholds_lda = roc_curve(embed_validation_labels, probs[:, 1])\n",
    "roc_auc_lda = auc(fpr_lda, tpr_lda)\n",
    "\n",
    "accuracy_lda"
   ],
   "metadata": {
    "collapsed": false
   }
  },
  {
   "cell_type": "markdown",
   "source": [
    "### LDA - OneHot"
   ],
   "metadata": {
    "collapsed": false
   }
  },
  {
   "cell_type": "code",
   "execution_count": 39,
   "outputs": [
    {
     "data": {
      "text/plain": "0.696075"
     },
     "execution_count": 39,
     "metadata": {},
     "output_type": "execute_result"
    }
   ],
   "source": [
    "accuracy_lda_onehot, lda_preds_onehot, lda_classifier_onehot =\\\n",
    "    lab_notebooks.utils.xgb_classify(train_seqs_stack, train_labels, valid_seqs_stack, validation_labels)\n",
    "\n",
    "probs_oh_lda = lda_classifier_onehot.predict_proba(valid_seqs_stack)\n",
    "fpr_onehot_lda, tpr_onehot_lda, thresholds_onehot_lda = roc_curve(validation_labels, probs_oh_lda[:, 1])\n",
    "roc_auc_onehot_lda = auc(fpr_onehot_lda, tpr_onehot_lda)\n",
    "\n",
    "accuracy_lda_onehot"
   ],
   "metadata": {
    "collapsed": false
   }
  },
  {
   "cell_type": "markdown",
   "source": [
    "## Deep Neural Network"
   ],
   "metadata": {
    "collapsed": false
   }
  },
  {
   "cell_type": "markdown",
   "source": [
    "#### Deep Learning Model on Embeddings"
   ],
   "metadata": {
    "collapsed": false
   }
  },
  {
   "cell_type": "code",
   "execution_count": 115,
   "outputs": [],
   "source": [
    "# set flag to run with onehot\n",
    "DNN_ONEHOT = 0"
   ],
   "metadata": {
    "collapsed": false
   }
  },
  {
   "cell_type": "code",
   "execution_count": 116,
   "outputs": [],
   "source": [
    "# defining dataset class\n",
    "from torch.utils.data import Dataset, DataLoader\n",
    "class dataset(Dataset):\n",
    "    def __init__(self,x, y):\n",
    "        # self.x = torch.tensor(x, dtype=torch.float32).to('cuda')\n",
    "        # self.y = torch.tensor(y, dtype=torch.float32).to('cuda')\n",
    "        self.x = torch.tensor(x, dtype=torch.float32)\n",
    "        self.y = torch.tensor(y, dtype=torch.float32)\n",
    "        self.length = self.x.shape[0]\n",
    "        assert self.x.shape[0] == self.y.shape[0]\n",
    "        \n",
    "    def __getitem__(self, idx):\n",
    "        return self.x[idx], self.y[idx]\n",
    "    \n",
    "    def __len__(self):\n",
    "        return self.length"
   ],
   "metadata": {
    "collapsed": false
   }
  },
  {
   "cell_type": "code",
   "execution_count": 117,
   "outputs": [],
   "source": [
    "BATCH_SIZE = 1024\n",
    "\n",
    "# create datasets\n",
    "if DNN_ONEHOT==0:\n",
    "    trainset = dataset(train_embeddings, embed_train_labels)\n",
    "    validset = dataset(validation_embeddings, embed_validation_labels)\n",
    "else:\n",
    "    trainset = dataset(train_seqs_stack, train_labels)\n",
    "    validset = dataset(valid_seqs_stack, validation_labels)\n",
    "\n",
    "# DataLoader with 10 workers\n",
    "trainloader = DataLoader(trainset, batch_size=BATCH_SIZE, shuffle=True, num_workers=10, pin_memory=True)\n",
    "validloader = DataLoader(validset, batch_size=BATCH_SIZE, num_workers=10, pin_memory=True)"
   ],
   "metadata": {
    "collapsed": false
   }
  },
  {
   "cell_type": "code",
   "execution_count": 118,
   "outputs": [],
   "source": [
    "# defining the network\n",
    "from torch import nn\n",
    "from torch.nn import functional as F\n",
    "\n",
    "class Net(nn.Module):\n",
    "    def __init__(self, input_shape):\n",
    "        super(Net,self).__init__()\n",
    "        self.fc1 = nn.Linear(input_shape,128)\n",
    "        self.fc2 = nn.Linear(128,32)\n",
    "        self.fc3 = nn.Linear(32,1)\n",
    "    \n",
    "    def forward(self,x):\n",
    "        x = torch.relu(self.fc1(x))\n",
    "        x = torch.relu(self.fc2(x))\n",
    "        x = torch.sigmoid(self.fc3(x))\n",
    "        return x"
   ],
   "metadata": {
    "collapsed": false
   }
  },
  {
   "cell_type": "code",
   "execution_count": 119,
   "outputs": [],
   "source": [
    "# hyper parameters\n",
    "learning_rate = 0.00001 # 1e-6\n",
    "\n",
    "# set input shape\n",
    "input_shape = train_embeddings.shape[1]\n",
    "if DNN_ONEHOT:\n",
    "    input_shape = train_seqs_stack.shape[1]\n",
    "\n",
    "# Model , Optimizer, Loss\n",
    "device = 'cpu'\n",
    "model = Net(input_shape=input_shape).to(device)\n",
    "optimizer = torch.optim.Adam(model.parameters(),lr=learning_rate)\n",
    "loss_fn = nn.BCELoss()"
   ],
   "metadata": {
    "collapsed": false
   }
  },
  {
   "cell_type": "code",
   "execution_count": 120,
   "outputs": [],
   "source": [
    "def calculate_accuracy(y_pred, y_test):\n",
    "    y_pred_tag = torch.round(y_pred)\n",
    "    y_test = y_test.unsqueeze(1)\n",
    "    correct_results_sum = (y_pred_tag == y_test).sum().float()\n",
    "    acc = correct_results_sum/y_test.shape[0]\n",
    "    acc = torch.round(acc * 100)\n",
    "    return acc"
   ],
   "metadata": {
    "collapsed": false
   }
  },
  {
   "cell_type": "code",
   "execution_count": 121,
   "outputs": [],
   "source": [
    "def train_classify(model, trainloader, optimizer):\n",
    "    epoch_loss = 0\n",
    "    epoch_acc = 0\n",
    "    count = 0\n",
    "    model.train()\n",
    "    for train_embedding, train_label in tqdm(trainloader, total=len(trainloader)):\n",
    "        # option to move train_embedding, train_label to gpu here\n",
    "        # calculate output\n",
    "        train_embedding, train_label =  train_embedding.to(device), train_label.to(device)\n",
    "        output = model(train_embedding)\n",
    "        \n",
    "        # calculate loss\n",
    "        loss = loss_fn(output, train_label.reshape(-1,1))\n",
    "        \n",
    "        # accuracy\n",
    "        acc = calculate_accuracy(output, train_label)\n",
    "        \n",
    "        # backprop\n",
    "        optimizer.zero_grad() \n",
    "        loss.backward()\n",
    "        optimizer.step()\n",
    "\n",
    "        epoch_loss += loss.item()\n",
    "        epoch_acc += acc.item()\n",
    "        count += len(train_label)\n",
    "        \n",
    "    return epoch_loss / len(trainloader), epoch_acc / len(trainloader)"
   ],
   "metadata": {
    "collapsed": false
   }
  },
  {
   "cell_type": "code",
   "execution_count": 122,
   "outputs": [],
   "source": [
    "def evaluate_classify(model, validloader): \n",
    "    epoch_loss = 0\n",
    "    epoch_acc = 0\n",
    "    count = 0\n",
    "    model.eval()\n",
    "    label_list = []\n",
    "    pred_label_list = []\n",
    "    with torch.no_grad(): \n",
    "        for valid_embedding, valid_label in tqdm(validloader, total=len(validloader)):\n",
    "            # option to move valid_embedding, valid_label to gpu here\n",
    "            valid_embedding, valid_label = valid_embedding.to(device), valid_label.to(device)\n",
    "            # calculate output\n",
    "            output = model(valid_embedding)\n",
    "\n",
    "            # calculate loss\n",
    "            loss = loss_fn(output, valid_label.reshape(-1,1))\n",
    "\n",
    "            # accuracy\n",
    "            acc = calculate_accuracy(output, valid_label)\n",
    "            \n",
    "            # add to lists for confusion matrixv\n",
    "            label_list.append(valid_label.cpu())\n",
    "            pred_label_list.append(output.cpu())\n",
    "            \n",
    "            #acc = calculate_accuracy(output, valid_label)\n",
    "            epoch_loss += loss.item()\n",
    "            epoch_acc += acc.item()\n",
    "            count += len(valid_label)\n",
    "    return (epoch_loss / len(validloader), epoch_acc / len(validloader),\n",
    "            torch.cat(label_list, dim=0), \n",
    "            torch.cat(pred_label_list, dim=0))"
   ],
   "metadata": {
    "collapsed": false
   }
  },
  {
   "cell_type": "code",
   "execution_count": 123,
   "outputs": [
    {
     "data": {
      "text/plain": "<Figure size 1200x1200 with 4 Axes>",
      "image/png": "[encoded data removed]"
     },
     "metadata": {},
     "output_type": "display_data"
    },
    {
     "name": "stdout",
     "output_type": "stream",
     "text": [
      "train accuracy\n",
      "\ttrain accuracy   \t (min:   60.312, max:   82.013, cur:   81.904)\n",
      "train loss\n",
      "\ttrain loss       \t (min:    0.401, max:    0.679, cur:    0.401)\n",
      "validation accuracy\n",
      "\tvalidation accuracy \t (min:   79.050, max:   81.675, cur:   81.600)\n",
      "validation loss\n",
      "\tvalidation loss  \t (min:    0.404, max:    0.656, cur:    0.404)\n"
     ]
    }
   ],
   "source": [
    "from livelossplot import PlotLosses\n",
    "\n",
    "liveloss1_class = PlotLosses()\n",
    "logs_class = {}\n",
    "EPOCHS=150\n",
    "\n",
    "for epoch in range(EPOCHS):\n",
    "    print('starting epoch {}'.format(epoch))\n",
    "    train_loss, train_acc = train_classify(model, trainloader, optimizer)\n",
    "    print('Epoch {} of {}, Train Loss: {:.3f}'.format(\n",
    "            epoch+1, EPOCHS, train_loss))\n",
    "    \n",
    "    print('Epoch {} of {}, Train Accuracy: {:.3f}'.format(\n",
    "          epoch+1, EPOCHS, train_acc))\n",
    "    \n",
    "    logs_class['train loss'] = train_loss\n",
    "    logs_class['train accuracy'] = train_acc\n",
    "\n",
    "    valid_loss, valid_acc, label_list, pred_label_list  = evaluate_classify(model, validloader)\n",
    "    print('Epoch {} of {}, Validate Loss: {:.3f}'.format(\n",
    "        epoch+1, EPOCHS, valid_loss))\n",
    "\n",
    "    print('Epoch {} of {}, Validate Accuracy: {:.3f}'.format(\n",
    "        epoch+1, EPOCHS, valid_acc))\n",
    "\n",
    "    logs_class['validation loss'] = valid_loss\n",
    "    logs_class['validation accuracy'] = valid_acc\n",
    "\n",
    "    liveloss1_class.update(logs_class)\n",
    "    liveloss1_class.send()"
   ],
   "metadata": {
    "collapsed": false
   }
  },
  {
   "cell_type": "code",
   "execution_count": 25,
   "outputs": [],
   "source": [
    "# Save model\n",
    "PATH = \"./classifiers/private_public_classifier.pth\"\n",
    "torch.save({\n",
    "    'model_state_dict': model.state_dict(),\n",
    "    'optimizer_state_dict': optimizer.state_dict(),\n",
    "}, PATH)"
   ],
   "metadata": {
    "collapsed": false
   }
  },
  {
   "cell_type": "markdown",
   "source": [
    "#### Analyse results"
   ],
   "metadata": {
    "collapsed": false
   }
  },
  {
   "cell_type": "code",
   "execution_count": 124,
   "outputs": [
    {
     "name": "stderr",
     "output_type": "stream",
     "text": [
      "100%|████████████████████████████████████████████| 40/40 [00:01<00:00, 23.25it/s]\n"
     ]
    }
   ],
   "source": [
    "# get predictions from model\n",
    "label_list = []\n",
    "pred_label_list = []\n",
    "_, _, label_list, pred_label_list = evaluate_classify(model, validloader)"
   ],
   "metadata": {
    "collapsed": false
   }
  },
  {
   "cell_type": "code",
   "execution_count": 125,
   "outputs": [],
   "source": [
    "preds, labels = pred_label_list[:, 0].cpu().numpy(), label_list.unsqueeze(1)[:, 0].cpu().numpy()\n",
    "preds_at_threshold_05 = (preds > 0.5).astype(int)\n",
    "labels = labels.astype(int)"
   ],
   "metadata": {
    "collapsed": false
   }
  },
  {
   "cell_type": "code",
   "execution_count": 126,
   "outputs": [],
   "source": [
    "# calculate FN, TP, TN, FP \n",
    "tn_nn, fp_nn, fn_nn, tp_nn = confusion_matrix(preds_at_threshold_05, labels).ravel()\n",
    "\n",
    "labels_vals = [tn_nn, fp_nn, fn_nn, tp_nn]\n",
    "labels_TF = [f\"True Negative\",\"False Positive\",\"False Negative\",\"True Positive\"]\n",
    "sum_all = tn_nn + fp_nn + fn_nn + tp_nn\n",
    "\n",
    "labels_vals_str = [str(round(val/sum_all, 4)*100) for val in labels_vals]\n",
    "labels_TF_final = [f\"{label}\\n{label_val_str}%\" for label, label_val_str in zip(labels_TF, labels_vals_str)]"
   ],
   "metadata": {
    "collapsed": false
   }
  },
  {
   "cell_type": "code",
   "execution_count": 127,
   "outputs": [],
   "source": [
    "labels_TF_final = [[labels_TF_final[0], labels_TF_final[1]], [labels_TF_final[2], labels_TF_final[3]]]"
   ],
   "metadata": {
    "collapsed": false
   }
  },
  {
   "cell_type": "code",
   "execution_count": 128,
   "outputs": [
    {
     "data": {
      "text/plain": "<AxesSubplot: >"
     },
     "execution_count": 128,
     "metadata": {},
     "output_type": "execute_result"
    },
    {
     "data": {
      "text/plain": "<Figure size 1000x700 with 2 Axes>",
      "image/png": "[encoded data removed]"
     },
     "metadata": {},
     "output_type": "display_data"
    }
   ],
   "source": [
    "# calculate confusion matrix\n",
    "confusion_mat_val = confusion_matrix(preds_at_threshold_05, label_list.cpu().numpy())\n",
    "labels_TF = np.asarray(labels_TF).reshape(2,2)\n",
    "plt.figure(figsize = (10,7))\n",
    "sns.heatmap(confusion_mat_val, annot=labels_TF_final, fmt=\"\", cmap='RdPu')"
   ],
   "metadata": {
    "collapsed": false
   }
  },
  {
   "cell_type": "code",
   "execution_count": 129,
   "outputs": [],
   "source": [
    "# roc data for DNN\n",
    "if DNN_ONEHOT==0:\n",
    "    fpr_dnn, tpr_dnn, thresholds_dnn = roc_curve(embed_validation_labels, preds)\n",
    "    roc_auc_dnn = auc(fpr_dnn, tpr_dnn)\n",
    "else:\n",
    "    fpr_onehot_dnn, tpr_onehot_dnn, thresholds_onehot_dnn = roc_curve(validation_labels, preds)\n",
    "    roc_auc_onehot_dnn = auc(fpr_onehot_dnn, tpr_onehot_dnn)"
   ],
   "metadata": {
    "collapsed": false
   }
  },
  {
   "cell_type": "markdown",
   "source": [
    "#### ROC of all algorithms (CVC)"
   ],
   "metadata": {
    "collapsed": false
   }
  },
  {
   "cell_type": "code",
   "execution_count": null,
   "outputs": [],
   "source": [
    "plt.plot(fpr_lda, tpr_lda, color='red',\n",
    "         label='LDA (area = %0.2f)' % roc_auc_lda)\n",
    "plt.plot(fpr_xgb, tpr_xgb, color='blue',\n",
    "         label='xgBoost (area = %0.2f)' % roc_auc_xgb)\n",
    "plt.plot(fpr_dnn, tpr_dnn, color='green',\n",
    "         label='Simple DNN (area = %0.2f)' % roc_auc_dnn)\n",
    "plt.plot(fpr_onehot_xgb, tpr_onehot_xgb, color='lightblue',\n",
    "         label='xgBoost one-hot (area = %0.2f)' % roc_auc_onehot_xgb)\n",
    "plt.plot(fpr_onehot_lda, tpr_onehot_lda, color='pink',\n",
    "         label='LDA one-hot (area = %0.2f)' % roc_auc_onehot_lda)\n",
    "plt.plot(fpr_onehot_dnn, tpr_onehot_dnn, color='lightgreen',\n",
    "         label='Simple DNN one-hot (area = %0.2f)' % roc_auc_onehot_dnn)\n",
    "# Set axis labels\n",
    "plt.xlabel('False Positive Rate')\n",
    "plt.ylabel('True Positive Rate')\n",
    "# Set title\n",
    "# plt.title('An ROC Presenting Supervised Classification of Public and Private Sequences')\n",
    "# Set plot legend\n",
    "plt.legend(loc=\"lower right\")\n",
    "# Show plot\n",
    "plt.show()"
   ],
   "metadata": {
    "collapsed": false
   }
  },
  {
   "cell_type": "markdown",
   "source": [
    "#### ROC of all LLMs"
   ],
   "metadata": {
    "collapsed": false
   }
  },
  {
   "cell_type": "code",
   "execution_count": 130,
   "outputs": [],
   "source": [
    "if EMBEDDING_TO_PLOT == 'ESM':\n",
    "    roc_auc_esm_dnn = roc_auc_dnn\n",
    "    fpr_dnn_esm = fpr_dnn\n",
    "    tpr_dnn_esm = tpr_dnn\n",
    "elif  EMBEDDING_TO_PLOT == 'TCR-BERT':\n",
    "    roc_auc_tcrbert_dnn = roc_auc_dnn\n",
    "    fpr_dnn_tcrbert = fpr_dnn\n",
    "    tpr_dnn_tcrbert = tpr_dnn\n",
    "elif EMBEDDING_TO_PLOT == 'CVC':\n",
    "    roc_auc_cvc_dnn = roc_auc_dnn\n",
    "    fpr_dnn_cvc = fpr_dnn\n",
    "    tpr_dnn_cvc = tpr_dnn"
   ],
   "metadata": {
    "collapsed": false
   }
  },
  {
   "cell_type": "code",
   "execution_count": 133,
   "outputs": [
    {
     "data": {
      "text/plain": "<Figure size 640x480 with 1 Axes>",
      "image/png": "[encoded data removed]"
     },
     "metadata": {},
     "output_type": "display_data"
    }
   ],
   "source": [
    "plt.plot(fpr_dnn_cvc, tpr_dnn_cvc, color='green',\n",
    "         label='CVC (area = %0.2f)' % roc_auc_cvc_dnn)\n",
    "plt.plot(fpr_dnn_tcrbert, tpr_dnn_tcrbert, color='pink',\n",
    "         label='TCR-BERT (area = %0.2f)' % roc_auc_tcrbert_dnn)\n",
    "plt.plot(fpr_dnn_esm, tpr_dnn_esm, color='lightblue',\n",
    "         label='ESM-2 (area = %0.2f)' % roc_auc_esm_dnn)\n",
    "# Set axis labels\n",
    "plt.xlabel('False Positive Rate')\n",
    "plt.ylabel('True Positive Rate')\n",
    "# Set title\n",
    "plt.title('Supervised LLM Classification of Public and Private Sequences')\n",
    "# Set plot legend\n",
    "plt.legend(loc=\"lower right\")\n",
    "\n",
    "fig_path = os.path.join('plots/benchmarking', 'llm_pub_priv_ROC_V2.svg')\n",
    "plt.savefig(fig_path, bbox_inches='tight', dpi=1200)\n",
    "\n",
    "# Show plot\n",
    "plt.show()"
   ],
   "metadata": {
    "collapsed": false
   }
  }
 ],
 "metadata": {
  "kernelspec": {
   "display_name": "Python 3",
   "language": "python",
   "name": "python3"
  },
  "language_info": {
   "codemirror_mode": {
    "name": "ipython",
    "version": 3
   },
   "file_extension": ".py",
   "mimetype": "text/x-python",
   "name": "python",
   "nbconvert_exporter": "python",
   "pygments_lexer": "ipython3",
   "version": "3.9.2"
  }
 },
 "nbformat": 4,
 "nbformat_minor": 5
}
