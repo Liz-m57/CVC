{
 "cells": [
  {
   "cell_type": "markdown",
   "source": [
    "#### Binary Classification of Private/Public Label"
   ],
   "metadata": {
    "collapsed": false,
    "pycharm": {
     "name": "#%% md\n"
    }
   }
  },
  {
   "cell_type": "code",
   "execution_count": 1,
   "id": "563a8d23-e24b-4cb5-8cea-5c6f52f66473",
   "metadata": {
    "pycharm": {
     "name": "#%%\n"
    }
   },
   "outputs": [
    {
     "name": "stdout",
     "output_type": "stream",
     "text": [
      "/home/romi/projects/preTCR\n"
     ]
    }
   ],
   "source": [
    "cd .."
   ]
  },
  {
   "cell_type": "code",
   "execution_count": 2,
   "id": "131cbe9c-6069-4645-b71f-7bb33715697f",
   "metadata": {
    "pycharm": {
     "name": "#%%\n"
    }
   },
   "outputs": [],
   "source": [
    "%load_ext autoreload\n",
    "%autoreload 2"
   ]
  },
  {
   "cell_type": "code",
   "execution_count": 3,
   "id": "91824dd6-d4fd-44d9-8354-f219b37f075b",
   "metadata": {
    "cell_id": "00001-55732162-ceaf-44b6-b0f9-62861608b761",
    "deepnote_cell_height": 1117.875,
    "deepnote_cell_type": "code",
    "deepnote_output_heights": [
     null,
     21.1875
    ],
    "deepnote_to_be_reexecuted": false,
    "execution_millis": 2706,
    "execution_start": 1645287607716,
    "source_hash": "cc7135c9",
    "pycharm": {
     "name": "#%%\n"
    }
   },
   "outputs": [
    {
     "data": {
      "text/plain": "'plots/CDR3_data_plots'"
     },
     "execution_count": 3,
     "metadata": {},
     "output_type": "execute_result"
    }
   ],
   "source": [
    "import os, sys\n",
    "import collections\n",
    "import tqdm\n",
    "import pandas as pd\n",
    "import seaborn as sns\n",
    "import lab_notebooks.utils\n",
    "import torch\n",
    "\n",
    "from sklearn.metrics import roc_curve, auc\n",
    "from sklearn.metrics import confusion_matrix\n",
    "import matplotlib.pyplot as plt\n",
    "\n",
    "SRC_DIR = \"cvc\"\n",
    "assert os.path.isdir(SRC_DIR), f\"Cannot find src dir: {SRC_DIR}\"\n",
    "sys.path.append(SRC_DIR)\n",
    "from cvc import model_utils\n",
    "from lab_notebooks.utils import TRANSFORMER, DEVICE, DATA_DIR\n",
    "MODEL_DIR = os.path.join(SRC_DIR, \"models\")\n",
    "sys.path.append(MODEL_DIR)\n",
    "\n",
    "FILT_EDIT_DIST = True\n",
    "\n",
    "PLOT_DIR = os.path.join(os.path.dirname(SRC_DIR), \"plots/CDR3_data_plots\")\n",
    "if not os.path.isdir(PLOT_DIR):\n",
    "    os.makedirs(PLOT_DIR)\n",
    "PLOT_DIR"
   ]
  },
  {
   "cell_type": "markdown",
   "id": "fba0ce0b",
   "metadata": {
    "pycharm": {
     "name": "#%% md\n"
    }
   },
   "source": [
    "\n",
    "#### Load Data"
   ]
  },
  {
   "cell_type": "code",
   "execution_count": null,
   "outputs": [],
   "source": [
    "# to load the embeddings from csv\n",
    "load_csv = False"
   ],
   "metadata": {
    "collapsed": false,
    "pycharm": {
     "name": "#%%\n"
    }
   }
  },
  {
   "cell_type": "code",
   "execution_count": 5,
   "outputs": [
    {
     "data": {
      "text/plain": "'/home/romi/projects/preTCR/CDR3_data/db_data_nuc_vj_genes_pub_priv.csv'"
     },
     "execution_count": 5,
     "metadata": {},
     "output_type": "execute_result"
    }
   ],
   "source": [
    "data_dir = DATA_DIR + \"db_data_nuc_vj_genes_pub_priv.csv\"\n",
    "data_dir"
   ],
   "metadata": {
    "collapsed": false,
    "pycharm": {
     "name": "#%%\n"
    }
   }
  },
  {
   "cell_type": "code",
   "execution_count": 6,
   "id": "f7f68021-d2be-4beb-8bc0-a220e8bd41e0",
   "metadata": {
    "pycharm": {
     "name": "#%%\n"
    }
   },
   "outputs": [
    {
     "data": {
      "text/plain": "91758697"
     },
     "execution_count": 6,
     "metadata": {},
     "output_type": "execute_result"
    }
   ],
   "source": [
    "# read data\n",
    "tcrb_data = pd.read_csv(data_dir, usecols=[\"Sequences\", \"Private_Public_label\"], engine=\"pyarrow\")\n",
    "# drop duplicates\n",
    "tcrb_data_filtered = tcrb_data.drop_duplicates()\n",
    "len(tcrb_data_filtered.index)"
   ]
  },
  {
   "cell_type": "code",
   "execution_count": 8,
   "id": "0a65ecf6-e209-4b5f-b4e4-5d3ea98b3b5c",
   "metadata": {
    "pycharm": {
     "name": "#%%\n"
    }
   },
   "outputs": [
    {
     "data": {
      "text/plain": "Counter({1: 17562246, 0: 74196451})"
     },
     "execution_count": 8,
     "metadata": {},
     "output_type": "execute_result"
    }
   ],
   "source": [
    "collections.Counter(tcrb_data_filtered['Private_Public_label'])"
   ]
  },
  {
   "cell_type": "markdown",
   "id": "fb78feaa",
   "metadata": {
    "pycharm": {
     "name": "#%% md\n"
    }
   },
   "source": [
    "#### Split Public/Private into equal groups"
   ]
  },
  {
   "cell_type": "code",
   "execution_count": 9,
   "outputs": [],
   "source": [
    "# For db Data\n",
    "NUM_TO_SAMPLE = 100000\n",
    "# sample equal number of private and public\n",
    "public_sample = tcrb_data_filtered.query('Private_Public_label == 1').sample(NUM_TO_SAMPLE)\n",
    "private_sample = tcrb_data_filtered.query('Private_Public_label == 0').sample(NUM_TO_SAMPLE)"
   ],
   "metadata": {
    "collapsed": false,
    "pycharm": {
     "name": "#%%\n"
    }
   }
  },
  {
   "cell_type": "code",
   "execution_count": 10,
   "outputs": [],
   "source": [
    "# join public and private samples\n",
    "tcrb_data_sample = pd.concat([public_sample, private_sample])\n",
    "tcrb_data_sample"
   ],
   "metadata": {
    "collapsed": false,
    "pycharm": {
     "name": "#%%\n"
    }
   }
  },
  {
   "cell_type": "code",
   "execution_count": 15,
   "outputs": [
    {
     "name": "stdout",
     "output_type": "stream",
     "text": [
      "[1 1 1 ... 0 0 0]\n"
     ]
    }
   ],
   "source": [
    "# convert label column to numpy array\n",
    "private_public_label_array = tcrb_data_sample['Private_Public_label'].to_numpy()\n",
    "print(private_public_label_array)"
   ],
   "metadata": {
    "collapsed": false,
    "pycharm": {
     "name": "#%%\n"
    }
   }
  },
  {
   "cell_type": "code",
   "execution_count": 13,
   "outputs": [
    {
     "data": {
      "text/plain": "(200000, 768)"
     },
     "execution_count": 13,
     "metadata": {},
     "output_type": "execute_result"
    }
   ],
   "source": [
    "from cvc.embbeding_wrapper import EmbeddingWrapper\n",
    "# Create embeddings\n",
    "embed_wrap = EmbeddingWrapper(TRANSFORMER, DEVICE, tcrb_data_sample, batch_size=1024, method=\"mean\", layers=[-1])\n",
    "embed_wrap.embeddings.shape"
   ],
   "metadata": {
    "collapsed": false,
    "pycharm": {
     "name": "#%%\n"
    }
   }
  },
  {
   "cell_type": "code",
   "execution_count": 16,
   "outputs": [
    {
     "name": "stderr",
     "output_type": "stream",
     "text": [
      "/opt/conda/envs/tcrbert/lib/python3.9/site-packages/anndata/_core/anndata.py:119: ImplicitModificationWarning: Transforming to str index.\n",
      "  warnings.warn(\"Transforming to str index.\", ImplicitModificationWarning)\n"
     ]
    }
   ],
   "source": [
    "# create anndata object\n",
    "tcrb_embeddings_adata = embed_wrap.create_anndata()"
   ],
   "metadata": {
    "collapsed": false,
    "pycharm": {
     "name": "#%%\n"
    }
   }
  },
  {
   "cell_type": "code",
   "execution_count": 18,
   "outputs": [
    {
     "data": {
      "text/plain": "        0         1         2         3         4         5         6    \\\n0  0.107250 -0.080414 -0.301196 -0.388682  0.034224 -0.150623 -0.789804   \n1  0.173391 -0.241287 -0.252301 -0.852404  0.308539  0.013715 -0.388142   \n2  0.003321 -0.108535 -0.210176 -0.368733  0.194034  0.401416 -0.670328   \n3 -0.228829  0.098836 -0.093473 -0.563146  0.261397 -0.211089 -0.575158   \n4  0.524626 -0.062989 -0.205310 -0.000910 -0.503346  0.165364 -0.041880   \n\n        7         8         9    ...       758       759       760       761  \\\n0  0.165165  0.010224 -0.801492  ...  0.155161  0.567781 -0.175719  0.941022   \n1  0.130517 -0.186226 -1.265475  ...  0.401612  0.909305 -0.339116  1.263259   \n2  0.155506 -0.186497 -0.599265  ...  0.287041  0.741687 -0.384402  0.584274   \n3 -0.163818 -0.106371 -0.706459  ...  0.277571  0.981891 -0.346193  0.412944   \n4  0.956633 -0.474413  0.138103  ...  0.366457  0.860079 -0.250498  0.482405   \n\n        762       763       764       765       766       767  \n0  0.458320  0.551755  0.527066 -0.153185 -0.395734 -0.112694  \n1  0.099231  0.720978  0.227353 -0.299465 -0.144731 -0.399470  \n2 -0.463281  0.087216  0.264919 -0.101397 -0.447166  0.456869  \n3 -0.286676  0.487327 -0.012711  0.130478 -0.108534 -0.099199  \n4  0.684757  0.536015 -0.047153  0.030275 -0.048807  0.461994  \n\n[5 rows x 768 columns]",
      "text/html": "<div>\n<style scoped>\n    .dataframe tbody tr th:only-of-type {\n        vertical-align: middle;\n    }\n\n    .dataframe tbody tr th {\n        vertical-align: top;\n    }\n\n    .dataframe thead th {\n        text-align: right;\n    }\n</style>\n<table border=\"1\" class=\"dataframe\">\n  <thead>\n    <tr style=\"text-align: right;\">\n      <th></th>\n      <th>0</th>\n      <th>1</th>\n      <th>2</th>\n      <th>3</th>\n      <th>4</th>\n      <th>5</th>\n      <th>6</th>\n      <th>7</th>\n      <th>8</th>\n      <th>9</th>\n      <th>...</th>\n      <th>758</th>\n      <th>759</th>\n      <th>760</th>\n      <th>761</th>\n      <th>762</th>\n      <th>763</th>\n      <th>764</th>\n      <th>765</th>\n      <th>766</th>\n      <th>767</th>\n    </tr>\n  </thead>\n  <tbody>\n    <tr>\n      <th>0</th>\n      <td>0.107250</td>\n      <td>-0.080414</td>\n      <td>-0.301196</td>\n      <td>-0.388682</td>\n      <td>0.034224</td>\n      <td>-0.150623</td>\n      <td>-0.789804</td>\n      <td>0.165165</td>\n      <td>0.010224</td>\n      <td>-0.801492</td>\n      <td>...</td>\n      <td>0.155161</td>\n      <td>0.567781</td>\n      <td>-0.175719</td>\n      <td>0.941022</td>\n      <td>0.458320</td>\n      <td>0.551755</td>\n      <td>0.527066</td>\n      <td>-0.153185</td>\n      <td>-0.395734</td>\n      <td>-0.112694</td>\n    </tr>\n    <tr>\n      <th>1</th>\n      <td>0.173391</td>\n      <td>-0.241287</td>\n      <td>-0.252301</td>\n      <td>-0.852404</td>\n      <td>0.308539</td>\n      <td>0.013715</td>\n      <td>-0.388142</td>\n      <td>0.130517</td>\n      <td>-0.186226</td>\n      <td>-1.265475</td>\n      <td>...</td>\n      <td>0.401612</td>\n      <td>0.909305</td>\n      <td>-0.339116</td>\n      <td>1.263259</td>\n      <td>0.099231</td>\n      <td>0.720978</td>\n      <td>0.227353</td>\n      <td>-0.299465</td>\n      <td>-0.144731</td>\n      <td>-0.399470</td>\n    </tr>\n    <tr>\n      <th>2</th>\n      <td>0.003321</td>\n      <td>-0.108535</td>\n      <td>-0.210176</td>\n      <td>-0.368733</td>\n      <td>0.194034</td>\n      <td>0.401416</td>\n      <td>-0.670328</td>\n      <td>0.155506</td>\n      <td>-0.186497</td>\n      <td>-0.599265</td>\n      <td>...</td>\n      <td>0.287041</td>\n      <td>0.741687</td>\n      <td>-0.384402</td>\n      <td>0.584274</td>\n      <td>-0.463281</td>\n      <td>0.087216</td>\n      <td>0.264919</td>\n      <td>-0.101397</td>\n      <td>-0.447166</td>\n      <td>0.456869</td>\n    </tr>\n    <tr>\n      <th>3</th>\n      <td>-0.228829</td>\n      <td>0.098836</td>\n      <td>-0.093473</td>\n      <td>-0.563146</td>\n      <td>0.261397</td>\n      <td>-0.211089</td>\n      <td>-0.575158</td>\n      <td>-0.163818</td>\n      <td>-0.106371</td>\n      <td>-0.706459</td>\n      <td>...</td>\n      <td>0.277571</td>\n      <td>0.981891</td>\n      <td>-0.346193</td>\n      <td>0.412944</td>\n      <td>-0.286676</td>\n      <td>0.487327</td>\n      <td>-0.012711</td>\n      <td>0.130478</td>\n      <td>-0.108534</td>\n      <td>-0.099199</td>\n    </tr>\n    <tr>\n      <th>4</th>\n      <td>0.524626</td>\n      <td>-0.062989</td>\n      <td>-0.205310</td>\n      <td>-0.000910</td>\n      <td>-0.503346</td>\n      <td>0.165364</td>\n      <td>-0.041880</td>\n      <td>0.956633</td>\n      <td>-0.474413</td>\n      <td>0.138103</td>\n      <td>...</td>\n      <td>0.366457</td>\n      <td>0.860079</td>\n      <td>-0.250498</td>\n      <td>0.482405</td>\n      <td>0.684757</td>\n      <td>0.536015</td>\n      <td>-0.047153</td>\n      <td>0.030275</td>\n      <td>-0.048807</td>\n      <td>0.461994</td>\n    </tr>\n  </tbody>\n</table>\n<p>5 rows × 768 columns</p>\n</div>"
     },
     "execution_count": 18,
     "metadata": {},
     "output_type": "execute_result"
    }
   ],
   "source": [
    "df_embeddings = pd.DataFrame(embed_wrap.embeddings)\n",
    "df_embeddings.head()"
   ],
   "metadata": {
    "collapsed": false,
    "pycharm": {
     "name": "#%%\n"
    }
   }
  },
  {
   "cell_type": "code",
   "execution_count": 19,
   "outputs": [],
   "source": [
    "# add public/private label to dataframe\n",
    "df_embeddings_with_label = df_embeddings\n",
    "df_embeddings_with_label['Private_Public_label']=list(tcrb_embeddings_adata.obs['Private_Public_label'])\n",
    "df_embeddings_with_label['Sequences']=list(tcrb_embeddings_adata.obs['Sequences'])"
   ],
   "metadata": {
    "collapsed": false,
    "pycharm": {
     "name": "#%%\n"
    }
   }
  },
  {
   "cell_type": "code",
   "execution_count": 20,
   "outputs": [],
   "source": [
    "# export embeddings to csvֿ\n",
    "df_embeddings_with_label.to_csv('./db_data_embeddings_with_label.csv')"
   ],
   "metadata": {
    "collapsed": false,
    "pycharm": {
     "name": "#%%\n"
    }
   }
  },
  {
   "cell_type": "code",
   "execution_count": 21,
   "outputs": [],
   "source": [
    "# load from csv\n",
    "if load_csv==True:\n",
    "    df_embeddings_with_label = pd.read_csv('./db_data_embeddings_with_label_and_sequence_300K.csv')\n",
    "    tcrb_embeddings = df_embeddings_with_label.iloc[:,1:-2].to_numpy()\n",
    "    private_public_label_array = df_embeddings_with_label.iloc[:,-2].to_numpy()"
   ],
   "metadata": {
    "collapsed": false,
    "pycharm": {
     "name": "#%%\n"
    }
   }
  },
  {
   "cell_type": "markdown",
   "source": [
    "#### Binary Classification Utils"
   ],
   "metadata": {
    "collapsed": false,
    "pycharm": {
     "name": "#%% md\n"
    }
   }
  },
  {
   "cell_type": "code",
   "execution_count": 22,
   "outputs": [],
   "source": [
    "TRAIN_RATIO = 0.8\n",
    "\n",
    "def split_train_test(embeddings, embedding_labels):\n",
    "    #import pdb; pdb.set_trace()\n",
    "    # The data will be divided into 80% training 20% validation\n",
    "    idx_train = int(len(embeddings) * TRAIN_RATIO)\n",
    "\n",
    "    indices = np.arange(embeddings.shape[0])\n",
    "\n",
    "    # Shuffle data\n",
    "    np.random.shuffle(indices)\n",
    "\n",
    "    # Separate the images and the labels\n",
    "    embeddings_shuffle = embeddings[indices] \n",
    "    embedding_labels_shuffle = embedding_labels[indices]\n",
    "\n",
    "    # Split to train and validation\n",
    "    train_embeddings = embeddings_shuffle[:idx_train]\n",
    "    train_labels = embedding_labels_shuffle[:idx_train]\n",
    "    validation_embeddings = embeddings_shuffle[idx_train:]\n",
    "    validation_labels = embedding_labels_shuffle[idx_train:]\n",
    "    \n",
    "    return train_embeddings, train_labels, validation_embeddings, validation_labels"
   ],
   "metadata": {
    "collapsed": false,
    "pycharm": {
     "name": "#%%\n"
    }
   }
  },
  {
   "cell_type": "code",
   "execution_count": 23,
   "outputs": [
    {
     "name": "stdout",
     "output_type": "stream",
     "text": [
      "shape of embeddings: (200000, 768)\n",
      "shape of embedding_labels: (200000,)\n"
     ]
    }
   ],
   "source": [
    "# run if data was read from a csv\n",
    "embeddings = tcrb_embeddings\n",
    "embedding_labels = private_public_label_array\n",
    "print(\"shape of embeddings: {}\\nshape of embedding_labels: {}\".format(embeddings.shape,embedding_labels.shape))"
   ],
   "metadata": {
    "collapsed": false,
    "pycharm": {
     "name": "#%%\n"
    }
   }
  },
  {
   "cell_type": "code",
   "execution_count": 24,
   "outputs": [
    {
     "data": {
      "text/plain": "((160000, 768), (160000,), (40000, 768), (40000,))"
     },
     "execution_count": 24,
     "metadata": {},
     "output_type": "execute_result"
    }
   ],
   "source": [
    "train_embeddings, embed_train_labels, validation_embeddings, embed_validation_labels = split_train_test(embeddings, embedding_labels)\n",
    "train_embeddings.shape, embed_train_labels.shape, validation_embeddings.shape, embed_validation_labels.shape"
   ],
   "metadata": {
    "collapsed": false,
    "pycharm": {
     "name": "#%%\n"
    }
   }
  },
  {
   "cell_type": "code",
   "execution_count": 25,
   "outputs": [
    {
     "data": {
      "text/plain": "(Counter({1: 20034, 0: 19966}), Counter({0: 80034, 1: 79966}))"
     },
     "execution_count": 25,
     "metadata": {},
     "output_type": "execute_result"
    }
   ],
   "source": [
    "# check that the data is even\n",
    "collections.Counter(embed_validation_labels), collections.Counter(embed_train_labels)"
   ],
   "metadata": {
    "collapsed": false,
    "pycharm": {
     "name": "#%%\n"
    }
   }
  },
  {
   "cell_type": "markdown",
   "source": [
    "#### xgBoost on Embeddings (BERT)\n",
    "Guide on xgBoost - https://towardsdatascience.com/beginners-guide-to-xgboost-for-classification-problems-50f75aac5390\n"
   ],
   "metadata": {
    "collapsed": false,
    "pycharm": {
     "name": "#%% md\n"
    }
   }
  },
  {
   "cell_type": "code",
   "execution_count": 26,
   "outputs": [],
   "source": [
    "# feature scaling\n",
    "from sklearn.preprocessing import StandardScaler\n",
    "sc = StandardScaler()\n",
    "train_embeddings = sc.fit_transform(train_embeddings)\n",
    "validation_embeddings = sc.fit_transform(validation_embeddings)"
   ],
   "metadata": {
    "collapsed": false,
    "pycharm": {
     "name": "#%%\n"
    }
   }
  },
  {
   "cell_type": "code",
   "execution_count": 27,
   "outputs": [
    {
     "data": {
      "text/plain": "0.81185"
     },
     "execution_count": 27,
     "metadata": {},
     "output_type": "execute_result"
    }
   ],
   "source": [
    "# extract accuracy\n",
    "accuracy_xgb, xgb_preds, xgb_classifier = \\\n",
    "    lab_notebooks.utils.xgb_classify(train_embeddings, embed_train_labels, validation_embeddings, embed_validation_labels)\n",
    "accuracy_xgb"
   ],
   "metadata": {
    "collapsed": false,
    "pycharm": {
     "name": "#%%\n"
    }
   }
  },
  {
   "cell_type": "code",
   "execution_count": 28,
   "outputs": [],
   "source": [
    "# plot the roc curve for the model\n",
    "# get probabilities\n",
    "probs = xgb_classifier.predict_proba(validation_embeddings)\n",
    "fpr_xgb, tpr_xgb, thresholds_xgb = roc_curve(embed_validation_labels, probs[:, 1])\n",
    "roc_auc_xgb = auc(fpr_xgb, tpr_xgb)"
   ],
   "metadata": {
    "collapsed": false,
    "pycharm": {
     "name": "#%%\n"
    }
   }
  },
  {
   "cell_type": "markdown",
   "source": [
    "#### One-Hot Encoding"
   ],
   "metadata": {
    "collapsed": false,
    "pycharm": {
     "name": "#%% md\n"
    }
   }
  },
  {
   "cell_type": "code",
   "execution_count": 29,
   "outputs": [],
   "source": [
    "# Import Dependencies \n",
    "import pandas as pd\n",
    "import numpy as np\n",
    "import torch.nn.functional as F\n",
    "\n",
    "# Function to encode sequences\n",
    "def encode_seq(sequence, max_cdr3_len):\n",
    "    alphabet = ['A', 'C', 'D', 'E', 'F', 'G','H', 'I', 'K', 'L', 'M', 'N', 'P', 'Q', 'R', 'S', 'T', 'V', 'W', 'Y']\n",
    "    char_to_int = dict((c, i) for i, c in enumerate(alphabet))\n",
    "    integer_encoded = [char_to_int[char] for char in sequence]\n",
    "    \n",
    "    # one hot encode\n",
    "    integer_encoded = torch.tensor(integer_encoded)\n",
    "    integer_encoded = F.one_hot(integer_encoded, num_classes=len(alphabet))\n",
    "    \n",
    "    # pad integer_encoded tensor first dim with zeros up to max_cdr3_len\n",
    "    integer_encoded = F.pad(integer_encoded, (0,0,0, max_cdr3_len - len(integer_encoded)))\n",
    "    \n",
    "    integer_encoded = integer_encoded.numpy()\n",
    "\n",
    "    return integer_encoded"
   ],
   "metadata": {
    "collapsed": false,
    "pycharm": {
     "name": "#%%\n"
    }
   }
  },
  {
   "cell_type": "code",
   "execution_count": 30,
   "outputs": [
    {
     "data": {
      "text/plain": "31"
     },
     "execution_count": 30,
     "metadata": {},
     "output_type": "execute_result"
    }
   ],
   "source": [
    "# extract sequences\n",
    "cdr3_sequences = df_embeddings_with_label['Sequences']#tcrb_data_sample['Sequences']\n",
    "sequences_labels = private_public_label_array\n",
    "max_cdr3_len = cdr3_sequences.apply(len).max()\n",
    "max_cdr3_len"
   ],
   "metadata": {
    "collapsed": false,
    "pycharm": {
     "name": "#%%\n"
    }
   }
  },
  {
   "cell_type": "code",
   "execution_count": 31,
   "outputs": [
    {
     "name": "stdout",
     "output_type": "stream",
     "text": [
      "shape of training set: (160000,)\n",
      "shape of validation set: (40000,)\n"
     ]
    }
   ],
   "source": [
    "# split data into train/test\n",
    "train_seqs, train_labels, validation_seqs, validation_labels = split_train_test(cdr3_sequences.to_numpy(), sequences_labels)\n",
    "print(\"shape of training set: {}\\nshape of validation set: {}\".format(train_seqs.shape, validation_seqs.shape))"
   ],
   "metadata": {
    "collapsed": false,
    "pycharm": {
     "name": "#%%\n"
    }
   }
  },
  {
   "cell_type": "code",
   "execution_count": 32,
   "outputs": [],
   "source": [
    "# encode amino acid sequences to one hot vector\n",
    "encoded_train_seqs = pd.Series(train_seqs).apply(lambda x: encode_seq(x, max_cdr3_len))\n",
    "encoded_validation_seqs = pd.Series(validation_seqs).apply(lambda x: encode_seq(x, max_cdr3_len))"
   ],
   "metadata": {
    "collapsed": false,
    "pycharm": {
     "name": "#%%\n"
    }
   }
  },
  {
   "cell_type": "code",
   "execution_count": 33,
   "outputs": [
    {
     "data": {
      "text/plain": "Counter({0: 20081, 1: 19919})"
     },
     "execution_count": 33,
     "metadata": {},
     "output_type": "execute_result"
    }
   ],
   "source": [
    "# check to see even distribution between public and private\n",
    "collections.Counter(validation_labels)"
   ],
   "metadata": {
    "collapsed": false,
    "pycharm": {
     "name": "#%%\n"
    }
   }
  },
  {
   "cell_type": "code",
   "execution_count": 34,
   "outputs": [
    {
     "data": {
      "text/plain": "((160000, 31, 20), (40000, 31, 20))"
     },
     "execution_count": 34,
     "metadata": {},
     "output_type": "execute_result"
    }
   ],
   "source": [
    "# Stack list(encoded_train_seqs) in dim 0\n",
    "train_seqs_stack = np.stack(encoded_train_seqs, axis=0)\n",
    "valid_seqs_stack = np.stack(encoded_validation_seqs, axis=0)\n",
    "train_seqs_stack.shape, valid_seqs_stack.shape"
   ],
   "metadata": {
    "collapsed": false,
    "pycharm": {
     "name": "#%%\n"
    }
   }
  },
  {
   "cell_type": "code",
   "execution_count": 35,
   "outputs": [
    {
     "data": {
      "text/plain": "((160000, 620), (40000, 620))"
     },
     "execution_count": 35,
     "metadata": {},
     "output_type": "execute_result"
    }
   ],
   "source": [
    "# reshape train/validation tensors\n",
    "train_seqs_stack = train_seqs_stack.reshape(train_seqs_stack.shape[0], -1)\n",
    "valid_seqs_stack = valid_seqs_stack.reshape(valid_seqs_stack.shape[0], -1)\n",
    "train_seqs_stack.shape, valid_seqs_stack.shape"
   ],
   "metadata": {
    "collapsed": false,
    "pycharm": {
     "name": "#%%\n"
    }
   }
  },
  {
   "cell_type": "markdown",
   "source": [
    "#### xgBoost on One-Hot Encoding"
   ],
   "metadata": {
    "collapsed": false,
    "pycharm": {
     "name": "#%% md\n"
    }
   }
  },
  {
   "cell_type": "code",
   "execution_count": 36,
   "outputs": [
    {
     "data": {
      "text/plain": "0.73875"
     },
     "execution_count": 36,
     "metadata": {},
     "output_type": "execute_result"
    }
   ],
   "source": [
    "# apply xgb on onehot, extract accuracy\n",
    "accuracy_xgb_onehot, xgb_preds_onehot, xgb_classifier_onehot =\\\n",
    "    lab_notebooks.utils.xgb_classify(train_seqs_stack, train_labels, valid_seqs_stack, validation_labels)\n",
    "\n",
    "# get probabilities and roc\n",
    "probs = xgb_classifier_onehot.predict_proba(valid_seqs_stack)\n",
    "fpr_onehot_xgb, tpr_onehot_xgb, thresholds_onehot_xgb = roc_curve(validation_labels, probs[:, 1])\n",
    "roc_auc_onehot_xgb = auc(fpr_onehot_xgb, tpr_onehot_xgb)\n",
    "\n",
    "accuracy_xgb_onehot"
   ],
   "metadata": {
    "collapsed": false,
    "pycharm": {
     "name": "#%%\n"
    }
   }
  },
  {
   "cell_type": "markdown",
   "source": [
    "### LDA"
   ],
   "metadata": {
    "collapsed": false,
    "pycharm": {
     "name": "#%% md\n"
    }
   }
  },
  {
   "cell_type": "code",
   "execution_count": 37,
   "outputs": [],
   "source": [
    "# apply LDA\n",
    "accuracy_lda, lda_preds, lda_classifier = lab_notebooks.utils.lda_classify(train_embeddings,embed_train_labels, validation_embeddings, embed_validation_labels)"
   ],
   "metadata": {
    "collapsed": false,
    "pycharm": {
     "name": "#%%\n"
    }
   }
  },
  {
   "cell_type": "code",
   "execution_count": 38,
   "outputs": [
    {
     "data": {
      "text/plain": "0.82035"
     },
     "execution_count": 38,
     "metadata": {},
     "output_type": "execute_result"
    }
   ],
   "source": [
    "# plot the roc curve for the model\n",
    "# get probabilities\n",
    "probs = lda_classifier.predict_proba(validation_embeddings)\n",
    "fpr_lda, tpr_lda, thresholds_lda = roc_curve(embed_validation_labels, probs[:, 1])\n",
    "roc_auc_lda = auc(fpr_lda, tpr_lda)\n",
    "\n",
    "accuracy_lda"
   ],
   "metadata": {
    "collapsed": false,
    "pycharm": {
     "name": "#%%\n"
    }
   }
  },
  {
   "cell_type": "markdown",
   "source": [
    "### LDA oneHot"
   ],
   "metadata": {
    "collapsed": false,
    "pycharm": {
     "name": "#%% md\n"
    }
   }
  },
  {
   "cell_type": "code",
   "execution_count": 39,
   "outputs": [
    {
     "data": {
      "text/plain": "0.696075"
     },
     "execution_count": 39,
     "metadata": {},
     "output_type": "execute_result"
    }
   ],
   "source": [
    "accuracy_lda_onehot, lda_preds_onehot, lda_classifier_onehot =\\\n",
    "    lab_notebooks.utils.xgb_classify(train_seqs_stack, train_labels, valid_seqs_stack, validation_labels)\n",
    "\n",
    "probs_oh_lda = lda_classifier_onehot.predict_proba(valid_seqs_stack)\n",
    "fpr_onehot_lda, tpr_onehot_lda, thresholds_onehot_lda = roc_curve(validation_labels, probs_oh_lda[:, 1])\n",
    "roc_auc_onehot_lda = auc(fpr_onehot_lda, tpr_onehot_lda)\n",
    "\n",
    "accuracy_lda_onehot"
   ],
   "metadata": {
    "collapsed": false,
    "pycharm": {
     "name": "#%%\n"
    }
   }
  },
  {
   "cell_type": "markdown",
   "source": [
    "## Deep Neural Network"
   ],
   "metadata": {
    "collapsed": false,
    "pycharm": {
     "name": "#%% md\n"
    }
   }
  },
  {
   "cell_type": "markdown",
   "source": [
    "#### Deep Learning Model on Embeddings"
   ],
   "metadata": {
    "collapsed": false,
    "pycharm": {
     "name": "#%% md\n"
    }
   }
  },
  {
   "cell_type": "code",
   "execution_count": 40,
   "outputs": [],
   "source": [
    "# set flag to run with onehot\n",
    "DNN_ONEHOT = 0"
   ],
   "metadata": {
    "collapsed": false,
    "pycharm": {
     "name": "#%%\n"
    }
   }
  },
  {
   "cell_type": "code",
   "execution_count": 41,
   "outputs": [],
   "source": [
    "# defining dataset class\n",
    "from torch.utils.data import Dataset, DataLoader\n",
    "class dataset(Dataset):\n",
    "    def __init__(self,x, y):\n",
    "        # self.x = torch.tensor(x, dtype=torch.float32).to('cuda')\n",
    "        # self.y = torch.tensor(y, dtype=torch.float32).to('cuda')\n",
    "        self.x = torch.tensor(x, dtype=torch.float32)\n",
    "        self.y = torch.tensor(y, dtype=torch.float32)\n",
    "        self.length = self.x.shape[0]\n",
    "        assert self.x.shape[0] == self.y.shape[0]\n",
    "        \n",
    "    def __getitem__(self, idx):\n",
    "        return self.x[idx], self.y[idx]\n",
    "    \n",
    "    def __len__(self):\n",
    "        return self.length"
   ],
   "metadata": {
    "collapsed": false,
    "pycharm": {
     "name": "#%%\n"
    }
   }
  },
  {
   "cell_type": "code",
   "execution_count": 42,
   "outputs": [],
   "source": [
    "BATCH_SIZE = 1024\n",
    "\n",
    "# create datasets\n",
    "if DNN_ONEHOT==0:\n",
    "    trainset = dataset(train_embeddings, embed_train_labels)\n",
    "    validset = dataset(validation_embeddings, embed_validation_labels)\n",
    "else:\n",
    "    trainset = dataset(train_seqs_stack, train_labels)\n",
    "    validset = dataset(valid_seqs_stack, validation_labels)\n",
    "\n",
    "# DataLoader with 10 workers\n",
    "trainloader = DataLoader(trainset, batch_size=BATCH_SIZE, shuffle=True, num_workers=10, pin_memory=True)\n",
    "validloader = DataLoader(validset, batch_size=BATCH_SIZE, num_workers=10, pin_memory=True)"
   ],
   "metadata": {
    "collapsed": false,
    "pycharm": {
     "name": "#%%\n"
    }
   }
  },
  {
   "cell_type": "code",
   "execution_count": 43,
   "outputs": [],
   "source": [
    "# defining the network\n",
    "from torch import nn\n",
    "from torch.nn import functional as F\n",
    "\n",
    "class Net(nn.Module):\n",
    "    def __init__(self, input_shape):\n",
    "        super(Net,self).__init__()\n",
    "        self.fc1 = nn.Linear(input_shape,128)\n",
    "        self.fc2 = nn.Linear(128,32)\n",
    "        self.fc3 = nn.Linear(32,1)\n",
    "    \n",
    "    def forward(self,x):\n",
    "        x = torch.relu(self.fc1(x))\n",
    "        x = torch.relu(self.fc2(x))\n",
    "        x = torch.sigmoid(self.fc3(x))\n",
    "        return x"
   ],
   "metadata": {
    "collapsed": false,
    "pycharm": {
     "name": "#%%\n"
    }
   }
  },
  {
   "cell_type": "code",
   "execution_count": 44,
   "outputs": [],
   "source": [
    "# hyper parameters\n",
    "learning_rate = 0.00001 # 1e-6\n",
    "\n",
    "# set input shape\n",
    "input_shape = train_embeddings.shape[1]\n",
    "if DNN_ONEHOT:\n",
    "    input_shape = train_seqs_stack.shape[1]\n",
    "\n",
    "# Model , Optimizer, Loss\n",
    "device = 'cpu'\n",
    "model = Net(input_shape=input_shape).to(device)\n",
    "optimizer = torch.optim.Adam(model.parameters(),lr=learning_rate)\n",
    "loss_fn = nn.BCELoss()"
   ],
   "metadata": {
    "collapsed": false,
    "pycharm": {
     "name": "#%%\n"
    }
   }
  },
  {
   "cell_type": "code",
   "execution_count": 45,
   "outputs": [],
   "source": [
    "def calculate_accuracy(y_pred, y_test):\n",
    "    y_pred_tag = torch.round(y_pred)\n",
    "    y_test = y_test.unsqueeze(1)\n",
    "    correct_results_sum = (y_pred_tag == y_test).sum().float()\n",
    "    acc = correct_results_sum/y_test.shape[0]\n",
    "    acc = torch.round(acc * 100)\n",
    "    return acc"
   ],
   "metadata": {
    "collapsed": false,
    "pycharm": {
     "name": "#%%\n"
    }
   }
  },
  {
   "cell_type": "code",
   "execution_count": 46,
   "outputs": [],
   "source": [
    "def train_classify(model, trainloader, optimizer):\n",
    "    epoch_loss = 0\n",
    "    epoch_acc = 0\n",
    "    count = 0\n",
    "    model.train()\n",
    "    for train_embedding, train_label in tqdm.notebook.tqdm(trainloader, total=len(trainloader)):\n",
    "        # option to move train_embedding, train_label to gpu here\n",
    "        # calculate output\n",
    "        train_embedding, train_label =  train_embedding.to(device), train_label.to(device)\n",
    "        output = model(train_embedding)\n",
    "        \n",
    "        # calculate loss\n",
    "        loss = loss_fn(output, train_label.reshape(-1,1))\n",
    "        \n",
    "        # accuracy\n",
    "        acc = calculate_accuracy(output, train_label)\n",
    "        \n",
    "        # backprop\n",
    "        optimizer.zero_grad() \n",
    "        loss.backward()\n",
    "        optimizer.step()\n",
    "\n",
    "        epoch_loss += loss.item()\n",
    "        epoch_acc += acc.item()\n",
    "        count += len(train_label)\n",
    "        \n",
    "    return epoch_loss / len(trainloader), epoch_acc / len(trainloader)"
   ],
   "metadata": {
    "collapsed": false,
    "pycharm": {
     "name": "#%%\n"
    }
   }
  },
  {
   "cell_type": "code",
   "execution_count": 47,
   "outputs": [],
   "source": [
    "def evaluate_classify(model, validloader): \n",
    "    epoch_loss = 0\n",
    "    epoch_acc = 0\n",
    "    count = 0\n",
    "    model.eval()\n",
    "    label_list = []\n",
    "    pred_label_list = []\n",
    "    with torch.no_grad(): \n",
    "        for valid_embedding, valid_label in tqdm.notebook.tqdm(validloader, total=len(validloader)):\n",
    "            # option to move valid_embedding, valid_label to gpu here\n",
    "            valid_embedding, valid_label = valid_embedding.to(device), valid_label.to(device)\n",
    "            # calculate output\n",
    "            output = model(valid_embedding)\n",
    "\n",
    "            # calculate loss\n",
    "            loss = loss_fn(output, valid_label.reshape(-1,1))\n",
    "\n",
    "            # accuracy\n",
    "            acc = calculate_accuracy(output, valid_label)\n",
    "            \n",
    "            # add to lists for confusion matrixv\n",
    "            label_list.append(valid_label.cpu())\n",
    "            pred_label_list.append(output.cpu())\n",
    "            \n",
    "            #acc = calculate_accuracy(output, valid_label)\n",
    "            epoch_loss += loss.item()\n",
    "            epoch_acc += acc.item()\n",
    "            count += len(valid_label)\n",
    "    return (epoch_loss / len(validloader), epoch_acc / len(validloader),\n",
    "            torch.cat(label_list, dim=0), \n",
    "            torch.cat(pred_label_list, dim=0))"
   ],
   "metadata": {
    "collapsed": false,
    "pycharm": {
     "name": "#%%\n"
    }
   }
  },
  {
   "cell_type": "code",
   "execution_count": null,
   "outputs": [
    {
     "data": {
      "text/plain": "<Figure size 864x864 with 4 Axes>",
      "image/png": "[encoded data removed]"
     },
     "metadata": {},
     "output_type": "display_data"
    },
    {
     "name": "stdout",
     "output_type": "stream",
     "text": [
      "train accuracy\n",
      "\ttrain accuracy   \t (min:   65.459, max:   82.981, cur:   82.955)\n",
      "train loss\n",
      "\ttrain loss       \t (min:    0.382, max:    0.663, cur:    0.382)\n",
      "validation accuracy\n",
      "\tvalidation accuracy \t (min:   77.700, max:   82.200, cur:   82.200)\n",
      "validation loss\n",
      "\tvalidation loss  \t (min:    0.393, max:    0.623, cur:    0.394)\n",
      "starting epoch 133\n"
     ]
    },
    {
     "data": {
      "text/plain": "HBox(children=(HTML(value=''), FloatProgress(value=0.0, max=157.0), HTML(value='')))",
      "application/vnd.jupyter.widget-view+json": {
       "version_major": 2,
       "version_minor": 0,
       "model_id": "c887cfc4a02b49dd97c44340edf9f8c7"
      }
     },
     "metadata": {},
     "output_type": "display_data"
    },
    {
     "name": "stdout",
     "output_type": "stream",
     "text": [
      "\n",
      "Epoch 134 of 150, Train Loss: 0.382\n",
      "Epoch 134 of 150, Train Accuracy: 82.930\n"
     ]
    },
    {
     "data": {
      "text/plain": "HBox(children=(HTML(value=''), FloatProgress(value=0.0, max=40.0), HTML(value='')))",
      "application/vnd.jupyter.widget-view+json": {
       "version_major": 2,
       "version_minor": 0,
       "model_id": "db562191bc184c29866d57de8afc2e63"
      }
     },
     "metadata": {},
     "output_type": "display_data"
    }
   ],
   "source": [
    "from livelossplot import PlotLosses\n",
    "\n",
    "liveloss1_class = PlotLosses()\n",
    "logs_class = {}\n",
    "EPOCHS=150\n",
    "\n",
    "for epoch in range(EPOCHS):\n",
    "    print('starting epoch {}'.format(epoch))\n",
    "    train_loss, train_acc = train_classify(model, trainloader, optimizer)\n",
    "    print('Epoch {} of {}, Train Loss: {:.3f}'.format(\n",
    "            epoch+1, EPOCHS, train_loss))\n",
    "    \n",
    "    print('Epoch {} of {}, Train Accuracy: {:.3f}'.format(\n",
    "          epoch+1, EPOCHS, train_acc))\n",
    "    \n",
    "    logs_class['train loss'] = train_loss\n",
    "    logs_class['train accuracy'] = train_acc\n",
    "\n",
    "    valid_loss, valid_acc, label_list, pred_label_list  = evaluate_classify(model, validloader)\n",
    "    print('Epoch {} of {}, Validate Loss: {:.3f}'.format(\n",
    "        epoch+1, EPOCHS, valid_loss))\n",
    "    \n",
    "    print('Epoch {} of {}, Validate Accuracy: {:.3f}'.format(\n",
    "        epoch+1, EPOCHS, valid_acc))\n",
    "\n",
    "    logs_class['validation loss'] = valid_loss\n",
    "    logs_class['validation accuracy'] = valid_acc\n",
    "        \n",
    "    liveloss1_class.update(logs_class)\n",
    "    liveloss1_class.send()"
   ],
   "metadata": {
    "collapsed": false,
    "pycharm": {
     "name": "#%%\n"
    }
   }
  },
  {
   "cell_type": "code",
   "execution_count": null,
   "outputs": [],
   "source": [
    "# get predictions from model\n",
    "label_list = []\n",
    "pred_label_list = []\n",
    "_, _, label_list, pred_label_list = evaluate_classify(model, validloader)"
   ],
   "metadata": {
    "collapsed": false,
    "pycharm": {
     "name": "#%%\n"
    }
   }
  },
  {
   "cell_type": "code",
   "execution_count": null,
   "outputs": [],
   "source": [
    "preds, labels = pred_label_list[:, 0].cpu().numpy(), label_list.unsqueeze(1)[:, 0].cpu().numpy()\n",
    "preds_at_threshold_05 = (preds > 0.5).astype(int)\n",
    "labels = labels.astype(int)"
   ],
   "metadata": {
    "collapsed": false,
    "pycharm": {
     "name": "#%%\n"
    }
   }
  },
  {
   "cell_type": "code",
   "execution_count": null,
   "outputs": [],
   "source": [
    "# calculate FN, TP, TN, FP \n",
    "tn_nn, fp_nn, fn_nn, tp_nn = confusion_matrix(preds_at_threshold_05, labels).ravel()\n",
    "\n",
    "labels_vals = [tn_nn, fp_nn, fn_nn, tp_nn]\n",
    "labels_TF = [f\"True Negative\",\"False Positive\",\"False Negative\",\"True Positive\"]\n",
    "sum_all = tn_nn + fp_nn + fn_nn + tp_nn\n",
    "\n",
    "labels_vals_str = [str(round(val/sum_all, 4)*100) for val in labels_vals]\n",
    "labels_TF_final = [f\"{label}\\n{label_val_str}%\" for label, label_val_str in zip(labels_TF, labels_vals_str)]"
   ],
   "metadata": {
    "collapsed": false,
    "pycharm": {
     "name": "#%%\n"
    }
   }
  },
  {
   "cell_type": "code",
   "execution_count": null,
   "outputs": [],
   "source": [
    "labels_TF_final = [[labels_TF_final[0], labels_TF_final[1]], [labels_TF_final[2], labels_TF_final[3]]]"
   ],
   "metadata": {
    "collapsed": false,
    "pycharm": {
     "name": "#%%\n"
    }
   }
  },
  {
   "cell_type": "code",
   "execution_count": null,
   "outputs": [],
   "source": [
    "# calculate confusion matrix\n",
    "confusion_mat_val = confusion_matrix(preds_at_threshold_05, label_list.cpu().numpy())\n",
    "labels_TF = np.asarray(labels_TF).reshape(2,2)\n",
    "plt.figure(figsize = (10,7))\n",
    "sns.heatmap(confusion_mat_val, annot=labels_TF_final, fmt=\"\", cmap='RdPu')"
   ],
   "metadata": {
    "collapsed": false,
    "pycharm": {
     "name": "#%%\n"
    }
   }
  },
  {
   "cell_type": "code",
   "execution_count": null,
   "outputs": [],
   "source": [
    "# roc data for DNN\n",
    "if DNN_ONEHOT==0:\n",
    "    fpr_dnn, tpr_dnn, thresholds_dnn = roc_curve(embed_validation_labels, preds)\n",
    "    roc_auc_dnn = auc(fpr_dnn, tpr_dnn)\n",
    "else:\n",
    "    fpr_onehot_dnn, tpr_onehot_dnn, thresholds_onehot_dnn = roc_curve(validation_labels, preds)\n",
    "    roc_auc_onehot_dnn = auc(fpr_onehot_dnn, tpr_onehot_dnn)"
   ],
   "metadata": {
    "collapsed": false,
    "pycharm": {
     "name": "#%%\n"
    }
   }
  },
  {
   "cell_type": "markdown",
   "source": [
    "### ROC of all algorithms"
   ],
   "metadata": {
    "collapsed": false,
    "pycharm": {
     "name": "#%% md\n"
    }
   }
  },
  {
   "cell_type": "code",
   "execution_count": null,
   "outputs": [],
   "source": [
    "plt.plot(fpr_lda, tpr_lda, color='red',\n",
    "         label='LDA (area = %0.2f)' % roc_auc_lda)\n",
    "plt.plot(fpr_xgb, tpr_xgb, color='blue',\n",
    "         label='xgBoost (area = %0.2f)' % roc_auc_xgb)\n",
    "plt.plot(fpr_dnn, tpr_dnn, color='green',\n",
    "         label='Simple DNN (area = %0.2f)' % roc_auc_dnn)\n",
    "plt.plot(fpr_onehot_xgb, tpr_onehot_xgb, color='lightblue',\n",
    "         label='xgBoost one-hot (area = %0.2f)' % roc_auc_onehot_xgb)\n",
    "plt.plot(fpr_onehot_lda, tpr_onehot_lda, color='pink',\n",
    "         label='LDA one-hot (area = %0.2f)' % roc_auc_onehot_lda)\n",
    "plt.plot(fpr_onehot_dnn, tpr_onehot_dnn, color='lightgreen',\n",
    "         label='Simple DNN one-hot (area = %0.2f)' % roc_auc_onehot_dnn)\n",
    "# Set axis labels\n",
    "plt.xlabel('False Positive Rate')\n",
    "plt.ylabel('True Positive Rate')\n",
    "# Set title\n",
    "# plt.title('An ROC Presenting Supervised Classification of Public and Private Sequences')\n",
    "# Set plot legend\n",
    "plt.legend(loc=\"lower right\")\n",
    "# Show plot\n",
    "plt.show()"
   ],
   "metadata": {
    "collapsed": false,
    "pycharm": {
     "name": "#%%\n"
    }
   }
  }
 ],
 "metadata": {
  "kernelspec": {
   "display_name": "Python 3",
   "language": "python",
   "name": "python3"
  },
  "language_info": {
   "codemirror_mode": {
    "name": "ipython",
    "version": 3
   },
   "file_extension": ".py",
   "mimetype": "text/x-python",
   "name": "python",
   "nbconvert_exporter": "python",
   "pygments_lexer": "ipython3",
   "version": "3.9.2"
  }
 },
 "nbformat": 4,
 "nbformat_minor": 5
}