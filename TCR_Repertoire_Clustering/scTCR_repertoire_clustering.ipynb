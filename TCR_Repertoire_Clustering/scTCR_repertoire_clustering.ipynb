{
 "cells": [
  {
   "cell_type": "markdown",
   "source": [
    "#### Edit Data Paths\n",
    "##### Edit input and outputs paths. Input path should direct to the csv that has the sequences to create the embeddings for, and the output path should direct to the csv that will hold the embeddings."
   ],
   "metadata": {
    "collapsed": false
   }
  },
  {
   "cell_type": "code",
   "execution_count": 2,
   "outputs": [],
   "source": [
    "%load_ext autoreload\n",
    "%autoreload 2"
   ],
   "metadata": {
    "collapsed": false
   }
  },
  {
   "cell_type": "code",
   "execution_count": 4,
   "outputs": [
    {
     "name": "stdout",
     "output_type": "stream",
     "text": [
      "/home/romi/projects/cvc\n"
     ]
    }
   ],
   "source": [
    "cd .."
   ],
   "metadata": {
    "collapsed": false
   }
  },
  {
   "cell_type": "code",
   "execution_count": 6,
   "outputs": [],
   "source": [
    "# the sequences in the csv file need to be in a column called Sequences\n",
    "input_path = \"/home/romi/projects/cvc/CDR3_data/cdrs_ch.csv\"\n",
    "output_path = \"/home/romi/projects/cvc/CDR3_data/TRA_specific/cdrs_ch_embeddings.csv\""
   ],
   "metadata": {
    "collapsed": false
   }
  },
  {
   "cell_type": "markdown",
   "source": [
    "#### Set Environment"
   ],
   "metadata": {
    "collapsed": false
   }
  },
  {
   "cell_type": "code",
   "execution_count": 7,
   "outputs": [],
   "source": [
    "import os, sys\n",
    "import pandas as pd\n",
    "SRC_DIR = \"cvc\"\n",
    "assert os.path.isdir(SRC_DIR), f\"Cannot find src dir: {SRC_DIR}\"\n",
    "sys.path.append(SRC_DIR)\n",
    "\n",
    "from cvc import model_utils\n",
    "\n",
    "from lab_notebooks.utils import SC_TRANSFORMER, TRANSFORMER, DEVICE\n",
    "MODEL_DIR = os.path.join(SRC_DIR, \"models\")\n",
    "sys.path.append(MODEL_DIR)\n",
    "\n",
    "FILT_EDIT_DIST = True"
   ],
   "metadata": {
    "collapsed": false
   }
  },
  {
   "cell_type": "markdown",
   "source": [
    "#### Load Data"
   ],
   "metadata": {
    "collapsed": false
   }
  },
  {
   "cell_type": "code",
   "execution_count": 8,
   "outputs": [],
   "source": [
    "# load data\n",
    "tcrb_data = pd.read_csv(input_path)\n",
    "tcrb_data = tcrb_data.drop_duplicates()"
   ],
   "metadata": {
    "collapsed": false
   }
  },
  {
   "cell_type": "code",
   "execution_count": 9,
   "outputs": [
    {
     "data": {
      "text/plain": "           CAVNTGGFKTIF\n0           CAVNTGNQFYF\n1          CAVNTNAGKSTF\n2          CAVNQAGTALIF\n3        CAENSGGSNYKLTF\n4         CAVNSGGYQKVTF\n...                 ...\n1286516       YYGNNRLAF\n1286517     YYNNAGNMLTF\n1286518      YYTGFQKLVF\n1286519         YYYKLSF\n1286520               y\n\n[1286521 rows x 1 columns]",
      "text/html": "<div>\n<style scoped>\n    .dataframe tbody tr th:only-of-type {\n        vertical-align: middle;\n    }\n\n    .dataframe tbody tr th {\n        vertical-align: top;\n    }\n\n    .dataframe thead th {\n        text-align: right;\n    }\n</style>\n<table border=\"1\" class=\"dataframe\">\n  <thead>\n    <tr style=\"text-align: right;\">\n      <th></th>\n      <th>CAVNTGGFKTIF</th>\n    </tr>\n  </thead>\n  <tbody>\n    <tr>\n      <th>0</th>\n      <td>CAVNTGNQFYF</td>\n    </tr>\n    <tr>\n      <th>1</th>\n      <td>CAVNTNAGKSTF</td>\n    </tr>\n    <tr>\n      <th>2</th>\n      <td>CAVNQAGTALIF</td>\n    </tr>\n    <tr>\n      <th>3</th>\n      <td>CAENSGGSNYKLTF</td>\n    </tr>\n    <tr>\n      <th>4</th>\n      <td>CAVNSGGYQKVTF</td>\n    </tr>\n    <tr>\n      <th>...</th>\n      <td>...</td>\n    </tr>\n    <tr>\n      <th>1286516</th>\n      <td>YYGNNRLAF</td>\n    </tr>\n    <tr>\n      <th>1286517</th>\n      <td>YYNNAGNMLTF</td>\n    </tr>\n    <tr>\n      <th>1286518</th>\n      <td>YYTGFQKLVF</td>\n    </tr>\n    <tr>\n      <th>1286519</th>\n      <td>YYYKLSF</td>\n    </tr>\n    <tr>\n      <th>1286520</th>\n      <td>y</td>\n    </tr>\n  </tbody>\n</table>\n<p>1286521 rows × 1 columns</p>\n</div>"
     },
     "execution_count": 9,
     "metadata": {},
     "output_type": "execute_result"
    }
   ],
   "source": [
    "tcrb_data"
   ],
   "metadata": {
    "collapsed": false
   }
  },
  {
   "cell_type": "code",
   "execution_count": 10,
   "outputs": [],
   "source": [
    "# rename sequences column if not named \"Sequences\"\n",
    "tcrb_data.rename(columns={'CAVNTGGFKTIF': 'Sequences'}, inplace=True)"
   ],
   "metadata": {
    "collapsed": false
   }
  },
  {
   "cell_type": "code",
   "execution_count": 17,
   "outputs": [],
   "source": [
    "# rename sequences column if not named \"Sequences\"\n",
    "tcrb_data.rename(columns={'cdr3': 'Sequences'}, inplace=True)"
   ],
   "metadata": {
    "collapsed": false
   }
  },
  {
   "cell_type": "code",
   "execution_count": 11,
   "outputs": [],
   "source": [
    "tcrb_data_small = tcrb_data"
   ],
   "metadata": {
    "collapsed": false
   }
  },
  {
   "cell_type": "markdown",
   "source": [
    "#### Create embeddings"
   ],
   "metadata": {
    "collapsed": false
   }
  },
  {
   "cell_type": "code",
   "execution_count": 12,
   "outputs": [
    {
     "name": "stderr",
     "output_type": "stream",
     "text": [
      "Some weights of the model checkpoint at /home/romi/projects/cvc/output_5mil_even_priv_pub were not used when initializing BertModel: ['cls.predictions.transform.dense.weight', 'cls.predictions.transform.dense.bias', 'cls.predictions.bias', 'cls.predictions.decoder.bias', 'cls.predictions.decoder.weight', 'cls.predictions.transform.LayerNorm.bias', 'cls.predictions.transform.LayerNorm.weight']\n",
      "- This IS expected if you are initializing BertModel from the checkpoint of a model trained on another task or with another architecture (e.g. initializing a BertForSequenceClassification model from a BertForPreTraining model).\n",
      "- This IS NOT expected if you are initializing BertModel from the checkpoint of a model that you expect to be exactly identical (initializing a BertForSequenceClassification model from a BertForSequenceClassification model).\n"
     ]
    },
    {
     "data": {
      "text/plain": "  0%|          | 0/10051 [00:00<?, ?it/s]",
      "application/vnd.jupyter.widget-view+json": {
       "version_major": 2,
       "version_minor": 0,
       "model_id": "d829905b429745bda7823862bcb1b58b"
      }
     },
     "metadata": {},
     "output_type": "display_data"
    },
    {
     "data": {
      "text/plain": "(1286521, 768)"
     },
     "execution_count": 12,
     "metadata": {},
     "output_type": "execute_result"
    }
   ],
   "source": [
    "TRANSFORMER_TO_USE = TRANSFORMER\n",
    "from cvc.embbeding_wrapper import EmbeddingWrapper\n",
    "\n",
    "# Create embeddings\n",
    "embed_wrap = EmbeddingWrapper(TRANSFORMER_TO_USE, DEVICE, tcrb_data_small, batch_size=128, method=\"mean\", layers=[-1], pbar=True, max_len=120)\n",
    "embed_wrap.embeddings.shape"
   ],
   "metadata": {
    "collapsed": false
   }
  },
  {
   "cell_type": "code",
   "execution_count": 13,
   "outputs": [
    {
     "data": {
      "text/plain": "              0         1         2         3         4         5         6    \\\n0        0.342200 -0.039131  0.024364  0.002047 -0.038388  0.392898 -0.526527   \n1       -0.250027  0.165451  0.108095 -0.015710  0.016609  0.810453 -0.806638   \n2        0.254921 -0.283284  0.527503 -0.183063  0.106648  0.266672 -0.925886   \n3        0.073883  0.747197 -0.649398 -0.185154 -0.081860  0.385906 -0.256280   \n4       -0.305922  0.016374 -0.067755  0.090763  0.181161  0.884653 -0.772833   \n...           ...       ...       ...       ...       ...       ...       ...   \n1286516  0.058717 -0.308579 -0.262099 -0.054859 -0.132515  0.996860 -0.620408   \n1286517 -0.310181  0.218833 -0.381438  0.115090  0.078367  0.920949 -0.919474   \n1286518 -0.413299 -0.294614 -0.018629  0.114556  0.053435  0.224865 -0.705590   \n1286519 -0.191337 -0.096807 -0.468298 -0.591568  0.086043  0.923582 -1.242533   \n1286520  0.418521 -0.765388 -1.552737 -0.149291 -0.487144  0.224770 -1.711649   \n\n              7         8         9    ...       758       759       760  \\\n0       -0.392826  0.031321 -0.459342  ...  0.088256 -0.517040 -0.173820   \n1       -0.432446  0.049708 -0.001480  ...  0.339119 -0.440854  0.237067   \n2       -0.138216  0.508035  0.117907  ...  0.075133 -0.094339  0.690783   \n3        0.031309  0.150673 -0.558873  ...  0.175184 -0.801784  0.123028   \n4       -0.329227  0.324556 -0.313745  ...  0.524484 -0.669569 -0.180235   \n...           ...       ...       ...  ...       ...       ...       ...   \n1286516  0.547731  0.110018  0.332326  ...  0.468424 -1.310545  0.602931   \n1286517  0.595742 -0.178429  0.027989  ...  0.509814 -1.012692  0.254789   \n1286518 -0.080138 -0.219418 -0.021200  ...  0.614880 -1.289953  0.848309   \n1286519  0.704407  0.025112 -0.199474  ... -0.011658 -1.329002  1.312534   \n1286520 -0.542682 -0.190378 -1.274905  ...  2.126252 -1.849497  0.354340   \n\n              761       762       763       764       765       766       767  \n0        0.931719  0.264418 -0.364445 -0.615103  0.328522  0.463922 -0.009616  \n1        0.980542  0.809353 -0.009868 -1.094788  0.317744  0.441669  0.101527  \n2        0.773075  0.447528 -0.134554 -0.184237  0.730375  0.689972 -0.248459  \n3        0.137784 -0.205314  0.269643 -0.437018  0.301621  0.382381  0.282190  \n4        0.360711  0.164014 -0.037375 -0.949427  0.159827  0.984901 -0.121339  \n...           ...       ...       ...       ...       ...       ...       ...  \n1286516  1.337064  0.389003 -0.325747 -0.742911  0.293825  0.608908 -0.311827  \n1286517  1.290967  0.464704  0.004448 -0.483082  0.112371  0.266507 -0.075346  \n1286518  0.918448 -0.078723 -0.231170 -0.250629  0.776994  1.152385 -0.628615  \n1286519  0.577349 -0.179691  0.091589 -0.785138  0.639800  1.233818 -0.385320  \n1286520  1.543429  0.365592 -0.169144 -0.340912  0.103038  1.648845 -0.690434  \n\n[1286521 rows x 768 columns]",
      "text/html": "<div>\n<style scoped>\n    .dataframe tbody tr th:only-of-type {\n        vertical-align: middle;\n    }\n\n    .dataframe tbody tr th {\n        vertical-align: top;\n    }\n\n    .dataframe thead th {\n        text-align: right;\n    }\n</style>\n<table border=\"1\" class=\"dataframe\">\n  <thead>\n    <tr style=\"text-align: right;\">\n      <th></th>\n      <th>0</th>\n      <th>1</th>\n      <th>2</th>\n      <th>3</th>\n      <th>4</th>\n      <th>5</th>\n      <th>6</th>\n      <th>7</th>\n      <th>8</th>\n      <th>9</th>\n      <th>...</th>\n      <th>758</th>\n      <th>759</th>\n      <th>760</th>\n      <th>761</th>\n      <th>762</th>\n      <th>763</th>\n      <th>764</th>\n      <th>765</th>\n      <th>766</th>\n      <th>767</th>\n    </tr>\n  </thead>\n  <tbody>\n    <tr>\n      <th>0</th>\n      <td>0.342200</td>\n      <td>-0.039131</td>\n      <td>0.024364</td>\n      <td>0.002047</td>\n      <td>-0.038388</td>\n      <td>0.392898</td>\n      <td>-0.526527</td>\n      <td>-0.392826</td>\n      <td>0.031321</td>\n      <td>-0.459342</td>\n      <td>...</td>\n      <td>0.088256</td>\n      <td>-0.517040</td>\n      <td>-0.173820</td>\n      <td>0.931719</td>\n      <td>0.264418</td>\n      <td>-0.364445</td>\n      <td>-0.615103</td>\n      <td>0.328522</td>\n      <td>0.463922</td>\n      <td>-0.009616</td>\n    </tr>\n    <tr>\n      <th>1</th>\n      <td>-0.250027</td>\n      <td>0.165451</td>\n      <td>0.108095</td>\n      <td>-0.015710</td>\n      <td>0.016609</td>\n      <td>0.810453</td>\n      <td>-0.806638</td>\n      <td>-0.432446</td>\n      <td>0.049708</td>\n      <td>-0.001480</td>\n      <td>...</td>\n      <td>0.339119</td>\n      <td>-0.440854</td>\n      <td>0.237067</td>\n      <td>0.980542</td>\n      <td>0.809353</td>\n      <td>-0.009868</td>\n      <td>-1.094788</td>\n      <td>0.317744</td>\n      <td>0.441669</td>\n      <td>0.101527</td>\n    </tr>\n    <tr>\n      <th>2</th>\n      <td>0.254921</td>\n      <td>-0.283284</td>\n      <td>0.527503</td>\n      <td>-0.183063</td>\n      <td>0.106648</td>\n      <td>0.266672</td>\n      <td>-0.925886</td>\n      <td>-0.138216</td>\n      <td>0.508035</td>\n      <td>0.117907</td>\n      <td>...</td>\n      <td>0.075133</td>\n      <td>-0.094339</td>\n      <td>0.690783</td>\n      <td>0.773075</td>\n      <td>0.447528</td>\n      <td>-0.134554</td>\n      <td>-0.184237</td>\n      <td>0.730375</td>\n      <td>0.689972</td>\n      <td>-0.248459</td>\n    </tr>\n    <tr>\n      <th>3</th>\n      <td>0.073883</td>\n      <td>0.747197</td>\n      <td>-0.649398</td>\n      <td>-0.185154</td>\n      <td>-0.081860</td>\n      <td>0.385906</td>\n      <td>-0.256280</td>\n      <td>0.031309</td>\n      <td>0.150673</td>\n      <td>-0.558873</td>\n      <td>...</td>\n      <td>0.175184</td>\n      <td>-0.801784</td>\n      <td>0.123028</td>\n      <td>0.137784</td>\n      <td>-0.205314</td>\n      <td>0.269643</td>\n      <td>-0.437018</td>\n      <td>0.301621</td>\n      <td>0.382381</td>\n      <td>0.282190</td>\n    </tr>\n    <tr>\n      <th>4</th>\n      <td>-0.305922</td>\n      <td>0.016374</td>\n      <td>-0.067755</td>\n      <td>0.090763</td>\n      <td>0.181161</td>\n      <td>0.884653</td>\n      <td>-0.772833</td>\n      <td>-0.329227</td>\n      <td>0.324556</td>\n      <td>-0.313745</td>\n      <td>...</td>\n      <td>0.524484</td>\n      <td>-0.669569</td>\n      <td>-0.180235</td>\n      <td>0.360711</td>\n      <td>0.164014</td>\n      <td>-0.037375</td>\n      <td>-0.949427</td>\n      <td>0.159827</td>\n      <td>0.984901</td>\n      <td>-0.121339</td>\n    </tr>\n    <tr>\n      <th>...</th>\n      <td>...</td>\n      <td>...</td>\n      <td>...</td>\n      <td>...</td>\n      <td>...</td>\n      <td>...</td>\n      <td>...</td>\n      <td>...</td>\n      <td>...</td>\n      <td>...</td>\n      <td>...</td>\n      <td>...</td>\n      <td>...</td>\n      <td>...</td>\n      <td>...</td>\n      <td>...</td>\n      <td>...</td>\n      <td>...</td>\n      <td>...</td>\n      <td>...</td>\n      <td>...</td>\n    </tr>\n    <tr>\n      <th>1286516</th>\n      <td>0.058717</td>\n      <td>-0.308579</td>\n      <td>-0.262099</td>\n      <td>-0.054859</td>\n      <td>-0.132515</td>\n      <td>0.996860</td>\n      <td>-0.620408</td>\n      <td>0.547731</td>\n      <td>0.110018</td>\n      <td>0.332326</td>\n      <td>...</td>\n      <td>0.468424</td>\n      <td>-1.310545</td>\n      <td>0.602931</td>\n      <td>1.337064</td>\n      <td>0.389003</td>\n      <td>-0.325747</td>\n      <td>-0.742911</td>\n      <td>0.293825</td>\n      <td>0.608908</td>\n      <td>-0.311827</td>\n    </tr>\n    <tr>\n      <th>1286517</th>\n      <td>-0.310181</td>\n      <td>0.218833</td>\n      <td>-0.381438</td>\n      <td>0.115090</td>\n      <td>0.078367</td>\n      <td>0.920949</td>\n      <td>-0.919474</td>\n      <td>0.595742</td>\n      <td>-0.178429</td>\n      <td>0.027989</td>\n      <td>...</td>\n      <td>0.509814</td>\n      <td>-1.012692</td>\n      <td>0.254789</td>\n      <td>1.290967</td>\n      <td>0.464704</td>\n      <td>0.004448</td>\n      <td>-0.483082</td>\n      <td>0.112371</td>\n      <td>0.266507</td>\n      <td>-0.075346</td>\n    </tr>\n    <tr>\n      <th>1286518</th>\n      <td>-0.413299</td>\n      <td>-0.294614</td>\n      <td>-0.018629</td>\n      <td>0.114556</td>\n      <td>0.053435</td>\n      <td>0.224865</td>\n      <td>-0.705590</td>\n      <td>-0.080138</td>\n      <td>-0.219418</td>\n      <td>-0.021200</td>\n      <td>...</td>\n      <td>0.614880</td>\n      <td>-1.289953</td>\n      <td>0.848309</td>\n      <td>0.918448</td>\n      <td>-0.078723</td>\n      <td>-0.231170</td>\n      <td>-0.250629</td>\n      <td>0.776994</td>\n      <td>1.152385</td>\n      <td>-0.628615</td>\n    </tr>\n    <tr>\n      <th>1286519</th>\n      <td>-0.191337</td>\n      <td>-0.096807</td>\n      <td>-0.468298</td>\n      <td>-0.591568</td>\n      <td>0.086043</td>\n      <td>0.923582</td>\n      <td>-1.242533</td>\n      <td>0.704407</td>\n      <td>0.025112</td>\n      <td>-0.199474</td>\n      <td>...</td>\n      <td>-0.011658</td>\n      <td>-1.329002</td>\n      <td>1.312534</td>\n      <td>0.577349</td>\n      <td>-0.179691</td>\n      <td>0.091589</td>\n      <td>-0.785138</td>\n      <td>0.639800</td>\n      <td>1.233818</td>\n      <td>-0.385320</td>\n    </tr>\n    <tr>\n      <th>1286520</th>\n      <td>0.418521</td>\n      <td>-0.765388</td>\n      <td>-1.552737</td>\n      <td>-0.149291</td>\n      <td>-0.487144</td>\n      <td>0.224770</td>\n      <td>-1.711649</td>\n      <td>-0.542682</td>\n      <td>-0.190378</td>\n      <td>-1.274905</td>\n      <td>...</td>\n      <td>2.126252</td>\n      <td>-1.849497</td>\n      <td>0.354340</td>\n      <td>1.543429</td>\n      <td>0.365592</td>\n      <td>-0.169144</td>\n      <td>-0.340912</td>\n      <td>0.103038</td>\n      <td>1.648845</td>\n      <td>-0.690434</td>\n    </tr>\n  </tbody>\n</table>\n<p>1286521 rows × 768 columns</p>\n</div>"
     },
     "execution_count": 13,
     "metadata": {},
     "output_type": "execute_result"
    }
   ],
   "source": [
    "tcrb_embeddings_df = pd.DataFrame(embed_wrap.embeddings)\n",
    "tcrb_embeddings_df"
   ],
   "metadata": {
    "collapsed": false
   }
  },
  {
   "cell_type": "code",
   "execution_count": null,
   "outputs": [],
   "source": [
    "# create anndata object\n",
    "tcrb_embeddings_adata = embed_wrap.create_anndata()\n",
    "\n",
    "# add public/private label to dataframe\n",
    "df_embeddings_with_label = tcrb_embeddings_df\n",
    "df_embeddings_with_label['Sequences']=list(tcrb_embeddings_adata.obs['Sequences'])\n",
    "\n",
    "df_embeddings_with_label"
   ],
   "metadata": {
    "collapsed": false,
    "pycharm": {
     "is_executing": true
    }
   }
  },
  {
   "cell_type": "code",
   "execution_count": 16,
   "outputs": [],
   "source": [
    "# output embeddings to csv\n",
    "tcrb_embeddings_df.to_csv(output_path)"
   ],
   "metadata": {
    "collapsed": false
   }
  },
  {
   "cell_type": "code",
   "execution_count": 18,
   "outputs": [],
   "source": [
    "tcrb_embeddings_df.to_csv(\"/home/romi/projects/cvc/CDR3_data/TRA_specific/cdrs_ch_embeddings.gz\", compression='gzip')"
   ],
   "metadata": {
    "collapsed": false
   }
  },
  {
   "cell_type": "code",
   "execution_count": null,
   "outputs": [],
   "source": [],
   "metadata": {
    "collapsed": false
   }
  }
 ],
 "metadata": {
  "deepnote": {},
  "deepnote_execution_queue": [],
  "deepnote_notebook_id": "cef408d8-9130-407c-bfc8-1126d6b70d18",
  "kernelspec": {
   "display_name": "Python 3",
   "language": "python",
   "name": "python3"
  },
  "language_info": {
   "codemirror_mode": {
    "name": "ipython",
    "version": 3
   },
   "file_extension": ".py",
   "mimetype": "text/x-python",
   "name": "python",
   "nbconvert_exporter": "python",
   "pygments_lexer": "ipython3",
   "version": "3.9.2"
  }
 },
 "nbformat": 4,
 "nbformat_minor": 5
}
